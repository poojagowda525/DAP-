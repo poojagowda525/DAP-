{
 "cells": [
  {
   "cell_type": "code",
   "execution_count": 1,
   "id": "7238a4cd-caef-4d52-beb9-aa050e98d9af",
   "metadata": {},
   "outputs": [
    {
     "name": "stdin",
     "output_type": "stream",
     "text": [
      "please enter your name: pooja gowda\n"
     ]
    },
    {
     "name": "stdout",
     "output_type": "stream",
     "text": [
      "hello, pooja gowda! nice to meet you.\n"
     ]
    }
   ],
   "source": [
    "def greet():\n",
    "    name=input('please enter your name:')\n",
    "    print(f'hello, {name}! nice to meet you.')\n",
    "\n",
    "greet()"
   ]
  },
  {
   "cell_type": "code",
   "execution_count": null,
   "id": "c0d83550-f769-47e8-86a9-c2a2eefaa93e",
   "metadata": {},
   "outputs": [],
   "source": [
    "built-in functions\n",
    "print()\n",
    "len()\n",
    "type()"
   ]
  },
  {
   "cell_type": "code",
   "execution_count": null,
   "id": "bd1d8d60-632c-4a13-adcf-d0419dea641d",
   "metadata": {},
   "outputs": [],
   "source": [
    "formal arguments\n",
    "actual arguments"
   ]
  },
  {
   "cell_type": "code",
   "execution_count": null,
   "id": "791d79a5-ff2a-41ae-bbfc-715e8cfb6703",
   "metadata": {},
   "outputs": [],
   "source": [
    "*args : arbitary positional arguments \n",
    "\n",
    "syntax\n",
    "def func_name(*args):\n",
    "    # function body\n",
    "     pass"
   ]
  },
  {
   "cell_type": "code",
   "execution_count": 2,
   "id": "68dce245-4163-4ecd-ba14-a1f01941bd9d",
   "metadata": {},
   "outputs": [
    {
     "name": "stdout",
     "output_type": "stream",
     "text": [
      "15\n"
     ]
    }
   ],
   "source": [
    "def add(*num):\n",
    "    z=sum(num)\n",
    "    print(z)\n",
    "\n",
    "add(1,2,3,4,5)"
   ]
  },
  {
   "cell_type": "code",
   "execution_count": 3,
   "id": "a4d082b9-3b50-4301-87db-99de88534a0e",
   "metadata": {},
   "outputs": [
    {
     "name": "stdout",
     "output_type": "stream",
     "text": [
      "addition: 11\n"
     ]
    }
   ],
   "source": [
    "def add(*num):\n",
    "    z=num[0]+num[1]+num[2]\n",
    "    print('addition:',z)\n",
    "\n",
    "add(5,2,4)"
   ]
  },
  {
   "cell_type": "code",
   "execution_count": 4,
   "id": "1549471f-edf7-43a4-943b-21f2ade1954e",
   "metadata": {},
   "outputs": [
    {
     "name": "stdout",
     "output_type": "stream",
     "text": [
      "9\n"
     ]
    }
   ],
   "source": [
    "# 2. find the maximum value\n",
    "def find_max(*args):\n",
    "    return max(args)\n",
    "\n",
    "print(find_max(3,8,5,7,9))"
   ]
  },
  {
   "cell_type": "code",
   "execution_count": 5,
   "id": "77cdead6-6bb2-4575-87ec-cbe444732948",
   "metadata": {},
   "outputs": [
    {
     "data": {
      "text/plain": [
       "'Hello World !'"
      ]
     },
     "execution_count": 5,
     "metadata": {},
     "output_type": "execute_result"
    }
   ],
   "source": [
    "# 3. concatenate strings\n",
    "def concatenate_string(*args):\n",
    "    return ' '.join(args)\n",
    "\n",
    "concatenate_string('Hello','World','!')"
   ]
  },
  {
   "cell_type": "code",
   "execution_count": null,
   "id": "022d7fdb-0cb4-4c3e-9bf9-8595149888ca",
   "metadata": {},
   "outputs": [],
   "source": [
    "**kwargs: arbitary keyword arguments\n",
    "syntax\n",
    "def func_name(**kwargs):\n",
    "    # function body\n",
    "    pass\n"
   ]
  },
  {
   "cell_type": "code",
   "execution_count": 6,
   "id": "044e97f4-0dad-454a-93b0-939036e31a5a",
   "metadata": {},
   "outputs": [
    {
     "name": "stdout",
     "output_type": "stream",
     "text": [
      "<class 'dict'>\n",
      "this is a key name this is a value alice\n",
      "this is a key age this is a value 25\n"
     ]
    }
   ],
   "source": [
    "def func(**a):\n",
    "    print(type(a))\n",
    "    for i,j in a.items():\n",
    "        print(f\"this is a key {i} this is a value {j}\")\n",
    "\n",
    "func(name='alice',age=25)"
   ]
  },
  {
   "cell_type": "code",
   "execution_count": null,
   "id": "fce62c0f-ad6e-4b2c-bc8b-f84b44470e17",
   "metadata": {},
   "outputs": [],
   "source": [
    "types of variables in functions\n",
    "1. local variables\n",
    "variables that are declared inside a function n can be accessed within that function\n",
    "they exist only only while the function\n"
   ]
  },
  {
   "cell_type": "code",
   "execution_count": 7,
   "id": "622ac8cc-5cf9-4e51-b46b-c4c9de880f31",
   "metadata": {},
   "outputs": [
    {
     "name": "stdout",
     "output_type": "stream",
     "text": [
      "40\n"
     ]
    }
   ],
   "source": [
    "def func1():\n",
    "    abc=10\n",
    "    dca=30\n",
    "    cba=abc+dca\n",
    "    print(cba)\n",
    "\n",
    "func1()"
   ]
  },
  {
   "cell_type": "code",
   "execution_count": null,
   "id": "0acf0127-e9b0-444d-8a35-62eaba4295d8",
   "metadata": {},
   "outputs": [],
   "source": [
    "2. global variables\n",
    "variables declared outside a function n can be accessed both inside n outside any function.\n",
    "global variables are accessible throughout the program."
   ]
  },
  {
   "cell_type": "code",
   "execution_count": 8,
   "id": "7d3b62b4-5e01-43c8-b6ff-10f6685a4895",
   "metadata": {},
   "outputs": [
    {
     "name": "stdout",
     "output_type": "stream",
     "text": [
      "30\n"
     ]
    }
   ],
   "source": [
    "teja=20\n",
    "def func2():\n",
    "    i=teja+10\n",
    "    print(i)\n",
    "\n",
    "func2()"
   ]
  },
  {
   "cell_type": "markdown",
   "id": "9c95e5bc-4bc9-481c-8900-4a10cd213c72",
   "metadata": {},
   "source": [
    "#### nested functions"
   ]
  },
  {
   "cell_type": "code",
   "execution_count": 9,
   "id": "1e0f1fbf-e8c0-41d8-bfc8-bd62ac9090e1",
   "metadata": {},
   "outputs": [
    {
     "name": "stdout",
     "output_type": "stream",
     "text": [
      "first\n",
      "hello\n"
     ]
    }
   ],
   "source": [
    "def outer_func():\n",
    "    print('first')\n",
    "    def inner_func():\n",
    "        print('hello')\n",
    "\n",
    "    inner_func()\n",
    "\n",
    "outer_func()\n",
    "    "
   ]
  },
  {
   "cell_type": "code",
   "execution_count": 11,
   "id": "9e917731-bc0d-4395-8031-9340cff855e1",
   "metadata": {},
   "outputs": [
    {
     "name": "stdout",
     "output_type": "stream",
     "text": [
      "hello, world!\n"
     ]
    }
   ],
   "source": [
    "def func():\n",
    "    print('hello, world!')\n",
    "\n",
    "func()"
   ]
  },
  {
   "cell_type": "markdown",
   "id": "7391594e-9260-4719-b122-414aa6060cc6",
   "metadata": {},
   "source": [
    "##### lambda function"
   ]
  },
  {
   "cell_type": "code",
   "execution_count": null,
   "id": "4e40e032-704c-4a7e-b743-38cc38c16cd7",
   "metadata": {},
   "outputs": [],
   "source": [
    "syntax \n",
    "lambda arguments1: expression"
   ]
  },
  {
   "cell_type": "code",
   "execution_count": 13,
   "id": "381ccd0f-e787-4072-bab3-7ec198d4bcd9",
   "metadata": {},
   "outputs": [
    {
     "data": {
      "text/plain": [
       "14"
      ]
     },
     "execution_count": 13,
     "metadata": {},
     "output_type": "execute_result"
    }
   ],
   "source": [
    "def func(a):\n",
    "    b=a+4\n",
    "    return b\n",
    "\n",
    "func(10)"
   ]
  },
  {
   "cell_type": "code",
   "execution_count": 14,
   "id": "873bf81e-5bae-46ca-8d99-f68124b03acf",
   "metadata": {},
   "outputs": [
    {
     "data": {
      "text/plain": [
       "24"
      ]
     },
     "execution_count": 14,
     "metadata": {},
     "output_type": "execute_result"
    }
   ],
   "source": [
    "ab=func(20)\n",
    "ab"
   ]
  },
  {
   "cell_type": "code",
   "execution_count": null,
   "id": "5a76eb7d-5be9-4af0-8e03-26fdfafc3ec4",
   "metadata": {},
   "outputs": [],
   "source": [
    "ba = lambda a,b,c: a+b+c"
   ]
  },
  {
   "cell_type": "code",
   "execution_count": null,
   "id": "b82422f3-949a-440d-81f9-0638a3222b82",
   "metadata": {},
   "outputs": [],
   "source": []
  }
 ],
 "metadata": {
  "kernelspec": {
   "display_name": "Python 3 (ipykernel)",
   "language": "python",
   "name": "python3"
  },
  "language_info": {
   "codemirror_mode": {
    "name": "ipython",
    "version": 3
   },
   "file_extension": ".py",
   "mimetype": "text/x-python",
   "name": "python",
   "nbconvert_exporter": "python",
   "pygments_lexer": "ipython3",
   "version": "3.12.7"
  }
 },
 "nbformat": 4,
 "nbformat_minor": 5
}
