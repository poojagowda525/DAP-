{
 "cells": [
  {
   "cell_type": "markdown",
   "id": "d16147d5-aa11-4f24-aab2-da1cf66a3b19",
   "metadata": {},
   "source": [
    "## list\n"
   ]
  },
  {
   "cell_type": "code",
   "execution_count": 2,
   "id": "75e2dca1-f760-4e71-b87e-d118a7bb7e19",
   "metadata": {},
   "outputs": [],
   "source": [
    "#list is a order of elements in a list is preserved, meaning elements\n",
    "\n",
    "a = \" aslkjfhasjhf\"\n",
    "l = [123,\"eja\",20.25,[1,2,3,4,5]]"
   ]
  },
  {
   "cell_type": "code",
   "execution_count": 3,
   "id": "dc23bded-0071-4e67-bd9f-1608535e128c",
   "metadata": {},
   "outputs": [
    {
     "data": {
      "text/plain": [
       "['first', 'second', 'third']"
      ]
     },
     "execution_count": 3,
     "metadata": {},
     "output_type": "execute_result"
    }
   ],
   "source": [
    "ordered_list = [\"first\", \"second\", \"third\"]\n",
    "ordered_list"
   ]
  },
  {
   "cell_type": "code",
   "execution_count": 4,
   "id": "4863160d-bf89-424c-be32-608b5c4e8dc0",
   "metadata": {},
   "outputs": [
    {
     "data": {
      "text/plain": [
       "list"
      ]
     },
     "execution_count": 4,
     "metadata": {},
     "output_type": "execute_result"
    }
   ],
   "source": [
    "type(ordered_list)"
   ]
  },
  {
   "cell_type": "code",
   "execution_count": 5,
   "id": "3c3cd0b8-bf20-4ff9-8897-1307e357819c",
   "metadata": {},
   "outputs": [
    {
     "data": {
      "text/plain": [
       "2"
      ]
     },
     "execution_count": 5,
     "metadata": {},
     "output_type": "execute_result"
    }
   ],
   "source": [
    "mutable_list = [1, 2, 3]\n",
    "mutable_list[1]"
   ]
  },
  {
   "cell_type": "code",
   "execution_count": 6,
   "id": "bfd8dbfb-332f-4f9d-92af-9c96fa8733f0",
   "metadata": {},
   "outputs": [
    {
     "data": {
      "text/plain": [
       "[1, 30, 3]"
      ]
     },
     "execution_count": 6,
     "metadata": {},
     "output_type": "execute_result"
    }
   ],
   "source": [
    "mutable_list[1] = 30 \n",
    "mutable_list"
   ]
  },
  {
   "cell_type": "code",
   "execution_count": 7,
   "id": "fbad3328-9cfd-4bb7-bb9e-ba393870e82a",
   "metadata": {},
   "outputs": [
    {
     "data": {
      "text/plain": [
       "[42, 'hello', 3.14, [1, 2, 3], 1]"
      ]
     },
     "execution_count": 7,
     "metadata": {},
     "output_type": "execute_result"
    }
   ],
   "source": [
    "heterogeneous_list = [42, \"hello\", 3.14, [1, 2, 3] ,1]\n",
    "heterogeneous_list"
   ]
  },
  {
   "cell_type": "code",
   "execution_count": 9,
   "id": "44f4ee6e-cb76-4711-8bd8-ea1c00487617",
   "metadata": {},
   "outputs": [
    {
     "data": {
      "text/plain": [
       "2"
      ]
     },
     "execution_count": 9,
     "metadata": {},
     "output_type": "execute_result"
    }
   ],
   "source": [
    "heterogeneous_list[3][1]"
   ]
  },
  {
   "cell_type": "code",
   "execution_count": 10,
   "id": "90e8cbdd-eea6-4c0f-bc47-638cb877c9e7",
   "metadata": {},
   "outputs": [
    {
     "data": {
      "text/plain": [
       "20"
      ]
     },
     "execution_count": 10,
     "metadata": {},
     "output_type": "execute_result"
    }
   ],
   "source": [
    "## indexable\n",
    "a = 20\n",
    "b = [a,12]\n",
    "b[0]"
   ]
  },
  {
   "cell_type": "code",
   "execution_count": 11,
   "id": "39c99c0e-2e11-42ef-a936-29115c6de16a",
   "metadata": {},
   "outputs": [
    {
     "data": {
      "text/plain": [
       "'e'"
      ]
     },
     "execution_count": 11,
     "metadata": {},
     "output_type": "execute_result"
    }
   ],
   "source": [
    "s = \"hello\"\n",
    "l = [1,2,3,5]\n",
    "d = [s,l]\n",
    "d[0][1:2]"
   ]
  },
  {
   "cell_type": "code",
   "execution_count": 12,
   "id": "13b8b845-7bf0-4b4c-bf40-c00d45b4f0ed",
   "metadata": {},
   "outputs": [
    {
     "data": {
      "text/plain": [
       "[100, 'python', 7.5, False, ['nested', 'list']]"
      ]
     },
     "execution_count": 12,
     "metadata": {},
     "output_type": "execute_result"
    }
   ],
   "source": [
    "comprehensive_list = [100, \"python\", 7.5, False, [\"nested\", \"list\"]]\n",
    "comprehensive_list"
   ]
  },
  {
   "cell_type": "code",
   "execution_count": 13,
   "id": "a236fc8c-a7d1-4e4b-89cb-87841291c17b",
   "metadata": {},
   "outputs": [
    {
     "data": {
      "text/plain": [
       "['nested', 'list']"
      ]
     },
     "execution_count": 13,
     "metadata": {},
     "output_type": "execute_result"
    }
   ],
   "source": [
    "comprehensive_list[0]\n",
    "comprehensive_list[-1]"
   ]
  },
  {
   "cell_type": "code",
   "execution_count": 14,
   "id": "e5c304f2-0cb4-43c7-9805-b9b35759a99d",
   "metadata": {},
   "outputs": [
    {
     "name": "stdout",
     "output_type": "stream",
     "text": [
      "100\n",
      "['nested', 'list']\n"
     ]
    }
   ],
   "source": [
    "# Ordered\n",
    "print(comprehensive_list[0])  # 100\n",
    "print(comprehensive_list[-1])  # ['nested', 'list']"
   ]
  },
  {
   "cell_type": "code",
   "execution_count": 15,
   "id": "f5b3bb83-85f2-4ac3-abbe-2a699db86896",
   "metadata": {},
   "outputs": [
    {
     "name": "stdout",
     "output_type": "stream",
     "text": [
      "[100, 'coding', 7.5, False, ['nested', 'list']]\n"
     ]
    }
   ],
   "source": [
    "# Mutable\n",
    "comprehensive_list[1] = \"coding\"\n",
    "print(comprehensive_list)  # [100, 'coding', 7.5, False, ['nested', 'list']]"
   ]
  },
  {
   "cell_type": "code",
   "execution_count": 16,
   "id": "92f875e4-b9e6-41ef-8ec8-d64603b9322f",
   "metadata": {},
   "outputs": [
    {
     "name": "stdout",
     "output_type": "stream",
     "text": [
      "7.5\n"
     ]
    }
   ],
   "source": [
    "# Indexable\n",
    "print(comprehensive_list[2])  # 7.5"
   ]
  },
  {
   "cell_type": "code",
   "execution_count": 1,
   "id": "c2bbc0d7-ffaa-421d-bc35-ef1d3c6c0c20",
   "metadata": {},
   "outputs": [
    {
     "data": {
      "text/plain": [
       "array('i', [1, 2, 3, 4, 5])"
      ]
     },
     "execution_count": 1,
     "metadata": {},
     "output_type": "execute_result"
    }
   ],
   "source": [
    "## array\n",
    "\n",
    "import array\n",
    "# Creating an array of integers\n",
    "numbers = array.array('i', [1, 2, 3, 4, 5])\n",
    "numbers"
   ]
  },
  {
   "cell_type": "code",
   "execution_count": 5,
   "id": "cdd71def-d1ca-4767-af71-41ab159b9342",
   "metadata": {},
   "outputs": [],
   "source": [
    "my_list = [1, \"hello\", 3.14, True]"
   ]
  },
  {
   "cell_type": "code",
   "execution_count": 7,
   "id": "ef54ef6a-a007-44f7-8540-7d2f7d841b2e",
   "metadata": {},
   "outputs": [
    {
     "data": {
      "text/plain": [
       "array('i', [1, 2, 3, 4])"
      ]
     },
     "execution_count": 7,
     "metadata": {},
     "output_type": "execute_result"
    }
   ],
   "source": [
    "import array\n",
    "my_array = array.array('i', [1, 2, 3, 4]) \n",
    "my_array"
   ]
  },
  {
   "cell_type": "code",
   "execution_count": 8,
   "id": "d8205a23-2826-431c-aacd-c1247b7a44fd",
   "metadata": {},
   "outputs": [
    {
     "name": "stdout",
     "output_type": "stream",
     "text": [
      "apple\n",
      "cherry\n"
     ]
    }
   ],
   "source": [
    "### indexing a list\n",
    "fruits = [\"apple\", \"banana\", \"cherry\", \"date\", \"elderberry\"]\n",
    "print(fruits[0])  \n",
    "print(fruits[2]) "
   ]
  },
  {
   "cell_type": "code",
   "execution_count": 9,
   "id": "f0020549-fd5f-4e23-ae23-d7235acc28e8",
   "metadata": {},
   "outputs": [
    {
     "name": "stdout",
     "output_type": "stream",
     "text": [
      "elderberry\n",
      "cherry\n"
     ]
    }
   ],
   "source": [
    "print(fruits[-1])  \n",
    "print(fruits[-3]) "
   ]
  },
  {
   "cell_type": "code",
   "execution_count": 13,
   "id": "e6326ce1-e7b9-488d-9f00-fb4e12f7023b",
   "metadata": {},
   "outputs": [
    {
     "ename": "IndentationError",
     "evalue": "unexpected indent (728969465.py, line 4)",
     "output_type": "error",
     "traceback": [
      "\u001b[1;36m  Cell \u001b[1;32mIn[13], line 4\u001b[1;36m\u001b[0m\n\u001b[1;33m    -5  -4   -3   -2    -1\u001b[0m\n\u001b[1;37m    ^\u001b[0m\n\u001b[1;31mIndentationError\u001b[0m\u001b[1;31m:\u001b[0m unexpected indent\n"
     ]
    }
   ],
   "source": [
    "## slicing a list\n",
    "# Creating a list\n",
    "numbers = [10, 20, 30, 40, 50, 60, 70, 80, 90, 100]\n",
    "                              -5  -4   -3   -2    -1"
   ]
  },
  {
   "cell_type": "code",
   "execution_count": 14,
   "id": "97a4d677-670b-49d2-8064-5f416de88a1f",
   "metadata": {},
   "outputs": [
    {
     "data": {
      "text/plain": [
       "array('i', [1, 2, 3, 4, 5])"
      ]
     },
     "execution_count": 14,
     "metadata": {},
     "output_type": "execute_result"
    }
   ],
   "source": [
    "numbers"
   ]
  },
  {
   "cell_type": "code",
   "execution_count": 15,
   "id": "c6edeeaa-7a00-45f6-8175-be1a568ca8a7",
   "metadata": {},
   "outputs": [
    {
     "data": {
      "text/plain": [
       "array('i', [1, 2, 3])"
      ]
     },
     "execution_count": 15,
     "metadata": {},
     "output_type": "execute_result"
    }
   ],
   "source": [
    "numbers[2:5] \n",
    "numbers[-5:-2] "
   ]
  },
  {
   "cell_type": "code",
   "execution_count": 16,
   "id": "ee84f12f-41ad-4f11-899c-c61512c1fe28",
   "metadata": {},
   "outputs": [
    {
     "data": {
      "text/plain": [
       "array('i', [2, 5])"
      ]
     },
     "execution_count": 16,
     "metadata": {},
     "output_type": "execute_result"
    }
   ],
   "source": [
    "numbers[1:8:3]"
   ]
  },
  {
   "cell_type": "code",
   "execution_count": 17,
   "id": "bc933709-f9cf-413a-93a8-6dbb3b113baa",
   "metadata": {},
   "outputs": [
    {
     "data": {
      "text/plain": [
       "array('i', [1, 2, 3, 4, 5])"
      ]
     },
     "execution_count": 17,
     "metadata": {},
     "output_type": "execute_result"
    }
   ],
   "source": [
    "numbers[:]  "
   ]
  },
  {
   "cell_type": "code",
   "execution_count": 20,
   "id": "7bfcaa12-80f2-4eb1-adab-12701774be51",
   "metadata": {},
   "outputs": [
    {
     "name": "stdout",
     "output_type": "stream",
     "text": [
      "['Harvard', 'MIT', 'Stanford']\n"
     ]
    }
   ],
   "source": [
    "universities = [\"Harvard\", \"MIT\", \"Stanford\", \"Cambridge\", \"Oxford\", \"Caltech\", \"Imperial\", \"UChicago\", \"ETH Zurich\", \"UCL\"]\n",
    "top_3 = universities[:3]\n",
    "print(top_3)"
   ]
  },
  {
   "cell_type": "code",
   "execution_count": 21,
   "id": "cd3316b8-f964-46b9-aaa4-bd9a0a02c5dd",
   "metadata": {},
   "outputs": [
    {
     "name": "stdout",
     "output_type": "stream",
     "text": [
      "['Honda', 'Ford']\n"
     ]
    }
   ],
   "source": [
    "cars = [\"Tesla\", \"BMW\", \"Mercedes\", \"Audi\", \"Toyota\", \"Honda\", \"Ford\"]\n",
    "last_two_cars = cars[-2:]\n",
    "print(last_two_cars)"
   ]
  },
  {
   "cell_type": "code",
   "execution_count": 22,
   "id": "3437ed9d-c75f-4f9c-87f0-accbcf209ac8",
   "metadata": {},
   "outputs": [
    {
     "name": "stdout",
     "output_type": "stream",
     "text": [
      "[10, 9, 8, 7, 6, 5, 4, 3, 2, 1]\n"
     ]
    }
   ],
   "source": [
    "numbers = [1, 2, 3, 4, 5, 6, 7, 8, 9, 10]\n",
    "reversed_numbers = numbers[::-1]\n",
    "print(reversed_numbers)"
   ]
  },
  {
   "cell_type": "code",
   "execution_count": 23,
   "id": "f9db9103-b6d8-47ae-b487-f61a6dd02779",
   "metadata": {},
   "outputs": [
    {
     "name": "stdout",
     "output_type": "stream",
     "text": [
      "['Mon', 'Tues', 'Weds', 'Thu', 'Fri', 'Sat', 'Sun']\n"
     ]
    }
   ],
   "source": [
    "days = [\"Mon\", \"Tue\", \"Wed\", \"Thu\", \"Fri\", \"Sat\", \"Sun\"]\n",
    "days[1:3] = [\"Tues\", \"Weds\"]\n",
    "print(days)\n"
   ]
  },
  {
   "cell_type": "code",
   "execution_count": 24,
   "id": "2c2e500f-f17c-40a2-8522-7beed33bcdd7",
   "metadata": {},
   "outputs": [
    {
     "name": "stdout",
     "output_type": "stream",
     "text": [
      "['c', 'e', 'g', 'i']\n"
     ]
    }
   ],
   "source": [
    "alphabets = [\"a\", \"b\", \"c\", \"d\", \"e\", \"f\", \"g\", \"h\", \"i\", \"j\"]\n",
    "sublist = alphabets[2:9:2]\n",
    "print(sublist)\n"
   ]
  },
  {
   "cell_type": "markdown",
   "id": "abbfc90c-ef3d-4377-b69a-9b218b09943b",
   "metadata": {},
   "source": [
    "### editing items in list\n"
   ]
  },
  {
   "cell_type": "code",
   "execution_count": 25,
   "id": "a7206660-c6bb-4c59-b702-7c7a4fec43ad",
   "metadata": {},
   "outputs": [
    {
     "data": {
      "text/plain": [
       "['apple', 'blueberry', 'cherry', 'date']"
      ]
     },
     "execution_count": 25,
     "metadata": {},
     "output_type": "execute_result"
    }
   ],
   "source": [
    "## chaing indivudual element\n",
    "fruits = [\"apple\", \"banana\", \"cherry\", \"date\"]\n",
    "fruits[1] = \"blueberry\"\n",
    "fruits"
   ]
  },
  {
   "cell_type": "code",
   "execution_count": 26,
   "id": "bd9a217f-1a55-46f3-a15e-9c6185cc60c4",
   "metadata": {},
   "outputs": [
    {
     "data": {
      "text/plain": [
       "['red', 'green', 'blue', 'yellow', 'purple']"
      ]
     },
     "execution_count": 26,
     "metadata": {},
     "output_type": "execute_result"
    }
   ],
   "source": [
    "## replacing range of elements\n",
    "colors = [\"red\", \"green\", \"blue\", \"yellow\", \"purple\"]\n",
    "colors"
   ]
  },
  {
   "cell_type": "code",
   "execution_count": 27,
   "id": "9e06f824-83cf-47f2-b4f9-582727c20412",
   "metadata": {},
   "outputs": [
    {
     "data": {
      "text/plain": [
       "['red', 'cyan', 'magenta', 'yellow', 'purple']"
      ]
     },
     "execution_count": 27,
     "metadata": {},
     "output_type": "execute_result"
    }
   ],
   "source": [
    "colors[1:3] = [\"cyan\", \"magenta\"]\n",
    "colors"
   ]
  },
  {
   "cell_type": "code",
   "execution_count": 28,
   "id": "4f49a717-3c6f-4b8d-88b8-d54be64a91ff",
   "metadata": {},
   "outputs": [
    {
     "data": {
      "text/plain": [
       "[15, 20, 30, 40, 55]"
      ]
     },
     "execution_count": 28,
     "metadata": {},
     "output_type": "execute_result"
    }
   ],
   "source": [
    "## Modifying Multiple Elements at Once\n",
    "numbers = [10, 20, 30, 40, 50]\n",
    "numbers[0] = 15\n",
    "numbers[-1] = 55\n",
    "numbers"
   ]
  },
  {
   "cell_type": "code",
   "execution_count": 29,
   "id": "4fefba20-7fe9-4eda-8cd6-46f85ea7f7bb",
   "metadata": {},
   "outputs": [
    {
     "data": {
      "text/plain": [
       "['cat', 'hamster', 'rabbit', 'elephant']"
      ]
     },
     "execution_count": 29,
     "metadata": {},
     "output_type": "execute_result"
    }
   ],
   "source": [
    "###  Inserting Elements While Replacing\n",
    "animals = [\"cat\", \"dog\", \"elephant\"]\n",
    "animals[1:2] = [\"hamster\", \"rabbit\"]\n",
    "animals"
   ]
  },
  {
   "cell_type": "code",
   "execution_count": 30,
   "id": "43e397d3-fe77-4d4d-b8c1-3e16b5c48cdd",
   "metadata": {},
   "outputs": [
    {
     "data": {
      "text/plain": [
       "['carrot', 'lettuce', 'pepper']"
      ]
     },
     "execution_count": 30,
     "metadata": {},
     "output_type": "execute_result"
    }
   ],
   "source": [
    "### animals[1:2] = [\"hamster\", \"rabbit\"]\n",
    "\n",
    "vegetables = [\"carrot\", \"potato\", \"tomato\", \"pepper\"]\n",
    "vegetables[1:3] = [\"lettuce\"]\n",
    "vegetables"
   ]
  },
  {
   "cell_type": "code",
   "execution_count": 31,
   "id": "f78855e4-7022-478b-ae69-d171f3aead50",
   "metadata": {},
   "outputs": [
    {
     "data": {
      "text/plain": [
       "['New York', 'Los Angeles', 'Houston', 'Phoenix']"
      ]
     },
     "execution_count": 31,
     "metadata": {},
     "output_type": "execute_result"
    }
   ],
   "source": [
    "### deleting\n",
    "cities = [\"New York\", \"Los Angeles\", \"Chicago\", \"Houston\", \"Phoenix\"]\n",
    "del cities[2]\n",
    "cities"
   ]
  },
  {
   "cell_type": "markdown",
   "id": "25d2d890-917f-4a40-be34-2e38168a9ed6",
   "metadata": {},
   "source": [
    "## Arithmetic Operators on Lists"
   ]
  },
  {
   "cell_type": "code",
   "execution_count": 32,
   "id": "de74b79c-5ba2-4307-96cc-1919373b76b7",
   "metadata": {},
   "outputs": [
    {
     "data": {
      "text/plain": [
       "[1, 2, 3, 4, 5, 6]"
      ]
     },
     "execution_count": 32,
     "metadata": {},
     "output_type": "execute_result"
    }
   ],
   "source": [
    "### addition\n",
    "list1 = [1, 2, 3]\n",
    "list2 = [4, 5, 6]\n",
    "result = list1 + list2\n",
    "result"
   ]
  },
  {
   "cell_type": "code",
   "execution_count": 33,
   "id": "c14a8d1b-598c-400d-83b7-ad2d5d6b4f1a",
   "metadata": {},
   "outputs": [
    {
     "data": {
      "text/plain": [
       "[1, 2, 3, 1, 2, 3, 1, 2, 3, 1, 2, 3]"
      ]
     },
     "execution_count": 33,
     "metadata": {},
     "output_type": "execute_result"
    }
   ],
   "source": [
    "###  List Multiplication\n",
    "\n",
    "list1 = [1, 2, 3]\n",
    "result = list1 * 4\n",
    "result"
   ]
  },
  {
   "cell_type": "code",
   "execution_count": 34,
   "id": "de0a62a2-1a2e-4f8d-b807-fc71b4256efc",
   "metadata": {},
   "outputs": [
    {
     "data": {
      "text/plain": [
       "True"
      ]
     },
     "execution_count": 34,
     "metadata": {},
     "output_type": "execute_result"
    }
   ],
   "source": [
    "### in operator\n",
    "\n",
    "my_list = ['apple', 'banana', 'cherry']\n",
    "'banana' in my_list"
   ]
  },
  {
   "cell_type": "code",
   "execution_count": 35,
   "id": "646e8087-9b83-4dd8-b0d8-8625a19f9383",
   "metadata": {},
   "outputs": [
    {
     "name": "stdout",
     "output_type": "stream",
     "text": [
      "True\n"
     ]
    }
   ],
   "source": [
    "##### not in operator\n",
    "\n",
    "my_list = ['apple', 'banana', 'cherry']\n",
    "result = 'orange' not in my_list\n",
    "print(result)"
   ]
  },
  {
   "cell_type": "code",
   "execution_count": 36,
   "id": "566b3015-a553-4828-92c8-98332381785a",
   "metadata": {},
   "outputs": [
    {
     "name": "stdout",
     "output_type": "stream",
     "text": [
      "Apple is available.\n"
     ]
    }
   ],
   "source": [
    "# Defining a list of fruits\n",
    "fruits = ['apple', 'banana', 'cherry', 'date']\n",
    "\n",
    "# Check if 'apple' is in the list\n",
    "if 'apple' in fruits:\n",
    "    print(\"Apple is available.\")"
   ]
  },
  {
   "cell_type": "code",
   "execution_count": 37,
   "id": "169d8a61-87d9-4cf7-b615-5a51d018abfc",
   "metadata": {},
   "outputs": [
    {
     "name": "stdout",
     "output_type": "stream",
     "text": [
      "Grape is not available.\n"
     ]
    }
   ],
   "source": [
    "if 'grape' not in fruits:\n",
    "    print(\"Grape is not available.\")"
   ]
  },
  {
   "cell_type": "code",
   "execution_count": 38,
   "id": "3784b7dc-22f7-403b-9e9f-459402cf9a3b",
   "metadata": {},
   "outputs": [
    {
     "name": "stdout",
     "output_type": "stream",
     "text": [
      "apple\n",
      "banana\n",
      "cherry\n"
     ]
    }
   ],
   "source": [
    "## for loop\n",
    "my_list = ['apple', 'banana', 'cherry']\n",
    "for fruit in my_list:\n",
    "    print(fruit)"
   ]
  },
  {
   "cell_type": "code",
   "execution_count": 39,
   "id": "6a7afef6-aa8a-4de9-95b7-79d9bf6399b5",
   "metadata": {},
   "outputs": [
    {
     "data": {
      "text/plain": [
       "3"
      ]
     },
     "execution_count": 39,
     "metadata": {},
     "output_type": "execute_result"
    }
   ],
   "source": [
    "## while loop\n",
    "my_list = ['apple', 'banana', 'cherry']\n",
    "len(my_list)"
   ]
  },
  {
   "cell_type": "code",
   "execution_count": 40,
   "id": "fe482cb4-7c20-44e3-82d2-b9894d905fb8",
   "metadata": {},
   "outputs": [
    {
     "name": "stdout",
     "output_type": "stream",
     "text": [
      "apple\n",
      "banana\n",
      "cherry\n",
      "date\n"
     ]
    }
   ],
   "source": [
    "fruits = [\"apple\", \"banana\", \"cherry\", \"date\"]\n",
    "i = 0\n",
    "\n",
    "while i < len(fruits):\n",
    "    print(fruits[i])\n",
    "    i += 1"
   ]
  },
  {
   "cell_type": "code",
   "execution_count": 42,
   "id": "f8f285d2-2c75-4924-84c0-29951ca0aeb4",
   "metadata": {},
   "outputs": [
    {
     "name": "stdout",
     "output_type": "stream",
     "text": [
      "Total sum: 15\n"
     ]
    }
   ],
   "source": [
    "numbers = [1, 2, 3, 4, 5]\n",
    "\n",
    "# Using a for loop to calculate the sum of all elements in the list\n",
    "total_sum = 0\n",
    "for number in numbers:\n",
    "    total_sum =total_sum + number\n",
    "\n",
    "print(\"Total sum:\", total_sum)\n"
   ]
  },
  {
   "cell_type": "code",
   "execution_count": 43,
   "id": "eae444df-f5f0-444f-9dd5-807d544bbe6b",
   "metadata": {},
   "outputs": [
    {
     "name": "stdout",
     "output_type": "stream",
     "text": [
      "1 2 3 \n",
      "4 5 6 \n",
      "7 8 9 \n"
     ]
    }
   ],
   "source": [
    "##Nested Loops with Lists\n",
    "# Defining a list of lists (2D list)\n",
    "matrix = [\n",
    "    [1, 2, 3],\n",
    "    [4, 5, 6],\n",
    "    [7, 8, 9]]\n",
    "# Using nested for loops to iterate over a 2D list\n",
    "for row in matrix:\n",
    "    for element in row:\n",
    "        print(element, end=\" \")\n",
    "    print()  # Newline after each row\n",
    "\n"
   ]
  },
  {
   "cell_type": "code",
   "execution_count": 45,
   "id": "d5ea5b09-8fb3-4508-be3c-41b31d613d17",
   "metadata": {},
   "outputs": [],
   "source": [
    "l = [1,2,3,5]\n",
    "l = [1,2,3,4,5,6,7]\n",
    "l2 = [[1,2,3,4,5],\n",
    "      [6,7,8,9,10],\n",
    "      [11,12,13,14,15]\n",
    "     ]"
   ]
  },
  {
   "cell_type": "code",
   "execution_count": 46,
   "id": "c67e7088-09e2-44ec-a7ac-436712af02ed",
   "metadata": {},
   "outputs": [
    {
     "data": {
      "text/plain": [
       "12"
      ]
     },
     "execution_count": 46,
     "metadata": {},
     "output_type": "execute_result"
    }
   ],
   "source": [
    " 12\n"
   ]
  },
  {
   "cell_type": "code",
   "execution_count": 47,
   "id": "80fa00f0-9cb9-40db-be7f-b1c7cc31d5f7",
   "metadata": {},
   "outputs": [
    {
     "name": "stdout",
     "output_type": "stream",
     "text": [
      "1\n",
      "2\n",
      "3\n",
      "4\n",
      "5\n",
      "6\n",
      "7\n"
     ]
    }
   ],
   "source": [
    "l = [1,2,3,4,5,6,7]\n",
    "for i in l:\n",
    "    print(i)"
   ]
  },
  {
   "cell_type": "code",
   "execution_count": 48,
   "id": "22bc26e4-1c08-45a9-82e7-098d168575ca",
   "metadata": {},
   "outputs": [
    {
     "name": "stdout",
     "output_type": "stream",
     "text": [
      "[1, 2, 3, 4]\n",
      "11\n",
      "[5, 6, 7, 8]\n",
      "11\n",
      "[9, 10, 11, 12]\n",
      "11\n"
     ]
    }
   ],
   "source": [
    "l1 = [[1,2,3,4],\n",
    "      [5,6,7,8],\n",
    "      [9,10,11,12]\n",
    "     ]\n",
    "for i in l1:\n",
    "    print(i)\n",
    "    print(11)"
   ]
  },
  {
   "cell_type": "code",
   "execution_count": null,
   "id": "6eed0072-4094-4326-a243-32196de1e1e9",
   "metadata": {},
   "outputs": [],
   "source": []
  },
  {
   "cell_type": "code",
   "execution_count": null,
   "id": "0f04e70b-03c3-48fe-81bd-98240cf19456",
   "metadata": {},
   "outputs": [],
   "source": []
  },
  {
   "cell_type": "code",
   "execution_count": null,
   "id": "d0f8307a-5b7a-4e49-9ab0-c86847b25c8b",
   "metadata": {},
   "outputs": [],
   "source": []
  },
  {
   "cell_type": "code",
   "execution_count": null,
   "id": "7a531ecc-772c-46b7-aa93-6d71245ba4ff",
   "metadata": {},
   "outputs": [],
   "source": []
  },
  {
   "cell_type": "code",
   "execution_count": null,
   "id": "e7ad6dbb-344f-4393-a82e-30c594a264fc",
   "metadata": {},
   "outputs": [],
   "source": []
  },
  {
   "cell_type": "code",
   "execution_count": null,
   "id": "dad0a9f1-29b8-4410-b47f-374445069e2c",
   "metadata": {},
   "outputs": [],
   "source": []
  },
  {
   "cell_type": "code",
   "execution_count": null,
   "id": "76d607e3-5dee-4e06-ab95-c864e764e6e6",
   "metadata": {},
   "outputs": [],
   "source": []
  }
 ],
 "metadata": {
  "kernelspec": {
   "display_name": "Python 3 (ipykernel)",
   "language": "python",
   "name": "python3"
  },
  "language_info": {
   "codemirror_mode": {
    "name": "ipython",
    "version": 3
   },
   "file_extension": ".py",
   "mimetype": "text/x-python",
   "name": "python",
   "nbconvert_exporter": "python",
   "pygments_lexer": "ipython3",
   "version": "3.12.7"
  }
 },
 "nbformat": 4,
 "nbformat_minor": 5
}
