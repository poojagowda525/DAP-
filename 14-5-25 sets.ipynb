{
 "cells": [
  {
   "cell_type": "markdown",
   "id": "95e6bf12-09c9-42dd-a38c-ea56c25825fb",
   "metadata": {},
   "source": [
    "## sets in pyton"
   ]
  },
  {
   "cell_type": "markdown",
   "id": "3b98c983-f6c2-4901-b600-ae07e5210e91",
   "metadata": {},
   "source": [
    "##### Sets do not maintain the order of elements. "
   ]
  },
  {
   "cell_type": "code",
   "execution_count": 1,
   "id": "49d4b267-dcec-4229-9c35-1e1210a61534",
   "metadata": {},
   "outputs": [
    {
     "data": {
      "text/plain": [
       "{1, 2, 3}"
      ]
     },
     "execution_count": 1,
     "metadata": {},
     "output_type": "execute_result"
    }
   ],
   "source": [
    "my_set = {1, 2, 3,3,3,3}\n",
    "my_set"
   ]
  },
  {
   "cell_type": "code",
   "execution_count": 2,
   "id": "f5323931-53cb-4ef2-88c0-4a182f85e6fe",
   "metadata": {},
   "outputs": [],
   "source": [
    "l = [1,1,1,1,2,2,2,45,5,6,5]"
   ]
  },
  {
   "cell_type": "code",
   "execution_count": 3,
   "id": "01781555-8ca7-4687-a563-9da423144ae1",
   "metadata": {},
   "outputs": [
    {
     "data": {
      "text/plain": [
       "1"
      ]
     },
     "execution_count": 3,
     "metadata": {},
     "output_type": "execute_result"
    }
   ],
   "source": [
    "1"
   ]
  },
  {
   "cell_type": "code",
   "execution_count": 4,
   "id": "67a57be7-ca80-4f5d-9d8e-17cc88c57ed4",
   "metadata": {},
   "outputs": [
    {
     "data": {
      "text/plain": [
       "{1, 2, 3, 4}"
      ]
     },
     "execution_count": 4,
     "metadata": {},
     "output_type": "execute_result"
    }
   ],
   "source": [
    "my_set = {1, 2, 2,2,2,2,2,2,2, 3, 4,4,4}\n",
    "my_set"
   ]
  },
  {
   "cell_type": "code",
   "execution_count": 5,
   "id": "24f95741-4e97-42a4-b7cf-4471c9ef835e",
   "metadata": {},
   "outputs": [
    {
     "data": {
      "text/plain": [
       "{1, 2, 3, 8}"
      ]
     },
     "execution_count": 5,
     "metadata": {},
     "output_type": "execute_result"
    }
   ],
   "source": [
    "my_set = {1, 2, 3}\n",
    "my_set.add(8)\n",
    "my_set"
   ]
  },
  {
   "cell_type": "code",
   "execution_count": 6,
   "id": "fd095802-0194-4cf4-a182-09b945592ed7",
   "metadata": {},
   "outputs": [
    {
     "data": {
      "text/plain": [
       "{2, 3, 8}"
      ]
     },
     "execution_count": 6,
     "metadata": {},
     "output_type": "execute_result"
    }
   ],
   "source": [
    "my_set.remove(1)\n",
    "my_set"
   ]
  },
  {
   "cell_type": "code",
   "execution_count": 7,
   "id": "b27a2467-0d4b-4fd8-8621-745553f336ea",
   "metadata": {},
   "outputs": [
    {
     "name": "stdout",
     "output_type": "stream",
     "text": [
      "{8, 3}\n"
     ]
    }
   ],
   "source": [
    "my_set.remove(2)     \n",
    "print(my_set) "
   ]
  },
  {
   "cell_type": "code",
   "execution_count": 8,
   "id": "3a810f1e-1d4d-42cd-916c-25ddd3f9b78c",
   "metadata": {},
   "outputs": [
    {
     "name": "stdout",
     "output_type": "stream",
     "text": [
      "1\n",
      "2\n",
      "3\n"
     ]
    }
   ],
   "source": [
    "## no indexing\n",
    "\n",
    "my_set = {1, 2, 3}\n",
    "for item in my_set:\n",
    "    print(item) "
   ]
  },
  {
   "cell_type": "markdown",
   "id": "be0b13f2-d48a-4f4c-8c24-4caa18edfcf1",
   "metadata": {},
   "source": [
    "### Set Methods in Python"
   ]
  },
  {
   "cell_type": "markdown",
   "id": "9411de8e-18ce-42cc-a607-0d86a44beb57",
   "metadata": {},
   "source": [
    "##  add()"
   ]
  },
  {
   "cell_type": "code",
   "execution_count": 9,
   "id": "6cc4de9c-458f-4d49-bd9c-7ab5e24cb1d4",
   "metadata": {},
   "outputs": [
    {
     "data": {
      "text/plain": [
       "{1, 2, 3, 555}"
      ]
     },
     "execution_count": 9,
     "metadata": {},
     "output_type": "execute_result"
    }
   ],
   "source": [
    "my_set = {1, 2, 3}\n",
    "my_set.add(555)\n",
    "my_set"
   ]
  },
  {
   "cell_type": "code",
   "execution_count": 10,
   "id": "1803bfb0-7985-4406-94d5-801cf0108186",
   "metadata": {},
   "outputs": [
    {
     "name": "stdout",
     "output_type": "stream",
     "text": [
      "{1, 2, 3, 555}\n"
     ]
    }
   ],
   "source": [
    "my_set.add(1)\n",
    "print(my_set) "
   ]
  },
  {
   "cell_type": "markdown",
   "id": "67b55c7e-24eb-4f6f-b8bc-a62066c53c4e",
   "metadata": {},
   "source": [
    "## update()"
   ]
  },
  {
   "cell_type": "code",
   "execution_count": 11,
   "id": "824c5df8-e738-4a9c-a890-ef823ede08e5",
   "metadata": {},
   "outputs": [
    {
     "data": {
      "text/plain": [
       "{1, 2, 3, 4, 5, 20, 55, 88, 99}"
      ]
     },
     "execution_count": 11,
     "metadata": {},
     "output_type": "execute_result"
    }
   ],
   "source": [
    "my_set = {1, 2, 3}\n",
    "my_set.update([20,55,88,99])\n",
    "my_set.update([4, 5])\n",
    "my_set"
   ]
  },
  {
   "cell_type": "code",
   "execution_count": 12,
   "id": "477b1582-5b8b-42c2-a91a-07a2aefe94e5",
   "metadata": {},
   "outputs": [
    {
     "data": {
      "text/plain": [
       "{1, 2, 3, 4, 5, 20, 55, 87, 88, 99}"
      ]
     },
     "execution_count": 12,
     "metadata": {},
     "output_type": "execute_result"
    }
   ],
   "source": [
    "my_set.update((1,2,5,87))\n",
    "my_set"
   ]
  },
  {
   "cell_type": "code",
   "execution_count": 13,
   "id": "3ed00d38-529b-463d-9763-fcd4c9746740",
   "metadata": {},
   "outputs": [
    {
     "data": {
      "text/plain": [
       "{2, 3}"
      ]
     },
     "execution_count": 13,
     "metadata": {},
     "output_type": "execute_result"
    }
   ],
   "source": [
    "### remove()\n",
    "my_set = {1, 2, 3}\n",
    "my_set.remove(1)\n",
    "my_set"
   ]
  },
  {
   "cell_type": "code",
   "execution_count": 14,
   "id": "5f0ccf08-33a3-45bd-8353-bc89300d3e1d",
   "metadata": {},
   "outputs": [
    {
     "data": {
      "text/plain": [
       "{1, 2, 3}"
      ]
     },
     "execution_count": 14,
     "metadata": {},
     "output_type": "execute_result"
    }
   ],
   "source": [
    "## discard()\n",
    "my_set = {1, 2, 3}\n",
    "my_set.discard(20)\n",
    "my_set"
   ]
  },
  {
   "cell_type": "code",
   "execution_count": 15,
   "id": "ca6f2bba-7eba-48cb-b430-d64100d1a03c",
   "metadata": {},
   "outputs": [
    {
     "name": "stdout",
     "output_type": "stream",
     "text": [
      "{1, 2, 3}\n"
     ]
    }
   ],
   "source": [
    "my_set.discard(4)  \n",
    "print(my_set) "
   ]
  },
  {
   "cell_type": "code",
   "execution_count": 16,
   "id": "6a3ddcc0-dfc7-45a7-8a36-9b6c521e402b",
   "metadata": {},
   "outputs": [
    {
     "data": {
      "text/plain": [
       "1"
      ]
     },
     "execution_count": 16,
     "metadata": {},
     "output_type": "execute_result"
    }
   ],
   "source": [
    "## pop()\n",
    "element = my_set.pop()\n",
    "element"
   ]
  },
  {
   "cell_type": "code",
   "execution_count": 17,
   "id": "6869a630-5aec-4250-810a-6bc80fb445ce",
   "metadata": {},
   "outputs": [
    {
     "data": {
      "text/plain": [
       "{1, 2, 3, 4, 5}"
      ]
     },
     "execution_count": 17,
     "metadata": {},
     "output_type": "execute_result"
    }
   ],
   "source": [
    "## union()\n",
    "set1 = {1, 2, 3}\n",
    "set2 = {3, 4, 5}\n",
    "set1.union(set2)"
   ]
  },
  {
   "cell_type": "code",
   "execution_count": 18,
   "id": "66c17f38-15fc-43d4-b12a-6d827ecc487b",
   "metadata": {},
   "outputs": [
    {
     "data": {
      "text/plain": [
       "{1, 2, 3, 4, 5}"
      ]
     },
     "execution_count": 18,
     "metadata": {},
     "output_type": "execute_result"
    }
   ],
   "source": [
    "set1.union(set2)"
   ]
  },
  {
   "cell_type": "code",
   "execution_count": 19,
   "id": "68787fa1-375f-43d9-89da-71e9f9b09c8d",
   "metadata": {},
   "outputs": [
    {
     "data": {
      "text/plain": [
       "{2, 3}"
      ]
     },
     "execution_count": 19,
     "metadata": {},
     "output_type": "execute_result"
    }
   ],
   "source": [
    "### intersection\n",
    "\n",
    "set1 = {1, 2, 3}\n",
    "set2 = {2, 3, 4}\n",
    "set1.intersection(set2)"
   ]
  },
  {
   "cell_type": "code",
   "execution_count": 20,
   "id": "bcb13f5a-91d0-4add-995c-daeee8b00d14",
   "metadata": {},
   "outputs": [
    {
     "name": "stdout",
     "output_type": "stream",
     "text": [
      "{2, 3}\n"
     ]
    }
   ],
   "source": [
    "result = set1.intersection(set2)\n",
    "print(result) "
   ]
  },
  {
   "cell_type": "code",
   "execution_count": 21,
   "id": "21236c4a-9cce-4a2e-b2d7-183da62e7b7e",
   "metadata": {},
   "outputs": [
    {
     "data": {
      "text/plain": [
       "{1, 5}"
      ]
     },
     "execution_count": 21,
     "metadata": {},
     "output_type": "execute_result"
    }
   ],
   "source": [
    "## difference\n",
    "set1 = {1, 2, 3,5}\n",
    "set2 = {2, 3, 4}\n",
    "set1.difference(set2)"
   ]
  },
  {
   "cell_type": "code",
   "execution_count": 22,
   "id": "bf1aef0d-969c-41f8-aacb-c6845c6f8c1e",
   "metadata": {},
   "outputs": [
    {
     "data": {
      "text/plain": [
       "{4}"
      ]
     },
     "execution_count": 22,
     "metadata": {},
     "output_type": "execute_result"
    }
   ],
   "source": [
    "set2.difference(set1)"
   ]
  },
  {
   "cell_type": "code",
   "execution_count": 23,
   "id": "bc209f00-4ee4-4fc6-b96c-5a2db600181e",
   "metadata": {},
   "outputs": [
    {
     "name": "stdout",
     "output_type": "stream",
     "text": [
      "{1, 5}\n"
     ]
    }
   ],
   "source": [
    "result = set1.difference(set2)\n",
    "print(result) "
   ]
  },
  {
   "cell_type": "code",
   "execution_count": 25,
   "id": "0805c7fd-5e71-40d7-bf71-759ee67fa148",
   "metadata": {},
   "outputs": [
    {
     "name": "stdout",
     "output_type": "stream",
     "text": [
      "{1, 4}\n"
     ]
    },
    {
     "data": {
      "text/plain": [
       "{1, 4}"
      ]
     },
     "execution_count": 25,
     "metadata": {},
     "output_type": "execute_result"
    }
   ],
   "source": [
    "## symmetric_difference\n",
    "set1 = {1, 2, 3}\n",
    "set2 = {2, 3, 4}\n",
    "result = set1.symmetric_difference(set2)\n",
    "print(result)\n",
    "set2.symmetric_difference(set1)"
   ]
  },
  {
   "cell_type": "markdown",
   "id": "57df239b-fa89-48ff-9d60-59b7efd6237b",
   "metadata": {},
   "source": [
    "#### Python Functions on set"
   ]
  },
  {
   "cell_type": "code",
   "execution_count": 26,
   "id": "c62309fb-cc3e-452c-a935-0bc2ae827c1b",
   "metadata": {},
   "outputs": [
    {
     "data": {
      "text/plain": [
       "3"
      ]
     },
     "execution_count": 26,
     "metadata": {},
     "output_type": "execute_result"
    }
   ],
   "source": [
    "my_set.add(0)\n",
    "len(my_set)"
   ]
  },
  {
   "cell_type": "code",
   "execution_count": 27,
   "id": "828a54fb-6620-4c60-8ca8-94a8fd0aa72c",
   "metadata": {},
   "outputs": [
    {
     "data": {
      "text/plain": [
       "[20, 45, 58, 68]"
      ]
     },
     "execution_count": 27,
     "metadata": {},
     "output_type": "execute_result"
    }
   ],
   "source": [
    "## sorted\n",
    "a = (20,58,45,68)\n",
    "sorted(a)"
   ]
  },
  {
   "cell_type": "code",
   "execution_count": 28,
   "id": "6d44dc8d-a5cc-4004-9b40-78d5cf72deca",
   "metadata": {},
   "outputs": [
    {
     "data": {
      "text/plain": [
       "[1, 2, 3, 4]"
      ]
     },
     "execution_count": 28,
     "metadata": {},
     "output_type": "execute_result"
    }
   ],
   "source": [
    "## enumerate\n",
    "my_set = {3, 1, 4, 2}\n",
    "sorted(my_set)"
   ]
  },
  {
   "cell_type": "code",
   "execution_count": 29,
   "id": "a73f2fcd-2c08-4d4d-85c9-49d7902e2159",
   "metadata": {},
   "outputs": [
    {
     "name": "stdout",
     "output_type": "stream",
     "text": [
      "0 1\n",
      "1 2\n",
      "2 3\n",
      "3 4\n"
     ]
    }
   ],
   "source": [
    "my_set = {3, 1, 4, 2}\n",
    "for index, value in enumerate(sorted(my_set)):\n",
    "    print(index, value)"
   ]
  },
  {
   "cell_type": "code",
   "execution_count": 30,
   "id": "8328c7a6-1f50-4d27-8285-d5c0e6dea8b2",
   "metadata": {},
   "outputs": [
    {
     "name": "stdout",
     "output_type": "stream",
     "text": [
      "0 1\n",
      "1 2\n",
      "2 3\n",
      "3 5\n",
      "4 40\n",
      "5 60\n",
      "6 88\n",
      "7 79\n"
     ]
    }
   ],
   "source": [
    "a = [1,2,3,5,40,60,88,79]\n",
    "for index, value in enumerate(a):\n",
    "    print(index, value)"
   ]
  },
  {
   "cell_type": "code",
   "execution_count": 31,
   "id": "362da5c9-3d00-475c-beac-bdde94f77785",
   "metadata": {},
   "outputs": [
    {
     "name": "stdout",
     "output_type": "stream",
     "text": [
      "0 1\n",
      "1 2\n",
      "2 3\n",
      "3 5\n",
      "4 40\n",
      "5 60\n",
      "6 88\n",
      "7 79\n"
     ]
    }
   ],
   "source": [
    "for i,j in enumerate(a):\n",
    "    print(i,j)"
   ]
  },
  {
   "cell_type": "markdown",
   "id": "442c54d1-8c08-4961-83e9-e9cd3cc7b131",
   "metadata": {},
   "source": [
    "## set()"
   ]
  },
  {
   "cell_type": "markdown",
   "id": "45093be3-8b6f-4902-9591-c2ac6ed51d75",
   "metadata": {},
   "source": [
    "#### Converts an iterable to a set, removing duplicates."
   ]
  },
  {
   "cell_type": "code",
   "execution_count": 32,
   "id": "0d7e5c74-3767-477e-905c-e21583e316e3",
   "metadata": {},
   "outputs": [
    {
     "name": "stdout",
     "output_type": "stream",
     "text": [
      "{'hello', 1, (1, 2, 3), 4.5}\n"
     ]
    }
   ],
   "source": [
    "s3 = {1,'hello',4.5,(1,2,3)}\n",
    "print(s3)"
   ]
  },
  {
   "cell_type": "code",
   "execution_count": 33,
   "id": "98b1e0a5-3658-47cc-8895-f67271209ac8",
   "metadata": {},
   "outputs": [
    {
     "name": "stdout",
     "output_type": "stream",
     "text": [
      "{1, 2, 3}\n"
     ]
    }
   ],
   "source": [
    "s4 = set([1,2,3])\n",
    "print(s4)\n"
   ]
  },
  {
   "cell_type": "code",
   "execution_count": 34,
   "id": "25c8f1b7-7f1e-42e5-9fa6-5a7a178316de",
   "metadata": {},
   "outputs": [
    {
     "name": "stdout",
     "output_type": "stream",
     "text": [
      "True\n"
     ]
    }
   ],
   "source": [
    "s1 = {1,2,3}\n",
    "s2 = {3,2,1}\n",
    "\n",
    "print(s1 == s2)"
   ]
  },
  {
   "cell_type": "code",
   "execution_count": 35,
   "id": "1dbb02b2-f3fd-4a95-a828-062b72ca5f78",
   "metadata": {},
   "outputs": [
    {
     "data": {
      "text/plain": [
       "{1, 2, 3, 4, 5, 6, 7, 8}"
      ]
     },
     "execution_count": 35,
     "metadata": {},
     "output_type": "execute_result"
    }
   ],
   "source": [
    "# Union(|)\n",
    "s11 = {1,2,3,4,5}\n",
    "s21 = {4,5,6,7,8}\n",
    "s11 | s21\n"
   ]
  },
  {
   "cell_type": "code",
   "execution_count": 36,
   "id": "1dfe9faf-4193-4211-914e-d254ac7e1234",
   "metadata": {},
   "outputs": [
    {
     "data": {
      "text/plain": [
       "{4, 5}"
      ]
     },
     "execution_count": 36,
     "metadata": {},
     "output_type": "execute_result"
    }
   ],
   "source": [
    "# Intersection(&)\n",
    "s11 & s21\n"
   ]
  },
  {
   "cell_type": "code",
   "execution_count": 37,
   "id": "e93e4008-c4e9-4d00-99e4-e8884dde3a23",
   "metadata": {},
   "outputs": [
    {
     "data": {
      "text/plain": [
       "{1, 2, 3}"
      ]
     },
     "execution_count": 37,
     "metadata": {},
     "output_type": "execute_result"
    }
   ],
   "source": [
    "# Difference(-)\n",
    "s11 - s21\n"
   ]
  },
  {
   "cell_type": "markdown",
   "id": "19b6ed6a-9c8e-4cf2-a275-ceb041ceebfa",
   "metadata": {},
   "source": [
    "## set comprehensions"
   ]
  },
  {
   "cell_type": "code",
   "execution_count": 38,
   "id": "24c24987-517c-4128-b4fe-0aafd25e03b9",
   "metadata": {},
   "outputs": [
    {
     "name": "stdout",
     "output_type": "stream",
     "text": [
      "{1, 4, 9, 16, 25}\n"
     ]
    }
   ],
   "source": [
    "numbers = [1, 2, 3, 4, 5]\n",
    "squares_set = {x**2 for x in numbers}\n",
    "print(squares_set) "
   ]
  },
  {
   "cell_type": "code",
   "execution_count": 39,
   "id": "0d560b34-a936-4cc1-814d-850f1b285fae",
   "metadata": {},
   "outputs": [
    {
     "name": "stdout",
     "output_type": "stream",
     "text": [
      "{16, 4}\n"
     ]
    }
   ],
   "source": [
    "numbers = [1, 2, 3, 4, 5]\n",
    "even_squares_set = {x**2 for x in numbers if x % 2 == 0}\n",
    "print(even_squares_set)  "
   ]
  },
  {
   "cell_type": "code",
   "execution_count": null,
   "id": "2732e469-6350-445f-a32d-45532012f7fe",
   "metadata": {},
   "outputs": [],
   "source": []
  },
  {
   "cell_type": "code",
   "execution_count": 40,
   "id": "5b219ca5-0ed5-4177-b68a-0d9f82a2110f",
   "metadata": {},
   "outputs": [
    {
     "name": "stdout",
     "output_type": "stream",
     "text": [
      "{'Charlie', 'David'}\n"
     ]
    }
   ],
   "source": [
    "# Question 1: \n",
    "# You have two sets of students enrolled in different courses. \n",
    "# Set A contains students enrolled in Python, and Set B contains students enrolled in Data Science.\n",
    "# How would you find the students who are enrolled in both courses?\n",
    "\n",
    "set_A = {\"Alice\", \"Bob\", \"Charlie\", \"David\"}\n",
    "set_B = {\"Charlie\", \"David\", \"Eve\", \"Frank\"}\n",
    "common_students = set_A.intersection(set_B)\n",
    "print(common_students)  "
   ]
  },
  {
   "cell_type": "code",
   "execution_count": 41,
   "id": "11844bcb-b51c-4d16-a6af-80ea3ffb122c",
   "metadata": {},
   "outputs": [
    {
     "name": "stdout",
     "output_type": "stream",
     "text": [
      "{'Michael', 'Jane', 'John', 'Emily'}\n"
     ]
    }
   ],
   "source": [
    "# Question 2: \n",
    "# You have a set of employees who have completed a training. \n",
    "# How would you add a new employee to this set if they have completed the training today?\n",
    "\n",
    "completed_training = {\"John\", \"Jane\", \"Emily\"}\n",
    "completed_training.add(\"Michael\")\n",
    "print(completed_training)"
   ]
  },
  {
   "cell_type": "code",
   "execution_count": 42,
   "id": "bfb1cb74-f49c-4b6b-b73d-cc5ba3b0f2a5",
   "metadata": {},
   "outputs": [
    {
     "name": "stdout",
     "output_type": "stream",
     "text": [
      "{'cherry', 'apple', 'fig'}\n"
     ]
    }
   ],
   "source": [
    "# Question 3: \n",
    "# You have a set of all fruits available in your store and\n",
    "# another set of fruits that are out of stock. \n",
    "# How would you find the fruits that are still in stock\n",
    "\n",
    "all_fruits = {\"apple\", \"banana\", \"cherry\", \"date\", \"fig\"}\n",
    "out_of_stock = {\"banana\", \"date\"}\n",
    "in_stock = all_fruits.difference(out_of_stock)\n",
    "print(in_stock)"
   ]
  },
  {
   "cell_type": "code",
   "execution_count": null,
   "id": "e8b36e08-c338-40a5-8fbd-a6ebe9e03ea3",
   "metadata": {},
   "outputs": [],
   "source": [
    "# Question 5: \n",
    "# How would you combine two sets of attendees \n",
    "#  from two different events into a single set of unique attendees?\n",
    "\n",
    "event1_attendees = {\"Alice\", \"Bob\", \"Charlie\"}\n",
    "event2_attendees = {\"Charlie\", \"David\", \"Eve\"}\n",
    "all_attendees = event1_attendees.union(event2_attendees)\n",
    "print(all_attendees)  "
   ]
  }
 ],
 "metadata": {
  "kernelspec": {
   "display_name": "Python 3 (ipykernel)",
   "language": "python",
   "name": "python3"
  },
  "language_info": {
   "codemirror_mode": {
    "name": "ipython",
    "version": 3
   },
   "file_extension": ".py",
   "mimetype": "text/x-python",
   "name": "python",
   "nbconvert_exporter": "python",
   "pygments_lexer": "ipython3",
   "version": "3.12.7"
  }
 },
 "nbformat": 4,
 "nbformat_minor": 5
}
