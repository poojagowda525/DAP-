{
 "cells": [
  {
   "cell_type": "markdown",
   "id": "6d3c97ba-9d92-42c4-b131-1d0153b316e7",
   "metadata": {},
   "source": [
    "#### dictionary"
   ]
  },
  {
   "cell_type": "code",
   "execution_count": 3,
   "id": "03c4d9cc-4888-4ec3-b9ca-672c991e86ee",
   "metadata": {},
   "outputs": [
    {
     "ename": "SyntaxError",
     "evalue": "cannot assign to literal here. Maybe you meant '==' instead of '='? (4216761932.py, line 2)",
     "output_type": "error",
     "traceback": [
      "\u001b[1;36m  Cell \u001b[1;32mIn[3], line 2\u001b[1;36m\u001b[0m\n\u001b[1;33m    1=[1,2,3,4]\u001b[0m\n\u001b[1;37m    ^\u001b[0m\n\u001b[1;31mSyntaxError\u001b[0m\u001b[1;31m:\u001b[0m cannot assign to literal here. Maybe you meant '==' instead of '='?\n"
     ]
    }
   ],
   "source": [
    "s==\"\"\n",
    "1=[1,2,3,4]\n",
    "1=()\n",
    "dict={\"ROW_ID\":1,\"order_ID\":  "
   ]
  },
  {
   "cell_type": "code",
   "execution_count": 7,
   "id": "f3f86fdc-33d4-4806-867c-276bdd76e520",
   "metadata": {},
   "outputs": [
    {
     "data": {
      "text/plain": [
       "{'name': 'alice', 'age': 20, 'city': 'new york'}"
      ]
     },
     "execution_count": 7,
     "metadata": {},
     "output_type": "execute_result"
    }
   ],
   "source": [
    "# characteristics\n",
    "# 1. unordered\n",
    "my_dict={'name':'alice','age':20,'city':'new york'}\n",
    "my_dict"
   ]
  },
  {
   "cell_type": "code",
   "execution_count": 8,
   "id": "079f2230-e60e-4be6-88c2-a42a0075b7fd",
   "metadata": {},
   "outputs": [
    {
     "data": {
      "text/plain": [
       "{'name': 'pooja gowda', 'age': 20, 'city': 'new york'}"
      ]
     },
     "execution_count": 8,
     "metadata": {},
     "output_type": "execute_result"
    }
   ],
   "source": [
    "# 2. mutable(the dictionary can be modified after creation)\n",
    "my_dict['name']='pooja gowda'\n",
    "my_dict\n"
   ]
  },
  {
   "cell_type": "code",
   "execution_count": 9,
   "id": "e28164cc-5e2b-4d0c-8677-9495075c1891",
   "metadata": {},
   "outputs": [
    {
     "data": {
      "text/plain": [
       "{'name': 'pooja gowda', 'age': 21, 'city': 'new york'}"
      ]
     },
     "execution_count": 9,
     "metadata": {},
     "output_type": "execute_result"
    }
   ],
   "source": [
    "my_dict['age']=21\n",
    "my_dict"
   ]
  },
  {
   "cell_type": "code",
   "execution_count": 10,
   "id": "7db9ec77-b188-4e9d-bd96-ff9d55be9233",
   "metadata": {},
   "outputs": [
    {
     "data": {
      "text/plain": [
       "{'name': 'alice', 'age': 89}"
      ]
     },
     "execution_count": 10,
     "metadata": {},
     "output_type": "execute_result"
    }
   ],
   "source": [
    "#  3. unique keys\n",
    "my_dict={'name':'alice','age':67,'age':65,'age':89}\n",
    "my_dict"
   ]
  },
  {
   "cell_type": "code",
   "execution_count": 11,
   "id": "98c2c068-9688-415f-9843-48ea99676011",
   "metadata": {},
   "outputs": [
    {
     "name": "stdout",
     "output_type": "stream",
     "text": [
      "{(1, 2): 'point', 'name': 'alice'}\n"
     ]
    }
   ],
   "source": [
    "# 4. immutable keys(keys must be immutable types such as strings, numbers or tuples)\n",
    "my_dict={(1,2):\"point\",'name':\"alice\"}\n",
    "print(my_dict)"
   ]
  },
  {
   "cell_type": "code",
   "execution_count": 12,
   "id": "d47bc38d-dea5-43cb-a7df-505dbe9b756d",
   "metadata": {},
   "outputs": [
    {
     "data": {
      "text/plain": [
       "{(1, 2): 'point'}"
      ]
     },
     "execution_count": 12,
     "metadata": {},
     "output_type": "execute_result"
    }
   ],
   "source": [
    "\n",
    "# 5.dynamic\n",
    "del my_dict['name']\n",
    "my_dict"
   ]
  },
  {
   "cell_type": "markdown",
   "id": "8870f2bf-66be-42ac-9cee-8acc0ae7ae5b",
   "metadata": {},
   "source": [
    "##### keys and values in a python dictionary"
   ]
  },
  {
   "cell_type": "code",
   "execution_count": null,
   "id": "55d2ecde-4102-40c0-8650-91548ba25ec4",
   "metadata": {},
   "outputs": [],
   "source": [
    "1. keys in dictionary\n",
    "uniqueness\n",
    "immutable"
   ]
  },
  {
   "cell_type": "code",
   "execution_count": null,
   "id": "7ca117a7-a75d-4e75-b75e-e204717a2c7d",
   "metadata": {},
   "outputs": [],
   "source": [
    "2. values in a dictionary\n",
    "no uniqueness constraint\n",
    "mutable or immutable\n"
   ]
  },
  {
   "cell_type": "code",
   "execution_count": 14,
   "id": "966cdb05-ac7e-4d55-8394-800142d49131",
   "metadata": {},
   "outputs": [],
   "source": [
    "## accessing dct elements\n",
    "\n",
    "#  1. accessing a value by key \n",
    "dict1={\n",
    "    'name':'alice',\n",
    "    \"age\":25,\n",
    "    'hobbies':['reading','hiking'],\n",
    "    'education':{'degree':'bca','year':2015}\n",
    "}"
   ]
  },
  {
   "cell_type": "code",
   "execution_count": 15,
   "id": "8b8df4ad-66d9-461e-9626-215dca3c7694",
   "metadata": {},
   "outputs": [
    {
     "data": {
      "text/plain": [
       "2015"
      ]
     },
     "execution_count": 15,
     "metadata": {},
     "output_type": "execute_result"
    }
   ],
   "source": [
    "dict1['education']['year']"
   ]
  },
  {
   "cell_type": "code",
   "execution_count": 16,
   "id": "0be8b1e0-044f-4002-a46a-f9c9bec9ee6b",
   "metadata": {},
   "outputs": [
    {
     "data": {
      "text/plain": [
       "25"
      ]
     },
     "execution_count": 16,
     "metadata": {},
     "output_type": "execute_result"
    }
   ],
   "source": [
    "dict1['age']"
   ]
  },
  {
   "cell_type": "code",
   "execution_count": 17,
   "id": "ea298391-ffca-4609-83a5-aa72f3140de6",
   "metadata": {},
   "outputs": [
    {
     "data": {
      "text/plain": [
       "'hiking'"
      ]
     },
     "execution_count": 17,
     "metadata": {},
     "output_type": "execute_result"
    }
   ],
   "source": [
    "dict1['hobbies'][1]"
   ]
  },
  {
   "cell_type": "code",
   "execution_count": 18,
   "id": "e9f3edf1-d3f1-4c01-a8e6-ded9799e532d",
   "metadata": {},
   "outputs": [
    {
     "data": {
      "text/plain": [
       "['reading', 'hiking']"
      ]
     },
     "execution_count": 18,
     "metadata": {},
     "output_type": "execute_result"
    }
   ],
   "source": [
    "dict1['hobbies']"
   ]
  },
  {
   "cell_type": "code",
   "execution_count": 19,
   "id": "08f676ae-3ce1-4bd5-9053-41a16f0e40cf",
   "metadata": {},
   "outputs": [
    {
     "data": {
      "text/plain": [
       "25"
      ]
     },
     "execution_count": 19,
     "metadata": {},
     "output_type": "execute_result"
    }
   ],
   "source": [
    "# 2. using get() method\n",
    "dict1={\n",
    "    'name':'alice',\n",
    "    \"age\":25\n",
    "}\n",
    "dict1['age']"
   ]
  },
  {
   "cell_type": "code",
   "execution_count": 20,
   "id": "0542cfac-4d3d-4e8a-9e36-b4f990ead502",
   "metadata": {},
   "outputs": [
    {
     "data": {
      "text/plain": [
       "'alice'"
      ]
     },
     "execution_count": 20,
     "metadata": {},
     "output_type": "execute_result"
    }
   ],
   "source": [
    "dict1.get('name')"
   ]
  },
  {
   "cell_type": "code",
   "execution_count": 22,
   "id": "ed4026f6-86c6-4243-b546-9635c5457ff7",
   "metadata": {},
   "outputs": [
    {
     "name": "stdout",
     "output_type": "stream",
     "text": [
      "None\n"
     ]
    }
   ],
   "source": [
    "print(dict1.get('city'))"
   ]
  },
  {
   "cell_type": "code",
   "execution_count": 23,
   "id": "6f556306-51ee-4372-8aa8-7ccda1d43d81",
   "metadata": {},
   "outputs": [
    {
     "data": {
      "text/plain": [
       "dict_keys(['name', 'age'])"
      ]
     },
     "execution_count": 23,
     "metadata": {},
     "output_type": "execute_result"
    }
   ],
   "source": [
    "# 3. accessing all keys\n",
    "dict1={\n",
    "    'name':'alice',\n",
    "    \"age\":25\n",
    "}\n",
    "dict1.keys()"
   ]
  },
  {
   "cell_type": "code",
   "execution_count": 24,
   "id": "98ce2734-dc14-450f-953d-62e1afecc5f6",
   "metadata": {},
   "outputs": [
    {
     "data": {
      "text/plain": [
       "dict_values(['alice', 25])"
      ]
     },
     "execution_count": 24,
     "metadata": {},
     "output_type": "execute_result"
    }
   ],
   "source": [
    "# 4. accessing all values\n",
    "dict1={\n",
    "    'name':'alice',\n",
    "    \"age\":25\n",
    "}\n",
    "dict1.values()"
   ]
  },
  {
   "cell_type": "code",
   "execution_count": 25,
   "id": "1bd68e28-c196-4c38-92e1-643b76b45f07",
   "metadata": {},
   "outputs": [
    {
     "data": {
      "text/plain": [
       "dict_items([('name', 'alice'), ('age', 25)])"
      ]
     },
     "execution_count": 25,
     "metadata": {},
     "output_type": "execute_result"
    }
   ],
   "source": [
    "# 5. aceessing all key-value pairs\n",
    "dict1={\n",
    "    'name':'alice',\n",
    "    \"age\":25\n",
    "}\n",
    "dict1.items()"
   ]
  },
  {
   "cell_type": "code",
   "execution_count": 26,
   "id": "9d6a3ebc-6f87-4375-816d-58196d1bc820",
   "metadata": {},
   "outputs": [
    {
     "name": "stdout",
     "output_type": "stream",
     "text": [
      "name\n",
      "age\n",
      "city\n"
     ]
    }
   ],
   "source": [
    "# 6. iterating over keys n values\n",
    "dict1={'name':'alice',\"age\":25,'city':'new york'}\n",
    "for i in dict1:\n",
    "    print(i)"
   ]
  },
  {
   "cell_type": "code",
   "execution_count": 27,
   "id": "dba50f1f-9313-4966-aaa9-14f9715ec11d",
   "metadata": {},
   "outputs": [
    {
     "name": "stdout",
     "output_type": "stream",
     "text": [
      "alice\n",
      "25\n",
      "new york\n"
     ]
    }
   ],
   "source": [
    "for i in dict1.values():\n",
    "    print(i)"
   ]
  },
  {
   "cell_type": "code",
   "execution_count": 28,
   "id": "517efeb8-ce34-4773-b0c2-cf97670c1585",
   "metadata": {},
   "outputs": [
    {
     "name": "stdout",
     "output_type": "stream",
     "text": [
      "('name', 'alice')\n",
      "('age', 25)\n",
      "('city', 'new york')\n"
     ]
    }
   ],
   "source": [
    "for i in dict1.items():\n",
    "    print(i)\n"
   ]
  },
  {
   "cell_type": "code",
   "execution_count": 29,
   "id": "56ced198-bf73-426d-ab4a-a43a29d4d203",
   "metadata": {},
   "outputs": [
    {
     "name": "stdout",
     "output_type": "stream",
     "text": [
      "name: alice\n",
      "age: 25\n",
      "city: new york\n"
     ]
    }
   ],
   "source": [
    "for i,j in dict1.items():\n",
    "    print(f'{i}: {j}')"
   ]
  },
  {
   "cell_type": "code",
   "execution_count": 35,
   "id": "dd023dd9-17d3-4dac-af4d-c7835f39e1bf",
   "metadata": {},
   "outputs": [
    {
     "data": {
      "text/plain": [
       "{'person1': {'name': 'alice', 'age': 20, 'city': 'new york'},\n",
       " 'person2': {'name': 'bob', 'age': 21, 'city': 'delhi'}}"
      ]
     },
     "execution_count": 35,
     "metadata": {},
     "output_type": "execute_result"
    }
   ],
   "source": [
    "#  nested dictinary in python\n",
    "nested_dict={\n",
    "    'person1':{\n",
    "        'name':'alice',\n",
    "        'age':20,\n",
    "        'city':'new york'\n",
    "    },\n",
    "    'person2':{\n",
    "        'name':'bob',\n",
    "        'age':21,\n",
    "        'city':'delhi'\n",
    "    }\n",
    "}\n",
    "nested_dict"
   ]
  },
  {
   "cell_type": "code",
   "execution_count": 36,
   "id": "c374aeb1-d100-435b-957b-59171ec455e5",
   "metadata": {},
   "outputs": [
    {
     "data": {
      "text/plain": [
       "'bob'"
      ]
     },
     "execution_count": 36,
     "metadata": {},
     "output_type": "execute_result"
    }
   ],
   "source": [
    "# accessing nested dictionary\n",
    "nested_dict['person2']\n",
    "nested_dict['person1']\n",
    "nested_dict['person1']['city']\n",
    "nested_dict['person2']['name']"
   ]
  },
  {
   "cell_type": "code",
   "execution_count": 37,
   "id": "d7e31e0a-45db-4a60-b916-cbaaf26f1e42",
   "metadata": {},
   "outputs": [
    {
     "data": {
      "text/plain": [
       "{'name': 'alice', 'age': 20, 'city': 'new york'}"
      ]
     },
     "execution_count": 37,
     "metadata": {},
     "output_type": "execute_result"
    }
   ],
   "source": [
    "nested_dict['person2']\n",
    "nested_dict['person1']"
   ]
  },
  {
   "cell_type": "code",
   "execution_count": 38,
   "id": "89564ee7-5392-4b4a-9b79-0b4f5429f7ab",
   "metadata": {},
   "outputs": [
    {
     "data": {
      "text/plain": [
       "'new york'"
      ]
     },
     "execution_count": 38,
     "metadata": {},
     "output_type": "execute_result"
    }
   ],
   "source": [
    "nested_dict['person1']['city']"
   ]
  },
  {
   "cell_type": "code",
   "execution_count": 39,
   "id": "acad723c-dc77-4de8-bc62-fe56e60811c4",
   "metadata": {},
   "outputs": [
    {
     "data": {
      "text/plain": [
       "{'person1': {'name': 'pooja gowda', 'age': 20, 'city': 'new york'},\n",
       " 'person2': {'name': 'bob', 'age': 21, 'city': 'delhi'}}"
      ]
     },
     "execution_count": 39,
     "metadata": {},
     "output_type": "execute_result"
    }
   ],
   "source": [
    "# modifying elements in a nested dictionary\n",
    "nested_dict['person1']['name']='pooja gowda'\n",
    "nested_dict"
   ]
  },
  {
   "cell_type": "code",
   "execution_count": 40,
   "id": "93970181-0717-45eb-a1d0-e7555578a657",
   "metadata": {},
   "outputs": [
    {
     "data": {
      "text/plain": [
       "{'person1': {'name': 'pooja gowda', 'age': 20, 'city': 'new york'},\n",
       " 'person2': {'name': 'bob', 'age': 21, 'city': 'delhi'},\n",
       " 'person3': {'name': 'diana', 'age': 26, 'city': 'boston'}}"
      ]
     },
     "execution_count": 40,
     "metadata": {},
     "output_type": "execute_result"
    }
   ],
   "source": [
    "#  adding a new dictionary to a nested dictionary\n",
    "nested_dict['person3']={\n",
    "    'name':'diana',\n",
    "    'age':26,\n",
    "    'city':'boston'\n",
    "}\n",
    "nested_dict"
   ]
  },
  {
   "cell_type": "code",
   "execution_count": 41,
   "id": "f6fba791-e9cb-401f-bb78-d76189c4e995",
   "metadata": {},
   "outputs": [
    {
     "data": {
      "text/plain": [
       "{'person1': {'name': 'pooja gowda', 'age': 20, 'city': 'new york'},\n",
       " 'person2': {'name': 'bob', 'age': 21, 'city': 'delhi'},\n",
       " 'person3': {'name': 'diana', 'age': 26, 'city': 'boston'},\n",
       " 'person4': 'yogi'}"
      ]
     },
     "execution_count": 41,
     "metadata": {},
     "output_type": "execute_result"
    }
   ],
   "source": [
    "nested_dict['person4']='yogi'\n",
    "nested_dict"
   ]
  },
  {
   "cell_type": "code",
   "execution_count": null,
   "id": "bab69a9d-c510-41fe-9867-7896e8f2173e",
   "metadata": {},
   "outputs": [],
   "source": [
    "# removing \n",
    "del\n",
    "pop\n",
    "popitem()\n"
   ]
  },
  {
   "cell_type": "code",
   "execution_count": 45,
   "id": "1934f953-6b4d-4891-a18f-6fc8d89557bf",
   "metadata": {},
   "outputs": [
    {
     "data": {
      "text/plain": [
       "{'name': 'alice', 'city': 'new york', 'profession': 'engineer'}"
      ]
     },
     "execution_count": 45,
     "metadata": {},
     "output_type": "execute_result"
    }
   ],
   "source": [
    "# 1.using del\n",
    "my_dict={'name':'alice',\"age\":25,'city':'new york','profession':'engineer'}\n",
    "del my_dict['age']\n",
    "my_dict"
   ]
  },
  {
   "cell_type": "code",
   "execution_count": 46,
   "id": "10301cde-4283-4e47-ae1c-6cff96643407",
   "metadata": {},
   "outputs": [
    {
     "data": {
      "text/plain": [
       "{'name': 'alice', 'city': 'new york'}"
      ]
     },
     "execution_count": 46,
     "metadata": {},
     "output_type": "execute_result"
    }
   ],
   "source": [
    "# 2. using pop() method\n",
    "my_dict.pop('profession')\n",
    "'engineer'\n",
    "my_dict"
   ]
  },
  {
   "cell_type": "code",
   "execution_count": 47,
   "id": "93582f57-e539-4a1c-bf4a-589389cb93ad",
   "metadata": {},
   "outputs": [
    {
     "data": {
      "text/plain": [
       "('city', 'new york')"
      ]
     },
     "execution_count": 47,
     "metadata": {},
     "output_type": "execute_result"
    }
   ],
   "source": [
    "# 3. using pop item()method= removes the last key-value pair from the dictionary\n",
    "my_dict.popitem()"
   ]
  },
  {
   "cell_type": "code",
   "execution_count": 48,
   "id": "67223c74-f431-4eda-980d-d53ca6ae2976",
   "metadata": {},
   "outputs": [
    {
     "data": {
      "text/plain": [
       "('name', 'alice')"
      ]
     },
     "execution_count": 48,
     "metadata": {},
     "output_type": "execute_result"
    }
   ],
   "source": [
    "my_dict.popitem()"
   ]
  },
  {
   "cell_type": "code",
   "execution_count": null,
   "id": "08b4ad04-e572-4564-b96b-2f16608804eb",
   "metadata": {},
   "outputs": [],
   "source": [
    "# membership operator\n",
    "in opearator\n",
    "not in opearator"
   ]
  },
  {
   "cell_type": "code",
   "execution_count": 49,
   "id": "568ec820-b2bc-4882-bd73-f514cef51c8b",
   "metadata": {},
   "outputs": [
    {
     "data": {
      "text/plain": [
       "False"
      ]
     },
     "execution_count": 49,
     "metadata": {},
     "output_type": "execute_result"
    }
   ],
   "source": [
    "# 1. in opearator\n",
    "my_dict={'name':'alice',\"age\":25,'city':'new york','profession':'engineer'}\n",
    "25 in my_dict"
   ]
  },
  {
   "cell_type": "code",
   "execution_count": null,
   "id": "8432d7f9-b164-4bdf-9979-60ce796a79da",
   "metadata": {},
   "outputs": [],
   "source": []
  }
 ],
 "metadata": {
  "kernelspec": {
   "display_name": "Python 3 (ipykernel)",
   "language": "python",
   "name": "python3"
  },
  "language_info": {
   "codemirror_mode": {
    "name": "ipython",
    "version": 3
   },
   "file_extension": ".py",
   "mimetype": "text/x-python",
   "name": "python",
   "nbconvert_exporter": "python",
   "pygments_lexer": "ipython3",
   "version": "3.12.7"
  }
 },
 "nbformat": 4,
 "nbformat_minor": 5
}
