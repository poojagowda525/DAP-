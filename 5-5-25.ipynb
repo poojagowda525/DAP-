{
 "cells": [
  {
   "cell_type": "markdown",
   "id": "be3f4d49-4138-4417-9c45-54948591b8e3",
   "metadata": {},
   "source": [
    "### for loop"
   ]
  },
  {
   "cell_type": "code",
   "execution_count": 1,
   "id": "0c59703f-a41f-4f31-92a7-d5c564370d79",
   "metadata": {},
   "outputs": [
    {
     "data": {
      "text/plain": [
       "3"
      ]
     },
     "execution_count": 1,
     "metadata": {},
     "output_type": "execute_result"
    }
   ],
   "source": [
    "a = [1,2,3,4,5,6]\n",
    "a[2]\n"
   ]
  },
  {
   "cell_type": "code",
   "execution_count": 2,
   "id": "ffb1a91e-bb24-4d65-9c54-cc8e9f2c92c0",
   "metadata": {},
   "outputs": [
    {
     "data": {
      "text/plain": [
       "'l'"
      ]
     },
     "execution_count": 2,
     "metadata": {},
     "output_type": "execute_result"
    }
   ],
   "source": [
    "b = \"hello\"\n",
    "b[3]"
   ]
  },
  {
   "cell_type": "code",
   "execution_count": 3,
   "id": "e0bf21fa-0333-4683-8f64-3d353a9129fd",
   "metadata": {},
   "outputs": [
    {
     "name": "stdout",
     "output_type": "stream",
     "text": [
      "1\n",
      "2\n",
      "3\n",
      "4\n",
      "5\n",
      "6\n"
     ]
    }
   ],
   "source": [
    "a = [1,2,3,4,5,6]\n",
    "for i in a:\n",
    "    print(i)"
   ]
  },
  {
   "cell_type": "markdown",
   "id": "a7fb8786-323e-4755-8a42-e805d3ea5a99",
   "metadata": {},
   "source": [
    "## Sequence?"
   ]
  },
  {
   "cell_type": "code",
   "execution_count": 7,
   "id": "7e635489-fefe-4923-a06e-42aa3e372e80",
   "metadata": {},
   "outputs": [
    {
     "name": "stdout",
     "output_type": "stream",
     "text": [
      "apple\n",
      "banana\n",
      "cherry\n"
     ]
    }
   ],
   "source": [
    " #Iterating Over a List\n",
    "# A list of fruits\n",
    "fruits = ['apple', 'banana', 'cherry']\n",
    "\n",
    "# Using a for loop to iterate over the list\n",
    "for fruit in fruits:\n",
    "  print(fruit)"
   ]
  },
  {
   "cell_type": "code",
   "execution_count": 2,
   "id": "ca17138f-d114-4c9e-90b6-5d479037b327",
   "metadata": {},
   "outputs": [
    {
     "name": "stdout",
     "output_type": "stream",
     "text": [
      "['apple', 'banana', 'orange', 'cherry']\n",
      "['apple', 'banana', 'orange', 'cherry']\n",
      "['apple', 'banana', 'orange', 'cherry']\n",
      "['apple', 'banana', 'orange', 'cherry']\n"
     ]
    }
   ],
   "source": [
    "#list using for loop\n",
    "#ex-1\n",
    "\n",
    "fruites = ['apple', 'banana', 'orange', 'cherry']\n",
    "for fruite in fruites:\n",
    "    print(fruites)"
   ]
  },
  {
   "cell_type": "code",
   "execution_count": 9,
   "id": "dca1ddb7-118c-4715-b932-44a37e589c12",
   "metadata": {},
   "outputs": [
    {
     "name": "stdout",
     "output_type": "stream",
     "text": [
      "h\n",
      "e\n",
      "l\n",
      "l\n",
      "o\n"
     ]
    }
   ],
   "source": [
    "#  iterating over A string\n",
    "word = \"hello\"\n",
    "# Using a for loop to iterate over the string\n",
    "for letter in word:\n",
    "    print(letter)"
   ]
  },
  {
   "cell_type": "code",
   "execution_count": 3,
   "id": "5b4c0bed-a69b-4651-a5ee-f1768675cb67",
   "metadata": {},
   "outputs": [
    {
     "name": "stdout",
     "output_type": "stream",
     "text": [
      "h\n",
      "e\n",
      "l\n",
      "l\n",
      "o\n"
     ]
    }
   ],
   "source": [
    "#ex-2\n",
    "word = \"hello\"\n",
    "for letter in word:\n",
    "    print(letter)"
   ]
  },
  {
   "cell_type": "code",
   "execution_count": 4,
   "id": "eb0e4cd1-7819-4667-9535-2b4f2fa8cca5",
   "metadata": {},
   "outputs": [
    {
     "name": "stdout",
     "output_type": "stream",
     "text": [
      "1\n",
      "4\n",
      "7\n"
     ]
    }
   ],
   "source": [
    "#ex=3\n",
    "for i in range(1,10,3):\n",
    "   print(i)"
   ]
  },
  {
   "cell_type": "code",
   "execution_count": 5,
   "id": "571d3fb2-c7e3-4abb-b536-54da7abff9ac",
   "metadata": {},
   "outputs": [
    {
     "name": "stdout",
     "output_type": "stream",
     "text": [
      "apple\n",
      "banana\n",
      "orange\n",
      "cherry\n",
      "loop is finished\n"
     ]
    }
   ],
   "source": [
    "#ex-4\n",
    "for i in fruites:\n",
    "     print(i)\n",
    "else:\n",
    "     print(\"loop is finished\")\n",
    "    "
   ]
  },
  {
   "cell_type": "code",
   "execution_count": 6,
   "id": "d28f7d13-e812-4652-972e-c5d53a88f1b8",
   "metadata": {},
   "outputs": [
    {
     "name": "stdout",
     "output_type": "stream",
     "text": [
      "1\n",
      "2\n",
      "3\n",
      "4\n",
      "5\n",
      "6\n",
      "7\n",
      "8\n",
      "9\n",
      "loop is finished\n"
     ]
    }
   ],
   "source": [
    "#ex-5\n",
    "for i in a:\n",
    "     print(i)\n",
    "else:\n",
    "     print(\"loop is finished\")\n",
    "    "
   ]
  },
  {
   "cell_type": "code",
   "execution_count": 7,
   "id": "11f31fb0-ed16-424a-8a26-d73e21c5ebc4",
   "metadata": {},
   "outputs": [
    {
     "name": "stdout",
     "output_type": "stream",
     "text": [
      "i=0,j=0\n",
      "i=1,j=0\n",
      "i=2,j=0\n",
      "i=3,j=0\n",
      "i=4,j=0\n",
      "i=5,j=0\n"
     ]
    }
   ],
   "source": [
    "## Using range() with a for Loop\n",
    "\n",
    "for i in range(6):\n",
    " for j in range(1):\n",
    "    print(f\"i={i},j={j}\")\n",
    "    "
   ]
  },
  {
   "cell_type": "code",
   "execution_count": 10,
   "id": "79737883-b73c-4c7e-9ea9-d77f1853049a",
   "metadata": {},
   "outputs": [
    {
     "name": "stdout",
     "output_type": "stream",
     "text": [
      "0\n",
      "1\n",
      "2\n",
      "Loop is finished!\n"
     ]
    }
   ],
   "source": [
    "##Looping with else\n",
    "\n",
    "for i in range(3):\n",
    "    print(i)\n",
    "else:\n",
    "    print(\"Loop is finished!\")\n"
   ]
  },
  {
   "cell_type": "code",
   "execution_count": 11,
   "id": "40eb928a-aed9-4649-9d1b-bc66937ca692",
   "metadata": {},
   "outputs": [
    {
     "name": "stdout",
     "output_type": "stream",
     "text": [
      "i=0, j=0\n",
      "i=0, j=1\n",
      "i=1, j=0\n",
      "i=1, j=1\n",
      "i=2, j=0\n",
      "i=2, j=1\n"
     ]
    }
   ],
   "source": [
    "# Nested for loop to iterate over two sequences\n",
    "for i in range(3):\n",
    "    for j in range(2):\n",
    "        print(f\"i={i}, j={j}\")"
   ]
  },
  {
   "cell_type": "code",
   "execution_count": 12,
   "id": "a1a4d5b6-6a21-4b75-b66e-5c9294e7c109",
   "metadata": {},
   "outputs": [
    {
     "name": "stdout",
     "output_type": "stream",
     "text": [
      "This is outer loop\n",
      "This is inner loop\n",
      "This is inner loop\n",
      "This is inner loop\n",
      "This is outer loop\n",
      "This is inner loop\n",
      "This is inner loop\n",
      "This is inner loop\n",
      "This is outer loop\n",
      "This is inner loop\n",
      "This is inner loop\n",
      "This is inner loop\n"
     ]
    }
   ],
   "source": [
    "for i in range(3):\n",
    "    print(\"This is outer loop\")\n",
    "    for j in range(3):\n",
    "        print(\"This is inner loop\")\n",
    "        "
   ]
  },
  {
   "cell_type": "code",
   "execution_count": 13,
   "id": "40642544-0458-49b3-a9d2-2a056f3e7fe5",
   "metadata": {},
   "outputs": [
    {
     "name": "stdout",
     "output_type": "stream",
     "text": [
      "0\n",
      "This is will be 1st\n",
      "This is second\n",
      "This is third\n",
      "1\n",
      "This is will be 1st\n",
      "This is second\n",
      "This is third\n",
      "2\n",
      "This is will be 1st\n",
      "This is second\n",
      "This is third\n"
     ]
    }
   ],
   "source": [
    "for i in range(3):\n",
    "    print(i)\n",
    "    print(\"This is will be 1st\")\n",
    "    print(\"This is second\")\n",
    "    print(\"This is third\")   "
   ]
  },
  {
   "cell_type": "code",
   "execution_count": 15,
   "id": "8e793787-db6a-4ab9-a916-f8caaaa76807",
   "metadata": {},
   "outputs": [
    {
     "name": "stdout",
     "output_type": "stream",
     "text": [
      "1\n",
      "hello World\n",
      "this is awsome\n",
      "3\n",
      "hello World\n",
      "this is awsome\n",
      "5\n",
      "hello World\n",
      "this is awsome\n",
      "7\n",
      "hello World\n",
      "this is awsome\n",
      "9\n",
      "hello World\n",
      "this is awsome\n"
     ]
    }
   ],
   "source": [
    "# Define a list of numbers\n",
    "numbers = [1, 3, 5, 7, 9]\n",
    "\n",
    "# Iterate through the list and multiply each item by 2\n",
    "for num in numbers:\n",
    "    print(num)\n",
    "    print(\"hello World\")\n",
    "    print(\"this is awsome\")"
   ]
  },
  {
   "cell_type": "code",
   "execution_count": 16,
   "id": "b00b909c-9dd2-479d-8c42-d7e448099005",
   "metadata": {},
   "outputs": [
    {
     "name": "stdout",
     "output_type": "stream",
     "text": [
      "Hello World."
     ]
    }
   ],
   "source": [
    "st = \"Hello World.\"\n",
    "for i in st:\n",
    "    print(i, end=\"\")\n"
   ]
  },
  {
   "cell_type": "code",
   "execution_count": 17,
   "id": "33f16261-f7e6-465d-920a-136aec1f2fd0",
   "metadata": {},
   "outputs": [
    {
     "name": "stdout",
     "output_type": "stream",
     "text": [
      "1\n",
      "4\n",
      "7\n"
     ]
    }
   ],
   "source": [
    "# using loop with range\n",
    "for i in range(1,10,3):\n",
    "    print(i)                    #look at the iteration"
   ]
  },
  {
   "cell_type": "code",
   "execution_count": 18,
   "id": "fccc01ac-291f-4fac-8f4d-9668d0f48bbd",
   "metadata": {},
   "outputs": [
    {
     "name": "stdout",
     "output_type": "stream",
     "text": [
      "1\n",
      "3\n",
      "5\n"
     ]
    }
   ],
   "source": [
    "a = range(1,10,2)\n",
    "print(a[0])\n",
    "print(a[1])\n",
    "print(a[2])"
   ]
  },
  {
   "cell_type": "code",
   "execution_count": 19,
   "id": "9b50956b-b16a-418f-a9bd-d6556ccfc7e0",
   "metadata": {},
   "outputs": [
    {
     "name": "stdout",
     "output_type": "stream",
     "text": [
      "1\n",
      "2\n",
      "3\n",
      "4\n"
     ]
    }
   ],
   "source": [
    "for i in range(1,5):         \n",
    "    print(i)"
   ]
  },
  {
   "cell_type": "code",
   "execution_count": 20,
   "id": "83f12262-cbfa-430d-8bee-ef15feeebd8a",
   "metadata": {},
   "outputs": [
    {
     "name": "stdout",
     "output_type": "stream",
     "text": [
      "1\n",
      "2\n",
      "3\n",
      "4\n"
     ]
    }
   ],
   "source": [
    "for i in range(1,5):        \n",
    "    print(i)"
   ]
  },
  {
   "cell_type": "code",
   "execution_count": 21,
   "id": "cc038fe0-e700-4217-833a-adcaa0f7fd24",
   "metadata": {},
   "outputs": [
    {
     "data": {
      "text/plain": [
       "1"
      ]
     },
     "execution_count": 21,
     "metadata": {},
     "output_type": "execute_result"
    }
   ],
   "source": [
    "## For loop with index\n",
    "a = [1,2,3,4]\n",
    "a[0]"
   ]
  },
  {
   "cell_type": "code",
   "execution_count": 22,
   "id": "ea15ea8e-c5ce-4141-b629-edc9af7ef3d6",
   "metadata": {},
   "outputs": [
    {
     "name": "stdout",
     "output_type": "stream",
     "text": [
      "0 = H\n",
      "1 = e\n",
      "2 = l\n",
      "3 = l\n",
      "4 = o\n"
     ]
    }
   ],
   "source": [
    "st = \"Hello\"\n",
    "n = len(st)\n",
    "for i in range(n):\n",
    "    print(i, \"=\",st[i]) "
   ]
  },
  {
   "cell_type": "code",
   "execution_count": 23,
   "id": "6d16ce56-f302-4330-9741-08a48cc87b9c",
   "metadata": {},
   "outputs": [
    {
     "name": "stdout",
     "output_type": "stream",
     "text": [
      "0 = H\n",
      "1 = e\n",
      "2 = l\n",
      "3 = l\n",
      "4 = o\n",
      "Rest of the Code\n"
     ]
    }
   ],
   "source": [
    "st = \"Hello\"              \n",
    "n = len(st)                \n",
    "for i in range(n):         \n",
    "\tprint(i, \"=\", st[i])\n",
    "\n",
    "print(\"Rest of the Code\")"
   ]
  },
  {
   "cell_type": "code",
   "execution_count": 24,
   "id": "4bd97920-95c8-4fa3-b5f8-e429326ef16e",
   "metadata": {},
   "outputs": [
    {
     "name": "stdout",
     "output_type": "stream",
     "text": [
      "h\n",
      "e\n",
      "l\n",
      "l\n",
      "o\n",
      "Else Part Executed\n"
     ]
    }
   ],
   "source": [
    "# For Loop with Else\n",
    "st = \"hello\"\n",
    "for ch in st:\n",
    "\tprint(ch)\n",
    "else:                             \n",
    "\tprint(\"Else Part Executed\")\n"
   ]
  },
  {
   "cell_type": "code",
   "execution_count": 25,
   "id": "5b78234c-5dff-49d7-abfe-eb452851aff9",
   "metadata": {},
   "outputs": [
    {
     "name": "stdout",
     "output_type": "stream",
     "text": [
      "Outer Loop 0\n",
      "Inner Loop 0\n",
      "Inner Loop 1\n",
      "Inner Loop 2\n",
      "Inner Loop 3\n",
      "Inner Loop 4\n",
      "Outer Loop 1\n",
      "Inner Loop 0\n",
      "Inner Loop 1\n",
      "Inner Loop 2\n",
      "Inner Loop 3\n",
      "Inner Loop 4\n",
      "Outer Loop 2\n",
      "Inner Loop 0\n",
      "Inner Loop 1\n",
      "Inner Loop 2\n",
      "Inner Loop 3\n",
      "Inner Loop 4\n",
      "Outer Loop 3\n",
      "Inner Loop 0\n",
      "Inner Loop 1\n",
      "Inner Loop 2\n",
      "Inner Loop 3\n",
      "Inner Loop 4\n"
     ]
    }
   ],
   "source": [
    "for i in range(4):               #first outer loop will run only once  and it will go inside the inner loop finishes all the\n",
    "\t\tprint(\"Outer Loop\", i)     #iteration of inner loop then goes back to outer loop then run once and again goes inside\n",
    "\t\tfor j in range(5):        #of inner loop and runs all the iteration son on and so forth\n",
    "\t\t\tprint(\"Inner Loop\", j)\n"
   ]
  },
  {
   "cell_type": "code",
   "execution_count": 26,
   "id": "94e61247-607d-4534-9480-1bd8cc21e6da",
   "metadata": {},
   "outputs": [
    {
     "name": "stdout",
     "output_type": "stream",
     "text": [
      "Outer Loop 0\n",
      "Inner Loop 0\n",
      "Inner Loop 1\n",
      "Inner Loop 2\n",
      "Inner Loop 3\n",
      "Inner Loop 4\n",
      "Outer Loop 1\n",
      "Inner Loop 0\n",
      "Inner Loop 1\n",
      "Inner Loop 2\n",
      "Inner Loop 3\n",
      "Inner Loop 4\n",
      "Outer Loop 2\n",
      "Inner Loop 0\n",
      "Inner Loop 1\n",
      "Inner Loop 2\n",
      "Inner Loop 3\n",
      "Inner Loop 4\n",
      "Outer Loop 3\n",
      "Inner Loop 0\n",
      "Inner Loop 1\n",
      "Inner Loop 2\n",
      "Inner Loop 3\n",
      "Inner Loop 4\n",
      "Rest of the Code\n"
     ]
    }
   ],
   "source": [
    "for i in range(4):               #first outer loop will run only once  and it will go inside the inner loop finishes all the\n",
    "\t\tprint(\"Outer Loop\", i)     #iteration of inner loop then goes back to outer loop then run once and again goes inside\n",
    "\t\tfor j in range(5):        #of inner loop and runs all the iteration son on and so forth\n",
    "\t\t\tprint(\"Inner Loop\", j)\n",
    "print(\"Rest of the Code\")\n",
    "\n"
   ]
  },
  {
   "cell_type": "markdown",
   "id": "238c005b-2b7c-483d-847c-084e20eb7bc2",
   "metadata": {},
   "source": [
    "### break "
   ]
  },
  {
   "cell_type": "code",
   "execution_count": 14,
   "id": "f4893e7e-7e43-4d4f-a7e2-7c0e2c9cbf28",
   "metadata": {},
   "outputs": [
    {
     "name": "stdout",
     "output_type": "stream",
     "text": [
      "0\n",
      "1\n",
      "2\n",
      "3\n",
      "4\n"
     ]
    }
   ],
   "source": [
    "#break statemennts\n",
    "for number in range(10):\n",
    " if number == 5:\n",
    "   break\n",
    " print(number)   "
   ]
  },
  {
   "cell_type": "code",
   "execution_count": 27,
   "id": "9ab6bd98-989c-454a-a82c-6aede08657fc",
   "metadata": {},
   "outputs": [
    {
     "name": "stdout",
     "output_type": "stream",
     "text": [
      "0\n",
      "1\n",
      "2\n",
      "3\n",
      "4\n"
     ]
    }
   ],
   "source": [
    "# Example of break in a for loop\n",
    "for number in range(10):\n",
    "    if number == 5:\n",
    "        break     # Exit the loop when number equals 5\n",
    "    print(number)"
   ]
  },
  {
   "cell_type": "markdown",
   "id": "896e666f-9c2a-43e5-955c-a79fee244994",
   "metadata": {},
   "source": [
    "## continue"
   ]
  },
  {
   "cell_type": "code",
   "execution_count": 35,
   "id": "414b0d08-66cc-41e8-8922-5e63ca2daf96",
   "metadata": {},
   "outputs": [
    {
     "name": "stdout",
     "output_type": "stream",
     "text": [
      "0\n",
      "1\n",
      "2\n",
      "4\n"
     ]
    }
   ],
   "source": [
    "#continue statements\n",
    "for number in range(5):\n",
    " if number == 3:\n",
    "    continue\n",
    " print(number)"
   ]
  },
  {
   "cell_type": "code",
   "execution_count": 31,
   "id": "afcdbc76-9209-47e7-8ebc-522298dd6721",
   "metadata": {},
   "outputs": [
    {
     "name": "stdout",
     "output_type": "stream",
     "text": [
      "0\n",
      "1\n",
      "3\n",
      "4\n"
     ]
    }
   ],
   "source": [
    "for number in range(5):\n",
    "    if number == 2:\n",
    "        continue  \n",
    "    print(number)"
   ]
  },
  {
   "cell_type": "code",
   "execution_count": null,
   "id": "0d7e7a9b-bca2-42ad-a21b-2b66c9d61bb7",
   "metadata": {},
   "outputs": [],
   "source": []
  }
 ],
 "metadata": {
  "kernelspec": {
   "display_name": "Python 3 (ipykernel)",
   "language": "python",
   "name": "python3"
  },
  "language_info": {
   "codemirror_mode": {
    "name": "ipython",
    "version": 3
   },
   "file_extension": ".py",
   "mimetype": "text/x-python",
   "name": "python",
   "nbconvert_exporter": "python",
   "pygments_lexer": "ipython3",
   "version": "3.12.7"
  }
 },
 "nbformat": 4,
 "nbformat_minor": 5
}
