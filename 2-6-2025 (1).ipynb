{
 "cells": [
  {
   "cell_type": "markdown",
   "id": "7987723a-f116-4821-887b-e9592d5f53ad",
   "metadata": {},
   "source": [
    "### statistical functions and input and output operations\n"
   ]
  },
  {
   "cell_type": "code",
   "execution_count": 29,
   "id": "6188b822-9dd2-4332-98fd-2f77c34f10a8",
   "metadata": {},
   "outputs": [
    {
     "data": {
      "text/plain": [
       "1130.875"
      ]
     },
     "execution_count": 29,
     "metadata": {},
     "output_type": "execute_result"
    }
   ],
   "source": [
    "# -1000, -6, -1, 0, 1, 3, 50, 10000 -----> skewed data\n",
    "\n",
    "x = np.array([-1000, -6, -1, 0, 1, 3, 50, 10000])\n",
    "np.mean(x)"
   ]
  },
  {
   "cell_type": "code",
   "execution_count": 12,
   "id": "6c706f29-aaa1-4fc7-8036-e9ae68264cbb",
   "metadata": {},
   "outputs": [
    {
     "name": "stdout",
     "output_type": "stream",
     "text": [
      "mean temperature: 40.0\n"
     ]
    }
   ],
   "source": [
    "## mean ()\n",
    "import numpy as np\n",
    "\n",
    "temperature = np.array([57,68,57,5,58,6,60,9])\n",
    "average_temperature = np.mean(temperature)\n",
    "print(\"mean temperature:\", average_temperature)"
   ]
  },
  {
   "cell_type": "code",
   "execution_count": 10,
   "id": "f4a9a6b2-531a-4d95-9111-6c75a18ebb79",
   "metadata": {},
   "outputs": [
    {
     "name": "stdout",
     "output_type": "stream",
     "text": [
      "median incomes: 650000.0\n"
     ]
    }
   ],
   "source": [
    "## np.median() - median\n",
    "import numpy as np\n",
    "\n",
    "incomes = np.array([45000,550000,60000,650000, 700000, 8000000, 900000])\n",
    "median_incomes = np.median(incomes)\n",
    "print(\"median incomes:\", median_incomes)"
   ]
  },
  {
   "cell_type": "code",
   "execution_count": 11,
   "id": "91597d23-3d5a-4500-a211-401049da1ac4",
   "metadata": {},
   "outputs": [
    {
     "name": "stdout",
     "output_type": "stream",
     "text": [
      "median numbers: 60.0\n"
     ]
    }
   ],
   "source": [
    "numbers = np.array([57,68,47,60,57,578,57,579,68])\n",
    "median_numbers = np.median(numbers)\n",
    "print(\"median numbers:\", median_numbers)"
   ]
  },
  {
   "cell_type": "markdown",
   "id": "ed57fafb-0407-4056-bc30-ce44e04bf8af",
   "metadata": {},
   "source": [
    "#### standard diveation"
   ]
  },
  {
   "cell_type": "code",
   "execution_count": 17,
   "id": "175bd8c0-f7ba-4200-a48e-7dfe74741857",
   "metadata": {},
   "outputs": [],
   "source": [
    "## formulas of standard deviation and variance\n",
    "\n",
    "\n",
    "# standard deviation\n",
    "classA = np.array([85,77,88,89,79,67])\n",
    "classB = np.array([86,89,90,69,69,26])\n"
   ]
  },
  {
   "cell_type": "code",
   "execution_count": 18,
   "id": "943836eb-b698-4710-aa6e-4cb2d44be628",
   "metadata": {},
   "outputs": [
    {
     "data": {
      "text/plain": [
       "7.581043610362773"
      ]
     },
     "execution_count": 18,
     "metadata": {},
     "output_type": "execute_result"
    }
   ],
   "source": [
    "np.std(classA)"
   ]
  },
  {
   "cell_type": "code",
   "execution_count": 19,
   "id": "f8fa4c29-445d-45b7-a997-07f12dc3a9bb",
   "metadata": {},
   "outputs": [
    {
     "data": {
      "text/plain": [
       "22.14158982548453"
      ]
     },
     "execution_count": 19,
     "metadata": {},
     "output_type": "execute_result"
    }
   ],
   "source": [
    "np.std(classB)"
   ]
  },
  {
   "cell_type": "code",
   "execution_count": 20,
   "id": "978cc6ad-6bc3-4c3b-ba7a-a3ae2b98a2c7",
   "metadata": {},
   "outputs": [],
   "source": [
    "classA = np.array([85, 88, 90, 92, 95])\n",
    "classB = np.array([70, 80, 85, 95, 100])\n"
   ]
  },
  {
   "cell_type": "code",
   "execution_count": 21,
   "id": "20f6dcc5-d8ce-4f6b-9dd1-372631481e9d",
   "metadata": {},
   "outputs": [
    {
     "data": {
      "text/plain": [
       "3.40587727318528"
      ]
     },
     "execution_count": 21,
     "metadata": {},
     "output_type": "execute_result"
    }
   ],
   "source": [
    "np.std(classA)"
   ]
  },
  {
   "cell_type": "code",
   "execution_count": 22,
   "id": "5af32261-3bf1-4db3-80d5-df90e80c9082",
   "metadata": {},
   "outputs": [
    {
     "data": {
      "text/plain": [
       "10.677078252031311"
      ]
     },
     "execution_count": 22,
     "metadata": {},
     "output_type": "execute_result"
    }
   ],
   "source": [
    "np.std(classB)"
   ]
  },
  {
   "cell_type": "code",
   "execution_count": 23,
   "id": "3b3b5c6a-fd0d-42c0-8cd6-d5d8140de154",
   "metadata": {},
   "outputs": [
    {
     "data": {
      "text/plain": [
       "90.0"
      ]
     },
     "execution_count": 23,
     "metadata": {},
     "output_type": "execute_result"
    }
   ],
   "source": [
    "## mean\n",
    "np.mean(classA)"
   ]
  },
  {
   "cell_type": "code",
   "execution_count": 24,
   "id": "15978fc2-12cc-49fd-a583-023f1b0f7b2d",
   "metadata": {},
   "outputs": [
    {
     "data": {
      "text/plain": [
       "86.0"
      ]
     },
     "execution_count": 24,
     "metadata": {},
     "output_type": "execute_result"
    }
   ],
   "source": [
    "np.mean(classB)"
   ]
  },
  {
   "cell_type": "code",
   "execution_count": 25,
   "id": "ec8f88f3-5665-47ba-99db-3788db5b6ca5",
   "metadata": {},
   "outputs": [
    {
     "data": {
      "text/plain": [
       "90.0"
      ]
     },
     "execution_count": 25,
     "metadata": {},
     "output_type": "execute_result"
    }
   ],
   "source": [
    "### meadian\n",
    "np.median(classA)"
   ]
  },
  {
   "cell_type": "code",
   "execution_count": 26,
   "id": "68b01a39-fc7a-4021-89f2-429533c73b66",
   "metadata": {},
   "outputs": [
    {
     "data": {
      "text/plain": [
       "85.0"
      ]
     },
     "execution_count": 26,
     "metadata": {},
     "output_type": "execute_result"
    }
   ],
   "source": [
    "np.median(classB)"
   ]
  },
  {
   "cell_type": "markdown",
   "id": "e5a08e4d-bb3e-4ed8-abf7-bc3dd6afb50a",
   "metadata": {},
   "source": [
    "##### variance"
   ]
  },
  {
   "cell_type": "code",
   "execution_count": 30,
   "id": "dd07f709-8ce1-4f05-89e9-e33340a58e3d",
   "metadata": {},
   "outputs": [],
   "source": [
    "## square of standard deviation \n",
    "# it measures how much spread from the mean\n",
    "prd_a = np.array([4, 3])\n",
    "prd_b = np.array([2, 8])"
   ]
  },
  {
   "cell_type": "code",
   "execution_count": 31,
   "id": "2749f617-28bf-4ae3-8fab-307972cc4a2d",
   "metadata": {},
   "outputs": [
    {
     "data": {
      "text/plain": [
       "0.25"
      ]
     },
     "execution_count": 31,
     "metadata": {},
     "output_type": "execute_result"
    }
   ],
   "source": [
    "np.var(prd_a)"
   ]
  },
  {
   "cell_type": "code",
   "execution_count": 32,
   "id": "e1ab9b4f-0d14-4ecd-911f-31ce4a7bbbdf",
   "metadata": {},
   "outputs": [
    {
     "data": {
      "text/plain": [
       "9.0"
      ]
     },
     "execution_count": 32,
     "metadata": {},
     "output_type": "execute_result"
    }
   ],
   "source": [
    "np.var(prd_b)"
   ]
  },
  {
   "cell_type": "code",
   "execution_count": 33,
   "id": "c19c3195-f190-4d2c-a630-96942980a766",
   "metadata": {},
   "outputs": [],
   "source": [
    "birth_p = np.array([ 5, 2])\n",
    "birth_t = np.array([16, 5])"
   ]
  },
  {
   "cell_type": "code",
   "execution_count": 34,
   "id": "9fc6b6f5-d0b2-4512-919d-e4aa366f3f2c",
   "metadata": {},
   "outputs": [
    {
     "data": {
      "text/plain": [
       "2.25"
      ]
     },
     "execution_count": 34,
     "metadata": {},
     "output_type": "execute_result"
    }
   ],
   "source": [
    "np.var(birth_p)"
   ]
  },
  {
   "cell_type": "code",
   "execution_count": 35,
   "id": "8c5bab18-d1e9-4e54-894b-53e25c444e5f",
   "metadata": {},
   "outputs": [
    {
     "data": {
      "text/plain": [
       "30.25"
      ]
     },
     "execution_count": 35,
     "metadata": {},
     "output_type": "execute_result"
    }
   ],
   "source": [
    "np.var(birth_t)"
   ]
  },
  {
   "cell_type": "markdown",
   "id": "418311da-af23-4fc2-9ec6-9d8838ebcb3d",
   "metadata": {},
   "source": [
    "##### min and max"
   ]
  },
  {
   "cell_type": "code",
   "execution_count": 37,
   "id": "abff5baf-4999-48e2-8d8a-a2d8d280c219",
   "metadata": {},
   "outputs": [
    {
     "name": "stdout",
     "output_type": "stream",
     "text": [
      "minimn traffic: 1200\n",
      "maximum traffic: 1800\n"
     ]
    }
   ],
   "source": [
    "daily_traffic = np.array([1200, 1350, 1480, 1650, 1800, 1550, 1680])\n",
    "print(\"minimn traffic:\", np.min(daily_traffic))\n",
    "print(\"maximum traffic:\", np.max(daily_traffic))\n",
    "            "
   ]
  },
  {
   "cell_type": "code",
   "execution_count": 38,
   "id": "4374c66d-6271-45fe-a7ce-92d2e429a7bc",
   "metadata": {},
   "outputs": [
    {
     "name": "stdout",
     "output_type": "stream",
     "text": [
      "minimn marks scored is: 7\n",
      "maximum marks scored is: 902\n"
     ]
    }
   ],
   "source": [
    "marks_scores = np.array([39,793,26,739,48,7,902,683,334])\n",
    "print(\"minimn marks scored is:\", np.min(marks_scores))\n",
    "print(\"maximum marks scored is:\", np.max(marks_scores))\n",
    "            "
   ]
  },
  {
   "cell_type": "markdown",
   "id": "c2c914a6-ac69-418a-a363-b7bca35746fc",
   "metadata": {},
   "source": [
    "#### np.sum() summation"
   ]
  },
  {
   "cell_type": "code",
   "execution_count": 40,
   "id": "52000d6d-e7ec-4ba4-b035-f46fa227b8c5",
   "metadata": {},
   "outputs": [
    {
     "name": "stdout",
     "output_type": "stream",
     "text": [
      "total sales is: 46100\n"
     ]
    }
   ],
   "source": [
    "sales = np.array([5500, 4800, 7200, 6800, 7500, 8100, 6200])\n",
    "total_sales = np.sum(sales)\n",
    "print(\"total weekly sales is:\", total_sales)"
   ]
  },
  {
   "cell_type": "markdown",
   "id": "e9b44106-b792-4757-9a47-86d6c2f6615e",
   "metadata": {},
   "source": [
    "## np.percentaile() - percentiles\n",
    "\n",
    "###### percentile diveds a dataset into 1000 equal parts"
   ]
  },
  {
   "cell_type": "code",
   "execution_count": 57,
   "id": "7328b4e4-c1e7-42fa-b5b1-f5f79e2a4d9f",
   "metadata": {},
   "outputs": [
    {
     "name": "stdout",
     "output_type": "stream",
     "text": [
      "25th percentile: 46.5\n",
      "50th percentile (median): 89.0\n",
      "75th percentile: 472.5\n",
      "4th percentile: 24.44\n"
     ]
    }
   ],
   "source": [
    "\n",
    "test_scores = np.array([\n",
    "    46,68,68,57,589,57,234,479,135,357,477,357,3567,368,4790,23,36,\n",
    "    69,46,36,377,489,120,13,27,89,900,59,469,48,47,45,478,37,476\n",
    "])\n",
    "print(\"25th percentile:\", np.percentile(test_scores, 25))\n",
    "print(\"50th percentile (median):\", np.percentile(test_scores, 50))\n",
    "print(\"75th percentile:\", np.percentile(test_scores, 75))\n",
    "print(\"4th percentile:\", np.percentile(test_scores, 4))"
   ]
  },
  {
   "cell_type": "code",
   "execution_count": 58,
   "id": "f0d11b87-67c2-451e-b942-c3577d83d75b",
   "metadata": {},
   "outputs": [
    {
     "name": "stdout",
     "output_type": "stream",
     "text": [
      "25th percentile: 95.25\n",
      "50th percentile (median): 109.0\n",
      "75th percentile: 123.5\n",
      "4th percentile: 75.8\n"
     ]
    }
   ],
   "source": [
    "test_scores = np.array([\n",
    "    65, 75, 80, 85, 90, 92, 94, 95, 96, 98, 100, 102, 104, 106, 108,\n",
    "    110, 112, 114, 116, 118, 120, 122, 124, 126, 128, 130, 132, 134, 136, 138\n",
    "])\n",
    "print(\"25th percentile:\", np.percentile(test_scores, 25))\n",
    "print(\"50th percentile (median):\", np.percentile(test_scores, 50))\n",
    "print(\"75th percentile:\", np.percentile(test_scores, 75))\n",
    "print(\"4th percentile:\", np.percentile(test_scores, 4))"
   ]
  },
  {
   "cell_type": "markdown",
   "id": "71abf694-91ac-4477-ae86-fcce77970c92",
   "metadata": {},
   "source": [
    "#### numpy I/O functions\n",
    "#### binary formate - .np files"
   ]
  },
  {
   "cell_type": "code",
   "execution_count": 62,
   "id": "7e9f034a-a832-4281-aa40-56dfa4bcd7c3",
   "metadata": {},
   "outputs": [],
   "source": [
    "import numpy as np\n",
    "arr = np.array([34,6,47,47,56])\n",
    "np.save('my_array.npy',arr)"
   ]
  },
  {
   "cell_type": "markdown",
   "id": "f135dc6c-0506-4cc1-bf07-4d595f37dbf8",
   "metadata": {},
   "source": [
    "###### this creates a file calles my_array.np that stores the array in a compressed, efficent binary format."
   ]
  },
  {
   "cell_type": "markdown",
   "id": "e1f63fbc-c39e-45a4-945c-786f170caf49",
   "metadata": {},
   "source": [
    "#### np.loas() - load .npy file back into python"
   ]
  },
  {
   "cell_type": "code",
   "execution_count": 63,
   "id": "ec772876-b0e9-4a0a-920d-682b1f44c3c4",
   "metadata": {},
   "outputs": [
    {
     "name": "stdout",
     "output_type": "stream",
     "text": [
      "[34  6 47 47 56]\n"
     ]
    }
   ],
   "source": [
    "loaded_arr = np.load('my_array.npy')\n",
    "print(loaded_arr)"
   ]
  },
  {
   "cell_type": "markdown",
   "id": "679b2b02-3a30-4060-9e00-5ba61b4d78ef",
   "metadata": {},
   "source": [
    "### text format -- .txt or csv files\n"
   ]
  },
  {
   "cell_type": "markdown",
   "id": "ba615e09-d5ad-4907-b5dc-72ffc63195ea",
   "metadata": {},
   "source": [
    "##### np.savetxt() - save to a human- readable text file"
   ]
  },
  {
   "cell_type": "code",
   "execution_count": 65,
   "id": "58181ba6-5d8c-486a-b060-05a80ee900bc",
   "metadata": {},
   "outputs": [],
   "source": [
    "arr = np.array([[1, 2, 3 ], [4, 5, 6]])\n",
    "np.savetxt('arry.txt', arr)"
   ]
  },
  {
   "cell_type": "code",
   "execution_count": null,
   "id": "6724b864-2cc9-46c2-a4c4-9c0d31965a22",
   "metadata": {},
   "outputs": [],
   "source": [
    "## this saves the array in text file with each value connected by 0.00000 default and new line "
   ]
  }
 ],
 "metadata": {
  "kernelspec": {
   "display_name": "Python 3 (ipykernel)",
   "language": "python",
   "name": "python3"
  },
  "language_info": {
   "codemirror_mode": {
    "name": "ipython",
    "version": 3
   },
   "file_extension": ".py",
   "mimetype": "text/x-python",
   "name": "python",
   "nbconvert_exporter": "python",
   "pygments_lexer": "ipython3",
   "version": "3.12.7"
  }
 },
 "nbformat": 4,
 "nbformat_minor": 5
}
