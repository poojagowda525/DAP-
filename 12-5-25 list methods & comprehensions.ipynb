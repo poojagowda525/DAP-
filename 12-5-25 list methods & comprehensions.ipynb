{
 "cells": [
  {
   "cell_type": "markdown",
   "id": "d8a8afde-686f-4f02-aa35-e48af5fea257",
   "metadata": {},
   "source": [
    "## list methods"
   ]
  },
  {
   "cell_type": "code",
   "execution_count": 5,
   "id": "fc432ff8-eb2f-4979-bc1c-a58c05e8ad25",
   "metadata": {},
   "outputs": [],
   "source": [
    "fruits = ['apple', 'banana']"
   ]
  },
  {
   "cell_type": "code",
   "execution_count": 6,
   "id": "f3e9c7c9-e524-4cf4-a6bf-d2b49a7e0e19",
   "metadata": {},
   "outputs": [],
   "source": [
    "fruits.append(\"orange\")"
   ]
  },
  {
   "cell_type": "raw",
   "id": "fe3b07ef-2838-4e44-b002-8fa38bac05e3",
   "metadata": {},
   "source": [
    "fruits"
   ]
  },
  {
   "cell_type": "code",
   "execution_count": null,
   "id": "66f32744-72e1-41bf-b3c9-82f76e9175e8",
   "metadata": {},
   "outputs": [],
   "source": [
    "##### extend(iterable)"
   ]
  },
  {
   "cell_type": "code",
   "execution_count": 7,
   "id": "ba99d35e-3d99-4b50-88ba-00c64230c1f7",
   "metadata": {},
   "outputs": [
    {
     "data": {
      "text/plain": [
       "['apple', 'banana', 1, 23, 56, 8, 9]"
      ]
     },
     "execution_count": 7,
     "metadata": {},
     "output_type": "execute_result"
    }
   ],
   "source": [
    "fruits = ['apple', 'banana']\n",
    "fruits.extend([1,23,56,8,9])\n",
    "fruits"
   ]
  },
  {
   "cell_type": "code",
   "execution_count": 8,
   "id": "91da892f-8948-43f8-b1fd-d96cc4862b10",
   "metadata": {},
   "outputs": [
    {
     "data": {
      "text/plain": [
       "['apple', 'banana', 1, 23, 56, 8, 9, 'h', 'e', 'l', 'l', 'o']"
      ]
     },
     "execution_count": 8,
     "metadata": {},
     "output_type": "execute_result"
    }
   ],
   "source": [
    "fruits.extend(\"hello\")\n",
    "fruits"
   ]
  },
  {
   "cell_type": "code",
   "execution_count": 9,
   "id": "c999c035-827e-4666-bfb4-b823cae2b54d",
   "metadata": {},
   "outputs": [
    {
     "data": {
      "text/plain": [
       "['apple',\n",
       " 'banana',\n",
       " 1,\n",
       " 23,\n",
       " 56,\n",
       " 8,\n",
       " 9,\n",
       " 'h',\n",
       " 'e',\n",
       " 'l',\n",
       " 'l',\n",
       " 'o',\n",
       " 'cherry',\n",
       " 'mangoes']"
      ]
     },
     "execution_count": 9,
     "metadata": {},
     "output_type": "execute_result"
    }
   ],
   "source": [
    "fruits.extend([\"cherry\",\"mangoes\"])\n",
    "fruits"
   ]
  },
  {
   "cell_type": "code",
   "execution_count": 10,
   "id": "f2a47dc6-8cf0-49b6-9ed9-eb75be0c4218",
   "metadata": {},
   "outputs": [
    {
     "data": {
      "text/plain": [
       "['apple', 'banana', 60, 'banana']"
      ]
     },
     "execution_count": 10,
     "metadata": {},
     "output_type": "execute_result"
    }
   ],
   "source": [
    "## insert(index, item)\n",
    "fruits = ['apple', 'banana','banana']\n",
    "fruits.insert(2,60)\n",
    "fruits"
   ]
  },
  {
   "cell_type": "code",
   "execution_count": 11,
   "id": "d4d4efc1-7f62-4dcc-83ee-89d32f8c10ea",
   "metadata": {},
   "outputs": [
    {
     "data": {
      "text/plain": [
       "['apple', 'cherry', 'banana']"
      ]
     },
     "execution_count": 11,
     "metadata": {},
     "output_type": "execute_result"
    }
   ],
   "source": [
    "## remove(item)\n",
    "\n",
    "fruits = ['apple', 'banana', 'cherry',\"banana\"]\n",
    "fruits.remove('banana')\n",
    "fruits"
   ]
  },
  {
   "cell_type": "code",
   "execution_count": 12,
   "id": "808e3014-4340-40fe-a4d9-1737b266ec28",
   "metadata": {},
   "outputs": [
    {
     "data": {
      "text/plain": [
       "['apple', 'banana']"
      ]
     },
     "execution_count": 12,
     "metadata": {},
     "output_type": "execute_result"
    }
   ],
   "source": [
    "### pop(index=-1)\n",
    "\n",
    "fruits = ['apple', 'banana', 'cherry']\n",
    "fruits.pop()\n",
    "fruits"
   ]
  },
  {
   "cell_type": "code",
   "execution_count": 13,
   "id": "e9f504a4-d3bc-4e90-98ed-fa958c3a6c88",
   "metadata": {},
   "outputs": [
    {
     "data": {
      "text/plain": [
       "'apple'"
      ]
     },
     "execution_count": 13,
     "metadata": {},
     "output_type": "execute_result"
    }
   ],
   "source": [
    "fruits.pop(0)"
   ]
  },
  {
   "cell_type": "code",
   "execution_count": 14,
   "id": "20cc4cdb-ccb5-4ebd-a0a7-c1bd6464af02",
   "metadata": {},
   "outputs": [
    {
     "data": {
      "text/plain": [
       "'banana'"
      ]
     },
     "execution_count": 14,
     "metadata": {},
     "output_type": "execute_result"
    }
   ],
   "source": [
    "fruits.pop()"
   ]
  },
  {
   "cell_type": "code",
   "execution_count": 17,
   "id": "56b389f1-2d6f-4c76-9983-4698393da867",
   "metadata": {},
   "outputs": [
    {
     "data": {
      "text/plain": [
       "[]"
      ]
     },
     "execution_count": 17,
     "metadata": {},
     "output_type": "execute_result"
    }
   ],
   "source": [
    "## clear()\n",
    "fruits = ['apple', 'banana', 'cherry']\n",
    "fruits.clear()\n",
    "fruits"
   ]
  },
  {
   "cell_type": "code",
   "execution_count": 18,
   "id": "7a294b53-f715-47ed-b4b7-e7d39208dc0f",
   "metadata": {},
   "outputs": [
    {
     "data": {
      "text/plain": [
       "['apple', 'cherry', 'banana', 'cherry', 'cherry']"
      ]
     },
     "execution_count": 18,
     "metadata": {},
     "output_type": "execute_result"
    }
   ],
   "source": [
    "#### index(item, start=0, end=len(list))\n",
    "fruits = ['apple','cherry', 'banana', 'cherry','cherry']\n",
    "fruits.index('cherry')\n",
    "fruits"
   ]
  },
  {
   "cell_type": "code",
   "execution_count": 19,
   "id": "bb496504-4b72-400e-8733-1a27558ef28b",
   "metadata": {},
   "outputs": [
    {
     "data": {
      "text/plain": [
       "2"
      ]
     },
     "execution_count": 19,
     "metadata": {},
     "output_type": "execute_result"
    }
   ],
   "source": [
    "## count(item)\n",
    "fruits = ['apple', 'banana', 'cherry', 'banana']\n",
    "fruits.count(\"banana\")"
   ]
  },
  {
   "cell_type": "code",
   "execution_count": 20,
   "id": "f3868067-7e62-44fe-8868-ac4ceea7bd74",
   "metadata": {},
   "outputs": [
    {
     "data": {
      "text/plain": [
       "[1, 1, 3, 4, 5, 9]"
      ]
     },
     "execution_count": 20,
     "metadata": {},
     "output_type": "execute_result"
    }
   ],
   "source": [
    "### sort(key=None, reverse=False)\n",
    "numbers = [3, 1, 4, 1, 5, 9]\n",
    "numbers.sort()\n",
    "numbers"
   ]
  },
  {
   "cell_type": "code",
   "execution_count": 21,
   "id": "eef192df-a6aa-4721-ac19-698002bf0ace",
   "metadata": {},
   "outputs": [
    {
     "data": {
      "text/plain": [
       "[9, 5, 4, 3, 1, 1]"
      ]
     },
     "execution_count": 21,
     "metadata": {},
     "output_type": "execute_result"
    }
   ],
   "source": [
    "numbers.sort(reverse= True)\n",
    "numbers"
   ]
  },
  {
   "cell_type": "code",
   "execution_count": 22,
   "id": "4f78aac2-5a0b-42e4-8ee4-b9d54ed31d93",
   "metadata": {},
   "outputs": [
    {
     "data": {
      "text/plain": [
       "['cherry', 'banana', 'apple']"
      ]
     },
     "execution_count": 22,
     "metadata": {},
     "output_type": "execute_result"
    }
   ],
   "source": [
    "### reverse()\n",
    "fruits = ['apple', 'banana', 'cherry']\n",
    "fruits.reverse()\n",
    "fruits"
   ]
  },
  {
   "cell_type": "code",
   "execution_count": 23,
   "id": "a9db4e8e-74e3-45df-be50-52caa06e0fbf",
   "metadata": {},
   "outputs": [
    {
     "data": {
      "text/plain": [
       "'apple-banana-cherry'"
      ]
     },
     "execution_count": 23,
     "metadata": {},
     "output_type": "execute_result"
    }
   ],
   "source": [
    "### join()\n",
    "fruits = ['apple', 'banana', 'cherry']\n",
    "fruit_string = '-'.join(fruits)\n",
    "fruit_string"
   ]
  },
  {
   "cell_type": "code",
   "execution_count": 24,
   "id": "7ce5c904-ecea-428f-b6bd-fd2d84546e50",
   "metadata": {},
   "outputs": [
    {
     "data": {
      "text/plain": [
       "8"
      ]
     },
     "execution_count": 24,
     "metadata": {},
     "output_type": "execute_result"
    }
   ],
   "source": [
    "## max() (used with a list)\n",
    "numbers = [4, 7, 1, 8]\n",
    "max(numbers)"
   ]
  },
  {
   "cell_type": "code",
   "execution_count": 25,
   "id": "c61a2356-2d44-43f7-89bb-58bfe6da013d",
   "metadata": {},
   "outputs": [
    {
     "data": {
      "text/plain": [
       "1"
      ]
     },
     "execution_count": 25,
     "metadata": {},
     "output_type": "execute_result"
    }
   ],
   "source": [
    "min(numbers)"
   ]
  },
  {
   "cell_type": "code",
   "execution_count": 26,
   "id": "5d050115-de5a-4410-bc4d-11eb8e965c67",
   "metadata": {},
   "outputs": [
    {
     "data": {
      "text/plain": [
       "1"
      ]
     },
     "execution_count": 26,
     "metadata": {},
     "output_type": "execute_result"
    }
   ],
   "source": [
    "### minimum\n",
    "numbers = [4, 7, 1, 8]\n",
    "min_value = min(numbers)\n",
    "\n",
    "min_value\n"
   ]
  },
  {
   "cell_type": "code",
   "execution_count": 28,
   "id": "fb6f371b-8fd3-42fe-a633-1bda07ae1e17",
   "metadata": {},
   "outputs": [
    {
     "data": {
      "text/plain": [
       "[4, 7, 1, 8]"
      ]
     },
     "execution_count": 28,
     "metadata": {},
     "output_type": "execute_result"
    }
   ],
   "source": [
    "## sum\n",
    "numbers = [4, 7, 1, 8]\n",
    "total = sum(numbers)\n",
    "numbers"
   ]
  },
  {
   "cell_type": "code",
   "execution_count": 29,
   "id": "5eb97fe5-79de-4287-accc-e07ec5c99886",
   "metadata": {},
   "outputs": [
    {
     "data": {
      "text/plain": [
       "3"
      ]
     },
     "execution_count": 29,
     "metadata": {},
     "output_type": "execute_result"
    }
   ],
   "source": [
    "## len()\n",
    "fruits = ['apple', 'banana', 'cherry']\n",
    "len(fruits)"
   ]
  },
  {
   "cell_type": "code",
   "execution_count": 30,
   "id": "ceccd4a1-32f0-41ee-b648-693310760349",
   "metadata": {},
   "outputs": [],
   "source": [
    "fruits = ['apple', 'banana', 'cherry']\n",
    "num_fruits = len(fruits)"
   ]
  },
  {
   "cell_type": "code",
   "execution_count": 31,
   "id": "e80b8939-e58d-4733-93cc-91b7cffc09d8",
   "metadata": {},
   "outputs": [
    {
     "data": {
      "text/plain": [
       "False"
      ]
     },
     "execution_count": 31,
     "metadata": {},
     "output_type": "execute_result"
    }
   ],
   "source": [
    "## all()\n",
    "bool_list = [True, True, False]\n",
    "all(bool_list)"
   ]
  },
  {
   "cell_type": "code",
   "execution_count": 32,
   "id": "60db716b-0b57-4697-a26d-a1f7c3d7208b",
   "metadata": {},
   "outputs": [
    {
     "data": {
      "text/plain": [
       "True"
      ]
     },
     "execution_count": 32,
     "metadata": {},
     "output_type": "execute_result"
    }
   ],
   "source": [
    "all(numbers)"
   ]
  },
  {
   "cell_type": "code",
   "execution_count": 33,
   "id": "fc7329bc-e0f9-440d-99d8-54cb3b0408e1",
   "metadata": {},
   "outputs": [
    {
     "data": {
      "text/plain": [
       "True"
      ]
     },
     "execution_count": 33,
     "metadata": {},
     "output_type": "execute_result"
    }
   ],
   "source": [
    "## any()\n",
    "bool_list = [False, False, True]\n",
    "any(bool_list)"
   ]
  },
  {
   "cell_type": "code",
   "execution_count": 34,
   "id": "c2075209-6140-4d9c-a078-e5af4b4e4386",
   "metadata": {},
   "outputs": [
    {
     "data": {
      "text/plain": [
       "[3, 1, 4, 1, 5]"
      ]
     },
     "execution_count": 34,
     "metadata": {},
     "output_type": "execute_result"
    }
   ],
   "source": [
    "### sorted()\n",
    "numbers = [3, 1, 4, 1, 5]\n",
    "numbers"
   ]
  },
  {
   "cell_type": "code",
   "execution_count": 35,
   "id": "b7903f94-2016-4c74-a894-ca647f9466bc",
   "metadata": {},
   "outputs": [
    {
     "data": {
      "text/plain": [
       "[1, 1, 3, 4, 5]"
      ]
     },
     "execution_count": 35,
     "metadata": {},
     "output_type": "execute_result"
    }
   ],
   "source": [
    "numbers.sort()\n",
    "numbers"
   ]
  },
  {
   "cell_type": "code",
   "execution_count": 37,
   "id": "db9349da-7bfc-46cc-b0f0-df3e0d9f9cea",
   "metadata": {},
   "outputs": [
    {
     "data": {
      "text/plain": [
       "[1, 4, 5, 6, 7, 8, 9]"
      ]
     },
     "execution_count": 37,
     "metadata": {},
     "output_type": "execute_result"
    }
   ],
   "source": [
    "a = [9,8,7,5,6,4,1]\n",
    "sorted(a)"
   ]
  },
  {
   "cell_type": "code",
   "execution_count": 38,
   "id": "d40006eb-5cdf-4b7a-bbb9-2ffd77abf45d",
   "metadata": {},
   "outputs": [
    {
     "data": {
      "text/plain": [
       "['e', 'h', 'l', 'l', 'o']"
      ]
     },
     "execution_count": 38,
     "metadata": {},
     "output_type": "execute_result"
    }
   ],
   "source": [
    "sorted(\"hello\")"
   ]
  },
  {
   "cell_type": "markdown",
   "id": "d3fc8e86-4f63-44a7-85de-8f82a8338619",
   "metadata": {},
   "source": [
    "#### List Comprehension in Python"
   ]
  },
  {
   "cell_type": "code",
   "execution_count": 42,
   "id": "0ac90c95-668f-49b0-859a-1fa3ffd3e228",
   "metadata": {},
   "outputs": [
    {
     "data": {
      "text/plain": [
       "[3, 4]"
      ]
     },
     "execution_count": 42,
     "metadata": {},
     "output_type": "execute_result"
    }
   ],
   "source": [
    "new_list = [j+2 for j in range(1,3) ]\n",
    "new_list"
   ]
  },
  {
   "cell_type": "code",
   "execution_count": 43,
   "id": "5f81366c-1188-4dfa-b9ab-794907ced1d9",
   "metadata": {},
   "outputs": [
    {
     "data": {
      "text/plain": [
       "(1, 2, 3, 4, 5)"
      ]
     },
     "execution_count": 43,
     "metadata": {},
     "output_type": "execute_result"
    }
   ],
   "source": [
    "squares = [i**2 for i in range(1, 6)]\n",
    "1 , 2,3,4,5"
   ]
  },
  {
   "cell_type": "code",
   "execution_count": 44,
   "id": "881493c8-b486-459a-9cf1-e634598fb10b",
   "metadata": {},
   "outputs": [],
   "source": [
    "for i in range(1, 7):    \n",
    "    squares.append(i**2)"
   ]
  },
  {
   "cell_type": "code",
   "execution_count": 45,
   "id": "36e1deb9-fa84-4ad3-b28a-f8bfaa7d2b02",
   "metadata": {},
   "outputs": [],
   "source": [
    "squares = [i**2 for i in range(1,6)]"
   ]
  },
  {
   "cell_type": "code",
   "execution_count": 46,
   "id": "f690023c-834e-4a9c-8fcc-9a98ee2aec7f",
   "metadata": {},
   "outputs": [
    {
     "data": {
      "text/plain": [
       "[1, 4, 9, 16, 25]"
      ]
     },
     "execution_count": 46,
     "metadata": {},
     "output_type": "execute_result"
    }
   ],
   "source": [
    "squares"
   ]
  },
  {
   "cell_type": "code",
   "execution_count": 48,
   "id": "ae0cc191-2e47-4758-88dd-a2259c53f62b",
   "metadata": {},
   "outputs": [],
   "source": [
    "##Using a for loop with an if statement:\n",
    "even_squares = []\n",
    "for i in range(1, 11):\n",
    "    if i % 2 == 0:\n",
    "        even_squares.append(i**2)"
   ]
  },
  {
   "cell_type": "code",
   "execution_count": 49,
   "id": "b329e5c1-86df-457e-a3e5-849a33f30e21",
   "metadata": {},
   "outputs": [
    {
     "data": {
      "text/plain": [
       "[4, 16, 36, 64, 100]"
      ]
     },
     "execution_count": 49,
     "metadata": {},
     "output_type": "execute_result"
    }
   ],
   "source": [
    " even_squares"
   ]
  },
  {
   "cell_type": "code",
   "execution_count": 50,
   "id": "760f7b6c-a76b-484d-8b60-60493c85fc84",
   "metadata": {},
   "outputs": [
    {
     "data": {
      "text/plain": [
       "[('apple', 'red', 'red'),\n",
       " ('banana', 'yellow', 'yellow'),\n",
       " ('cherry', 'dark red', 'dark red')]"
      ]
     },
     "execution_count": 50,
     "metadata": {},
     "output_type": "execute_result"
    }
   ],
   "source": [
    "### zip()\n",
    "\n",
    "fruits = ['apple', 'banana', 'cherry']\n",
    "colors = ['red', 'yellow', 'dark red']\n",
    "colors2 = ['red', 'yellow', 'dark red']\n",
    "combined = list(zip(fruits, colors,colors2))\n",
    "combined"
   ]
  },
  {
   "cell_type": "code",
   "execution_count": 51,
   "id": "2d42f15b-15a3-447b-8fde-0452e80cc832",
   "metadata": {},
   "outputs": [
    {
     "data": {
      "text/plain": [
       "[[0, 0, 0], [0, 1, 2], [0, 2, 4]]"
      ]
     },
     "execution_count": 51,
     "metadata": {},
     "output_type": "execute_result"
    }
   ],
   "source": [
    "## Using nested for loops\n",
    "matrix = []\n",
    "for i in range(3):  \n",
    "    row = []\n",
    "    for j in range(3):   \n",
    "        row.append(i*j)\n",
    "    matrix.append(row)\n",
    "\n",
    "matrix\n"
   ]
  },
  {
   "cell_type": "code",
   "execution_count": 52,
   "id": "67e4b377-bcfa-4ca1-8a89-1d731437d10f",
   "metadata": {},
   "outputs": [
    {
     "data": {
      "text/plain": [
       "[('Alice', 85), ('Bob', 92)]"
      ]
     },
     "execution_count": 52,
     "metadata": {},
     "output_type": "execute_result"
    }
   ],
   "source": [
    "names = ['Alice', 'Bob', 'Charlie']\n",
    "scores = [85, 92, 78]\n",
    "[(\"Alice\",85),(\"Bob\",92)]"
   ]
  },
  {
   "cell_type": "code",
   "execution_count": 59,
   "id": "b33f29ba-5c20-4b2b-8e63-29724f410146",
   "metadata": {},
   "outputs": [
    {
     "data": {
      "text/plain": [
       "{1: 1, 2: 2, 3: 3, 4: 4, 5: 5}"
      ]
     },
     "execution_count": 59,
     "metadata": {},
     "output_type": "execute_result"
    }
   ],
   "source": [
    "# Write a program to add items of 2 lists indexwise\n",
    "\n",
    "L2 = [1,2,3,4,5]\n",
    "L3 = [1,2,3,4,5]            \n",
    "\n",
    "a = dict(zip(L2,L3))\n",
    "a"
   ]
  },
  {
   "cell_type": "code",
   "execution_count": 55,
   "id": "612dce9c-ac2d-4f4e-a5c3-0cbbef4759ef",
   "metadata": {},
   "outputs": [
    {
     "data": {
      "text/plain": [
       "[(1, 1), (2, 2), (3, 3), (4, 4), (5, 5)]"
      ]
     },
     "execution_count": 55,
     "metadata": {},
     "output_type": "execute_result"
    }
   ],
   "source": [
    "L2 = [1,2,3,4,5]\n",
    "L3 = [1,2,3,4,5]            \n",
    "\n",
    "a = list(zip(L2,L3))\n",
    "a"
   ]
  },
  {
   "cell_type": "code",
   "execution_count": 56,
   "id": "405c9115-193a-49a0-8c90-482635e62a43",
   "metadata": {},
   "outputs": [
    {
     "name": "stdout",
     "output_type": "stream",
     "text": [
      "['Wake up', 'Brush teeth', 'Have breakfast', 'Go for a run', 'Start working']\n"
     ]
    }
   ],
   "source": [
    "tasks = [\"Wake up\", \"Brush teeth\", \"Go for a run\", \"Start working\"]\n",
    "tasks.insert(2, \"Have breakfast\") \n",
    "print(tasks)"
   ]
  },
  {
   "cell_type": "code",
   "execution_count": 57,
   "id": "c8726936-3f8e-4d50-825f-202b45957d42",
   "metadata": {},
   "outputs": [
    {
     "name": "stdout",
     "output_type": "stream",
     "text": [
      "[5, 4, 3, 2, 1]\n"
     ]
    }
   ],
   "source": [
    "# Given a list of numbers: numbers = [1, 2, 3, 4, 5], \n",
    "# how can you reverse the order of elements in the list?\n",
    "\n",
    "numbers = [1, 2, 3, 4, 5]\n",
    "numbers.reverse()  \n",
    "print(numbers)"
   ]
  },
  {
   "cell_type": "code",
   "execution_count": 58,
   "id": "5ec8e3a3-b2bd-42ea-850c-77b5f1b97c3e",
   "metadata": {},
   "outputs": [
    {
     "name": "stdout",
     "output_type": "stream",
     "text": [
      "['Alice', 'Bob', 'Charlie']\n"
     ]
    }
   ],
   "source": [
    "# You have a list of student names: \n",
    "# students = [\"Alice\", \"Bob\", \"Charlie\", \"David\", \"Eva\"]. \n",
    "# How would you create a sublist that contains only the first three students?\n",
    "\n",
    "students = [\"Alice\", \"Bob\", \"Charlie\", \"David\", \"Eva\"]\n",
    "sublist = students[:3] \n",
    "print(sublist)"
   ]
  },
  {
   "cell_type": "code",
   "execution_count": 60,
   "id": "0cf7ab61-e293-4825-9c11-b43d40b93470",
   "metadata": {},
   "outputs": [
    {
     "name": "stdout",
     "output_type": "stream",
     "text": [
      "[10, 20, 35, 40, 50]\n"
     ]
    }
   ],
   "source": [
    "# In a list representing scores in a game: scores = [10, 20, 30, 40, 50], \n",
    "# you want to update the third score from 30 to 35. How can you do this?\n",
    "\n",
    "scores = [10, 20, 30, 40, 50]\n",
    "scores[2] = 35  \n",
    "print(scores)"
   ]
  },
  {
   "cell_type": "code",
   "execution_count": 61,
   "id": "6b005e67-cc60-4e4b-8990-59560ed89dd2",
   "metadata": {},
   "outputs": [
    {
     "name": "stdout",
     "output_type": "stream",
     "text": [
      "['Apple', 'Banana', 'Date']\n"
     ]
    }
   ],
   "source": [
    "fruits = [\"Apple\", \"Banana\", \"Cherry\", \"Date\"]\n",
    "fruits.remove(\"Cherry\")  \n",
    "print(fruits)"
   ]
  },
  {
   "cell_type": "code",
   "execution_count": 62,
   "id": "0c341798-3489-469d-bea8-125d0e4ffa55",
   "metadata": {},
   "outputs": [
    {
     "name": "stdout",
     "output_type": "stream",
     "text": [
      "2\n"
     ]
    }
   ],
   "source": [
    "# Scenario 6: Finding the Index of an Item\n",
    "# You have a list of colors: colors = [\"Red\", \"Green\", \"Blue\", \"Yellow\", \"Purple\"].\n",
    "# How can you find the index of the color \"Blue\" in the list?\n",
    "\n",
    "colors = [\"Red\", \"Green\", \"Blue\", \"Yellow\", \"Purple\"]\n",
    "index_of_blue = colors.index(\"Blue\") \n",
    "print(index_of_blue)"
   ]
  },
  {
   "cell_type": "code",
   "execution_count": 63,
   "id": "c61344a5-1514-44b7-8f71-0521c977b7ee",
   "metadata": {},
   "outputs": [
    {
     "name": "stdout",
     "output_type": "stream",
     "text": [
      "[1, 2, 4, 5, 9]\n"
     ]
    }
   ],
   "source": [
    "# Scenario 7: Sorting a List\n",
    "# Given a list of numbers: numbers = [4, 2, 9, 1, 5], how would you sort the list in ascending order?\n",
    "\n",
    "numbers = [4, 2, 9, 1, 5]\n",
    "numbers.sort()  \n",
    "print(numbers)"
   ]
  },
  {
   "cell_type": "code",
   "execution_count": 64,
   "id": "dee52916-ce22-4e6d-85ad-4f2fd986d7f8",
   "metadata": {},
   "outputs": [
    {
     "name": "stdout",
     "output_type": "stream",
     "text": [
      "['Carrot', 'Potato', 'Tomato', 'Cucumber', 'Spinach']\n"
     ]
    }
   ],
   "source": [
    "vegetables = [\"Carrot\", \"Potato\", \"Tomato\"]\n",
    "more_vegetables = [\"Cucumber\", \"Spinach\"]\n",
    "vegetables.extend(more_vegetables)  # Extends the list with more vegetables\n",
    "print(vegetables)"
   ]
  },
  {
   "cell_type": "code",
   "execution_count": null,
   "id": "65d0c814-a47f-42cd-af2a-9739a374330a",
   "metadata": {},
   "outputs": [],
   "source": []
  }
 ],
 "metadata": {
  "kernelspec": {
   "display_name": "Python 3 (ipykernel)",
   "language": "python",
   "name": "python3"
  },
  "language_info": {
   "codemirror_mode": {
    "name": "ipython",
    "version": 3
   },
   "file_extension": ".py",
   "mimetype": "text/x-python",
   "name": "python",
   "nbconvert_exporter": "python",
   "pygments_lexer": "ipython3",
   "version": "3.12.7"
  }
 },
 "nbformat": 4,
 "nbformat_minor": 5
}
