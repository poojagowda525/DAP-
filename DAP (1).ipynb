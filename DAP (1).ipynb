{
 "cells": [
  {
   "cell_type": "code",
   "execution_count": 2,
   "id": "4e0d71e8-49e4-4b32-a557-8d1268b1bacb",
   "metadata": {},
   "outputs": [
    {
     "name": "stdout",
     "output_type": "stream",
     "text": [
      "Hello world!\n"
     ]
    }
   ],
   "source": [
    "print(\"Hello world!\")"
   ]
  },
  {
   "cell_type": "code",
   "execution_count": 1,
   "id": "d8e5eb6e-8d36-402e-8bfe-e28c079f4fb0",
   "metadata": {},
   "outputs": [
    {
     "name": "stdout",
     "output_type": "stream",
     "text": [
      "my name is pooja gowda\n"
     ]
    }
   ],
   "source": [
    "print(\"my name is pooja gowda\")"
   ]
  },
  {
   "cell_type": "code",
   "execution_count": null,
   "id": "8272fa62-6e94-4a2f-98d7-a7d1572813f1",
   "metadata": {},
   "outputs": [],
   "source": [
    "variables\n",
    "Variables in Python are used to store data values. They are created when you assign a value to them, and you don’t need to declare their type (Python is dynamically typed).\n",
    "\n",
    "                                                                                                                                            Syntax for Variable Assignment:\n",
    "x = 5  # Assigning an integer value to the variable x\n",
    "y = \"Hello\"  # Assigning a string value to the variable y\n"
   ]
  },
  {
   "cell_type": "code",
   "execution_count": 3,
   "id": "643b452b-a27c-4cd1-90d1-1e290415e96f",
   "metadata": {},
   "outputs": [
    {
     "name": "stdout",
     "output_type": "stream",
     "text": [
      "pooja\n"
     ]
    }
   ],
   "source": [
    "name = \"pooja\"\n",
    "age =20\n",
    "print(name)"
   ]
  },
  {
   "cell_type": "code",
   "execution_count": null,
   "id": "9f2cac0a-c024-42cd-8ae8-3eae6fb6c670",
   "metadata": {},
   "outputs": [],
   "source": [
    "dataypes\n",
    "python has various bult-in datatypes.\n",
    "int(2), float(45.79), str(\"data analysis in python\"), "
   ]
  },
  {
   "cell_type": "code",
   "execution_count": 5,
   "id": "b9f45236-fdba-4447-ae37-b793491fcdeb",
   "metadata": {},
   "outputs": [
    {
     "name": "stdout",
     "output_type": "stream",
     "text": [
      "<class 'float'>\n",
      "<class 'int'>\n",
      "<class 'str'>\n"
     ]
    }
   ],
   "source": [
    "age = 20\n",
    "name = \"pooja\"\n",
    "height = 56.8\n",
    "print(type(height))\n",
    "print(type(age))\n",
    "print(type(name))\n",
    "      "
   ]
  },
  {
   "cell_type": "code",
   "execution_count": null,
   "id": "8b0faf2c-0832-4ef7-8335-e8b040f5239d",
   "metadata": {},
   "outputs": [],
   "source": []
  }
 ],
 "metadata": {
  "kernelspec": {
   "display_name": "Python 3 (ipykernel)",
   "language": "python",
   "name": "python3"
  },
  "language_info": {
   "codemirror_mode": {
    "name": "ipython",
    "version": 3
   },
   "file_extension": ".py",
   "mimetype": "text/x-python",
   "name": "python",
   "nbconvert_exporter": "python",
   "pygments_lexer": "ipython3",
   "version": "3.12.7"
  }
 },
 "nbformat": 4,
 "nbformat_minor": 5
}
