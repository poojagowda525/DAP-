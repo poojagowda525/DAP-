{
 "cells": [
  {
   "cell_type": "code",
   "execution_count": null,
   "id": "9e47917d-f9a1-404d-b3d0-b8b21c7c3273",
   "metadata": {},
   "outputs": [],
   "source": [
    "Input output string manipulation and comments"
   ]
  },
  {
   "cell_type": "code",
   "execution_count": 9,
   "id": "ffc85fd6-fb36-454a-9aaf-17063b845622",
   "metadata": {},
   "outputs": [
    {
     "name": "stdin",
     "output_type": "stream",
     "text": [
      "age 20\n"
     ]
    },
    {
     "name": "stdout",
     "output_type": "stream",
     "text": [
      "20\n"
     ]
    }
   ],
   "source": [
    "age = input(\"age\")\n",
    "print (age)"
   ]
  },
  {
   "cell_type": "markdown",
   "id": "c1dba80d-e21b-4c6c-8339-9cb86c9cfe48",
   "metadata": {},
   "source": [
    "name = input()"
   ]
  },
  {
   "cell_type": "code",
   "execution_count": 2,
   "id": "b5033c0e-2ef1-4739-85e1-00f2af957531",
   "metadata": {},
   "outputs": [
    {
     "name": "stdin",
     "output_type": "stream",
     "text": [
      "enter your name pooja gowda\n"
     ]
    },
    {
     "name": "stdout",
     "output_type": "stream",
     "text": [
      "pooja gowda\n"
     ]
    }
   ],
   "source": [
    "name = input( \"enter your name\")\n",
    "print (name)"
   ]
  },
  {
   "cell_type": "markdown",
   "id": "859b78e2-16c1-4683-8353-bdd867d02502",
   "metadata": {},
   "source": []
  },
  {
   "cell_type": "code",
   "execution_count": 3,
   "id": "071c1e64-3353-49d0-85c4-0ec2003cc5fa",
   "metadata": {},
   "outputs": [
    {
     "data": {
      "text/plain": [
       "'pooja gowda'"
      ]
     },
     "execution_count": 3,
     "metadata": {},
     "output_type": "execute_result"
    }
   ],
   "source": [
    "name\n"
   ]
  },
  {
   "cell_type": "code",
   "execution_count": 105,
   "id": "adf1d2f3-386a-4bba-87ba-7b82aec72bae",
   "metadata": {},
   "outputs": [],
   "source": [
    "###### want to store username and passwords\n",
    "\n"
   ]
  },
  {
   "cell_type": "code",
   "execution_count": 10,
   "id": "a6d1c215-044c-4d96-a0da-484e815d343c",
   "metadata": {},
   "outputs": [
    {
     "name": "stdin",
     "output_type": "stream",
     "text": [
      "enter your name pooja gowda\n"
     ]
    },
    {
     "name": "stdout",
     "output_type": "stream",
     "text": [
      "pooja gowda\n"
     ]
    },
    {
     "name": "stdin",
     "output_type": "stream",
     "text": [
      "enter your password fy,ujyf@s\n"
     ]
    },
    {
     "name": "stdout",
     "output_type": "stream",
     "text": [
      "gcmuf@46\n"
     ]
    }
   ],
   "source": [
    "user_name = input(\"enter your name\")\n",
    "print(user_name)\n",
    "password = input(\"enter your password\")\n",
    "print(passwoed )"
   ]
  },
  {
   "cell_type": "code",
   "execution_count": 7,
   "id": "5bf3d513-5e3d-4a05-8b42-31af8bc2f524",
   "metadata": {},
   "outputs": [
    {
     "data": {
      "text/plain": [
       "'pooja gowda'"
      ]
     },
     "execution_count": 7,
     "metadata": {},
     "output_type": "execute_result"
    }
   ],
   "source": [
    "user_name"
   ]
  },
  {
   "cell_type": "code",
   "execution_count": 11,
   "id": "d99fdfe3-1060-4a8f-9bb5-6c819418171b",
   "metadata": {},
   "outputs": [
    {
     "data": {
      "text/plain": [
       "'fy,ujyf@s'"
      ]
     },
     "execution_count": 11,
     "metadata": {},
     "output_type": "execute_result"
    }
   ],
   "source": [
    "password"
   ]
  },
  {
   "cell_type": "code",
   "execution_count": 15,
   "id": "0b4fff9e-8393-4933-9ca4-92527e0e6720",
   "metadata": {},
   "outputs": [
    {
     "name": "stdin",
     "output_type": "stream",
     "text": [
      "enter first number 46\n"
     ]
    }
   ],
   "source": [
    "num1 = int(input(\"enter first number\"))\n",
    "           "
   ]
  },
  {
   "cell_type": "code",
   "execution_count": 14,
   "id": "9da21383-95f3-4a1a-954e-2a6ceef968f3",
   "metadata": {},
   "outputs": [
    {
     "data": {
      "text/plain": [
       "int"
      ]
     },
     "execution_count": 14,
     "metadata": {},
     "output_type": "execute_result"
    }
   ],
   "source": [
    " type(num1)"
   ]
  },
  {
   "cell_type": "code",
   "execution_count": 17,
   "id": "789ad526-a7b2-4199-a037-82858a7d5d9d",
   "metadata": {},
   "outputs": [
    {
     "name": "stdin",
     "output_type": "stream",
     "text": [
      "enter second number 99\n"
     ]
    },
    {
     "data": {
      "text/plain": [
       "int"
      ]
     },
     "execution_count": 17,
     "metadata": {},
     "output_type": "execute_result"
    }
   ],
   "source": [
    "num2 = int(input(\"enter second number\"))\n",
    "type(num2)"
   ]
  },
  {
   "cell_type": "code",
   "execution_count": 18,
   "id": "4ceaa810-bd9c-4bd2-bb9a-9947b396a63b",
   "metadata": {},
   "outputs": [
    {
     "data": {
      "text/plain": [
       "145"
      ]
     },
     "execution_count": 18,
     "metadata": {},
     "output_type": "execute_result"
    }
   ],
   "source": [
    "num1  + num2"
   ]
  },
  {
   "cell_type": "code",
   "execution_count": 19,
   "id": "cc87b2f0-89bc-4418-8215-f7274d7dc50d",
   "metadata": {},
   "outputs": [
    {
     "data": {
      "text/plain": [
       "4554"
      ]
     },
     "execution_count": 19,
     "metadata": {},
     "output_type": "execute_result"
    }
   ],
   "source": [
    "num1 * num2\n"
   ]
  },
  {
   "cell_type": "code",
   "execution_count": 39,
   "id": "9c844a99-9c62-489c-b4c8-b8452406530e",
   "metadata": {},
   "outputs": [
    {
     "name": "stdin",
     "output_type": "stream",
     "text": [
      "boy name: ram\n",
      "girl name: sia\n",
      "boy age: 45\n",
      "girl age: 23\n"
     ]
    },
    {
     "name": "stdout",
     "output_type": "stream",
     "text": [
      "ram loves sia\n"
     ]
    }
   ],
   "source": [
    "\n",
    "Boy_name = input (\"boy name:\")\n",
    "Girl_name = input(\"girl name:\")\n",
    "Boy_age= int(input (\"boy age:\"))\n",
    "Girl_age = int(input(\"girl age:\"))\n",
    "age_diff = abs(Boy_age - Girl_age)\n",
    "print(Boy_name + \" loves \"+ Girl_name)\n"
   ]
  },
  {
   "cell_type": "code",
   "execution_count": 40,
   "id": "6a30c01c-309b-4cd9-9dbc-814d8a385db9",
   "metadata": {},
   "outputs": [
    {
     "data": {
      "text/plain": [
       "str"
      ]
     },
     "execution_count": 40,
     "metadata": {},
     "output_type": "execute_result"
    }
   ],
   "source": [
    "type(Boy_name)"
   ]
  },
  {
   "cell_type": "code",
   "execution_count": 46,
   "id": "db1a1a76-31de-4dcb-b970-b7a7965f4c4e",
   "metadata": {},
   "outputs": [],
   "source": []
  },
  {
   "cell_type": "code",
   "execution_count": 48,
   "id": "8deda22c-3f32-4f98-9e2f-f781bab6b4cc",
   "metadata": {},
   "outputs": [],
   "source": [
    "## STRING MANIPULATIONS\n",
    "\n",
    "first_name = \"pooja\"\n",
    "last_name = \"gowda\"\n",
    "Full_name = first_name + \" \" + last_name # \" \" for space b/w FN & LN"
   ]
  },
  {
   "cell_type": "code",
   "execution_count": 49,
   "id": "bcbe6073-8779-430d-933a-bcceb5957449",
   "metadata": {},
   "outputs": [
    {
     "data": {
      "text/plain": [
       "'pooja'"
      ]
     },
     "execution_count": 49,
     "metadata": {},
     "output_type": "execute_result"
    }
   ],
   "source": [
    "first_name"
   ]
  },
  {
   "cell_type": "code",
   "execution_count": 52,
   "id": "611ef50d-b39b-42e5-99d5-439dfca4c8ef",
   "metadata": {},
   "outputs": [
    {
     "data": {
      "text/plain": [
       "'gowda'"
      ]
     },
     "execution_count": 52,
     "metadata": {},
     "output_type": "execute_result"
    }
   ],
   "source": [
    "last_name"
   ]
  },
  {
   "cell_type": "code",
   "execution_count": 53,
   "id": "766d4e5c-b016-4d10-b7b6-61455fe14325",
   "metadata": {},
   "outputs": [
    {
     "data": {
      "text/plain": [
       "'pooja gowda'"
      ]
     },
     "execution_count": 53,
     "metadata": {},
     "output_type": "execute_result"
    }
   ],
   "source": [
    "Full_name"
   ]
  },
  {
   "cell_type": "code",
   "execution_count": 71,
   "id": "3a962c95-0e1a-483e-b3df-3e4b6fbc576f",
   "metadata": {},
   "outputs": [
    {
     "name": "stdout",
     "output_type": "stream",
     "text": [
      "pooja pooja pooja pooja pooja pooja pooja pooja pooja pooja pooja pooja pooja pooja pooja \n"
     ]
    },
    {
     "data": {
      "text/plain": [
       "'pooja'"
      ]
     },
     "execution_count": 71,
     "metadata": {},
     "output_type": "execute_result"
    }
   ],
   "source": [
    "name = \"pooja \"\n",
    "print(name * 15)\n",
    "name.upper()              # convert to upper\n",
    "name.strip()\n"
   ]
  },
  {
   "cell_type": "code",
   "execution_count": 69,
   "id": "d8122545-d01c-4c3c-aa2b-6f0cdac3d136",
   "metadata": {},
   "outputs": [
    {
     "data": {
      "text/plain": [
       "'teja '"
      ]
     },
     "execution_count": 69,
     "metadata": {},
     "output_type": "execute_result"
    }
   ],
   "source": [
    "name.replace(\"pooja\" ,\"teja\")  ## replace name"
   ]
  },
  {
   "cell_type": "code",
   "execution_count": 72,
   "id": "09ab9dff-cfd9-4a41-8c99-1bbabd57b670",
   "metadata": {},
   "outputs": [
    {
     "name": "stdout",
     "output_type": "stream",
     "text": [
      " pooja said \"hello\"\n"
     ]
    }
   ],
   "source": [
    "name = ' pooja said \"hello\"'\n",
    "print (name)"
   ]
  },
  {
   "cell_type": "code",
   "execution_count": 74,
   "id": "36bf8e14-5c4c-4519-a24b-81c0cf8df90c",
   "metadata": {},
   "outputs": [
    {
     "name": "stdout",
     "output_type": "stream",
     "text": [
      " pooja said \"hello\"'\n",
      "teja said \"hii\"\n"
     ]
    }
   ],
   "source": [
    "name = ''' pooja said \"hello\"'\n",
    "teja said \"hii\"'''                      # to print multiple lines\n",
    "        \n",
    "print (name)"
   ]
  },
  {
   "cell_type": "code",
   "execution_count": 78,
   "id": "1f31fdfd-5ad5-4ada-a95f-b60c814dc756",
   "metadata": {},
   "outputs": [
    {
     "data": {
      "text/plain": [
       "36"
      ]
     },
     "execution_count": 78,
     "metadata": {},
     "output_type": "execute_result"
    }
   ],
   "source": [
    "len(name)                           # find a length"
   ]
  },
  {
   "cell_type": "code",
   "execution_count": 84,
   "id": "55e47de8-3137-49e6-a53c-03d9bbe07e66",
   "metadata": {},
   "outputs": [
    {
     "data": {
      "text/plain": [
       "'n'"
      ]
     },
     "execution_count": 84,
     "metadata": {},
     "output_type": "execute_result"
    }
   ],
   "source": [
    "course = \"python \"\n",
    "course[5]                           #print particular char through index\n"
   ]
  },
  {
   "cell_type": "code",
   "execution_count": 85,
   "id": "28e52df3-19ce-4d74-a996-5f8b5c18896b",
   "metadata": {},
   "outputs": [
    {
     "data": {
      "text/plain": [
       "'ho'"
      ]
     },
     "execution_count": 85,
     "metadata": {},
     "output_type": "execute_result"
    }
   ],
   "source": [
    "course[3:5]                         #slicing "
   ]
  },
  {
   "cell_type": "code",
   "execution_count": 86,
   "id": "8b6c498f-c458-4dc7-9f50-8b3567de323a",
   "metadata": {},
   "outputs": [
    {
     "data": {
      "text/plain": [
       "'py'"
      ]
     },
     "execution_count": 86,
     "metadata": {},
     "output_type": "execute_result"
    }
   ],
   "source": [
    "course[:2]"
   ]
  },
  {
   "cell_type": "code",
   "execution_count": 88,
   "id": "7a3dd5c1-56f8-41a0-8fdf-537441ca5727",
   "metadata": {},
   "outputs": [
    {
     "data": {
      "text/plain": [
       "'python'"
      ]
     },
     "execution_count": 88,
     "metadata": {},
     "output_type": "execute_result"
    }
   ],
   "source": [
    "course[0:6]                       #give a 6 index to print full python "
   ]
  },
  {
   "cell_type": "code",
   "execution_count": null,
   "id": "9071293d-9760-4d3e-827c-6060ed3dd996",
   "metadata": {},
   "outputs": [],
   "source": [
    "                  pooja n gowda          # to access backward index\n",
    "                  01234  -5-4-3-2-1 "
   ]
  },
  {
   "cell_type": "code",
   "execution_count": 90,
   "id": "35d79920-2a49-4188-a12a-08e8d7432595",
   "metadata": {},
   "outputs": [
    {
     "name": "stdout",
     "output_type": "stream",
     "text": [
      "Mlaa\n"
     ]
    }
   ],
   "source": [
    "collage = \"Mahila samaja\"              #[start : end : step]\n",
    "print(collage[::4])"
   ]
  },
  {
   "cell_type": "code",
   "execution_count": 93,
   "id": "2d300fdd-8501-4e24-933c-0b5ac0b61127",
   "metadata": {},
   "outputs": [
    {
     "name": "stdout",
     "output_type": "stream",
     "text": [
      "h\n"
     ]
    }
   ],
   "source": [
    "print(collage[2:4:2])"
   ]
  },
  {
   "cell_type": "code",
   "execution_count": 95,
   "id": "a010baa4-cb7a-4031-8367-fe6ce31fa739",
   "metadata": {},
   "outputs": [
    {
     "data": {
      "text/plain": [
       "' my name pooja gowda'"
      ]
     },
     "execution_count": 95,
     "metadata": {},
     "output_type": "execute_result"
    }
   ],
   "source": [
    "enter_text = \" my name pooja gowda\""
   ]
  },
  {
   "cell_type": "code",
   "execution_count": 96,
   "id": "261bd6e9-1159-4d96-ac00-999eb782c684",
   "metadata": {},
   "outputs": [
    {
     "data": {
      "text/plain": [
       "' MY NAME POOJA GOWDA'"
      ]
     },
     "execution_count": 96,
     "metadata": {},
     "output_type": "execute_result"
    }
   ],
   "source": [
    "enter_text.upper()"
   ]
  },
  {
   "cell_type": "code",
   "execution_count": 97,
   "id": "c45964b4-fb50-474c-84b9-e16ba4ca528e",
   "metadata": {},
   "outputs": [
    {
     "data": {
      "text/plain": [
       "'  my name teja gowda'"
      ]
     },
     "execution_count": 97,
     "metadata": {},
     "output_type": "execute_result"
    }
   ],
   "source": [
    "enter_text.replace(\"my name pooja gowda\" ,\" my name teja gowda\" )"
   ]
  },
  {
   "cell_type": "code",
   "execution_count": 98,
   "id": "61109dc5-e019-46ac-b160-f0c58c25bf23",
   "metadata": {},
   "outputs": [
    {
     "data": {
      "text/plain": [
       "'my name pooja gowda'"
      ]
     },
     "execution_count": 98,
     "metadata": {},
     "output_type": "execute_result"
    }
   ],
   "source": [
    "enter_text.strip()"
   ]
  },
  {
   "cell_type": "code",
   "execution_count": 103,
   "id": "e37719e7-04eb-4995-9a3e-6ba749ce0b54",
   "metadata": {},
   "outputs": [
    {
     "name": "stdout",
     "output_type": "stream",
     "text": [
      "number charectrs excluding spaces 20\n"
     ]
    }
   ],
   "source": [
    "len(enter_text)\n",
    "print(\"number charectrs excluding spaces\",len(enter_text))"
   ]
  },
  {
   "cell_type": "code",
   "execution_count": null,
   "id": "fb4e2081-e4d0-4d13-86fd-671659f6f969",
   "metadata": {},
   "outputs": [],
   "source": []
  }
 ],
 "metadata": {
  "kernelspec": {
   "display_name": "Python 3 (ipykernel)",
   "language": "python",
   "name": "python3"
  },
  "language_info": {
   "codemirror_mode": {
    "name": "ipython",
    "version": 3
   },
   "file_extension": ".py",
   "mimetype": "text/x-python",
   "name": "python",
   "nbconvert_exporter": "python",
   "pygments_lexer": "ipython3",
   "version": "3.12.7"
  }
 },
 "nbformat": 4,
 "nbformat_minor": 5
}
