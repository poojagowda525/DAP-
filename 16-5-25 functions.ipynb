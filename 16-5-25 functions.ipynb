{
 "cells": [
  {
   "cell_type": "markdown",
   "id": "22ee9002-c039-4062-b4b7-4a223879cc76",
   "metadata": {},
   "source": [
    "### functions"
   ]
  },
  {
   "cell_type": "markdown",
   "id": "80c892e8-65b2-4383-b7f5-c20a687de30d",
   "metadata": {},
   "source": [
    " ##### function is a user defined function is a block of code that performs a specific task and is created by the user"
   ]
  },
  {
   "cell_type": "code",
   "execution_count": null,
   "id": "a48781f3-3d64-4fa3-8be5-4c02dc6134f4",
   "metadata": {},
   "outputs": [],
   "source": [
    "syntax, as \n",
    "\n",
    "def function_name():\n",
    "\n",
    "    # function body\n",
    "    # code to execute\n"
   ]
  },
  {
   "cell_type": "code",
   "execution_count": 1,
   "id": "35afda36-4127-4014-94eb-58963535cf91",
   "metadata": {},
   "outputs": [
    {
     "name": "stdout",
     "output_type": "stream",
     "text": [
      "19\n"
     ]
    }
   ],
   "source": [
    "# example\n",
    "def add_two():\n",
    "    a=13\n",
    "    b=6\n",
    "    c=a+b\n",
    "    print(c)\n",
    "add_two()"
   ]
  },
  {
   "cell_type": "code",
   "execution_count": 2,
   "id": "3efe38a1-49a2-4366-a21a-4545d453e8d1",
   "metadata": {},
   "outputs": [
    {
     "name": "stdin",
     "output_type": "stream",
     "text": [
      "enter your name: pooja gowda\n"
     ]
    },
    {
     "name": "stdout",
     "output_type": "stream",
     "text": [
      "hello pooja gowda welcome to the party\n"
     ]
    }
   ],
   "source": [
    "def greet():\n",
    "    name=input('enter your name:')\n",
    "    print(f'hello {name} welcome to the party')\n",
    "\n",
    "greet()"
   ]
  },
  {
   "cell_type": "markdown",
   "id": "f935d9f2-eaa7-485f-9d20-c95878e48070",
   "metadata": {},
   "source": [
    "### function calling"
   ]
  },
  {
   "cell_type": "code",
   "execution_count": 3,
   "id": "dd1f5c7e-41c6-4408-8566-742eb3c6c51d",
   "metadata": {},
   "outputs": [
    {
     "name": "stdout",
     "output_type": "stream",
     "text": [
      "5\n"
     ]
    }
   ],
   "source": [
    "def sub():\n",
    "    x=20\n",
    "    y=15\n",
    "    c=x-y\n",
    "    print(c)\n",
    "\n",
    "sub()"
   ]
  },
  {
   "cell_type": "code",
   "execution_count": 4,
   "id": "ce1f1434-deb2-4dca-b88f-50675d316698",
   "metadata": {},
   "outputs": [
    {
     "name": "stdin",
     "output_type": "stream",
     "text": [
      "enter 1st number: 37\n",
      "enter 2st number: 77\n",
      "enter the operation (+,-,*,/):  +\n"
     ]
    },
    {
     "name": "stdout",
     "output_type": "stream",
     "text": [
      "114\n"
     ]
    }
   ],
   "source": [
    "def calculator():\n",
    "    num1=int(input('enter 1st number:'))\n",
    "    num2=int(input('enter 2st number:'))\n",
    "    add=num1+num2\n",
    "    sub=num1-num2\n",
    "    product=num1*num2\n",
    "    division=num1/num2\n",
    "    user=input('enter the operation (+,-,*,/): ')\n",
    "    if user=='+':\n",
    "        print(add)\n",
    "    elif user=='-':\n",
    "        print(sub)\n",
    "    elif user=='/':\n",
    "        print(division)\n",
    "    elif user=='*':\n",
    "        print(product)\n",
    "    else:\n",
    "        print('enter valid operation')\n",
    "\n",
    "calculator()"
   ]
  },
  {
   "cell_type": "code",
   "execution_count": 7,
   "id": "65fe5375-3d4f-407e-9d09-e8c9b70f4a6e",
   "metadata": {},
   "outputs": [
    {
     "name": "stdin",
     "output_type": "stream",
     "text": [
      "enter multiplication table:  46\n"
     ]
    },
    {
     "name": "stdout",
     "output_type": "stream",
     "text": [
      "46 x 1 = 46 \n",
      "46 x 2 = 92 \n",
      "46 x 3 = 138 \n",
      "46 x 4 = 184 \n",
      "46 x 5 = 230 \n",
      "46 x 6 = 276 \n",
      "46 x 7 = 322 \n",
      "46 x 8 = 368 \n",
      "46 x 9 = 414 \n",
      "46 x 10 = 460 \n"
     ]
    }
   ],
   "source": [
    " def mul_table():\n",
    "    num=int(input('enter multiplication table: '))\n",
    "    for i in range(1,11):\n",
    "        print(f'{num} x {i} = {num*i} ')\n",
    "\n",
    "mul_table()"
   ]
  },
  {
   "cell_type": "code",
   "execution_count": 8,
   "id": "abe1aef5-30ba-4482-ae3b-9c854f1939e5",
   "metadata": {},
   "outputs": [
    {
     "name": "stdout",
     "output_type": "stream",
     "text": [
      "7 x 1 = 7 \n",
      "7 x 2 = 14 \n",
      "7 x 3 = 21 \n",
      "7 x 4 = 28 \n",
      "7 x 5 = 35 \n",
      "7 x 6 = 42 \n",
      "7 x 7 = 49 \n",
      "7 x 8 = 56 \n",
      "7 x 9 = 63 \n",
      "7 x 10 = 70 \n"
     ]
    }
   ],
   "source": [
    "def mul_table(num):\n",
    "    # num=int(input('enter multiplication table: '))\n",
    "    for i in range(1,11):\n",
    "        print(f'{num} x {i} = {num*i} ')\n",
    "\n",
    "mul_table(7)"
   ]
  },
  {
   "cell_type": "code",
   "execution_count": null,
   "id": "9b02c584-79b2-428c-ab78-c89e7778bfac",
   "metadata": {},
   "outputs": [],
   "source": [
    "parameters\n",
    "arguments\n",
    "\n",
    "syntax\n",
    "\n",
    "def func_name(par1,par2): // parameters - are the placeholders\n",
    "    # function body\n",
    "\n",
    "\n",
    "func_name(arg1,arg2)    // argumants - actual values passed to the function when it is called\n"
   ]
  },
  {
   "cell_type": "code",
   "execution_count": 16,
   "id": "a5866e2b-899f-4a7e-a53a-4f254786fe50",
   "metadata": {},
   "outputs": [
    {
     "name": "stdout",
     "output_type": "stream",
     "text": [
      "hello, alice!\n"
     ]
    }
   ],
   "source": [
    "def greet(name):   # name is  a formal parameters\n",
    "   print(f'hello, {name}!')\n",
    "greet('alice')     # alice is an  actual parameters"
   ]
  },
  {
   "cell_type": "code",
   "execution_count": null,
   "id": "b06a7c66-978e-4ad0-b8e1-b55a0892e559",
   "metadata": {},
   "outputs": [],
   "source": [
    "return statements in python\n",
    "key points\n",
    "exiting function\n",
    "returning a value\n",
    "multiple retrurns\n",
    "return without a value"
   ]
  },
  {
   "cell_type": "code",
   "execution_count": 17,
   "id": "6c89a223-3a56-4932-83b6-2dc8db3f299e",
   "metadata": {},
   "outputs": [
    {
     "data": {
      "text/plain": [
       "130"
      ]
     },
     "execution_count": 17,
     "metadata": {},
     "output_type": "execute_result"
    }
   ],
   "source": [
    "def func():\n",
    "    a=67\n",
    "    b=63\n",
    "    return a+b\n",
    "\n",
    "func()"
   ]
  },
  {
   "cell_type": "code",
   "execution_count": 18,
   "id": "199f665a-ec9f-4406-a70e-6da4d0728b73",
   "metadata": {},
   "outputs": [
    {
     "data": {
      "text/plain": [
       "130"
      ]
     },
     "execution_count": 18,
     "metadata": {},
     "output_type": "execute_result"
    }
   ],
   "source": [
    "#  basic use of return\n",
    "\n",
    "def func():\n",
    "    a=67\n",
    "    b=63\n",
    "    c=a+b\n",
    "    return c\n",
    "\n",
    "func()"
   ]
  },
  {
   "cell_type": "code",
   "execution_count": null,
   "id": "6a925c30-ce73-4ade-a8d3-41c4e35f717e",
   "metadata": {},
   "outputs": [],
   "source": [
    "methods that return something\n",
    "\n",
    "data type              method             description\n",
    "list\n",
    "dictionary\n",
    "set"
   ]
  },
  {
   "cell_type": "code",
   "execution_count": 19,
   "id": "45345183-1aff-45ff-bb83-78733f209f50",
   "metadata": {},
   "outputs": [
    {
     "data": {
      "text/plain": [
       "'odd'"
      ]
     },
     "execution_count": 19,
     "metadata": {},
     "output_type": "execute_result"
    }
   ],
   "source": [
    "# returning multiple values\n",
    "# early exit with return\n",
    "def check_even(num):\n",
    "    if num%2==0:\n",
    "        return \"even\"\n",
    "\n",
    "    return \"odd\"\n",
    "\n",
    "check_even(5)"
   ]
  },
  {
   "cell_type": "code",
   "execution_count": 20,
   "id": "03cba570-0b13-440f-aaee-70d26baa5cd2",
   "metadata": {},
   "outputs": [
    {
     "name": "stdout",
     "output_type": "stream",
     "text": [
      "[1, 2, 3, 4]\n"
     ]
    }
   ],
   "source": [
    "# collections\n",
    "def create_list():\n",
    "    return [1,2,3,4]\n",
    "\n",
    "my_list=create_list()\n",
    "print(my_list)"
   ]
  },
  {
   "cell_type": "code",
   "execution_count": 21,
   "id": "c2f45b1c-f147-42a7-b39e-f94b6c80202a",
   "metadata": {},
   "outputs": [
    {
     "name": "stdout",
     "output_type": "stream",
     "text": [
      "[1, 2, 3, 4, 5, 6]\n"
     ]
    }
   ],
   "source": [
    "def create_list(list):\n",
    "    return list\n",
    "\n",
    "my_list=create_list([1,2,3,4,5,6])\n",
    "print(my_list)"
   ]
  },
  {
   "cell_type": "code",
   "execution_count": null,
   "id": "cd25649c-bd4e-49d8-b7e6-24815e71b56d",
   "metadata": {},
   "outputs": [],
   "source": [
    "types of arguments\n",
    "default argument"
   ]
  }
 ],
 "metadata": {
  "kernelspec": {
   "display_name": "Python 3 (ipykernel)",
   "language": "python",
   "name": "python3"
  },
  "language_info": {
   "codemirror_mode": {
    "name": "ipython",
    "version": 3
   },
   "file_extension": ".py",
   "mimetype": "text/x-python",
   "name": "python",
   "nbconvert_exporter": "python",
   "pygments_lexer": "ipython3",
   "version": "3.12.7"
  }
 },
 "nbformat": 4,
 "nbformat_minor": 5
}
