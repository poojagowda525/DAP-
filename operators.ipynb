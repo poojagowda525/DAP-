{
 "cells": [
  {
   "cell_type": "markdown",
   "id": "eff6fc7c-8103-4565-bb26-66a733f76dbc",
   "metadata": {},
   "source": [
    "# operators in python\n"
   ]
  },
  {
   "cell_type": "markdown",
   "id": "82ee735a-dbff-42a6-80e6-ab6f672f8aa3",
   "metadata": {},
   "source": [
    "## arthemetic operator"
   ]
  },
  {
   "cell_type": "markdown",
   "id": "3110a53e-a8a6-4c71-83c2-2aec631d5ee3",
   "metadata": {},
   "source": [
    "# addition (+)"
   ]
  },
  {
   "cell_type": "code",
   "execution_count": 1,
   "id": "6136fbf8-36bd-43da-b916-ab543a64943b",
   "metadata": {},
   "outputs": [
    {
     "data": {
      "text/plain": [
       "54"
      ]
     },
     "execution_count": 1,
     "metadata": {},
     "output_type": "execute_result"
    }
   ],
   "source": [
    "30+24"
   ]
  },
  {
   "cell_type": "code",
   "execution_count": 2,
   "id": "12e707fb-69dd-429f-8e50-9f6d529a8f3a",
   "metadata": {},
   "outputs": [
    {
     "name": "stdout",
     "output_type": "stream",
     "text": [
      "67\n"
     ]
    }
   ],
   "source": [
    "num = 10+57\n",
    "print(num)"
   ]
  },
  {
   "cell_type": "code",
   "execution_count": 5,
   "id": "2e10c3bb-9674-44ae-bfd0-1de8d9e0358b",
   "metadata": {},
   "outputs": [],
   "source": [
    "a = 35\n",
    "b = 600"
   ]
  },
  {
   "cell_type": "code",
   "execution_count": 6,
   "id": "d8f51063-8a81-4b79-a237-fd30ae8c649a",
   "metadata": {},
   "outputs": [
    {
     "data": {
      "text/plain": [
       "635"
      ]
     },
     "execution_count": 6,
     "metadata": {},
     "output_type": "execute_result"
    }
   ],
   "source": [
    "a+b"
   ]
  },
  {
   "cell_type": "code",
   "execution_count": 8,
   "id": "054e8c84-4454-4979-a1ec-227eedaa7629",
   "metadata": {},
   "outputs": [
    {
     "name": "stdout",
     "output_type": "stream",
     "text": [
      "127\n"
     ]
    }
   ],
   "source": [
    "result = 69+58\n",
    "print(result)"
   ]
  },
  {
   "cell_type": "markdown",
   "id": "1bfdc428-3093-4c4d-a604-35637a25f631",
   "metadata": {},
   "source": [
    "# substraction(-)"
   ]
  },
  {
   "cell_type": "code",
   "execution_count": 9,
   "id": "f6d0708c-9e16-4eda-bb21-3ab1f2931e46",
   "metadata": {},
   "outputs": [
    {
     "data": {
      "text/plain": [
       "11"
      ]
     },
     "execution_count": 9,
     "metadata": {},
     "output_type": "execute_result"
    }
   ],
   "source": [
    "a = 90\n",
    "b = 79\n",
    "a-b"
   ]
  },
  {
   "cell_type": "code",
   "execution_count": 10,
   "id": "62629d0d-b371-41c7-b12d-bd958a028ceb",
   "metadata": {},
   "outputs": [
    {
     "name": "stdout",
     "output_type": "stream",
     "text": [
      "-5141\n"
     ]
    }
   ],
   "source": [
    "result1 = 1648-6789\n",
    "print(result1)"
   ]
  },
  {
   "cell_type": "markdown",
   "id": "0ccb51c2-c62c-4a5d-bdfd-69691e9bc3e4",
   "metadata": {},
   "source": [
    "# multiplication(*)"
   ]
  },
  {
   "cell_type": "code",
   "execution_count": 11,
   "id": "2e8c710f-228f-4963-a17a-832be3126fef",
   "metadata": {},
   "outputs": [
    {
     "name": "stdout",
     "output_type": "stream",
     "text": [
      "11188272\n"
     ]
    }
   ],
   "source": [
    "result1 = 1648*6789\n",
    "print(result1)"
   ]
  },
  {
   "cell_type": "markdown",
   "id": "47a44bd4-1879-4803-a634-bf753bcf8243",
   "metadata": {},
   "source": [
    "## division(/)"
   ]
  },
  {
   "cell_type": "code",
   "execution_count": 12,
   "id": "70d327a7-4ec9-48cc-9e15-fcf78a7119e0",
   "metadata": {},
   "outputs": [
    {
     "data": {
      "text/plain": [
       "5.333333333333333"
      ]
     },
     "execution_count": 12,
     "metadata": {},
     "output_type": "execute_result"
    }
   ],
   "source": [
    "result4 = 16 / 3  \n",
    "result4 "
   ]
  },
  {
   "cell_type": "code",
   "execution_count": 13,
   "id": "61bf6443-73d6-4f5c-849c-67c0ef8e0889",
   "metadata": {},
   "outputs": [
    {
     "data": {
      "text/plain": [
       "5"
      ]
     },
     "execution_count": 13,
     "metadata": {},
     "output_type": "execute_result"
    }
   ],
   "source": [
    "16//3"
   ]
  },
  {
   "cell_type": "markdown",
   "id": "0b13bf7c-434e-4cf1-b742-369cc56f6277",
   "metadata": {},
   "source": [
    "## floor division(//)"
   ]
  },
  {
   "cell_type": "code",
   "execution_count": 14,
   "id": "41699c0a-6f5e-45ff-a833-06f405cfaa27",
   "metadata": {},
   "outputs": [
    {
     "data": {
      "text/plain": [
       "8"
      ]
     },
     "execution_count": 14,
     "metadata": {},
     "output_type": "execute_result"
    }
   ],
   "source": [
    "result5 = 56//7\n",
    "result5"
   ]
  },
  {
   "cell_type": "code",
   "execution_count": 15,
   "id": "cde2f93c-0faf-4e62-b2c5-6006ede94312",
   "metadata": {},
   "outputs": [
    {
     "ename": "ZeroDivisionError",
     "evalue": "integer division or modulo by zero",
     "output_type": "error",
     "traceback": [
      "\u001b[1;31m---------------------------------------------------------------------------\u001b[0m",
      "\u001b[1;31mZeroDivisionError\u001b[0m                         Traceback (most recent call last)",
      "Cell \u001b[1;32mIn[15], line 1\u001b[0m\n\u001b[1;32m----> 1\u001b[0m \u001b[38;5;241m3\u001b[39m\u001b[38;5;241m/\u001b[39m\u001b[38;5;241m/\u001b[39m\u001b[38;5;241m0\u001b[39m\n",
      "\u001b[1;31mZeroDivisionError\u001b[0m: integer division or modulo by zero"
     ]
    }
   ],
   "source": [
    "3//0"
   ]
  },
  {
   "cell_type": "markdown",
   "id": "09dba84e-ffd6-4d3a-a06d-dc279ff5541f",
   "metadata": {},
   "source": [
    "## Modulus (%):"
   ]
  },
  {
   "cell_type": "code",
   "execution_count": 17,
   "id": "2b14f2e8-237c-405c-b13b-a7976e2edab7",
   "metadata": {},
   "outputs": [],
   "source": [
    "\n",
    "result = 10 % 3 "
   ]
  },
  {
   "cell_type": "code",
   "execution_count": 18,
   "id": "691f619a-2d15-4ccc-8db5-10ffb8448181",
   "metadata": {},
   "outputs": [
    {
     "data": {
      "text/plain": [
       "1"
      ]
     },
     "execution_count": 18,
     "metadata": {},
     "output_type": "execute_result"
    }
   ],
   "source": [
    "result"
   ]
  },
  {
   "cell_type": "code",
   "execution_count": 19,
   "id": "de9134e4-eac6-444e-8ab4-a3ba03768339",
   "metadata": {},
   "outputs": [
    {
     "data": {
      "text/plain": [
       "3.3333333333333335"
      ]
     },
     "execution_count": 19,
     "metadata": {},
     "output_type": "execute_result"
    }
   ],
   "source": [
    "10/3"
   ]
  },
  {
   "cell_type": "markdown",
   "id": "b75aaea9-121f-4196-89a2-6000729dbfc4",
   "metadata": {},
   "source": [
    "## Exponentiation (**):"
   ]
  },
  {
   "cell_type": "code",
   "execution_count": 22,
   "id": "81b60242-efe7-45b9-8f80-95fb16df2af3",
   "metadata": {},
   "outputs": [
    {
     "data": {
      "text/plain": [
       "32"
      ]
     },
     "execution_count": 22,
     "metadata": {},
     "output_type": "execute_result"
    }
   ],
   "source": [
    "result7 = 2 ** 5\n",
    "result7"
   ]
  },
  {
   "cell_type": "code",
   "execution_count": 23,
   "id": "4f482567-de9b-439e-9072-78f20bad5598",
   "metadata": {},
   "outputs": [
    {
     "data": {
      "text/plain": [
       "27"
      ]
     },
     "execution_count": 23,
     "metadata": {},
     "output_type": "execute_result"
    }
   ],
   "source": [
    "3**3"
   ]
  },
  {
   "cell_type": "code",
   "execution_count": 24,
   "id": "edd05427-be2f-47ae-b289-7c3a6aa8ea65",
   "metadata": {},
   "outputs": [
    {
     "data": {
      "text/plain": [
       "4"
      ]
     },
     "execution_count": 24,
     "metadata": {},
     "output_type": "execute_result"
    }
   ],
   "source": [
    "2**2"
   ]
  },
  {
   "cell_type": "markdown",
   "id": "706faed9-1768-48e0-8915-87cfe18aaf83",
   "metadata": {},
   "source": [
    "## Combining Arithmetic Operators:"
   ]
  },
  {
   "cell_type": "code",
   "execution_count": 25,
   "id": "8a9e1d3b-f5e6-4514-8423-9bc199b24da7",
   "metadata": {},
   "outputs": [
    {
     "data": {
      "text/plain": [
       "9.0"
      ]
     },
     "execution_count": 25,
     "metadata": {},
     "output_type": "execute_result"
    }
   ],
   "source": [
    "result = 5 + 3 * 2 - 8 / 4 \n",
    "result"
   ]
  },
  {
   "cell_type": "code",
   "execution_count": 26,
   "id": "890c8350-91a3-4853-933c-9874c06ccd29",
   "metadata": {},
   "outputs": [
    {
     "data": {
      "text/plain": [
       "86.6"
      ]
     },
     "execution_count": 26,
     "metadata": {},
     "output_type": "execute_result"
    }
   ],
   "source": [
    "#exams: 85, 90, 78, 92, and 88. What is your average score?\n",
    "\n",
    "\n",
    "(85+90+78+92+88)/5"
   ]
  },
  {
   "cell_type": "code",
   "execution_count": 29,
   "id": "39600b2c-3503-46dc-8792-ef0e9f68eb2b",
   "metadata": {},
   "outputs": [
    {
     "data": {
      "text/plain": [
       "433"
      ]
     },
     "execution_count": 29,
     "metadata": {},
     "output_type": "execute_result"
    }
   ],
   "source": [
    "scores = [85, 90, 78, 92, 88]\n",
    "total_score = sum(scores)\n",
    "total_score"
   ]
  },
  {
   "cell_type": "code",
   "execution_count": 30,
   "id": "142af5cd-b8cc-46a4-aa77-783e1dcb1992",
   "metadata": {},
   "outputs": [
    {
     "data": {
      "text/plain": [
       "5"
      ]
     },
     "execution_count": 30,
     "metadata": {},
     "output_type": "execute_result"
    }
   ],
   "source": [
    "len(scores)"
   ]
  },
  {
   "cell_type": "code",
   "execution_count": 31,
   "id": "8725b726-8c9e-4ccf-a331-987545fc6768",
   "metadata": {},
   "outputs": [
    {
     "name": "stdout",
     "output_type": "stream",
     "text": [
      "Remaining budget: 500\n"
     ]
    }
   ],
   "source": [
    "budget = 1200\n",
    "\n",
    "# Expenses\n",
    "groceries = 350\n",
    "utilities = 150\n",
    "transportation = 200\n",
    "\n",
    "# Remaining budget calculation\n",
    "remaining_budget = budget - (groceries + utilities + transportation)\n",
    "\n",
    "print(\"Remaining budget:\", remaining_budget)"
   ]
  },
  {
   "cell_type": "code",
   "execution_count": 32,
   "id": "531c05bf-1b51-4d61-b4e4-a7801046affc",
   "metadata": {},
   "outputs": [
    {
     "name": "stdout",
     "output_type": "stream",
     "text": [
      "Final price after discount: 60.0\n"
     ]
    }
   ],
   "source": [
    "# A store offers a 20% discount on a product that costs $75. \n",
    "\n",
    "original_price = 75\n",
    "\n",
    "# Discount percentage\n",
    "discount_percentage = 20\n",
    "\n",
    "# Calculate discount amount\n",
    "discount_amount = original_price * (discount_percentage / 100)\n",
    "\n",
    "# Calculate final price\n",
    "final_price = original_price - discount_amount\n",
    "\n",
    "print(\"Final price after discount:\", final_price)"
   ]
  },
  {
   "cell_type": "code",
   "execution_count": 33,
   "id": "46b22620-c194-4f7d-b155-6c5fc802803f",
   "metadata": {},
   "outputs": [
    {
     "name": "stdout",
     "output_type": "stream",
     "text": [
      "Area of the garden: 150\n"
     ]
    }
   ],
   "source": [
    "#You have a rectangular garden that is 10 meters wide and 15 meters long. What is the area of the garden?\n",
    "\n",
    "\n",
    "# Dimensions of the garden\n",
    "width = 10\n",
    "length = 15\n",
    "\n",
    "# Calculate area\n",
    "area = width * length\n",
    "\n",
    "print(\"Area of the garden:\", area)\n"
   ]
  },
  {
   "cell_type": "code",
   "execution_count": 34,
   "id": "2c9cabd3-93c8-4d9d-b3b3-aa8533fd62eb",
   "metadata": {},
   "outputs": [
    {
     "name": "stdout",
     "output_type": "stream",
     "text": [
      "Age difference: 5\n"
     ]
    }
   ],
   "source": [
    "#Two friends, Alice and Bob, are 25 and 30 years old, respectively. What is the age difference between them?\n",
    "\n",
    "alice_age = 25\n",
    "bob_age = 30\n",
    "\n",
    "# Calculate age difference\n",
    "age_difference = bob_age - alice_age\n",
    "\n",
    "print(\"Age difference:\", age_difference)"
   ]
  },
  {
   "cell_type": "code",
   "execution_count": 36,
   "id": "1f0985fa-f299-4cb2-a6e0-d4f1709bdfef",
   "metadata": {},
   "outputs": [
    {
     "name": "stdout",
     "output_type": "stream",
     "text": [
      "Total cost of all items: 37.25\n"
     ]
    }
   ],
   "source": [
    "#You purchase 3 items costing $12.50, $15.75, and $9.00 each. What is the total cost of all items before tax?\n",
    "\n",
    "# Costs of individual items\n",
    "item1 = 12.50\n",
    "item2 = 15.75\n",
    "item3 = 9.00\n",
    "\n",
    "# Calculate total cost\n",
    "total_cost = item1 + item2 + item3\n",
    "\n",
    "print(\"Total cost of all items:\", total_cost)"
   ]
  },
  {
   "cell_type": "markdown",
   "id": "4501bbd6-449e-435d-9f5e-56e53fbc469f",
   "metadata": {},
   "source": [
    "## relational operator"
   ]
  },
  {
   "cell_type": "markdown",
   "id": "83960d7c-8cfa-4d22-bb4c-a9a6b1bde573",
   "metadata": {},
   "source": [
    "## Assignment operator (=)"
   ]
  },
  {
   "cell_type": "code",
   "execution_count": 8,
   "id": "6af0c9eb-4ca6-461f-9a9c-ad78839fa3ac",
   "metadata": {},
   "outputs": [],
   "source": [
    "a = 10\n",
    "a = a+10"
   ]
  },
  {
   "cell_type": "code",
   "execution_count": 9,
   "id": "125c411f-ebb6-4ff5-8733-44cdede62557",
   "metadata": {},
   "outputs": [
    {
     "data": {
      "text/plain": [
       "20"
      ]
     },
     "execution_count": 9,
     "metadata": {},
     "output_type": "execute_result"
    }
   ],
   "source": [
    "a"
   ]
  },
  {
   "cell_type": "code",
   "execution_count": 10,
   "id": "70c619f2-4e5b-451d-9335-a3d8b5cb517c",
   "metadata": {},
   "outputs": [],
   "source": [
    "a = 10 +10\n"
   ]
  },
  {
   "cell_type": "code",
   "execution_count": 11,
   "id": "2ec7e936-2a9a-4471-8d52-ca9b1c66a520",
   "metadata": {},
   "outputs": [
    {
     "data": {
      "text/plain": [
       "20"
      ]
     },
     "execution_count": 11,
     "metadata": {},
     "output_type": "execute_result"
    }
   ],
   "source": [
    "a"
   ]
  },
  {
   "cell_type": "markdown",
   "id": "8f1e1938-e925-4f96-802b-570f5cc2a828",
   "metadata": {},
   "source": [
    "### Comparision opretor(==)"
   ]
  },
  {
   "cell_type": "code",
   "execution_count": 12,
   "id": "3f0c1ee6-6b55-4aeb-bb52-5fdb8baf6e78",
   "metadata": {},
   "outputs": [
    {
     "name": "stdout",
     "output_type": "stream",
     "text": [
      "False\n"
     ]
    }
   ],
   "source": [
    "a = 10\n",
    "b= 20\n",
    "print(a==b)       # equals to"
   ]
  },
  {
   "cell_type": "code",
   "execution_count": 13,
   "id": "47251698-348a-4d5f-8eb7-6978af8d109a",
   "metadata": {},
   "outputs": [
    {
     "name": "stdout",
     "output_type": "stream",
     "text": [
      "True\n"
     ]
    }
   ],
   "source": [
    "print(a==b)      # lesser than"
   ]
  },
  {
   "cell_type": "code",
   "execution_count": 14,
   "id": "7a0cf26b-1e1a-43ee-a4ed-59d9a041511c",
   "metadata": {},
   "outputs": [
    {
     "name": "stdout",
     "output_type": "stream",
     "text": [
      "False\n"
     ]
    }
   ],
   "source": [
    "print(a>=b)     # greater than "
   ]
  },
  {
   "cell_type": "code",
   "execution_count": 15,
   "id": "671c0281-2be4-4e80-9507-e98054764f94",
   "metadata": {},
   "outputs": [
    {
     "name": "stdout",
     "output_type": "stream",
     "text": [
      "True\n"
     ]
    }
   ],
   "source": [
    "print(a!=b)     #not equal to"
   ]
  },
  {
   "cell_type": "markdown",
   "id": "0c5509ee-e09d-4f26-8b35-a8bf1280cea7",
   "metadata": {},
   "source": [
    "### logical operator"
   ]
  },
  {
   "cell_type": "code",
   "execution_count": 18,
   "id": "efb13b6b-2590-46c8-86b2-9d632082b619",
   "metadata": {},
   "outputs": [
    {
     "data": {
      "text/plain": [
       "1"
      ]
     },
     "execution_count": 18,
     "metadata": {},
     "output_type": "execute_result"
    }
   ],
   "source": [
    " true = 1\n",
    "false = 0\n",
    "\n",
    "10> 20\n",
    "false           \n",
    "\n",
    "20>10\n",
    "true"
   ]
  },
  {
   "cell_type": "code",
   "execution_count": 19,
   "id": "5845299a-e05d-4ded-961c-994f0f7f4bcf",
   "metadata": {},
   "outputs": [
    {
     "data": {
      "text/plain": [
       "False"
      ]
     },
     "execution_count": 19,
     "metadata": {},
     "output_type": "execute_result"
    }
   ],
   "source": [
    "10> 20\n"
   ]
  },
  {
   "cell_type": "code",
   "execution_count": 72,
   "id": "29b2b39a-c252-4d63-8c01-649c343c3851",
   "metadata": {},
   "outputs": [
    {
     "name": "stdout",
     "output_type": "stream",
     "text": [
      "True\n"
     ]
    }
   ],
   "source": [
    " numbers = 20> 10 and 30 >10\n",
    "print(numbers)"
   ]
  },
  {
   "cell_type": "code",
   "execution_count": 73,
   "id": "fc04ff89-3ab3-4799-a768-8678e2019bed",
   "metadata": {},
   "outputs": [
    {
     "name": "stdout",
     "output_type": "stream",
     "text": [
      "True\n"
     ]
    }
   ],
   "source": [
    "numbers = 2< 5 or 30 <10\n",
    "print(numbers)"
   ]
  },
  {
   "cell_type": "code",
   "execution_count": 76,
   "id": "36654053-ddbe-4170-94d1-97162e1be5f2",
   "metadata": {},
   "outputs": [
    {
     "name": "stdout",
     "output_type": "stream",
     "text": [
      "True\n"
     ]
    }
   ],
   "source": [
    "numbers = (not(2>5))\n",
    "print(numbers)"
   ]
  },
  {
   "cell_type": "markdown",
   "id": "dea9d8a7-98e7-4b6e-b9d1-9f5115766bb4",
   "metadata": {},
   "source": [
    "### types of logical operator\n"
   ]
  },
  {
   "cell_type": "markdown",
   "id": "71c94b35-f40e-4811-9a21-a14e4dfa3430",
   "metadata": {},
   "source": [
    "### **AND operator**"
   ]
  },
  {
   "cell_type": "code",
   "execution_count": 22,
   "id": "937b6c32-d700-4b01-acb5-46f7bf557eac",
   "metadata": {},
   "outputs": [
    {
     "name": "stdout",
     "output_type": "stream",
     "text": [
      "1\n"
     ]
    }
   ],
   "source": [
    "print(true and true)              # and operator "
   ]
  },
  {
   "cell_type": "code",
   "execution_count": 23,
   "id": "34dce028-2ff1-48d1-b3ac-a3c943bed6a0",
   "metadata": {},
   "outputs": [
    {
     "name": "stdout",
     "output_type": "stream",
     "text": [
      "0\n"
     ]
    }
   ],
   "source": [
    "print(true and false)                    "
   ]
  },
  {
   "cell_type": "code",
   "execution_count": 24,
   "id": "118a37bf-518d-41d3-b81d-56dd89ab2d91",
   "metadata": {},
   "outputs": [
    {
     "name": "stdout",
     "output_type": "stream",
     "text": [
      "1\n"
     ]
    }
   ],
   "source": [
    "print(true or false)             # or oprator"
   ]
  },
  {
   "cell_type": "code",
   "execution_count": 26,
   "id": "baf94241-00d4-4152-b117-b005e7223968",
   "metadata": {},
   "outputs": [
    {
     "name": "stdout",
     "output_type": "stream",
     "text": [
      "False\n",
      "True\n"
     ]
    }
   ],
   "source": [
    "print(not(true))\n",
    "                                  #not operator\n",
    "print(not(false))                  "
   ]
  },
  {
   "cell_type": "code",
   "execution_count": 27,
   "id": "9c492b75-e019-4bb4-8776-31ddea33b3bb",
   "metadata": {},
   "outputs": [
    {
     "name": "stdout",
     "output_type": "stream",
     "text": [
      "False\n"
     ]
    }
   ],
   "source": [
    "print (2>5 and 5>1)               "
   ]
  },
  {
   "cell_type": "code",
   "execution_count": 28,
   "id": "7e408a1f-fb6c-4b49-89fc-8d6e9cbd564c",
   "metadata": {},
   "outputs": [
    {
     "name": "stdout",
     "output_type": "stream",
     "text": [
      "False\n"
     ]
    }
   ],
   "source": [
    "result = (a > 3) and (b < 15)  # True because both conditions are true\n",
    "print(result)                  # Output: True"
   ]
  },
  {
   "cell_type": "code",
   "execution_count": null,
   "id": "9ed343f1-033f-4645-82d7-86c52a2ff62b",
   "metadata": {},
   "outputs": [],
   "source": [
    "1 + 1 = 1\n",
    "1+ 0 = 1\n",
    "0+1 = 1\n",
    "0+0 = 0"
   ]
  },
  {
   "cell_type": "code",
   "execution_count": 29,
   "id": "28754825-73b1-43f6-b78e-337fdae05f4b",
   "metadata": {},
   "outputs": [
    {
     "name": "stdout",
     "output_type": "stream",
     "text": [
      "True\n"
     ]
    }
   ],
   "source": [
    "a = 5\n",
    "b = 10\n",
    "result = (a > 2) or (b < 1)  # True because the second condition is true\n",
    "print(result)                # Output: True"
   ]
  },
  {
   "cell_type": "code",
   "execution_count": 30,
   "id": "f1155db0-295a-4ed6-b113-4112a4eef7e8",
   "metadata": {},
   "outputs": [
    {
     "name": "stdout",
     "output_type": "stream",
     "text": [
      "True\n"
     ]
    }
   ],
   "source": [
    "a = 5\n",
    "result = not (a > 7)  # True because the condition (a > 7) is False, and `not` inverts it\n",
    "print(result)          # Output: True"
   ]
  },
  {
   "cell_type": "markdown",
   "id": "3228b6d8-5664-4547-9cc7-96d6df05a3de",
   "metadata": {},
   "source": [
    "## use cases"
   ]
  },
  {
   "cell_type": "code",
   "execution_count": 31,
   "id": "f2e38320-516f-446f-9850-36cbeb14fd8e",
   "metadata": {},
   "outputs": [],
   "source": [
    "age = 18\n",
    "citizen = True\n"
   ]
  },
  {
   "cell_type": "code",
   "execution_count": 32,
   "id": "f01b0827-74c0-48e2-89ab-cdb58ca6167c",
   "metadata": {},
   "outputs": [
    {
     "name": "stdout",
     "output_type": "stream",
     "text": [
      "Eligible to vote\n"
     ]
    }
   ],
   "source": [
    "if age >= 18 and citizen:\n",
    "    print(\"Eligible to vote\")\n",
    "else:\n",
    "    print(\"Not eligible to vote\")"
   ]
  },
  {
   "cell_type": "code",
   "execution_count": 34,
   "id": "daaad855-6aff-4b35-8631-1befa67f7f0f",
   "metadata": {},
   "outputs": [
    {
     "name": "stdout",
     "output_type": "stream",
     "text": [
      "Not eligible to vote\n"
     ]
    }
   ],
   "source": [
    "if age <= 17 and citizen:\n",
    "    print(\"Eligible to vote\")\n",
    "else:\n",
    "    print(\"Not eligible to vote\")"
   ]
  },
  {
   "cell_type": "code",
   "execution_count": 35,
   "id": "3026f457-6b50-486f-b7bd-1433f007614e",
   "metadata": {},
   "outputs": [
    {
     "name": "stdout",
     "output_type": "stream",
     "text": [
      "No need for an umbrella\n"
     ]
    }
   ],
   "source": [
    "temperature = 30\n",
    "is_raining = False\n",
    "\n",
    "# Check if you should carry an umbrella (either if it's cold or if it's raining)\n",
    "if temperature < 20 or is_raining:\n",
    "    print(\"Carry an umbrella\")\n",
    "else:\n",
    "    print(\"No need for an umbrella\")\n"
   ]
  },
  {
   "cell_type": "code",
   "execution_count": 37,
   "id": "0288af0c-b4ab-4cfb-82ac-23284a5d441b",
   "metadata": {},
   "outputs": [
    {
     "name": "stdout",
     "output_type": "stream",
     "text": [
      "Can legally drive\n"
     ]
    }
   ],
   "source": [
    "age = 20\n",
    "has_license = True\n",
    "is_sober = True\n",
    "\n",
    "# Check if a person can legally drive (must be 18 or older, have a license, and be sober)\n",
    "if age >= 18 and has_license and is_sober:\n",
    "    print(\"Can legally drive\")\n",
    "else:\n",
    "    print(\"Cannot legally drive\")\n"
   ]
  },
  {
   "cell_type": "code",
   "execution_count": 38,
   "id": "e5a1d276-2a5b-492f-9e3f-811a3eaa9743",
   "metadata": {},
   "outputs": [
    {
     "name": "stdout",
     "output_type": "stream",
     "text": [
      "It's a weekday\n"
     ]
    }
   ],
   "source": [
    "is_weekend = False\n",
    "\n",
    "# Check if it's a weekday (i.e., not the weekend)\n",
    "if not is_weekend:\n",
    "    print(\"It's a weekday\")\n",
    "else:\n",
    "    print(\"It's the weekend\")\n"
   ]
  },
  {
   "cell_type": "markdown",
   "id": "1bed4bbc-be07-4c32-8e36-fd48921327f3",
   "metadata": {},
   "source": [
    "### membership operator"
   ]
  },
  {
   "cell_type": "code",
   "execution_count": 42,
   "id": "ca1b5fb5-c001-4c27-85d6-592ab5e853d2",
   "metadata": {},
   "outputs": [
    {
     "name": "stdout",
     "output_type": "stream",
     "text": [
      "True\n"
     ]
    }
   ],
   "source": [
    "first_name = \"pooja\"\n",
    "last_name = \"gowda\"\n",
    "print((\"j\" in first_name))"
   ]
  },
  {
   "cell_type": "markdown",
   "id": "ae3631fd-06f2-42d5-aee7-a81e1641c12b",
   "metadata": {},
   "source": [
    "first_name = \"pooja\"\n",
    "last_name = \"gowda\"\n",
    "print((\"o\" in first_name) and(\"o\" in last_name))"
   ]
  },
  {
   "cell_type": "code",
   "execution_count": 44,
   "id": "fc2f5e5a-879b-444c-9d5e-4a253a2a501f",
   "metadata": {},
   "outputs": [
    {
     "name": "stdout",
     "output_type": "stream",
     "text": [
      "True\n"
     ]
    }
   ],
   "source": [
    "first_name = \"pooja\"\n",
    "last_name = \"gowda\"\n",
    "print((\"p\" in first_name)or (\"p\" in last_name))"
   ]
  },
  {
   "cell_type": "markdown",
   "id": "a105fe0a-89dc-4fa0-a7eb-f196903f6bdb",
   "metadata": {},
   "source": [
    "### using in a list"
   ]
  },
  {
   "cell_type": "code",
   "execution_count": 55,
   "id": "41e1bd4c-3de3-46c5-bcdd-7c49b7cd0ec5",
   "metadata": {},
   "outputs": [
    {
     "name": "stdout",
     "output_type": "stream",
     "text": [
      "True\n"
     ]
    }
   ],
   "source": [
    "fruits = [\"apple\", \"banana\", \"cherry\"]\n",
    "print(\"grape\" not in fruits)"
   ]
  },
  {
   "cell_type": "code",
   "execution_count": 56,
   "id": "ced4b3b5-cc34-4853-9ff4-ebd197725eef",
   "metadata": {},
   "outputs": [
    {
     "name": "stdout",
     "output_type": "stream",
     "text": [
      "True\n"
     ]
    }
   ],
   "source": [
    "Player= ['Rohit sharma', 'Virat', 'Dhoni', 'Siraj']\n",
    "\n",
    "print('Siraj' in Player)\n"
   ]
  },
  {
   "cell_type": "markdown",
   "id": "2c484cb8-5f15-4acf-8cc0-18eba6732ff4",
   "metadata": {},
   "source": [
    "### uing  not in a string "
   ]
  },
  {
   "cell_type": "code",
   "execution_count": 57,
   "id": "226f6d84-8cfe-40a7-977f-9e239766160f",
   "metadata": {},
   "outputs": [
    {
     "name": "stdout",
     "output_type": "stream",
     "text": [
      "True\n"
     ]
    }
   ],
   "source": [
    "message = \"Welcome to Python programming!\"\n",
    "print(\"Python\" in message) "
   ]
  },
  {
   "cell_type": "code",
   "execution_count": 58,
   "id": "77e61bc1-d461-4886-aa45-644eb237bd22",
   "metadata": {},
   "outputs": [
    {
     "name": "stdout",
     "output_type": "stream",
     "text": [
      "False\n"
     ]
    }
   ],
   "source": [
    "print(\"Programming\" in message) "
   ]
  },
  {
   "cell_type": "markdown",
   "id": "08635e9e-3a06-4761-912e-bd216c148873",
   "metadata": {},
   "source": [
    "## using a ( in ) in dictionary"
   ]
  },
  {
   "cell_type": "code",
   "execution_count": 59,
   "id": "cb224057-60ab-4936-9d52-c94050e772f2",
   "metadata": {},
   "outputs": [
    {
     "name": "stdout",
     "output_type": "stream",
     "text": [
      "True\n"
     ]
    }
   ],
   "source": [
    "my_dict = {\"name\": \"Alice\", \"age\": 25, \"city\": \"New York\"}\n",
    "print(\"name\" in my_dict) "
   ]
  },
  {
   "cell_type": "markdown",
   "id": "ba909a8c-81f3-4138-94da-3c1e75f917da",
   "metadata": {},
   "source": [
    "## using a (not in ) in dictionary"
   ]
  },
  {
   "cell_type": "code",
   "execution_count": 62,
   "id": "de6aa613-ed4d-4078-984b-e1100ee53f82",
   "metadata": {},
   "outputs": [
    {
     "name": "stdout",
     "output_type": "stream",
     "text": [
      "False\n"
     ]
    }
   ],
   "source": [
    "my_dict = {\"name\": \"Alice\", \"age\": 25, \"city\": \"New York\"}\n",
    "print(\"name\" not in my_dict)"
   ]
  },
  {
   "cell_type": "code",
   "execution_count": 70,
   "id": "0e0864b8-4fcf-4172-8dd1-0c5f60b57ec6",
   "metadata": {},
   "outputs": [
    {
     "name": "stdout",
     "output_type": "stream",
     "text": [
      "False\n"
     ]
    }
   ],
   "source": [
    "a =[1,47,57,48,59,79,79,6,0,5,0]\n",
    "print(100  in a)"
   ]
  },
  {
   "cell_type": "code",
   "execution_count": 69,
   "id": "6913c2d9-ff9d-42b0-b6e8-342eb9fd079d",
   "metadata": {},
   "outputs": [
    {
     "name": "stdout",
     "output_type": "stream",
     "text": [
      "True\n"
     ]
    }
   ],
   "source": [
    "print( 0 in a)"
   ]
  },
  {
   "cell_type": "code",
   "execution_count": 71,
   "id": "5861cb01-0bcf-4e6b-8090-cae6ba2ea2c8",
   "metadata": {},
   "outputs": [
    {
     "name": "stdout",
     "output_type": "stream",
     "text": [
      "True\n"
     ]
    }
   ],
   "source": [
    "print( 57 in a)"
   ]
  },
  {
   "cell_type": "markdown",
   "id": "5584fa9b-220f-466f-b427-7fbbd24f8c09",
   "metadata": {},
   "source": [
    "### bitwise operator"
   ]
  },
  {
   "cell_type": "code",
   "execution_count": null,
   "id": "25893ad8-ee40-47e4-8742-aa273ecbe1d7",
   "metadata": {},
   "outputs": [],
   "source": []
  },
  {
   "cell_type": "code",
   "execution_count": 49,
   "id": "f2c3d1b5-23e7-4362-98db-b914067c189f",
   "metadata": {},
   "outputs": [
    {
     "name": "stdout",
     "output_type": "stream",
     "text": [
      "15\n"
     ]
    }
   ],
   "source": [
    "a = 5            # Binary: 0101\n",
    "b = 3            # Binary: 0011\n",
    "result = a & b # Binary: 0001, which is 1 in decimal\n",
    "print(result)  # Output: 1"
   ]
  },
  {
   "cell_type": "code",
   "execution_count": 53,
   "id": "22b73cca-ba74-4129-b244-507289cad907",
   "metadata": {},
   "outputs": [
    {
     "name": "stdout",
     "output_type": "stream",
     "text": [
      "7\n"
     ]
    }
   ],
   "source": [
    "\n",
    "result = a | b  \n",
    "print(result)"
   ]
  },
  {
   "cell_type": "code",
   "execution_count": null,
   "id": "59ace54a-94c0-44d8-98d8-ee2f917fa014",
   "metadata": {},
   "outputs": [],
   "source": []
  }
 ],
 "metadata": {
  "kernelspec": {
   "display_name": "Python 3 (ipykernel)",
   "language": "python",
   "name": "python3"
  },
  "language_info": {
   "codemirror_mode": {
    "name": "ipython",
    "version": 3
   },
   "file_extension": ".py",
   "mimetype": "text/x-python",
   "name": "python",
   "nbconvert_exporter": "python",
   "pygments_lexer": "ipython3",
   "version": "3.12.7"
  }
 },
 "nbformat": 4,
 "nbformat_minor": 5
}
