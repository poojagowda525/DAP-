{
 "cells": [
  {
   "cell_type": "markdown",
   "id": "f46d2321-bec9-4592-920b-cc6fc5d37f2b",
   "metadata": {},
   "source": [
    "### string operations"
   ]
  },
  {
   "cell_type": "code",
   "execution_count": null,
   "id": "923ba061-fe5d-46ba-8c8b-ffbeab44e622",
   "metadata": {},
   "outputs": [],
   "source": [
    "#### Operations on Strings\n",
    "Arithmetic Operations\n",
    "Loops on Strings\n",
    "Membership Operations"
   ]
  },
  {
   "cell_type": "code",
   "execution_count": 2,
   "id": "39f2a2dd-ccb9-4f32-84a2-80ee467c5fc9",
   "metadata": {},
   "outputs": [],
   "source": [
    "# concatination\n",
    "string1 = \"Hello\"\n",
    "string2 = \"World\"\n",
    "result = string1  +\" \"+ string2"
   ]
  },
  {
   "cell_type": "code",
   "execution_count": 3,
   "id": "1c43bd29-8e9b-40a9-81f8-c2c25b7733ac",
   "metadata": {},
   "outputs": [
    {
     "data": {
      "text/plain": [
       "'Hello World'"
      ]
     },
     "execution_count": 3,
     "metadata": {},
     "output_type": "execute_result"
    }
   ],
   "source": [
    "result"
   ]
  },
  {
   "cell_type": "code",
   "execution_count": 4,
   "id": "93ef1a0b-fbd0-49e0-b3bf-508c001a170a",
   "metadata": {},
   "outputs": [
    {
     "data": {
      "text/plain": [
       "'123 5648'"
      ]
     },
     "execution_count": 4,
     "metadata": {},
     "output_type": "execute_result"
    }
   ],
   "source": [
    "num = \"123\"\n",
    "num1 = \"5648\"\n",
    "\n",
    "num + \" \" +num1"
   ]
  },
  {
   "cell_type": "code",
   "execution_count": null,
   "id": "6a323fb7-871c-44ac-bbe2-b7eeb371e4ee",
   "metadata": {},
   "outputs": [],
   "source": [
    "## Repetition (Multiplication)"
   ]
  },
  {
   "cell_type": "code",
   "execution_count": 5,
   "id": "f029cb2b-da6b-4849-9499-9354859a4178",
   "metadata": {},
   "outputs": [
    {
     "data": {
      "text/plain": [
       "'HaHaHaHaHaHaHaHaHaHaHaHaHaHaHaHaHaHaHaHaHaHaHaHaHaHaHaHaHaHaHaHaHaHaHaHaHaHaHaHaHaHaHaHaHaHaHaHaHaHa'"
      ]
     },
     "execution_count": 5,
     "metadata": {},
     "output_type": "execute_result"
    }
   ],
   "source": [
    "string = \"Ha\"\n",
    "result = string * 50\n",
    "result"
   ]
  },
  {
   "cell_type": "code",
   "execution_count": 6,
   "id": "245cb35c-b29c-498f-b8e2-551c1c8e8936",
   "metadata": {},
   "outputs": [
    {
     "data": {
      "text/plain": [
       "'Ha Ha Ha Ha Ha Ha Ha Ha Ha Ha Ha Ha Ha Ha Ha Ha Ha Ha Ha Ha Ha Ha Ha Ha Ha Ha Ha Ha Ha Ha '"
      ]
     },
     "execution_count": 6,
     "metadata": {},
     "output_type": "execute_result"
    }
   ],
   "source": [
    "\"Ha \" * 30"
   ]
  },
  {
   "cell_type": "code",
   "execution_count": 7,
   "id": "40e85f01-f56c-43ed-90de-fea23a22d98b",
   "metadata": {},
   "outputs": [
    {
     "name": "stdout",
     "output_type": "stream",
     "text": [
      "Concatenated String: Hello World\n"
     ]
    }
   ],
   "source": [
    "### Examples:\n",
    "\n",
    "# Concatenation (Addition)\n",
    "string1 = \"Hello\"\n",
    "string2 = \"World\"\n",
    "concatenated_string = string1 + \" \" + string2\n",
    "print(\"Concatenated String:\", concatenated_string)"
   ]
  },
  {
   "cell_type": "code",
   "execution_count": 8,
   "id": "550b6ccf-3437-4cf2-983e-4d743385e5ac",
   "metadata": {},
   "outputs": [
    {
     "name": "stdout",
     "output_type": "stream",
     "text": [
      "Repeated String: HaHaHa\n"
     ]
    }
   ],
   "source": [
    "# Repetition (Multiplication)\n",
    "string = \"Ha\"\n",
    "repeated_string = string * 3\n",
    "print(\"Repeated String:\", repeated_string)"
   ]
  },
  {
   "cell_type": "code",
   "execution_count": null,
   "id": "23aa6c5c-3a18-49b3-9e30-809d2057d57a",
   "metadata": {},
   "outputs": [],
   "source": [
    "### Loops Operations on Strings in Python"
   ]
  },
  {
   "cell_type": "code",
   "execution_count": 9,
   "id": "46451ca6-5f47-4af4-a728-6ac7c91129ad",
   "metadata": {},
   "outputs": [
    {
     "name": "stdout",
     "output_type": "stream",
     "text": [
      "P\n",
      "y\n",
      "t\n",
      "h\n",
      "o\n",
      "n\n"
     ]
    }
   ],
   "source": [
    "## forloop\n",
    "#### printing each charector\n",
    "text = \"Python\"\n",
    "  for char in text:\n",
    "     print(char)"
   ]
  },
  {
   "cell_type": "code",
   "execution_count": 10,
   "id": "2624fb5d-8173-4bde-9eda-b3d1f28142c7",
   "metadata": {},
   "outputs": [
    {
     "data": {
      "text/plain": [
       "'pooja gowda'"
      ]
     },
     "execution_count": 10,
     "metadata": {},
     "output_type": "execute_result"
    }
   ],
   "source": [
    "name='POOJA GOWDA'\n",
    "name.lower()"
   ]
  },
  {
   "cell_type": "code",
   "execution_count": 36,
   "id": "871c9722-0beb-4170-bbea-db545e16f567",
   "metadata": {},
   "outputs": [
    {
     "name": "stdout",
     "output_type": "stream",
     "text": [
      "Number of vowels: 0\n",
      "Number of vowels: 0\n",
      "Number of vowels: 1\n",
      "Number of vowels: 1\n",
      "Number of vowels: 1\n",
      "Number of vowels: 2\n",
      "Number of vowels: 2\n",
      "Number of vowels: 2\n",
      "Number of vowels: 3\n",
      "Number of vowels: 3\n",
      "Number of vowels: 3\n"
     ]
    }
   ],
   "source": [
    "### count words\n",
    "text = \"programming\"\n",
    "vowels = \"aeiou\"\n",
    "count = 0\n",
    "for char in text:\n",
    "    if char in vowels:\n",
    "          count += 1\n",
    "    print(\"Number of vowels:\", count)\n"
   ]
  },
  {
   "cell_type": "code",
   "execution_count": 37,
   "id": "c8aad20d-1313-426c-a20f-07a7ad6f08cd",
   "metadata": {},
   "outputs": [
    {
     "data": {
      "text/plain": [
       "'PROGRAMMING'"
      ]
     },
     "execution_count": 37,
     "metadata": {},
     "output_type": "execute_result"
    }
   ],
   "source": [
    "text.upper()"
   ]
  },
  {
   "cell_type": "code",
   "execution_count": 52,
   "id": "f2b39f97-e4f6-4f24-824d-6048989e4e99",
   "metadata": {},
   "outputs": [
    {
     "name": "stdout",
     "output_type": "stream",
     "text": [
      "Uppercase String: HELLO\n"
     ]
    }
   ],
   "source": [
    "### Create a New String with Uppercase Letters\n",
    "text = \"hello\"\n",
    "uppercase_text = \"\"\n",
    "for char in text:\n",
    "      uppercase_text += char.upper()\n",
    "print(\"Uppercase String:\", uppercase_text)"
   ]
  },
  {
   "cell_type": "code",
   "execution_count": 53,
   "id": "e3798e76-ba16-4021-ad01-9c8082a46ae2",
   "metadata": {},
   "outputs": [
    {
     "data": {
      "text/plain": [
       "False"
      ]
     },
     "execution_count": 53,
     "metadata": {},
     "output_type": "execute_result"
    }
   ],
   "source": [
    "### check for a Substring Not in String\n",
    "text = \"Hello, World!\"\n",
    "\"W\" in text\n",
    "'ello' in text\n",
    "'old' in text\n"
   ]
  },
  {
   "cell_type": "code",
   "execution_count": 54,
   "id": "bd5fe1d3-a45b-4ae6-bc3d-16ca9dfcf31d",
   "metadata": {},
   "outputs": [
    {
     "data": {
      "text/plain": [
       "False"
      ]
     },
     "execution_count": 54,
     "metadata": {},
     "output_type": "execute_result"
    }
   ],
   "source": [
    "'old' in text\n"
   ]
  },
  {
   "cell_type": "code",
   "execution_count": 55,
   "id": "11b8720a-ac13-4d51-9771-f7ba71d86ced",
   "metadata": {},
   "outputs": [
    {
     "data": {
      "text/plain": [
       "True"
      ]
     },
     "execution_count": 55,
     "metadata": {},
     "output_type": "execute_result"
    }
   ],
   "source": [
    "'ello' in text"
   ]
  },
  {
   "cell_type": "code",
   "execution_count": 56,
   "id": "e79b3dc7-51cf-4961-b334-0dde79e61ea8",
   "metadata": {},
   "outputs": [
    {
     "data": {
      "text/plain": [
       "False"
      ]
     },
     "execution_count": 56,
     "metadata": {},
     "output_type": "execute_result"
    }
   ],
   "source": [
    "## not in Operator\n",
    "##check if a Substring Does Not Exist\n",
    "\n",
    "text = \"Hello, World!\"\n",
    "\"Hello\" not in text"
   ]
  },
  {
   "cell_type": "code",
   "execution_count": 57,
   "id": "a0a1ee2b-b93e-4eca-a071-5dcae9c99ab5",
   "metadata": {},
   "outputs": [
    {
     "data": {
      "text/plain": [
       "False"
      ]
     },
     "execution_count": 57,
     "metadata": {},
     "output_type": "execute_result"
    }
   ],
   "source": [
    "'hep'  in text"
   ]
  },
  {
   "cell_type": "code",
   "execution_count": 64,
   "id": "e6be5e8b-452e-48ae-8369-829fa85ead28",
   "metadata": {},
   "outputs": [
    {
     "data": {
      "text/plain": [
       "'Hello, World!'"
      ]
     },
     "execution_count": 64,
     "metadata": {},
     "output_type": "execute_result"
    }
   ],
   "source": [
    "text = \"Hello, World!\"\n",
    "text"
   ]
  },
  {
   "cell_type": "code",
   "execution_count": 66,
   "id": "0c67c78d-18cf-4e4e-96e3-afdf4a1457a4",
   "metadata": {},
   "outputs": [
    {
     "data": {
      "text/plain": [
       "str"
      ]
     },
     "execution_count": 66,
     "metadata": {},
     "output_type": "execute_result"
    }
   ],
   "source": [
    "type(text)"
   ]
  },
  {
   "cell_type": "code",
   "execution_count": 67,
   "id": "36ace9de-658f-4699-9092-427746c82f87",
   "metadata": {},
   "outputs": [
    {
     "data": {
      "text/plain": [
       "'Hello, world!'"
      ]
     },
     "execution_count": 67,
     "metadata": {},
     "output_type": "execute_result"
    }
   ],
   "source": [
    "text.capitalize()"
   ]
  },
  {
   "cell_type": "code",
   "execution_count": 70,
   "id": "cd02b0cc-3e25-4352-8a55-b9057ebc4b09",
   "metadata": {},
   "outputs": [
    {
     "data": {
      "text/plain": [
       "'HELLO, WORLD!'"
      ]
     },
     "execution_count": 70,
     "metadata": {},
     "output_type": "execute_result"
    }
   ],
   "source": [
    "upper_cased = text.upper()\n",
    "upper_cased"
   ]
  },
  {
   "cell_type": "markdown",
   "id": "2048ff1a-a8cc-4e90-bde9-535e844abbef",
   "metadata": {},
   "source": [
    "### methods on strings"
   ]
  },
  {
   "cell_type": "code",
   "execution_count": 71,
   "id": "c230b2cc-f716-4550-9ba0-8fd1592ec20d",
   "metadata": {},
   "outputs": [
    {
     "name": "stdout",
     "output_type": "stream",
     "text": [
      "HELLO, WORLD!\n"
     ]
    }
   ],
   "source": [
    "# Define a string\n",
    "text = \"hello, world!\"\n",
    "\n",
    "# Access and invoke the upper() method\n",
    "uppercase_text = text.upper()\n",
    "\n",
    "# Print the result\n",
    "print(uppercase_text)  # Output: 'HELLO, WORLD!'"
   ]
  },
  {
   "cell_type": "markdown",
   "id": "0cae1500-fd78-4a6b-9ba2-e4efd54de365",
   "metadata": {},
   "source": [
    "##### str.lower()"
   ]
  },
  {
   "cell_type": "code",
   "execution_count": 72,
   "id": "b0ff507a-06ed-4e0b-8a80-ef6ec107197b",
   "metadata": {},
   "outputs": [],
   "source": [
    "text = \"HELLO, World!\"\n",
    "lowercase_text = text.lower()"
   ]
  },
  {
   "cell_type": "code",
   "execution_count": 73,
   "id": "611ea716-e4fe-421c-bd5e-91bdecead064",
   "metadata": {},
   "outputs": [
    {
     "data": {
      "text/plain": [
       "'hello, world!'"
      ]
     },
     "execution_count": 73,
     "metadata": {},
     "output_type": "execute_result"
    }
   ],
   "source": [
    "lowercase_text "
   ]
  },
  {
   "cell_type": "code",
   "execution_count": 74,
   "id": "8674f467-4512-4fa1-940b-000b278c009e",
   "metadata": {},
   "outputs": [
    {
     "data": {
      "text/plain": [
       "'pooja gowda'"
      ]
     },
     "execution_count": 74,
     "metadata": {},
     "output_type": "execute_result"
    }
   ],
   "source": [
    "name = \"pooja GOWDA\"\n",
    "full_name = name.lower()\n",
    "full_name"
   ]
  },
  {
   "cell_type": "markdown",
   "id": "3cd34bdd-dead-4c59-aa64-3babae2ec28c",
   "metadata": {},
   "source": [
    "###### str.upper()"
   ]
  },
  {
   "cell_type": "code",
   "execution_count": 75,
   "id": "5c133532-29ed-4541-a110-cebaf525cdbb",
   "metadata": {},
   "outputs": [
    {
     "data": {
      "text/plain": [
       "'HELLO, WORLD!'"
      ]
     },
     "execution_count": 75,
     "metadata": {},
     "output_type": "execute_result"
    }
   ],
   "source": [
    "text = \"Hello, World!\"\n",
    "text.upper()\n"
   ]
  },
  {
   "cell_type": "code",
   "execution_count": 77,
   "id": "d233ce56-6c16-4601-93a6-3612ebf0c7d4",
   "metadata": {},
   "outputs": [
    {
     "data": {
      "text/plain": [
       "'POOJA GOWDA'"
      ]
     },
     "execution_count": 77,
     "metadata": {},
     "output_type": "execute_result"
    }
   ],
   "source": [
    "name = \"pooja gowda\"\n",
    "full_name = name.upper()\n",
    "full_name"
   ]
  },
  {
   "cell_type": "markdown",
   "id": "89781b25-f5a2-4c5a-a88f-033d25f41b6f",
   "metadata": {},
   "source": [
    "##### str.title()"
   ]
  },
  {
   "cell_type": "code",
   "execution_count": 78,
   "id": "b99ca922-2c52-4d42-8f3a-06d72a848b09",
   "metadata": {},
   "outputs": [
    {
     "data": {
      "text/plain": [
       "'Hello, World! Try'"
      ]
     },
     "execution_count": 78,
     "metadata": {},
     "output_type": "execute_result"
    }
   ],
   "source": [
    "text = \"hello, world! try\"\n",
    "text.title()"
   ]
  },
  {
   "cell_type": "code",
   "execution_count": 81,
   "id": "0a7d902a-ed20-4fe2-a5a9-ad06a0fa31f3",
   "metadata": {},
   "outputs": [
    {
     "data": {
      "text/plain": [
       "'GOWDA'"
      ]
     },
     "execution_count": 81,
     "metadata": {},
     "output_type": "execute_result"
    }
   ],
   "source": [
    "a =\"pooja\"\n",
    "b =\"teja\"\n",
    "c =\"gowda\"\n",
    "\n",
    "c.upper()"
   ]
  },
  {
   "cell_type": "code",
   "execution_count": 82,
   "id": "212d2b08-d4de-4599-bb13-31493a0026fb",
   "metadata": {},
   "outputs": [
    {
     "data": {
      "text/plain": [
       "'Hello, World!'"
      ]
     },
     "execution_count": 82,
     "metadata": {},
     "output_type": "execute_result"
    }
   ],
   "source": [
    "##str.strip()\n",
    "\n",
    "text = \"   Hello, World!   \"\n",
    "text.strip()"
   ]
  },
  {
   "cell_type": "code",
   "execution_count": 83,
   "id": "05567b68-fc3c-442f-b707-cfb864bb42ab",
   "metadata": {},
   "outputs": [
    {
     "data": {
      "text/plain": [
       "'Hello, Python! Python '"
      ]
     },
     "execution_count": 83,
     "metadata": {},
     "output_type": "execute_result"
    }
   ],
   "source": [
    "##str.replace(old, new)\n",
    "\n",
    "text = \"Hello, World! World \"\n",
    "text.replace(\"World\", \"Python\")"
   ]
  },
  {
   "cell_type": "code",
   "execution_count": 84,
   "id": "7677fa4e-5f52-408f-9d2e-d495e2afb604",
   "metadata": {},
   "outputs": [
    {
     "data": {
      "text/plain": [
       "'Hello, World! World '"
      ]
     },
     "execution_count": 84,
     "metadata": {},
     "output_type": "execute_result"
    }
   ],
   "source": [
    "text"
   ]
  },
  {
   "cell_type": "code",
   "execution_count": 86,
   "id": "ee1437f1-4551-46dc-8ff1-eb8eed5cb971",
   "metadata": {},
   "outputs": [
    {
     "data": {
      "text/plain": [
       "['Hello, World! ', ' is asplit method']"
      ]
     },
     "execution_count": 86,
     "metadata": {},
     "output_type": "execute_result"
    }
   ],
   "source": [
    "##str.split(separator)\n",
    "\n",
    "text = \"Hello, World! this is asplit method\"\n",
    "text.split(\"this\")\n"
   ]
  },
  {
   "cell_type": "code",
   "execution_count": 88,
   "id": "1bf836c2-475b-40c3-af89-08cbb1085d38",
   "metadata": {},
   "outputs": [
    {
     "data": {
      "text/plain": [
       "'Hello, World! this is asplit method'"
      ]
     },
     "execution_count": 88,
     "metadata": {},
     "output_type": "execute_result"
    }
   ],
   "source": [
    "text"
   ]
  },
  {
   "cell_type": "code",
   "execution_count": 92,
   "id": "f04e5911-51e4-4b94-aabc-5be3cdef8b9d",
   "metadata": {},
   "outputs": [],
   "source": [
    "## str.join(iterable)\n",
    "words = ['Hello', 'World',\"this\",\"is\"]\n",
    "joined_text = '---'.join(words)"
   ]
  },
  {
   "cell_type": "code",
   "execution_count": 93,
   "id": "7870901a-4737-4fee-9970-4871c59c0f93",
   "metadata": {},
   "outputs": [
    {
     "data": {
      "text/plain": [
       "['Hello', 'World', 'this', 'is']"
      ]
     },
     "execution_count": 93,
     "metadata": {},
     "output_type": "execute_result"
    }
   ],
   "source": [
    "words"
   ]
  },
  {
   "cell_type": "code",
   "execution_count": 96,
   "id": "774007bf-e195-4161-9716-298f8b421711",
   "metadata": {},
   "outputs": [
    {
     "data": {
      "text/plain": [
       "'Hello---World---this---is'"
      ]
     },
     "execution_count": 96,
     "metadata": {},
     "output_type": "execute_result"
    }
   ],
   "source": [
    "joined_text = '---'.join(words)\n",
    "joined_text"
   ]
  },
  {
   "cell_type": "code",
   "execution_count": 97,
   "id": "6ec755a3-bd54-4e15-b42d-4114d124f21d",
   "metadata": {},
   "outputs": [
    {
     "data": {
      "text/plain": [
       "7"
      ]
     },
     "execution_count": 97,
     "metadata": {},
     "output_type": "execute_result"
    }
   ],
   "source": [
    "## str.find(substring)\n",
    "\n",
    "text = \"Hello, World!\"\n",
    "index = text.find(\"World\")\n",
    "index\n"
   ]
  },
  {
   "cell_type": "code",
   "execution_count": 99,
   "id": "61dbf1a8-5549-4f58-8a28-56250521fc77",
   "metadata": {},
   "outputs": [
    {
     "data": {
      "text/plain": [
       "3"
      ]
     },
     "execution_count": 99,
     "metadata": {},
     "output_type": "execute_result"
    }
   ],
   "source": [
    "## count\n",
    "\n",
    "text = \"Hello, Hello, World!\"\n",
    "count = text.count(\"o\")\n",
    "count"
   ]
  },
  {
   "cell_type": "code",
   "execution_count": 101,
   "id": "63cc14fe-244d-46a6-a738-170caa6d23e3",
   "metadata": {},
   "outputs": [
    {
     "data": {
      "text/plain": [
       "False"
      ]
     },
     "execution_count": 101,
     "metadata": {},
     "output_type": "execute_result"
    }
   ],
   "source": [
    "\n",
    "##text.startswith(\"World\")\n",
    "text = \"Hello, World!\"\n",
    "text.startswith(\"World\")"
   ]
  },
  {
   "cell_type": "code",
   "execution_count": 102,
   "id": "ff45eae9-eb54-49a1-b05a-0a7744ea1cde",
   "metadata": {},
   "outputs": [
    {
     "data": {
      "text/plain": [
       "True"
      ]
     },
     "execution_count": 102,
     "metadata": {},
     "output_type": "execute_result"
    }
   ],
   "source": [
    "text = \"Hello, World!\"\n",
    "text.endswith(\"!\")"
   ]
  },
  {
   "cell_type": "code",
   "execution_count": 103,
   "id": "ae3b1a2e-829c-4422-a86d-f48a3fbec6ba",
   "metadata": {},
   "outputs": [
    {
     "data": {
      "text/plain": [
       "True"
      ]
     },
     "execution_count": 103,
     "metadata": {},
     "output_type": "execute_result"
    }
   ],
   "source": [
    "## is digit\n",
    "text = \"12345\"\n",
    "text.isdigit()"
   ]
  },
  {
   "cell_type": "code",
   "execution_count": 104,
   "id": "cc48ed92-3e89-47cf-8229-607884774200",
   "metadata": {},
   "outputs": [
    {
     "data": {
      "text/plain": [
       "True"
      ]
     },
     "execution_count": 104,
     "metadata": {},
     "output_type": "execute_result"
    }
   ],
   "source": [
    "## is alpha\n",
    "\n",
    "text = \"Hello\"\n",
    "text.isalpha()"
   ]
  },
  {
   "cell_type": "code",
   "execution_count": 105,
   "id": "2a670a68-c51f-46f0-8dc5-465ecbe9c92f",
   "metadata": {},
   "outputs": [
    {
     "data": {
      "text/plain": [
       "True"
      ]
     },
     "execution_count": 105,
     "metadata": {},
     "output_type": "execute_result"
    }
   ],
   "source": [
    "## lower\n",
    "text = \"hello\"\n",
    "is_lower = text.islower()\n",
    "is_lower"
   ]
  },
  {
   "cell_type": "code",
   "execution_count": 106,
   "id": "2c54d675-da01-4943-9fbd-e42b51cb3748",
   "metadata": {},
   "outputs": [
    {
     "data": {
      "text/plain": [
       "20"
      ]
     },
     "execution_count": 106,
     "metadata": {},
     "output_type": "execute_result"
    }
   ],
   "source": [
    "text = \"Hello, Hello, Hello World!\"\n",
    "index = text.rfind(\"World\")\n",
    "index"
   ]
  },
  {
   "cell_type": "markdown",
   "id": "bb6ef61d-acca-406f-85c1-ced5202a357f",
   "metadata": {},
   "source": [
    "#### common functions"
   ]
  },
  {
   "cell_type": "code",
   "execution_count": 107,
   "id": "ebda40dc-d8bc-4483-89cd-7202466291f1",
   "metadata": {},
   "outputs": [
    {
     "data": {
      "text/plain": [
       "'Aanana'"
      ]
     },
     "execution_count": 107,
     "metadata": {},
     "output_type": "execute_result"
    }
   ],
   "source": [
    "## minimun'\n",
    "words = [\"apple\", \"Aanana\", \"cherry\"]\n",
    "min(words)"
   ]
  },
  {
   "cell_type": "code",
   "execution_count": 108,
   "id": "171fbb35-39c8-4cb5-a560-56ceca25e420",
   "metadata": {},
   "outputs": [
    {
     "data": {
      "text/plain": [
       "' '"
      ]
     },
     "execution_count": 108,
     "metadata": {},
     "output_type": "execute_result"
    }
   ],
   "source": [
    "a = \"haelloworldz \"\n",
    "min(a)"
   ]
  },
  {
   "cell_type": "code",
   "execution_count": 109,
   "id": "91151bf5-958c-479c-b9b9-cc19bd862044",
   "metadata": {},
   "outputs": [
    {
     "data": {
      "text/plain": [
       "'apple'"
      ]
     },
     "execution_count": 109,
     "metadata": {},
     "output_type": "execute_result"
    }
   ],
   "source": [
    "words = [\"apple\", \"bnana\", \"cherry\"]\n",
    "min(words)\n"
   ]
  },
  {
   "cell_type": "code",
   "execution_count": 110,
   "id": "9105cfc9-9bcd-4651-8752-3ac750de518d",
   "metadata": {},
   "outputs": [
    {
     "data": {
      "text/plain": [
       "'a'"
      ]
     },
     "execution_count": 110,
     "metadata": {},
     "output_type": "execute_result"
    }
   ],
   "source": [
    "min(\"z\", \"a\", \"m\")"
   ]
  },
  {
   "cell_type": "code",
   "execution_count": 112,
   "id": "f4d9e1d5-1e1a-417b-a779-fcdab1c92388",
   "metadata": {},
   "outputs": [
    {
     "data": {
      "text/plain": [
       "'cherry'"
      ]
     },
     "execution_count": 112,
     "metadata": {},
     "output_type": "execute_result"
    }
   ],
   "source": [
    "## maximum\n",
    "\n",
    "words = [\"apple\", \"banana\", \"cherry\"]\n",
    "max(words)"
   ]
  },
  {
   "cell_type": "code",
   "execution_count": 114,
   "id": "52ecab39-5931-444e-a862-8f7d621882bc",
   "metadata": {},
   "outputs": [
    {
     "data": {
      "text/plain": [
       "'z'"
      ]
     },
     "execution_count": 114,
     "metadata": {},
     "output_type": "execute_result"
    }
   ],
   "source": [
    "max(\"z\", \"a\", \"m\")\n"
   ]
  },
  {
   "cell_type": "code",
   "execution_count": 115,
   "id": "44212507-c078-4bbf-965d-bec2918840ce",
   "metadata": {},
   "outputs": [
    {
     "data": {
      "text/plain": [
       "13"
      ]
     },
     "execution_count": 115,
     "metadata": {},
     "output_type": "execute_result"
    }
   ],
   "source": [
    "## length\n",
    "text = \"Hello, World!\"\n",
    "len(text)"
   ]
  },
  {
   "cell_type": "code",
   "execution_count": 116,
   "id": "3ad31a82-4bbc-448c-9e5d-c2a39bd13e4a",
   "metadata": {},
   "outputs": [
    {
     "data": {
      "text/plain": [
       "12"
      ]
     },
     "execution_count": 116,
     "metadata": {},
     "output_type": "execute_result"
    }
   ],
   "source": [
    "name = \"pooj goeda n\"\n",
    "len(name)"
   ]
  },
  {
   "cell_type": "code",
   "execution_count": 117,
   "id": "924deb66-a7c8-4fa7-a4fc-7a711e4a738b",
   "metadata": {},
   "outputs": [
    {
     "data": {
      "text/plain": [
       "['a', 'a', 'a', 'b', 'n', 'n']"
      ]
     },
     "execution_count": 117,
     "metadata": {},
     "output_type": "execute_result"
    }
   ],
   "source": [
    "## sorted\n",
    "\n",
    "text = \"banana\"\n",
    "sorted(text)"
   ]
  },
  {
   "cell_type": "code",
   "execution_count": 118,
   "id": "0986f204-7933-491c-8821-adcc47dfecb4",
   "metadata": {},
   "outputs": [
    {
     "data": {
      "text/plain": [
       "[' ', ' ', 'a', 'd', 'e', 'g', 'j', 'n', 'o', 'o', 'o', 'p']"
      ]
     },
     "execution_count": 118,
     "metadata": {},
     "output_type": "execute_result"
    }
   ],
   "source": [
    "name = \"pooj goeda n\"\n",
    "sorted(name)"
   ]
  },
  {
   "cell_type": "code",
   "execution_count": 119,
   "id": "ed743e4a-feef-4f1b-8222-faf2f2e6e3b7",
   "metadata": {},
   "outputs": [
    {
     "data": {
      "text/plain": [
       "'!dlroW ,olleH'"
      ]
     },
     "execution_count": 119,
     "metadata": {},
     "output_type": "execute_result"
    }
   ],
   "source": [
    "## reversed\n",
    "text = \"Hello, World!\"\n",
    "''.join(reversed(text))"
   ]
  },
  {
   "cell_type": "code",
   "execution_count": 124,
   "id": "8ee54fb8-545b-4cfa-a163-afe7b3b91242",
   "metadata": {},
   "outputs": [
    {
     "data": {
      "text/plain": [
       "'n adeog joop'"
      ]
     },
     "execution_count": 124,
     "metadata": {},
     "output_type": "execute_result"
    }
   ],
   "source": [
    "name = \"pooj goeda n\"\n",
    "''.join(reversed(name))"
   ]
  },
  {
   "cell_type": "code",
   "execution_count": 125,
   "id": "2952c02e-53a6-43aa-8f38-1cdcd43f881a",
   "metadata": {},
   "outputs": [
    {
     "data": {
      "text/plain": [
       "True"
      ]
     },
     "execution_count": 125,
     "metadata": {},
     "output_type": "execute_result"
    }
   ],
   "source": [
    "text = \"12345\"\n",
    "all_digits = all(char.isdigit() for char in text)\n",
    "all_digits"
   ]
  },
  {
   "cell_type": "code",
   "execution_count": 129,
   "id": "aa625372-17c5-4018-953b-c3bbeb34d12e",
   "metadata": {},
   "outputs": [
    {
     "name": "stdout",
     "output_type": "stream",
     "text": [
      "hello my name is  pooja and my age is  25 and i work as a  business\n"
     ]
    }
   ],
   "source": [
    "## formate\n",
    "name = \"pooja\"\n",
    "age = 25\n",
    "occ = \"business\"\n",
    "\n",
    "print(\"hello my name is \",name,\"and my age is \",age,\"and i work as a \",occ)"
   ]
  },
  {
   "cell_type": "code",
   "execution_count": 131,
   "id": "74f38203-58e7-4073-9a14-b221dc912190",
   "metadata": {},
   "outputs": [
    {
     "data": {
      "text/plain": [
       "'My name is business and I work as a pooja.'"
      ]
     },
     "execution_count": 131,
     "metadata": {},
     "output_type": "execute_result"
    }
   ],
   "source": [
    "formatted_string2 = \"My name is {} and I work as a {}.\".format(occ,name)\n",
    "formatted_string2"
   ]
  },
  {
   "cell_type": "code",
   "execution_count": 132,
   "id": "dac5e5d3-4a02-4026-982b-002e0bd1cb73",
   "metadata": {},
   "outputs": [
    {
     "name": "stdin",
     "output_type": "stream",
     "text": [
      "Enter the name  pooj\n",
      "Enter your occupation  bca\n"
     ]
    },
    {
     "data": {
      "text/plain": [
       "'Student pooj scored bca on the test.'"
      ]
     },
     "execution_count": 132,
     "metadata": {},
     "output_type": "execute_result"
    }
   ],
   "source": [
    "name = input(\"Enter the name \")\n",
    "job = input(\"Enter your occupation \")\n",
    "f\"Student {name} scored {job} on the test.\"\n"
   ]
  },
  {
   "cell_type": "code",
   "execution_count": 133,
   "id": "0a3b7be5-badc-49cd-a23a-f5fdc448d878",
   "metadata": {},
   "outputs": [
    {
     "name": "stdout",
     "output_type": "stream",
     "text": [
      "Hello, John! Welcome to the Python world.\n"
     ]
    }
   ],
   "source": [
    "name = \"John\"\n",
    "message = f\"Hello, {name}! Welcome to the Python world.\"\n",
    "print(message)  "
   ]
  },
  {
   "cell_type": "code",
   "execution_count": 135,
   "id": "186c6a7b-6d7c-4ede-b4ff-0b32f632ec1b",
   "metadata": {},
   "outputs": [
    {
     "name": "stdout",
     "output_type": "stream",
     "text": [
      "Total price: $100\n"
     ]
    }
   ],
   "source": [
    "# You have variables quantity = 5 and price_per_item = 20. \n",
    "# Use an f-string to calculate and print the total\n",
    "# price in the format \"Total price: $100\".quantity = 5\n",
    "price_per_item = 20\n",
    "total_price = f\"Total price: ${quantity * price_per_item}\"\n",
    "print(total_price) "
   ]
  },
  {
   "cell_type": "code",
   "execution_count": 140,
   "id": "875356c3-541f-4840-971a-f2516f6a02b2",
   "metadata": {},
   "outputs": [
    {
     "name": "stdout",
     "output_type": "stream",
     "text": [
      "Alice is 28 years old and lives in New York.\n"
     ]
    }
   ],
   "source": [
    "# Given variables name = \"Alice\", age = 28, and city = \"New York\", \n",
    "# use an f-string to create a sentence like \"Alice is 28 years old and lives in New York.\"\n",
    "\n",
    "name = \"Alice\"\n",
    "age = 28\n",
    "city = \"New York\"\n",
    "info = f\"{name} is {age} years old and lives in {city}.\"\n",
    "print(info)  \n"
   ]
  },
  {
   "cell_type": "code",
   "execution_count": 137,
   "id": "101b1c3c-860a-4e4d-a466-52759d9881d9",
   "metadata": {},
   "outputs": [
    {
     "name": "stdout",
     "output_type": "stream",
     "text": [
      "29th August, 2024\n"
     ]
    }
   ],
   "source": [
    "# You have variables day = 29, month = \"August\", and year = 2024. \n",
    "# Use an f-string to print the date in the format \"29th August, 2024\".\n",
    "\n",
    "day = 29\n",
    "month = \"August\"\n",
    "year = 2024\n",
    "formatted_date = f\"{day}th {month}, {year}\"\n",
    "print(formatted_date)  "
   ]
  },
  {
   "cell_type": "code",
   "execution_count": 138,
   "id": "e0d15260-73c7-49f4-a494-034194b530e6",
   "metadata": {},
   "outputs": [
    {
     "name": "stdout",
     "output_type": "stream",
     "text": [
      "John Doe\n"
     ]
    }
   ],
   "source": [
    "# Question: \n",
    "# You have two strings, first_name = \"John\" and last_name = \"Doe\". \n",
    "# Combine these two strings with a space in between and store the \n",
    "# result in a new variable full_name.\n",
    "\n",
    "first_name = \"John\"\n",
    "last_name = \"Doe\"\n",
    "full_name = first_name + \" \" + last_name\n",
    "print(full_name)  "
   ]
  },
  {
   "cell_type": "code",
   "execution_count": 139,
   "id": "2c484eaf-ebfe-44a1-ac65-392a7c464d4f",
   "metadata": {},
   "outputs": [
    {
     "name": "stdout",
     "output_type": "stream",
     "text": [
      "True\n"
     ]
    }
   ],
   "source": [
    "sentence = \"The quick brown fox jumps over the lazy dog\"\n",
    "is_present = \"fox\" in sentence\n",
    "print(is_present)  # Output: True"
   ]
  },
  {
   "cell_type": "code",
   "execution_count": 141,
   "id": "60dd3c86-a6d6-4a24-8f3b-9f86b97e5dbd",
   "metadata": {},
   "outputs": [
    {
     "name": "stdout",
     "output_type": "stream",
     "text": [
      "Pyt\n"
     ]
    }
   ],
   "source": [
    "# Given a string word = \"Python\", extract the substring \"Pyt\" from it.\n",
    "word = \"Python\"\n",
    "substring = word[:3]\n",
    "print(substring)  "
   ]
  },
  {
   "cell_type": "code",
   "execution_count": 142,
   "id": "739b99ee-8131-4cb2-9efe-aa70bd8e8e2a",
   "metadata": {},
   "outputs": [
    {
     "name": "stdout",
     "output_type": "stream",
     "text": [
      "Hella Warld!\n"
     ]
    }
   ],
   "source": [
    "# You have a string message = \"Hello World!\". \n",
    "# Replace all occurrences of the letter \"o\" with \"a\" and print the new string.\n",
    "\n",
    "message = \"Hello World!\"\n",
    "new_message = message.replace(\"o\", \"a\")\n",
    "print(new_message) "
   ]
  },
  {
   "cell_type": "code",
   "execution_count": 143,
   "id": "3eb5b871-49f3-4f70-be94-e0ff06f3fb0e",
   "metadata": {},
   "outputs": [
    {
     "name": "stdout",
     "output_type": "stream",
     "text": [
      "3\n"
     ]
    }
   ],
   "source": [
    "# You have a string text = \"banana\". \n",
    "# Count how many times the letter \"a\" appears in the string.\n",
    "\n",
    "text = \"banana\"\n",
    "count_a = text.count(\"a\")\n",
    "print(count_a)  "
   ]
  },
  {
   "cell_type": "code",
   "execution_count": 144,
   "id": "12c24ba8-83c3-4f3a-b7aa-8035fc2b1fa2",
   "metadata": {},
   "outputs": [
    {
     "name": "stdout",
     "output_type": "stream",
     "text": [
      "Game Of Thrones\n"
     ]
    }
   ],
   "source": [
    "# You have a string title = \"game of thrones\". \n",
    "# Capitalize the first letter of each word and print the result.\n",
    "title = \"game of thrones\"\n",
    "capitalized_title = title.title()\n",
    "print(capitalized_title)  "
   ]
  },
  {
   "cell_type": "code",
   "execution_count": 145,
   "id": "dee8d8eb-59c3-4c16-a5b8-feca157df025",
   "metadata": {},
   "outputs": [
    {
     "name": "stdout",
     "output_type": "stream",
     "text": [
      "hello world\n"
     ]
    }
   ],
   "source": [
    "# You have a string user_input = \"   hello world   \". \n",
    "# Remove the leading and trailing whitespace from the string and\n",
    "# print the result.\n",
    "user_input = \"   hello world   \"\n",
    "trimmed_input = user_input.strip()\n",
    "print(trimmed_input)  "
   ]
  },
  {
   "cell_type": "code",
   "execution_count": 146,
   "id": "5d5d6498-ce90-4145-bd7d-c382caccda3a",
   "metadata": {},
   "outputs": [
    {
     "name": "stdout",
     "output_type": "stream",
     "text": [
      "['Python', 'is', 'fun', 'to', 'learn']\n"
     ]
    }
   ],
   "source": [
    "sentence = \"Python is fun to learn\"\n",
    "words_list = sentence.split()\n",
    "print(words_list)"
   ]
  },
  {
   "cell_type": "code",
   "execution_count": 147,
   "id": "1e85a7ce-2edb-4d46-a4d8-750f764755be",
   "metadata": {},
   "outputs": [
    {
     "name": "stdout",
     "output_type": "stream",
     "text": [
      "True\n"
     ]
    }
   ],
   "source": [
    "# You have a string palindrome = \"madam\". \n",
    "# Reverse the string and check if it is the\n",
    "# same as the original.\n",
    "\n",
    "\n",
    "palindrome = \"madam\"\n",
    "reversed_palindrome = palindrome[::-1]\n",
    "is_palindrome = palindrome == reversed_palindrome\n",
    "print(is_palindrome)  \n"
   ]
  },
  {
   "cell_type": "code",
   "execution_count": null,
   "id": "e65f97a5-05e8-48f7-9dc6-3ca4222574c5",
   "metadata": {},
   "outputs": [],
   "source": []
  },
  {
   "cell_type": "code",
   "execution_count": null,
   "id": "91e562c6-9701-42ef-ba8c-50a80055ebb6",
   "metadata": {},
   "outputs": [],
   "source": []
  }
 ],
 "metadata": {
  "kernelspec": {
   "display_name": "Python 3 (ipykernel)",
   "language": "python",
   "name": "python3"
  },
  "language_info": {
   "codemirror_mode": {
    "name": "ipython",
    "version": 3
   },
   "file_extension": ".py",
   "mimetype": "text/x-python",
   "name": "python",
   "nbconvert_exporter": "python",
   "pygments_lexer": "ipython3",
   "version": "3.12.7"
  }
 },
 "nbformat": 4,
 "nbformat_minor": 5
}
