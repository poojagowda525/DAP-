{
 "cells": [
  {
   "cell_type": "markdown",
   "id": "3804a667-481a-492a-86fe-1bc1dbe2f666",
   "metadata": {},
   "source": [
    "### classes and objects"
   ]
  },
  {
   "cell_type": "code",
   "execution_count": 1,
   "id": "fe50cfa8-fa7d-472b-b20e-0bf1f3ca157b",
   "metadata": {},
   "outputs": [
    {
     "name": "stdout",
     "output_type": "stream",
     "text": [
      "<class 'str'>\n"
     ]
    }
   ],
   "source": [
    "a='hello world'\n",
    "print(type(a))"
   ]
  },
  {
   "cell_type": "code",
   "execution_count": 2,
   "id": "9a8976a4-e772-4a6f-ad02-85df12bd9fa4",
   "metadata": {},
   "outputs": [
    {
     "data": {
      "text/plain": [
       "'Hello world'"
      ]
     },
     "execution_count": 2,
     "metadata": {},
     "output_type": "execute_result"
    }
   ],
   "source": [
    "a.capitalize()"
   ]
  },
  {
   "cell_type": "code",
   "execution_count": 3,
   "id": "5f752a94-002a-4705-add6-4fea2588aab6",
   "metadata": {},
   "outputs": [
    {
     "name": "stdout",
     "output_type": "stream",
     "text": [
      "<class 'list'>\n"
     ]
    }
   ],
   "source": [
    "\n",
    "l=[1,2,3]\n",
    "print(type(l))"
   ]
  },
  {
   "cell_type": "code",
   "execution_count": 4,
   "id": "1e8e15d5-5f47-4191-844d-245737aef428",
   "metadata": {},
   "outputs": [
    {
     "data": {
      "text/plain": [
       "7"
      ]
     },
     "execution_count": 4,
     "metadata": {},
     "output_type": "execute_result"
    }
   ],
   "source": [
    "list1=[1,2,3,4,5,6,7]\n",
    "len(list1)"
   ]
  },
  {
   "cell_type": "code",
   "execution_count": 5,
   "id": "cc7582cd-44b1-4744-bb41-df0085898c5b",
   "metadata": {},
   "outputs": [
    {
     "data": {
      "text/plain": [
       "[1, 2, 3, 4, 5, 6, 7, 9]"
      ]
     },
     "execution_count": 5,
     "metadata": {},
     "output_type": "execute_result"
    }
   ],
   "source": [
    "list1.append(9)\n",
    "list1"
   ]
  },
  {
   "cell_type": "code",
   "execution_count": 6,
   "id": "d274dcdb-59df-473b-87cf-f7eae974e5d4",
   "metadata": {},
   "outputs": [
    {
     "data": {
      "text/plain": [
       "[1, 2, 3, 4, 5, 6, 7, 9, 34, 65, 13]"
      ]
     },
     "execution_count": 6,
     "metadata": {},
     "output_type": "execute_result"
    }
   ],
   "source": [
    "list1.extend([34,65,13])\n",
    "list1"
   ]
  },
  {
   "cell_type": "code",
   "execution_count": 7,
   "id": "1616be12-fa97-48ec-a5b1-e1e8cb19cc88",
   "metadata": {},
   "outputs": [
    {
     "data": {
      "text/plain": [
       "65"
      ]
     },
     "execution_count": 7,
     "metadata": {},
     "output_type": "execute_result"
    }
   ],
   "source": [
    "max(list1)"
   ]
  },
  {
   "cell_type": "code",
   "execution_count": 8,
   "id": "29009922-0ef6-4015-b83a-01683d9fa854",
   "metadata": {},
   "outputs": [
    {
     "data": {
      "text/plain": [
       "1"
      ]
     },
     "execution_count": 8,
     "metadata": {},
     "output_type": "execute_result"
    }
   ],
   "source": [
    "min(list1)"
   ]
  },
  {
   "cell_type": "code",
   "execution_count": 9,
   "id": "6dd59824-c01a-4b5f-9e83-4816b47e02ba",
   "metadata": {},
   "outputs": [
    {
     "data": {
      "text/plain": [
       "149"
      ]
     },
     "execution_count": 9,
     "metadata": {},
     "output_type": "execute_result"
    }
   ],
   "source": [
    "sum(list1)"
   ]
  },
  {
   "cell_type": "code",
   "execution_count": 11,
   "id": "86ea278c-fc0d-43d6-a2e9-48306a20e016",
   "metadata": {},
   "outputs": [],
   "source": [
    "class mobile_phone:\n",
    "    def __init__(self,a_col,b_size,c_numc):\n",
    "        self.color = a_col\n",
    "        self.size = b_size\n",
    "        self.camera = c_numc\n",
    "\n",
    "    def calling(self,call_rates):\n",
    "        print(f\"i am calling using {self.color} cell phone and the cell rates per second is {call_rates}\")\n",
    "\n",
    "samsung=mobile_phone(\"red\",10,2)"
   ]
  },
  {
   "cell_type": "code",
   "execution_count": 12,
   "id": "3d97d926-5be6-4005-8194-28bee7906b0e",
   "metadata": {},
   "outputs": [
    {
     "data": {
      "text/plain": [
       "'red'"
      ]
     },
     "execution_count": 12,
     "metadata": {},
     "output_type": "execute_result"
    }
   ],
   "source": [
    "samsung.color"
   ]
  },
  {
   "cell_type": "code",
   "execution_count": 13,
   "id": "3d4e6983-aad9-4518-8078-ee3dd7299e50",
   "metadata": {},
   "outputs": [
    {
     "data": {
      "text/plain": [
       "10"
      ]
     },
     "execution_count": 13,
     "metadata": {},
     "output_type": "execute_result"
    }
   ],
   "source": [
    "samsung.size"
   ]
  },
  {
   "cell_type": "code",
   "execution_count": 14,
   "id": "1b135760-e32d-4759-bc86-c8c2258b1440",
   "metadata": {},
   "outputs": [
    {
     "data": {
      "text/plain": [
       "2"
      ]
     },
     "execution_count": 14,
     "metadata": {},
     "output_type": "execute_result"
    }
   ],
   "source": [
    "samsung.camera"
   ]
  },
  {
   "cell_type": "code",
   "execution_count": 15,
   "id": "b6d89cbc-c4c4-4dfa-8fc7-edd88ceb32bc",
   "metadata": {},
   "outputs": [
    {
     "name": "stdout",
     "output_type": "stream",
     "text": [
      "i am calling using red cell phone and the cell rates per second is 0.5\n"
     ]
    }
   ],
   "source": [
    "samsung.calling(0.5)"
   ]
  },
  {
   "cell_type": "code",
   "execution_count": 16,
   "id": "a7cc6c52-c808-4e6e-84fd-1ecfe1ce44ef",
   "metadata": {},
   "outputs": [
    {
     "data": {
      "text/plain": [
       "<bound method mobile_phone.calling of <__main__.mobile_phone object at 0x0000028967CC18B0>>"
      ]
     },
     "execution_count": 16,
     "metadata": {},
     "output_type": "execute_result"
    }
   ],
   "source": [
    "samsung.calling"
   ]
  },
  {
   "cell_type": "code",
   "execution_count": 17,
   "id": "bc25b00e-5951-445e-9cd8-0e5e1681a437",
   "metadata": {},
   "outputs": [],
   "source": [
    "class goldenvillas:\n",
    "    def __init__(self,a,b,c,d,e):\n",
    "        self.color=a\n",
    "        self.is_furnish=b\n",
    "        self.is_rent=c\n",
    "        self.rooms=d\n",
    "        self.parking=e\n",
    "        \n",
    "    def describe_villa(self):\n",
    "        print(f'this villa ia having {self.color} color and it furnished and it is rented properly')\n",
    "\n",
    "obj=goldenvillas('white','yes',4000,2,'available')\n",
    "    "
   ]
  },
  {
   "cell_type": "code",
   "execution_count": null,
   "id": "000ecab8-b4d0-4f87-8e7d-61f7db8e2971",
   "metadata": {},
   "outputs": [],
   "source": []
  }
 ],
 "metadata": {
  "kernelspec": {
   "display_name": "Python 3 (ipykernel)",
   "language": "python",
   "name": "python3"
  },
  "language_info": {
   "codemirror_mode": {
    "name": "ipython",
    "version": 3
   },
   "file_extension": ".py",
   "mimetype": "text/x-python",
   "name": "python",
   "nbconvert_exporter": "python",
   "pygments_lexer": "ipython3",
   "version": "3.12.7"
  }
 },
 "nbformat": 4,
 "nbformat_minor": 5
}
