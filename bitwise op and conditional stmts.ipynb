{
 "cells": [
  {
   "cell_type": "code",
   "execution_count": null,
   "id": "db096265-d1a6-41af-84f3-8fcbe6425bc2",
   "metadata": {},
   "outputs": [],
   "source": [
    "## bitwise operator types (binay representation of integers)"
   ]
  },
  {
   "cell_type": "code",
   "execution_count": null,
   "id": "92ca1ebb-508c-4808-806a-2a138b85b787",
   "metadata": {},
   "outputs": [],
   "source": [
    "& - bitwise AND (sets each bit to 1 if both are 1)\n",
    "| - bitwise OR (sets each bit to 1 if one of the bits is 1)\n",
    "^ - bitwise XOR (sets each bit to 1 if only one of the bits is 1)\n",
    "~ - bitwise NOT(inverts all the bits)\n",
    "<< - left shift(shifts bits to the left by a specified number of positions)\n",
    ">> - right shift(shifts bits to the right  by a specified number of positions)\n",
    "                "
   ]
  },
  {
   "cell_type": "code",
   "execution_count": 3,
   "id": "2e2468dd-b2d7-49eb-bd0c-40f2d4432c41",
   "metadata": {},
   "outputs": [],
   "source": [
    "a = 5 # in binary 101\n",
    "b = 3 # in binary 011"
   ]
  },
  {
   "cell_type": "code",
   "execution_count": 4,
   "id": "730c86eb-a2c4-4c67-9717-12ce60c47b75",
   "metadata": {},
   "outputs": [
    {
     "name": "stdout",
     "output_type": "stream",
     "text": [
      "1\n"
     ]
    }
   ],
   "source": [
    "print(a&b)"
   ]
  },
  {
   "cell_type": "code",
   "execution_count": 5,
   "id": "af3b1213-d46a-4199-a6d6-8a519109f822",
   "metadata": {},
   "outputs": [
    {
     "name": "stdout",
     "output_type": "stream",
     "text": [
      "7\n"
     ]
    }
   ],
   "source": [
    "print(a|b)"
   ]
  },
  {
   "cell_type": "code",
   "execution_count": 6,
   "id": "c4077a7e-25f0-46f5-9b95-9bbc846ade7e",
   "metadata": {},
   "outputs": [
    {
     "name": "stdout",
     "output_type": "stream",
     "text": [
      "6\n"
     ]
    }
   ],
   "source": [
    "print(a^b)"
   ]
  },
  {
   "cell_type": "code",
   "execution_count": 7,
   "id": "3df86007-f4b3-4642-9940-8f86a3de5e61",
   "metadata": {},
   "outputs": [
    {
     "name": "stdout",
     "output_type": "stream",
     "text": [
      "20\n"
     ]
    }
   ],
   "source": [
    "print(a<<2)"
   ]
  },
  {
   "cell_type": "code",
   "execution_count": 8,
   "id": "06bae8dc-f1e1-4a38-b58a-05b84dcd210e",
   "metadata": {},
   "outputs": [
    {
     "name": "stdout",
     "output_type": "stream",
     "text": [
      "1\n"
     ]
    }
   ],
   "source": [
    "print(a>>2)"
   ]
  },
  {
   "cell_type": "code",
   "execution_count": 13,
   "id": "90fa46d5-ca30-48fd-9b75-1aeb91d18cb4",
   "metadata": {},
   "outputs": [
    {
     "name": "stdout",
     "output_type": "stream",
     "text": [
      "-6\n"
     ]
    }
   ],
   "source": [
    "print(~a)"
   ]
  },
  {
   "cell_type": "code",
   "execution_count": 1,
   "id": "7561ebaa-5e0c-49c5-a7e7-3773819acae0",
   "metadata": {},
   "outputs": [
    {
     "data": {
      "text/plain": [
       "11"
      ]
     },
     "execution_count": 1,
     "metadata": {},
     "output_type": "execute_result"
    }
   ],
   "source": [
    "name = (\"pooja gowda\")\n",
    "len(name)"
   ]
  },
  {
   "cell_type": "markdown",
   "id": "e0cd76de-d09a-4b35-9504-2582e5caddcc",
   "metadata": {},
   "source": [
    "## conditional statements"
   ]
  },
  {
   "cell_type": "markdown",
   "id": "c6c49d13-3be3-4587-9c26-1b4484c19816",
   "metadata": {},
   "source": [
    "#### if statement"
   ]
  },
  {
   "cell_type": "code",
   "execution_count": 2,
   "id": "597bd0bf-8208-4a28-9bd7-4850cbc626cf",
   "metadata": {},
   "outputs": [],
   "source": [
    "a = [1,2,3,45,67]"
   ]
  },
  {
   "cell_type": "code",
   "execution_count": 5,
   "id": "295dfa0c-1879-41fb-a199-124384aa8eec",
   "metadata": {},
   "outputs": [
    {
     "name": "stdout",
     "output_type": "stream",
     "text": [
      "yes  3 in a\n"
     ]
    }
   ],
   "source": [
    "3 in a\n",
    "\n",
    "print(\"yes  3 in a\")"
   ]
  },
  {
   "cell_type": "code",
   "execution_count": 10,
   "id": "98e2120e-1959-4d6e-ad4d-9101151e8825",
   "metadata": {},
   "outputs": [
    {
     "name": "stdout",
     "output_type": "stream",
     "text": [
      "eligible to vote\n"
     ]
    }
   ],
   "source": [
    "# ex 1\n",
    "age = 18\n",
    "if age >=18:\n",
    "   print(\"eligible to vote\")"
   ]
  },
  {
   "cell_type": "code",
   "execution_count": 11,
   "id": "6af5296a-5ab1-42ea-b4f8-4795dfceac3b",
   "metadata": {},
   "outputs": [
    {
     "name": "stdout",
     "output_type": "stream",
     "text": [
      "4 is in\n",
      "i got it\n"
     ]
    }
   ],
   "source": [
    "#if statements\n",
    "\n",
    "#ex-2\n",
    "numbers =[1,4,6,6]\n",
    "4 in numbers \n",
    "if 4 in numbers :\n",
    "    print(\"4 is in\")\n",
    "    print(\"i got it\")"
   ]
  },
  {
   "cell_type": "code",
   "execution_count": 12,
   "id": "372cfc8b-b334-4f95-9645-0ac3348ff02f",
   "metadata": {},
   "outputs": [
    {
     "name": "stdout",
     "output_type": "stream",
     "text": [
      "they are minor\n"
     ]
    }
   ],
   "source": [
    "#ex-2\n",
    "age = 19\n",
    "if age >=18:\n",
    "   print(\"they are minor\") "
   ]
  },
  {
   "cell_type": "code",
   "execution_count": 13,
   "id": "557c6af8-559e-4df5-b109-3a95026c86b4",
   "metadata": {},
   "outputs": [
    {
     "name": "stdout",
     "output_type": "stream",
     "text": [
      " yes number ig greater\n"
     ]
    }
   ],
   "source": [
    "#ex-3\n",
    "if 6>4:\n",
    "     print(\" yes number ig greater\")"
   ]
  },
  {
   "cell_type": "code",
   "execution_count": 14,
   "id": "4a4df1c9-e38e-4d8d-9b94-970978e70400",
   "metadata": {},
   "outputs": [
    {
     "name": "stdout",
     "output_type": "stream",
     "text": [
      "number is greater\n"
     ]
    }
   ],
   "source": [
    "#ex-4\n",
    "if 5>=5:\n",
    "   print(\"number is greater\")\n",
    "else:\n",
    "   print(\"number is lesser\")"
   ]
  },
  {
   "cell_type": "code",
   "execution_count": 15,
   "id": "ef6e6c61-f729-4b72-ac94-e6db4629603d",
   "metadata": {},
   "outputs": [
    {
     "name": "stdout",
     "output_type": "stream",
     "text": [
      "yex is 10\n"
     ]
    }
   ],
   "source": [
    "#ex-5\n",
    "x = 10\n",
    "if x==10:\n",
    "    print(\"yex is 10\")"
   ]
  },
  {
   "cell_type": "code",
   "execution_count": 16,
   "id": "9dd25418-a360-41b9-81eb-1cb0db51fe30",
   "metadata": {},
   "outputs": [
    {
     "name": "stdout",
     "output_type": "stream",
     "text": [
      "14 is even number\n"
     ]
    }
   ],
   "source": [
    "#ex-6\n",
    "x = 14\n",
    "if x%2==0:\n",
    "    print(\"14 is even number\")"
   ]
  },
  {
   "cell_type": "markdown",
   "id": "b86749c0-802f-448d-b0f3-b41b2ddbb175",
   "metadata": {},
   "source": [
    "# if-else-statements\n",
    "#### The `else` clause provides an alternative block of code that runs if the `if` condition is `False`."
   ]
  },
  {
   "cell_type": "code",
   "execution_count": 17,
   "id": "07cdd604-1f00-433c-821f-88a3ffeb5ab7",
   "metadata": {},
   "outputs": [
    {
     "name": "stdout",
     "output_type": "stream",
     "text": [
      "yes temeprature is hot\n"
     ]
    }
   ],
   "source": [
    "#if-else-statements\n",
    "\n",
    "#ex-1\n",
    "temperature = 30\n",
    "if temperature <=30:\n",
    "    print(\"yes temeprature is hot\")\n",
    "else:\n",
    "    print(\"yes temperature if cool\")"
   ]
  },
  {
   "cell_type": "code",
   "execution_count": 20,
   "id": "e4fdd5ba-2f3b-48cd-8216-f2718fd2a67b",
   "metadata": {},
   "outputs": [
    {
     "name": "stdout",
     "output_type": "stream",
     "text": [
      "yes temperature is cool\n"
     ]
    }
   ],
   "source": [
    "temperature = 30\n",
    "if temperature >=60:\n",
    "    print(\"yes temeprature is hot\")\n",
    "else:\n",
    "    print(\"yes temperature is cool\")"
   ]
  },
  {
   "cell_type": "code",
   "execution_count": 21,
   "id": "d1f622e3-7d64-45ce-9868-110d77ac25c0",
   "metadata": {},
   "outputs": [
    {
     "name": "stdout",
     "output_type": "stream",
     "text": [
      "smaller\n"
     ]
    }
   ],
   "source": [
    "if 5<2:\n",
    "\tprint(\"Greater\")\n",
    "else:\n",
    "    print(\"smaller\")\n"
   ]
  },
  {
   "cell_type": "code",
   "execution_count": 23,
   "id": "e188dfc8-06fb-405b-a370-084d0210a349",
   "metadata": {},
   "outputs": [
    {
     "name": "stdin",
     "output_type": "stream",
     "text": [
      "enter a number 87\n"
     ]
    },
    {
     "name": "stdout",
     "output_type": "stream",
     "text": [
      "yes number is odd\n"
     ]
    }
   ],
   "source": [
    "#ex-2\n",
    "num = int(input(\"enter a number\"))\n",
    "if num% 2 == 0:\n",
    "       print(\"yes number is even\")\n",
    "else:\n",
    "       print(\"yes number is odd\")"
   ]
  },
  {
   "cell_type": "code",
   "execution_count": 24,
   "id": "f1eaa8f7-9618-488a-9005-f9b6b0279a09",
   "metadata": {},
   "outputs": [
    {
     "name": "stdin",
     "output_type": "stream",
     "text": [
      "enter the number  2\n"
     ]
    },
    {
     "name": "stdout",
     "output_type": "stream",
     "text": [
      "Number is even\n"
     ]
    }
   ],
   "source": [
    "#Check for even Number\n",
    "num = int(input(\"enter the number \"))\n",
    "if num%2 == 0:\n",
    "    print(\"Number is even\")"
   ]
  },
  {
   "cell_type": "code",
   "execution_count": 31,
   "id": "598daeb4-1178-4c80-95d0-c52af53a076c",
   "metadata": {},
   "outputs": [
    {
     "name": "stdin",
     "output_type": "stream",
     "text": [
      "enter name teja\n"
     ]
    },
    {
     "ename": "NameError",
     "evalue": "name 'pooja' is not defined",
     "output_type": "error",
     "traceback": [
      "\u001b[1;31m---------------------------------------------------------------------------\u001b[0m",
      "\u001b[1;31mNameError\u001b[0m                                 Traceback (most recent call last)",
      "Cell \u001b[1;32mIn[31], line 3\u001b[0m\n\u001b[0;32m      1\u001b[0m \u001b[38;5;66;03m#ex-1\u001b[39;00m\n\u001b[0;32m      2\u001b[0m name \u001b[38;5;241m=\u001b[39m(\u001b[38;5;28minput\u001b[39m(\u001b[38;5;124m\"\u001b[39m\u001b[38;5;124menter name\u001b[39m\u001b[38;5;124m\"\u001b[39m))\n\u001b[1;32m----> 3\u001b[0m \u001b[38;5;28;01mif\u001b[39;00m name \u001b[38;5;241m==\u001b[39m pooja:\n\u001b[0;32m      4\u001b[0m     \u001b[38;5;28mprint\u001b[39m(\u001b[38;5;124m\"\u001b[39m\u001b[38;5;124myes name is match\u001b[39m\u001b[38;5;124m\"\u001b[39m)\n\u001b[0;32m      5\u001b[0m \u001b[38;5;28;01melse\u001b[39;00m:\n",
      "\u001b[1;31mNameError\u001b[0m: name 'pooja' is not defined"
     ]
    }
   ],
   "source": [
    "#ex-1\n",
    "name =(input(\"enter name\"))\n",
    "if name == pooja:\n",
    "    print(\"yes name is match\")\n",
    "else:\n",
    "    print(\"name does not match\")\n"
   ]
  },
  {
   "cell_type": "markdown",
   "id": "82aaf665-e125-4955-96c6-cd4cf87cf2f3",
   "metadata": {},
   "source": [
    "## elif statements\n",
    " #### Executes code block if a condition is true; elif: Additional condition to check if previous conditions are false."
   ]
  },
  {
   "cell_type": "code",
   "execution_count": 32,
   "id": "d6af0536-73df-4fe4-ab1a-1f414ee269fe",
   "metadata": {},
   "outputs": [
    {
     "name": "stdout",
     "output_type": "stream",
     "text": [
      "grade c\n"
     ]
    }
   ],
   "source": [
    "marks = 80\n",
    "if marks >=65:\n",
    "    print(\"grade c\")\n",
    "elif marks >= 75:\n",
    "    print(\"grade b\")\n",
    "elif marks >=80:\n",
    "    print(\"grade a\")\n",
    "elif marks <=37:\n",
    "    print(\"grade d\")"
   ]
  },
  {
   "cell_type": "code",
   "execution_count": 13,
   "id": "4a2b0c4a-c357-4435-9838-f0cfecdf702e",
   "metadata": {},
   "outputs": [
    {
     "name": "stdout",
     "output_type": "stream",
     "text": [
      "passwoed is moderate\n"
     ]
    }
   ],
   "source": [
    "password = \"pooja@123\"\n",
    "if len(password) <=2:\n",
    "  print(\"password is week\")\n",
    "if len(password) >=5:\n",
    "  print(\"passwoed is moderate\")\n",
    "else:\n",
    "  print(\"password is strong\")"
   ]
  },
  {
   "cell_type": "code",
   "execution_count": 33,
   "id": "90266d89-a27d-46c9-8607-03228bece70c",
   "metadata": {},
   "outputs": [
    {
     "name": "stdin",
     "output_type": "stream",
     "text": [
      "Enter first number:  4\n",
      "Enter second number:  45\n",
      "Enter third number:  28\n"
     ]
    },
    {
     "name": "stdout",
     "output_type": "stream",
     "text": [
      "Largest number is: 45\n"
     ]
    }
   ],
   "source": [
    "num1 = int(input(\"Enter first number: \"))\n",
    "num2 = int(input(\"Enter second number: \"))\n",
    "num3 = int(input(\"Enter third number: \"))\n",
    "\n",
    "if num1 >= num2 and num1 >= num3:\n",
    "    print(\"Largest number is:\", num1)\n",
    "if num2 >= num1 and num2 >= num3:\n",
    "    print(\"Largest number is:\", num2)\n",
    "if num3 >= num1 and num3 >= num2:\n",
    "    print(\"Largest number is:\", num3)"
   ]
  },
  {
   "cell_type": "code",
   "execution_count": 34,
   "id": "172cab80-932a-4826-b8f4-6d7e7dd69321",
   "metadata": {},
   "outputs": [
    {
     "name": "stdout",
     "output_type": "stream",
     "text": [
      "today is tuesday\n",
      "this is out of the elif\n"
     ]
    }
   ],
   "source": [
    "#if any statement becomes true then it stops the execution and run that particular instance\n",
    "# If elif Statement\n",
    "day = \"tuesday\"\n",
    "if day ==\"monday\":      #this becomes false\n",
    "    print(\"today is monday\")\n",
    "elif day == \"tuesday\":\n",
    "    print (\"today is tuesday\")\n",
    "elif day == \"tuesday\":\n",
    "    print(\"today is wednesday\")\n",
    "print(\"this is out of the elif\")"
   ]
  },
  {
   "cell_type": "code",
   "execution_count": 35,
   "id": "2d781da0-6076-43fd-b07a-cb444b62c4f3",
   "metadata": {},
   "outputs": [
    {
     "name": "stdout",
     "output_type": "stream",
     "text": [
      "today is tuesday\n"
     ]
    }
   ],
   "source": [
    "#if any statement becomes true then it stops the execution and run that particular instance\n",
    "# If elif Statement\n",
    "day = \"tuesday\"\n",
    "if day ==\"monday\":                 \n",
    "    print(\"today is monday\")\n",
    "elif day == \"tuesday\":            #just look at this this became true hence it didnot check further\n",
    "    print (\"today is tuesday\")\n",
    "elif day == \"tuesday\":            #though this is true the pointer didnt come to this position\n",
    "    print(\"today is tuesday 2\")     #becuase the execution was stoppd"
   ]
  },
  {
   "cell_type": "code",
   "execution_count": 37,
   "id": "52223df0-2daf-4096-8eb0-a3060406e7bf",
   "metadata": {},
   "outputs": [
    {
     "name": "stdout",
     "output_type": "stream",
     "text": [
      "today is holiday\n"
     ]
    }
   ],
   "source": [
    "day = \"sunday\"\n",
    "if day ==\"monday\":\n",
    "    print(\"today is monday\")\n",
    "elif day == \"tuesday\":                       #spelling mistake\n",
    "    print (\"today is tuesday\")\n",
    "elif day == \"wednesday\":\n",
    "    print(\"today is wednesday\")\n",
    "else:\n",
    "    print(\"today is holiday\")"
   ]
  },
  {
   "cell_type": "markdown",
   "id": "eeb4ff56-b106-40dd-8290-e056cef336e9",
   "metadata": {},
   "source": [
    "### Nested If"
   ]
  },
  {
   "cell_type": "code",
   "execution_count": 44,
   "id": "b9d10ac5-db33-438d-a59b-d6acc3734eac",
   "metadata": {},
   "outputs": [
    {
     "name": "stdout",
     "output_type": "stream",
     "text": [
      "The number is positive\n",
      "The number is even\n",
      "This will be printed anyhow\n"
     ]
    }
   ],
   "source": [
    "\n",
    "number = 2\n",
    "if number > 0 :\n",
    "    print(\"The number is positive\")\n",
    "    if number % 2 ==0 :\n",
    "        print(\"The number is even\")\n",
    "    else:\n",
    "        print(\"The number is odd\")\n",
    "else:\n",
    "    print(\"The number is negative\")\n",
    "print(\"This will be printed anyhow\")"
   ]
  },
  {
   "cell_type": "code",
   "execution_count": 45,
   "id": "08b28881-5359-4005-b187-0afd952a0be8",
   "metadata": {},
   "outputs": [
    {
     "name": "stdout",
     "output_type": "stream",
     "text": [
      "The number is negative or zero.\n"
     ]
    }
   ],
   "source": [
    "if number < 0:\n",
    "    print(\"The number is positive.\")\n",
    "    if number % 2 == 0:\n",
    "        print(\"The number is even.\")\n",
    "    else:\n",
    "        print(\"The number is odd.\")\n",
    "else:\n",
    "    print(\"The number is negative or zero.\")\n",
    "        "
   ]
  },
  {
   "cell_type": "code",
   "execution_count": 47,
   "id": "c11ff64a-6bce-4ada-82e9-674a3fb99da7",
   "metadata": {},
   "outputs": [
    {
     "name": "stdout",
     "output_type": "stream",
     "text": [
      "The number is positive.\n",
      "The number is even.\n"
     ]
    }
   ],
   "source": [
    "if number > 0:\n",
    "    print(\"The number is positive.\")\n",
    "    if number % 2 == 0:\n",
    "        print(\"The number is even.\")\n",
    "    else:\n",
    "        print(\"The number is odd.\")\n",
    "else:\n",
    "    print(\"The number is negative or zero.\")\n",
    "        "
   ]
  },
  {
   "cell_type": "code",
   "execution_count": 51,
   "id": "5a4161ef-110b-4a08-8ca0-4bc6ad1b2618",
   "metadata": {},
   "outputs": [],
   "source": [
    "# Nested If Statement\n",
    "if 5<2:                                  #false\n",
    "\tprint(\"Greater\")\n",
    "\tprint(\"5 is greater than 2\")\n",
    "\tif(6>2):\n",
    "\t\tprint(\"6 is Greater than 2\")"
   ]
  },
  {
   "cell_type": "code",
   "execution_count": 53,
   "id": "865a2f7b-2160-47ba-b9d1-17001f2c5844",
   "metadata": {},
   "outputs": [
    {
     "name": "stdout",
     "output_type": "stream",
     "text": [
      "Greater\n",
      "5 is greater than 2\n",
      "6 is Greater than 2\n",
      "hello\n"
     ]
    }
   ],
   "source": [
    "# Nested If Statement\n",
    "if 5>2:                               \n",
    "    print(\"Greater\")                  \n",
    "    print(\"5 is greater than 2\")\n",
    "    if(6>2):\n",
    "        print(\"6 is Greater than 2\")\n",
    "        print(\"hello\")"
   ]
  },
  {
   "cell_type": "code",
   "execution_count": 54,
   "id": "50e71684-eae4-4b1e-9722-532dcd8ed4d0",
   "metadata": {},
   "outputs": [
    {
     "name": "stdout",
     "output_type": "stream",
     "text": [
      "greater\n",
      "biger\n",
      "highest\n",
      "rest of the code\n"
     ]
    }
   ],
   "source": [
    "#Nested IF\n",
    "if 5>2:                                   #true\n",
    "    print(\"greater\")\n",
    "    if 6>5:                              #true\n",
    "        print(\"biger\")\n",
    "        if 7>6:                          #true\n",
    "            print(\"highest\")\n",
    "print(\"rest of the code\")"
   ]
  },
  {
   "cell_type": "code",
   "execution_count": 52,
   "id": "5f41a9fa-ff3b-4929-bca3-261fb7c13d5d",
   "metadata": {},
   "outputs": [
    {
     "name": "stdout",
     "output_type": "stream",
     "text": [
      "greater\n",
      "rest of the code\n"
     ]
    }
   ],
   "source": [
    "#Nested IF\n",
    "if 5>2:                           #true\n",
    "    print(\"greater\")\n",
    "    if 6<5:                       #false      UNDERSTAND THE MODE OF EXECUTION\n",
    "        print(\"biger\")\n",
    "        if 7>6:                  # #true\n",
    "            print(\"highest\")\n",
    "print(\"rest of the code\")"
   ]
  },
  {
   "cell_type": "code",
   "execution_count": 55,
   "id": "e8668017-1532-482a-870a-31ebbd7f18aa",
   "metadata": {},
   "outputs": [
    {
     "name": "stdout",
     "output_type": "stream",
     "text": [
      "It's warm!\n"
     ]
    }
   ],
   "source": [
    "temperature = 15  # Example temperature\n",
    "\n",
    "if temperature < 0:\n",
    "    print(\"It's freezing!\")\n",
    "elif temperature < 10:\n",
    "    print(\"It's cold!\")\n",
    "elif temperature < 25:\n",
    "    print(\"It's warm!\")\n",
    "else:\n",
    "    print(\"It's hot!\")"
   ]
  },
  {
   "cell_type": "code",
   "execution_count": 56,
   "id": "c6d7e71b-1d1c-41a5-bf23-e41c0513ffd5",
   "metadata": {},
   "outputs": [
    {
     "name": "stdin",
     "output_type": "stream",
     "text": [
      "enter the temparature 4\n"
     ]
    },
    {
     "name": "stdout",
     "output_type": "stream",
     "text": [
      "It's cold!\n"
     ]
    }
   ],
   "source": [
    "temperature = int(input(\"enter the temparature\"))\n",
    "\n",
    "if temperature < 0:\n",
    "    print(\"It's freezing!\")\n",
    "elif temperature < 10:\n",
    "    print(\"It's cold!\")\n",
    "elif temperature < 25:\n",
    "    print(\"It's warm!\")\n",
    "else:\n",
    "    print(\"It's hot!\")"
   ]
  },
  {
   "cell_type": "code",
   "execution_count": 57,
   "id": "3cd4a67c-3a5f-4c1a-b05f-27a30ba8dec2",
   "metadata": {},
   "outputs": [
    {
     "name": "stdout",
     "output_type": "stream",
     "text": [
      "Ticket Price: $20\n"
     ]
    }
   ],
   "source": [
    "age = 16  # Example age\n",
    "\n",
    "if age < 5:\n",
    "    print(\"Ticket Price: Free\")\n",
    "elif age < 13:\n",
    "    print(\"Ticket Price: $10\")\n",
    "elif age < 18:\n",
    "    print(\"Ticket Price: $20\")\n",
    "else:\n",
    "    print(\"Ticket Price: $25\")"
   ]
  },
  {
   "cell_type": "code",
   "execution_count": 58,
   "id": "b6d85412-cbfd-4044-a450-7375ef9d9328",
   "metadata": {},
   "outputs": [
    {
     "name": "stdout",
     "output_type": "stream",
     "text": [
      "You are eligible to apply for a driver's license.\n"
     ]
    }
   ],
   "source": [
    "age = 20  # Example age\n",
    "vision_test_passed = True  # Example test result\n",
    "\n",
    "if age >= 18 and vision_test_passed:\n",
    "    print(\"You are eligible to apply for a driver's license.\")\n",
    "else:\n",
    "    print(\"You are not eligible to apply for a driver's license.\")"
   ]
  }
 ],
 "metadata": {
  "kernelspec": {
   "display_name": "Python 3 (ipykernel)",
   "language": "python",
   "name": "python3"
  },
  "language_info": {
   "codemirror_mode": {
    "name": "ipython",
    "version": 3
   },
   "file_extension": ".py",
   "mimetype": "text/x-python",
   "name": "python",
   "nbconvert_exporter": "python",
   "pygments_lexer": "ipython3",
   "version": "3.12.7"
  }
 },
 "nbformat": 4,
 "nbformat_minor": 5
}
