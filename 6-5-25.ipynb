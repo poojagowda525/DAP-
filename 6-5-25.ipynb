{
 "cells": [
  {
   "cell_type": "markdown",
   "id": "88b8ce5e-41a3-42ec-b76b-495b7b2dc2df",
   "metadata": {},
   "source": [
    "## string"
   ]
  },
  {
   "cell_type": "code",
   "execution_count": 4,
   "id": "cc58fe16-1e26-436d-b1a1-e947a3c5622e",
   "metadata": {},
   "outputs": [
    {
     "data": {
      "text/plain": [
       "1"
      ]
     },
     "execution_count": 4,
     "metadata": {},
     "output_type": "execute_result"
    }
   ],
   "source": [
    "l = [1,2,3,4,5,6]\n",
    "l[0]=100 \n",
    "1"
   ]
  },
  {
   "cell_type": "code",
   "execution_count": 5,
   "id": "559af0a9-a80d-408d-ac02-69da84b8c667",
   "metadata": {},
   "outputs": [],
   "source": [
    "l[0]=100 "
   ]
  },
  {
   "cell_type": "code",
   "execution_count": 7,
   "id": "259d75aa-748b-4af6-bfdc-75b0a735e157",
   "metadata": {},
   "outputs": [
    {
     "data": {
      "text/plain": [
       "'d'"
      ]
     },
     "execution_count": 7,
     "metadata": {},
     "output_type": "execute_result"
    }
   ],
   "source": [
    "a = \"kjasdfhkj\"\n",
    "a[4]"
   ]
  },
  {
   "cell_type": "code",
   "execution_count": 9,
   "id": "60356332-9099-418f-b5a5-b9a875353271",
   "metadata": {},
   "outputs": [
    {
     "data": {
      "text/plain": [
       "str"
      ]
     },
     "execution_count": 9,
     "metadata": {},
     "output_type": "execute_result"
    }
   ],
   "source": [
    "type(a)"
   ]
  },
  {
   "cell_type": "markdown",
   "id": "6a6c82b2-4d34-4cbe-9836-9e0e9332a4fd",
   "metadata": {},
   "source": [
    "## single quated string"
   ]
  },
  {
   "cell_type": "code",
   "execution_count": 10,
   "id": "1e0aa7ca-d162-447d-91b0-b23a2617366c",
   "metadata": {},
   "outputs": [
    {
     "data": {
      "text/plain": [
       "'Hello, World!'"
      ]
     },
     "execution_count": 10,
     "metadata": {},
     "output_type": "execute_result"
    }
   ],
   "source": [
    "\n",
    "single_quote_string = 'Hello, World!'\n",
    "single_quote_string"
   ]
  },
  {
   "cell_type": "code",
   "execution_count": 11,
   "id": "7760f0f1-4a9e-4cb4-a1c2-dc5fb17c6a19",
   "metadata": {
    "scrolled": true
   },
   "outputs": [
    {
     "data": {
      "text/plain": [
       "'pooja gowda'"
      ]
     },
     "execution_count": 11,
     "metadata": {},
     "output_type": "execute_result"
    }
   ],
   "source": [
    "name = 'pooja gowda'\n",
    "name"
   ]
  },
  {
   "cell_type": "markdown",
   "id": "1ab06564-1588-46f7-bd19-21971189fc20",
   "metadata": {},
   "source": [
    "## double quated string"
   ]
  },
  {
   "cell_type": "code",
   "execution_count": 13,
   "id": "7d6f7e16-0024-450b-b2cc-e7606a8d25fd",
   "metadata": {},
   "outputs": [
    {
     "data": {
      "text/plain": [
       "'Hello, World!'"
      ]
     },
     "execution_count": 13,
     "metadata": {},
     "output_type": "execute_result"
    }
   ],
   "source": [
    "single_quote_string = \"Hello, World!\"\n",
    "single_quote_string"
   ]
  },
  {
   "cell_type": "code",
   "execution_count": 14,
   "id": "3249d8ab-0b64-4862-ad5b-b19c037f9397",
   "metadata": {},
   "outputs": [
    {
     "data": {
      "text/plain": [
       "'pooja gowda'"
      ]
     },
     "execution_count": 14,
     "metadata": {},
     "output_type": "execute_result"
    }
   ],
   "source": [
    "name = \"pooja gowda\"\n",
    "name"
   ]
  },
  {
   "cell_type": "code",
   "execution_count": 15,
   "id": "b31f1481-277a-4849-afc9-e1ef4ac8fbab",
   "metadata": {},
   "outputs": [
    {
     "data": {
      "text/plain": [
       "'a'"
      ]
     },
     "execution_count": 15,
     "metadata": {},
     "output_type": "execute_result"
    }
   ],
   "source": [
    "name[4]"
   ]
  },
  {
   "cell_type": "markdown",
   "id": "d5c08c7d-e30e-4083-9cba-4be73e905434",
   "metadata": {},
   "source": [
    "## indexing"
   ]
  },
  {
   "cell_type": "code",
   "execution_count": 16,
   "id": "a3731aad-3f13-4c19-928f-1edc8a7da6d0",
   "metadata": {},
   "outputs": [
    {
     "data": {
      "text/plain": [
       "' '"
      ]
     },
     "execution_count": 16,
     "metadata": {},
     "output_type": "execute_result"
    }
   ],
   "source": [
    "my_string = \"Hello, World\"\n",
    "my_string[6]"
   ]
  },
  {
   "cell_type": "code",
   "execution_count": 17,
   "id": "13c3de89-2ef6-4d51-b106-842e46b6dddb",
   "metadata": {},
   "outputs": [
    {
     "data": {
      "text/plain": [
       "'H'"
      ]
     },
     "execution_count": 17,
     "metadata": {},
     "output_type": "execute_result"
    }
   ],
   "source": [
    "my_string[0]"
   ]
  },
  {
   "cell_type": "code",
   "execution_count": 19,
   "id": "e7f631be-f47a-40f4-82dc-d4fda350a4f7",
   "metadata": {},
   "outputs": [
    {
     "data": {
      "text/plain": [
       "'p'"
      ]
     },
     "execution_count": 19,
     "metadata": {},
     "output_type": "execute_result"
    }
   ],
   "source": [
    "name = \"pooja gowda\"\n",
    "name[0]\n"
   ]
  },
  {
   "cell_type": "code",
   "execution_count": 20,
   "id": "0dfc255e-a46a-44ea-9ae0-4c12e320de88",
   "metadata": {},
   "outputs": [
    {
     "data": {
      "text/plain": [
       "'Pyt'"
      ]
     },
     "execution_count": 20,
     "metadata": {},
     "output_type": "execute_result"
    }
   ],
   "source": [
    "my_string = \"Python Programming\"\n",
    "my_string[:3]"
   ]
  },
  {
   "cell_type": "code",
   "execution_count": 21,
   "id": "73a630ea-42b7-4b3a-a11b-74cd3fde433e",
   "metadata": {},
   "outputs": [
    {
     "data": {
      "text/plain": [
       "'ytho'"
      ]
     },
     "execution_count": 21,
     "metadata": {},
     "output_type": "execute_result"
    }
   ],
   "source": [
    "my_string[1:5]"
   ]
  },
  {
   "cell_type": "code",
   "execution_count": 22,
   "id": "e430b57e-cf9a-4503-bdf4-c149367f5beb",
   "metadata": {},
   "outputs": [
    {
     "data": {
      "text/plain": [
       "'n'"
      ]
     },
     "execution_count": 22,
     "metadata": {},
     "output_type": "execute_result"
    }
   ],
   "source": [
    "my_string[-2:-1]"
   ]
  },
  {
   "cell_type": "code",
   "execution_count": 23,
   "id": "9b8d190e-04e0-4a21-a506-86b6837136b9",
   "metadata": {},
   "outputs": [],
   "source": [
    "my_string = \"Python Programming\""
   ]
  },
  {
   "cell_type": "code",
   "execution_count": 24,
   "id": "d2e8fa2d-a952-4960-8e37-dda230295afd",
   "metadata": {},
   "outputs": [
    {
     "data": {
      "text/plain": [
       "'i'"
      ]
     },
     "execution_count": 24,
     "metadata": {},
     "output_type": "execute_result"
    }
   ],
   "source": [
    "my_string[-3]"
   ]
  },
  {
   "cell_type": "code",
   "execution_count": 25,
   "id": "8f1fb908-2d4d-42df-998b-69537e1042e7",
   "metadata": {},
   "outputs": [
    {
     "data": {
      "text/plain": [
       "'h'"
      ]
     },
     "execution_count": 25,
     "metadata": {},
     "output_type": "execute_result"
    }
   ],
   "source": [
    "# Positive Indexing   #every character has a number and indexing in python starts with 0\n",
    "b = 'hello world'\n",
    "b[0] "
   ]
  },
  {
   "cell_type": "code",
   "execution_count": 26,
   "id": "38d3f35d-60fb-4695-8c03-132c1b494591",
   "metadata": {},
   "outputs": [
    {
     "data": {
      "text/plain": [
       "'d'"
      ]
     },
     "execution_count": 26,
     "metadata": {},
     "output_type": "execute_result"
    }
   ],
   "source": [
    "# Negative Indexing\n",
    "c = 'hello world'\n",
    "c[-1]"
   ]
  },
  {
   "cell_type": "markdown",
   "id": "e7c014ae-64ee-48ba-a90d-23c9061e2035",
   "metadata": {},
   "source": [
    "## slicing"
   ]
  },
  {
   "cell_type": "code",
   "execution_count": null,
   "id": "09a144db-ca9f-42d8-baa2-208582aca16b",
   "metadata": {},
   "outputs": [],
   "source": [
    "[start : stop : step]"
   ]
  },
  {
   "cell_type": "code",
   "execution_count": 28,
   "id": "3599dabf-9cd0-4615-985c-2fa7782c92dd",
   "metadata": {},
   "outputs": [
    {
     "data": {
      "text/plain": [
       "'Py'"
      ]
     },
     "execution_count": 28,
     "metadata": {},
     "output_type": "execute_result"
    }
   ],
   "source": [
    "text= \"Python Programming\"\n",
    "text[0:2]"
   ]
  },
  {
   "cell_type": "code",
   "execution_count": 29,
   "id": "d8f26298-af39-474d-8498-ab4f1fa12dda",
   "metadata": {},
   "outputs": [
    {
     "data": {
      "text/plain": [
       "'Pytho'"
      ]
     },
     "execution_count": 29,
     "metadata": {},
     "output_type": "execute_result"
    }
   ],
   "source": [
    "text[0:5]"
   ]
  },
  {
   "cell_type": "code",
   "execution_count": 30,
   "id": "9aa55b8c-1950-4364-91d2-a84210387111",
   "metadata": {},
   "outputs": [
    {
     "data": {
      "text/plain": [
       "'Ph'"
      ]
     },
     "execution_count": 30,
     "metadata": {},
     "output_type": "execute_result"
    }
   ],
   "source": [
    "text[0:5:3]"
   ]
  },
  {
   "cell_type": "markdown",
   "id": "3ce87065-64bf-43f2-bcfd-de8dc04bbafe",
   "metadata": {},
   "source": [
    "## basic slicing"
   ]
  },
  {
   "cell_type": "code",
   "execution_count": 33,
   "id": "964bde31-3332-4c26-b95f-ca44d6529a67",
   "metadata": {},
   "outputs": [],
   "source": [
    "text = \"Python Programming\"\n",
    "    # Extracting a substring from index 0 to 6 (excluding 6)\n",
    "substring = text[0:6]  "
   ]
  },
  {
   "cell_type": "code",
   "execution_count": 34,
   "id": "7ceacfa4-f1c5-4cb1-899e-056ead4576f6",
   "metadata": {},
   "outputs": [
    {
     "data": {
      "text/plain": [
       "'Python'"
      ]
     },
     "execution_count": 34,
     "metadata": {},
     "output_type": "execute_result"
    }
   ],
   "source": [
    "substring"
   ]
  },
  {
   "cell_type": "code",
   "execution_count": null,
   "id": "b77e6415-af67-42ad-89c5-90c1284f1c1f",
   "metadata": {},
   "outputs": [],
   "source": [
    "## slicing with step"
   ]
  },
  {
   "cell_type": "code",
   "execution_count": 35,
   "id": "c7cd681d-cc86-4def-ab6e-5fe19d0efcb1",
   "metadata": {},
   "outputs": [
    {
     "data": {
      "text/plain": [
       "'Pto rgam'"
      ]
     },
     "execution_count": 35,
     "metadata": {},
     "output_type": "execute_result"
    }
   ],
   "source": [
    "text = \"Python Programming\"\n",
    "# Extracting every second character from index 0 to 16 (excluding 16)\n",
    "text[0:16:2]  # 'Pto rgamn'"
   ]
  },
  {
   "cell_type": "code",
   "execution_count": 36,
   "id": "70b6f5fc-fbff-4cbb-8575-588aa746bce1",
   "metadata": {},
   "outputs": [
    {
     "data": {
      "text/plain": [
       "'Python Programming'"
      ]
     },
     "execution_count": 36,
     "metadata": {},
     "output_type": "execute_result"
    }
   ],
   "source": [
    "text"
   ]
  },
  {
   "cell_type": "code",
   "execution_count": null,
   "id": "43e5db5f-89b0-4cad-acad-f37dbba5aab6",
   "metadata": {},
   "outputs": [],
   "source": [
    "## omitting start and stop"
   ]
  },
  {
   "cell_type": "code",
   "execution_count": 37,
   "id": "2095af41-9a97-45ee-8bfe-44ae7fbb8157",
   "metadata": {},
   "outputs": [
    {
     "data": {
      "text/plain": [
       "'Python P'"
      ]
     },
     "execution_count": 37,
     "metadata": {},
     "output_type": "execute_result"
    }
   ],
   "source": [
    "text[ : 8]"
   ]
  },
  {
   "cell_type": "code",
   "execution_count": 38,
   "id": "00795f14-bd45-4872-a7b5-3572862e0e79",
   "metadata": {},
   "outputs": [
    {
     "data": {
      "text/plain": [
       "'thon Programming'"
      ]
     },
     "execution_count": 38,
     "metadata": {},
     "output_type": "execute_result"
    }
   ],
   "source": [
    "text[2: ]"
   ]
  },
  {
   "cell_type": "code",
   "execution_count": 41,
   "id": "df3337a2-6900-40bb-b683-1a3a4f32c6bd",
   "metadata": {},
   "outputs": [
    {
     "data": {
      "text/plain": [
       "'Python'"
      ]
     },
     "execution_count": 41,
     "metadata": {},
     "output_type": "execute_result"
    }
   ],
   "source": [
    " text = \"Python Programming\"\n",
    "   # Extracting from the beginning to index 6 (excluding 6)\n",
    "substring = text[:6] \n",
    "substring"
   ]
  },
  {
   "cell_type": "code",
   "execution_count": 50,
   "id": "bb6d280f-84d0-4aee-922a-98bfc0032a65",
   "metadata": {},
   "outputs": [
    {
     "data": {
      "text/plain": [
       "'Programming'"
      ]
     },
     "execution_count": 50,
     "metadata": {},
     "output_type": "execute_result"
    }
   ],
   "source": [
    " #Extracting from index 7 to the end of the string\n",
    "substring = text[7:] \n",
    "substring"
   ]
  },
  {
   "cell_type": "code",
   "execution_count": 51,
   "id": "5c67359c-b570-4107-8322-44dc790e0a92",
   "metadata": {},
   "outputs": [],
   "source": [
    "text= \"python programming\""
   ]
  },
  {
   "cell_type": "code",
   "execution_count": 52,
   "id": "17923c34-fa96-465f-8d39-a963fc6444aa",
   "metadata": {},
   "outputs": [
    {
     "data": {
      "text/plain": [
       "'python programming'"
      ]
     },
     "execution_count": 52,
     "metadata": {},
     "output_type": "execute_result"
    }
   ],
   "source": [
    "text"
   ]
  },
  {
   "cell_type": "code",
   "execution_count": 53,
   "id": "86548f90-70ec-4168-971e-43b0821b6f16",
   "metadata": {},
   "outputs": [
    {
     "data": {
      "text/plain": [
       "' programmin'"
      ]
     },
     "execution_count": 53,
     "metadata": {},
     "output_type": "execute_result"
    }
   ],
   "source": [
    "\n",
    "text[-12 : -1]"
   ]
  },
  {
   "cell_type": "code",
   "execution_count": 54,
   "id": "fc37a993-1271-4e3d-b57e-776dbefa91f9",
   "metadata": {},
   "outputs": [
    {
     "data": {
      "text/plain": [
       "''"
      ]
     },
     "execution_count": 54,
     "metadata": {},
     "output_type": "execute_result"
    }
   ],
   "source": [
    "text[-1 : -12]"
   ]
  },
  {
   "cell_type": "code",
   "execution_count": 55,
   "id": "b081e7c4-87e6-4383-820f-b2f954546d13",
   "metadata": {},
   "outputs": [
    {
     "data": {
      "text/plain": [
       "'gnimmargorp nohtyp'"
      ]
     },
     "execution_count": 55,
     "metadata": {},
     "output_type": "execute_result"
    }
   ],
   "source": [
    "text[::-1]"
   ]
  },
  {
   "cell_type": "code",
   "execution_count": 57,
   "id": "ac5be5ca-1416-4097-975d-92b48f98c498",
   "metadata": {},
   "outputs": [
    {
     "data": {
      "text/plain": [
       "'rogramming'"
      ]
     },
     "execution_count": 57,
     "metadata": {},
     "output_type": "execute_result"
    }
   ],
   "source": [
    "text = \"Python Programming\"\n",
    "   \n",
    "   # Extracting the last 10 characters\n",
    "substring = text[-10:]  \n",
    "substring"
   ]
  },
  {
   "cell_type": "code",
   "execution_count": 60,
   "id": "c7508395-a211-43b0-a66c-8086c6fb3225",
   "metadata": {},
   "outputs": [
    {
     "data": {
      "text/plain": [
       "'gnimmargorP nohtyP'"
      ]
     },
     "execution_count": 60,
     "metadata": {},
     "output_type": "execute_result"
    }
   ],
   "source": [
    "# revering a string\n",
    "text = \"Python Programming\"\n",
    "   \n",
    "   # Reversing the string\n",
    "reversed_text = text[::-1] \n",
    "reversed_text"
   ]
  },
  {
   "cell_type": "code",
   "execution_count": 61,
   "id": "976ab7fa-190b-447f-8db0-ef553c1e84ca",
   "metadata": {},
   "outputs": [
    {
     "data": {
      "text/plain": [
       "'ammin'"
      ]
     },
     "execution_count": 61,
     "metadata": {},
     "output_type": "execute_result"
    }
   ],
   "source": [
    "my_string = \"Python Programming\"\n",
    "my_string[-6:-1] "
   ]
  },
  {
   "cell_type": "code",
   "execution_count": 63,
   "id": "559a3e11-24a9-4806-a4e9-bf85e4eac2e0",
   "metadata": {},
   "outputs": [
    {
     "data": {
      "text/plain": [
       "'Hello, Python!'"
      ]
     },
     "execution_count": 63,
     "metadata": {},
     "output_type": "execute_result"
    }
   ],
   "source": [
    "\n",
    "## string replacement\n",
    "original_string = \"Hello, World!\"\n",
    "new_string = original_string.replace(\"World\", \"Python\")\n",
    "new_string"
   ]
  },
  {
   "cell_type": "code",
   "execution_count": 64,
   "id": "ac2d6b0a-4b03-47e1-a474-381ec1ae1a73",
   "metadata": {},
   "outputs": [
    {
     "data": {
      "text/plain": [
       "'Hello, World!'"
      ]
     },
     "execution_count": 64,
     "metadata": {},
     "output_type": "execute_result"
    }
   ],
   "source": [
    "original_string"
   ]
  },
  {
   "cell_type": "code",
   "execution_count": 66,
   "id": "a6dff5ad-b84f-49c6-9805-70d1784eae2a",
   "metadata": {},
   "outputs": [
    {
     "data": {
      "text/plain": [
       "'My name'"
      ]
     },
     "execution_count": 66,
     "metadata": {},
     "output_type": "execute_result"
    }
   ],
   "source": [
    "name='My name'\n",
    "your_name=name.replace('My', 'his')\n",
    "your_name\n",
    "name"
   ]
  },
  {
   "cell_type": "code",
   "execution_count": 67,
   "id": "c0def87e-4746-4252-a66b-b7fcfdd430aa",
   "metadata": {},
   "outputs": [
    {
     "data": {
      "text/plain": [
       "'his name'"
      ]
     },
     "execution_count": 67,
     "metadata": {},
     "output_type": "execute_result"
    }
   ],
   "source": [
    "your_name"
   ]
  },
  {
   "cell_type": "code",
   "execution_count": 68,
   "id": "69391fd7-1d29-49ce-8d9c-191b2dad9d03",
   "metadata": {},
   "outputs": [
    {
     "data": {
      "text/plain": [
       "'Hello World!'"
      ]
     },
     "execution_count": 68,
     "metadata": {},
     "output_type": "execute_result"
    }
   ],
   "source": [
    "## concatenation\n",
    "part1 = \"Hello\"\n",
    "part2 = \"World\"\n",
    "combined_string = part1 + \" \" + part2 + \"!\"\n",
    "combined_string"
   ]
  },
  {
   "cell_type": "code",
   "execution_count": 69,
   "id": "a47bafa0-26be-4ecd-858f-1a972475bea3",
   "metadata": {},
   "outputs": [
    {
     "data": {
      "text/plain": [
       "'Hello World'"
      ]
     },
     "execution_count": 69,
     "metadata": {},
     "output_type": "execute_result"
    }
   ],
   "source": [
    "\"Hello\" + \" \" + \"World\""
   ]
  },
  {
   "cell_type": "code",
   "execution_count": 70,
   "id": "d29acaea-56a4-4bb0-a843-8102c64fe88b",
   "metadata": {},
   "outputs": [
    {
     "data": {
      "text/plain": [
       "'Hello'"
      ]
     },
     "execution_count": 70,
     "metadata": {},
     "output_type": "execute_result"
    }
   ],
   "source": [
    "part1"
   ]
  },
  {
   "cell_type": "code",
   "execution_count": 71,
   "id": "c2be0863-dc74-4f2c-a946-484d8cb18e99",
   "metadata": {},
   "outputs": [],
   "source": [
    "## formating\n",
    "name = \"Alice\"\n",
    "age = 30 "
   ]
  },
  {
   "cell_type": "code",
   "execution_count": 72,
   "id": "8c4fd56f-dc5f-4eec-a81c-ada3c10c2706",
   "metadata": {},
   "outputs": [
    {
     "data": {
      "text/plain": [
       "'hello  world'"
      ]
     },
     "execution_count": 72,
     "metadata": {},
     "output_type": "execute_result"
    }
   ],
   "source": [
    "\"hello \" + \" world\""
   ]
  },
  {
   "cell_type": "code",
   "execution_count": 73,
   "id": "93969caa-4bfc-4454-bd9e-b3839d03461b",
   "metadata": {},
   "outputs": [
    {
     "name": "stdout",
     "output_type": "stream",
     "text": [
      "My name is  Alice and the age is  30\n"
     ]
    },
    {
     "data": {
      "text/plain": [
       "'this is Alice a string 30'"
      ]
     },
     "execution_count": 73,
     "metadata": {},
     "output_type": "execute_result"
    }
   ],
   "source": [
    "print(\"My name is \",name,\"and the age is \",age)\n",
    "f\"My name is {name} and I am {age} years old\"\n",
    "f\"this is {name} a string {age}\""
   ]
  },
  {
   "cell_type": "code",
   "execution_count": 74,
   "id": "2cc08fff-a2d8-4488-8fa3-462406692730",
   "metadata": {},
   "outputs": [
    {
     "name": "stdin",
     "output_type": "stream",
     "text": [
      "Enter the name  pooja\n"
     ]
    }
   ],
   "source": [
    "name = input(\"Enter the name \")"
   ]
  },
  {
   "cell_type": "code",
   "execution_count": 75,
   "id": "1cb41886-6bf7-4649-b3c1-b1855254c7e0",
   "metadata": {},
   "outputs": [],
   "source": [
    "name = \"Alice\"\n",
    "age = 30\n",
    "formatted_string = f\"My name is {name} and I am {age} years old.\""
   ]
  },
  {
   "cell_type": "code",
   "execution_count": 76,
   "id": "4f923009-ca27-4054-8cac-940b011a8115",
   "metadata": {},
   "outputs": [
    {
     "data": {
      "text/plain": [
       "'My name is Alice and I am 30 years old.'"
      ]
     },
     "execution_count": 76,
     "metadata": {},
     "output_type": "execute_result"
    }
   ],
   "source": [
    "formatted_string"
   ]
  },
  {
   "cell_type": "code",
   "execution_count": 78,
   "id": "dd556eef-d536-47a3-9145-23b457af0d2d",
   "metadata": {},
   "outputs": [],
   "source": [
    "## removeing references\n",
    "my_string = \"Hello, World!\"\n",
    "my_string = None  # The reference to \"Hello, World!\" is removed\n",
    "my_string"
   ]
  },
  {
   "cell_type": "code",
   "execution_count": 79,
   "id": "21b8d054-4dee-47d1-b7da-aeceea8f3b31",
   "metadata": {},
   "outputs": [],
   "source": [
    "my_string"
   ]
  },
  {
   "cell_type": "code",
   "execution_count": 81,
   "id": "c9971cc8-7bd9-4d2c-96b6-2b104de45c43",
   "metadata": {},
   "outputs": [],
   "source": [
    "## deleting variables\n",
    "my_string = \"Hello, World!\"\n",
    "my_string\n",
    "del my_string  # The variable 'my_string' is deleted"
   ]
  },
  {
   "cell_type": "code",
   "execution_count": 83,
   "id": "cbcdff3c-001d-42b8-83bb-c7f007e65023",
   "metadata": {},
   "outputs": [
    {
     "name": "stdout",
     "output_type": "stream",
     "text": [
      "Replaced String: Hello, Python!\n",
      "Concatenated String: Hello, World!\n",
      "Formatted String: My name is Alice and I am 30 years old.\n"
     ]
    }
   ],
   "source": [
    "# Original string\n",
    "original_string = \"Hello, World!\"\n",
    "\n",
    "# String Replacement\n",
    "new_string = original_string.replace(\"World\", \"Python\")\n",
    "print(\"Replaced String:\", new_string)\n",
    "\n",
    "# String Concatenation\n",
    "part1 = \"Hello\"\n",
    "part2 = \"World\"\n",
    "combined_string = part1 + \", \" + part2 + \"!\"\n",
    "print(\"Concatenated String:\", combined_string)\n",
    "\n",
    "# String Formatting\n",
    "name = \"Alice\"\n",
    "age = 30\n",
    "formatted_string = f\"My name is {name} and I am {age} years old.\"\n",
    "print(\"Formatted String:\", formatted_string)\n",
    "\n",
    "# Removing References\n",
    "my_string = \"Hello, World!\"\n",
    "my_string = None  # Reference removed\n",
    "\n",
    "# Deleting Variables\n",
    "my_string = \"Hello, World!\"\n",
    "del my_string  # Variable deleted"
   ]
  },
  {
   "cell_type": "code",
   "execution_count": null,
   "id": "06ff86aa-52a2-4e9e-b950-6e924b1e3103",
   "metadata": {},
   "outputs": [],
   "source": []
  }
 ],
 "metadata": {
  "kernelspec": {
   "display_name": "Python 3 (ipykernel)",
   "language": "python",
   "name": "python3"
  },
  "language_info": {
   "codemirror_mode": {
    "name": "ipython",
    "version": 3
   },
   "file_extension": ".py",
   "mimetype": "text/x-python",
   "name": "python",
   "nbconvert_exporter": "python",
   "pygments_lexer": "ipython3",
   "version": "3.12.7"
  }
 },
 "nbformat": 4,
 "nbformat_minor": 5
}
