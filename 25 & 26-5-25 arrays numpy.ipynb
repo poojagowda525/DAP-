{
 "cells": [
  {
   "cell_type": "markdown",
   "id": "d7f89eed-149f-4a7b-94d5-d545374e4939",
   "metadata": {},
   "source": [
    "### using functions to generate data"
   ]
  },
  {
   "cell_type": "code",
   "execution_count": null,
   "id": "8c9baabe-571f-4da8-921a-054503801341",
   "metadata": {},
   "outputs": [],
   "source": [
    "import numpy as np"
   ]
  },
  {
   "cell_type": "code",
   "execution_count": 12,
   "id": "7c64b91d-02a6-4b4a-99e7-7d1bccdd24ee",
   "metadata": {},
   "outputs": [],
   "source": [
    "a33 = np.ones((3,4))"
   ]
  },
  {
   "cell_type": "code",
   "execution_count": 13,
   "id": "b5ed516a-f9a9-4fdd-9326-b57a11f5a6de",
   "metadata": {},
   "outputs": [
    {
     "data": {
      "text/plain": [
       "numpy.ndarray"
      ]
     },
     "execution_count": 13,
     "metadata": {},
     "output_type": "execute_result"
    }
   ],
   "source": [
    "type(a33)"
   ]
  },
  {
   "cell_type": "code",
   "execution_count": 14,
   "id": "251a4c1e-1b53-45a4-b788-e9b788c084e7",
   "metadata": {},
   "outputs": [
    {
     "data": {
      "text/plain": [
       "array([[1., 1., 1., 1.],\n",
       "       [1., 1., 1., 1.],\n",
       "       [1., 1., 1., 1.]])"
      ]
     },
     "execution_count": 14,
     "metadata": {},
     "output_type": "execute_result"
    }
   ],
   "source": [
    "a33"
   ]
  },
  {
   "cell_type": "code",
   "execution_count": 8,
   "id": "342b8a4e-98c1-49eb-9509-0312c35c4b80",
   "metadata": {},
   "outputs": [],
   "source": [
    "import numpy as np\n",
    "\n",
    "zeros_array = np.zeros((3,3))"
   ]
  },
  {
   "cell_type": "code",
   "execution_count": 9,
   "id": "e729b243-5fe3-4602-b43b-e2c113ac988d",
   "metadata": {},
   "outputs": [],
   "source": [
    "ones_array = np.ones((2,4))"
   ]
  },
  {
   "cell_type": "code",
   "execution_count": 33,
   "id": "bc0732b2-d887-4c9a-a905-25842817e3c3",
   "metadata": {},
   "outputs": [],
   "source": [
    "identity_matrix = np.eye(3)"
   ]
  },
  {
   "cell_type": "code",
   "execution_count": 11,
   "id": "a9dd7a61-f324-4dcc-b412-f451948783e6",
   "metadata": {},
   "outputs": [
    {
     "data": {
      "text/plain": [
       "array([[1., 0., 0.],\n",
       "       [0., 1., 0.],\n",
       "       [0., 0., 1.]])"
      ]
     },
     "execution_count": 11,
     "metadata": {},
     "output_type": "execute_result"
    }
   ],
   "source": [
    "identity_matrix"
   ]
  },
  {
   "cell_type": "markdown",
   "id": "cc822858-ccef-4abf-942b-ef1a95619050",
   "metadata": {},
   "source": [
    "# specifying a data type"
   ]
  },
  {
   "cell_type": "code",
   "execution_count": 15,
   "id": "ac711918-c0f6-4bc9-a227-7ee9b1601f98",
   "metadata": {},
   "outputs": [
    {
     "data": {
      "text/plain": [
       "False"
      ]
     },
     "execution_count": 15,
     "metadata": {},
     "output_type": "execute_result"
    }
   ],
   "source": [
    "1==[3,4,4,5]"
   ]
  },
  {
   "cell_type": "code",
   "execution_count": 24,
   "id": "841081d8-fa6d-4618-ad89-dd24eee9cce6",
   "metadata": {},
   "outputs": [
    {
     "data": {
      "text/plain": [
       "array(1, dtype=int64)"
      ]
     },
     "execution_count": 24,
     "metadata": {},
     "output_type": "execute_result"
    }
   ],
   "source": [
    "np.array(1,dtype=np.int64)"
   ]
  },
  {
   "cell_type": "code",
   "execution_count": 30,
   "id": "a657e1aa-ecac-4363-abd1-413e1aa3ac2f",
   "metadata": {},
   "outputs": [],
   "source": [
    "import numpy as np\n",
    "int_array = np.array([1,2,3], dtype=np.int32)\n",
    "float_array = np.array([0,1,2,3,3], dtype = np.float64)"
   ]
  },
  {
   "cell_type": "code",
   "execution_count": 34,
   "id": "0238b8b8-b19c-4ff9-b7aa-26e94b1ed846",
   "metadata": {},
   "outputs": [],
   "source": [
    "#using a range ana linespace\n",
    "\n",
    "a44 = np.arange(0,22)"
   ]
  },
  {
   "cell_type": "code",
   "execution_count": 35,
   "id": "36a24f75-b16d-44b6-8c3c-ecef066dc57f",
   "metadata": {},
   "outputs": [
    {
     "data": {
      "text/plain": [
       "array([ 0,  1,  2,  3,  4,  5,  6,  7,  8,  9, 10, 11, 12, 13, 14, 15, 16,\n",
       "       17, 18, 19, 20, 21])"
      ]
     },
     "execution_count": 35,
     "metadata": {},
     "output_type": "execute_result"
    }
   ],
   "source": [
    "a44"
   ]
  },
  {
   "cell_type": "code",
   "execution_count": null,
   "id": "c2a4043e-247c-476e-8e46-1042691b09d9",
   "metadata": {},
   "outputs": [],
   "source": [
    "\n"
   ]
  },
  {
   "cell_type": "code",
   "execution_count": 41,
   "id": "0a79804d-f8cc-4857-8312-c90938549c44",
   "metadata": {},
   "outputs": [
    {
     "data": {
      "text/plain": [
       "array([ 0.,  2.,  4.,  6.,  8., 10.])"
      ]
     },
     "execution_count": 41,
     "metadata": {},
     "output_type": "execute_result"
    }
   ],
   "source": [
    "linespace_array_2 = np.linspace(0,10,6)\n",
    "linespace_array_2"
   ]
  },
  {
   "cell_type": "code",
   "execution_count": 42,
   "id": "94abe97a-8884-441c-aa0b-8ca35e625476",
   "metadata": {},
   "outputs": [
    {
     "data": {
      "text/plain": [
       "array([ 0.        ,  2.77777778,  5.55555556,  8.33333333, 11.11111111,\n",
       "       13.88888889, 16.66666667, 19.44444444, 22.22222222, 25.        ])"
      ]
     },
     "execution_count": 42,
     "metadata": {},
     "output_type": "execute_result"
    }
   ],
   "source": [
    "scale_array = np.linspace(0,25,10)\n",
    "scale_array"
   ]
  },
  {
   "cell_type": "code",
   "execution_count": 43,
   "id": "9e1b5b34-a996-4e04-a814-7fd5682fa9a3",
   "metadata": {},
   "outputs": [],
   "source": [
    "zeros_array = np.zeros((3,3))                #creating a 3x3 array  filled with 0s\n",
    "ones_array = np.ones((2,4))                   #creating a 2x4 array  filled with 1s\n",
    "identity_matrix = np.eye(3)                   #creating a 3x3 identity_matrix\n",
    "\n",
    "identity_matrix = np.random.rand(4,4)       #creating a 4x4 array with random values in [0,1]\n"
   ]
  },
  {
   "cell_type": "code",
   "execution_count": 44,
   "id": "11db01ba-8f64-4562-9dfb-539739a54436",
   "metadata": {},
   "outputs": [
    {
     "data": {
      "text/plain": [
       "array([[1., 0., 0.],\n",
       "       [0., 1., 0.],\n",
       "       [0., 0., 1.]])"
      ]
     },
     "execution_count": 44,
     "metadata": {},
     "output_type": "execute_result"
    }
   ],
   "source": [
    "\n",
    "identity_matrix"
   ]
  },
  {
   "cell_type": "code",
   "execution_count": 45,
   "id": "34920d20-d963-4c15-8f01-9c7c4d073981",
   "metadata": {},
   "outputs": [
    {
     "data": {
      "text/plain": [
       "array([[0., 0., 0.],\n",
       "       [0., 0., 0.],\n",
       "       [0., 0., 0.]])"
      ]
     },
     "execution_count": 45,
     "metadata": {},
     "output_type": "execute_result"
    }
   ],
   "source": [
    "zeros_array"
   ]
  },
  {
   "cell_type": "code",
   "execution_count": 46,
   "id": "adc3ec7f-4a89-47d8-8251-02f650663be6",
   "metadata": {},
   "outputs": [
    {
     "data": {
      "text/plain": [
       "array([[1., 1., 1., 1.],\n",
       "       [1., 1., 1., 1.]])"
      ]
     },
     "execution_count": 46,
     "metadata": {},
     "output_type": "execute_result"
    }
   ],
   "source": [
    "ones_array"
   ]
  },
  {
   "cell_type": "code",
   "execution_count": 50,
   "id": "d4bf0aef-cbca-4163-80e9-33ea5b3bcee5",
   "metadata": {},
   "outputs": [],
   "source": [
    "   ### basic indexing\n",
    "\n"
   ]
  },
  {
   "cell_type": "code",
   "execution_count": 48,
   "id": "4b8e8da8-4733-40ea-a63a-88db60908ae2",
   "metadata": {},
   "outputs": [
    {
     "name": "stdout",
     "output_type": "stream",
     "text": [
      "688\n",
      "25\n"
     ]
    }
   ],
   "source": [
    "import numpy as np\n",
    "#1D\n",
    "arr = np.array([13,56,25,688,])\n",
    "print(arr[3])\n",
    "print(arr[-2])               #accesing throuh last element"
   ]
  },
  {
   "cell_type": "code",
   "execution_count": 62,
   "id": "b36cd3d8-c29a-4c7b-bde8-4ec25fc113e2",
   "metadata": {},
   "outputs": [
    {
     "name": "stdout",
     "output_type": "stream",
     "text": [
      "2\n",
      "6\n",
      "3\n"
     ]
    }
   ],
   "source": [
    "#2D\n",
    "\n",
    "matrix = np.array([[1,2,3],\n",
    "                   [4,5,6]])\n",
    "print(matrix[0,1])\n",
    "print(matrix[1,2])\n",
    "print(matrix[0,2])"
   ]
  },
  {
   "cell_type": "markdown",
   "id": "46d3aadb-51f1-4437-a041-eef2f940bc7c",
   "metadata": {},
   "source": [
    "# ## 1D array slicing\n"
   ]
  },
  {
   "cell_type": "code",
   "execution_count": 61,
   "id": "6f8a4740-92f0-4652-b04c-933910979c49",
   "metadata": {},
   "outputs": [
    {
     "name": "stdout",
     "output_type": "stream",
     "text": [
      "[25 50 80 90]\n",
      "[30 60 69]\n",
      "[25 50 80 90 30 60 69]\n",
      "[25 50 80 90 30]\n"
     ]
    }
   ],
   "source": [
    "import numpy as np\n",
    "\n",
    "arr = np.array([25,50,80,90,30,60,69,])\n",
    "print(arr[0:4])\n",
    "print(arr[4:])\n",
    "print(arr[::])\n",
    "print(arr[:-2])"
   ]
  },
  {
   "cell_type": "markdown",
   "id": "2f4d4af4-d9c6-4482-be03-dca2c678b87a",
   "metadata": {},
   "source": [
    "# 2D slicing"
   ]
  },
  {
   "cell_type": "code",
   "execution_count": null,
   "id": "0496f9be-7831-490c-80b9-1fed3d897357",
   "metadata": {},
   "outputs": [],
   "source": [
    "    0 1 2 3\n",
    "0  [2 6 4 5]\n",
    "1  [3 65 7 6]\n",
    "3  [5 8 2 4]"
   ]
  },
  {
   "cell_type": "code",
   "execution_count": 67,
   "id": "78283424-b1b9-4bc8-ae30-9717e7f60de9",
   "metadata": {},
   "outputs": [
    {
     "name": "stdout",
     "output_type": "stream",
     "text": [
      "[[ 4  4]\n",
      " [65  7]]\n",
      "[[ 4  4  5]\n",
      " [65  7  6]\n",
      " [ 8  2  4]]\n",
      "[[ 3 65  7  6]]\n"
     ]
    }
   ],
   "source": [
    "matrix = np.array([[2,4,4,5],\n",
    "                  [3,65,7,6],\n",
    "                  [5,8,2,4]])\n",
    "print(matrix[0:2, 1:3])\n",
    "print(matrix[0:3, 1:4])\n",
    "print(matrix[1:2])"
   ]
  },
  {
   "cell_type": "code",
   "execution_count": 3,
   "id": "064db56b-cd19-490d-a66c-6e6dd08dbf2a",
   "metadata": {},
   "outputs": [],
   "source": [
    "matrix = np.array([[1,2,3],\n",
    "                   [4,5,6],\n",
    "                   [7,8,9]])"
   ]
  },
  {
   "cell_type": "markdown",
   "id": "d3525eb1-133b-4fd8-8c1e-a5a964c36718",
   "metadata": {},
   "source": [
    "## random "
   ]
  },
  {
   "cell_type": "code",
   "execution_count": 5,
   "id": "d244e58c-75b9-492f-a115-088fbb881126",
   "metadata": {},
   "outputs": [
    {
     "name": "stdout",
     "output_type": "stream",
     "text": [
      "normal distribution\n"
     ]
    }
   ],
   "source": [
    "import numpy as np\n",
    "normal = np.random.rand(3,3)\n",
    "print(\"normal distribution\")\n"
   ]
  },
  {
   "cell_type": "code",
   "execution_count": 6,
   "id": "50c4865b-5d00-4b63-8462-c252582ed3ad",
   "metadata": {},
   "outputs": [
    {
     "name": "stdout",
     "output_type": "stream",
     "text": [
      "\n",
      "📈 Normal distribution:\n",
      " [[-0.47932613 -0.04897076  1.14295717]\n",
      " [-0.71954837  0.42475556 -0.05140731]\n",
      " [ 0.91297389  1.28259901 -1.95730801]]\n"
     ]
    }
   ],
   "source": [
    "# Normal distribution\n",
    "normal = np.random.randn(3, 3)\n",
    "print(\"\\n📈 Normal distribution:\\n\", normal)"
   ]
  },
  {
   "cell_type": "markdown",
   "id": "86447067-a2de-4571-809b-bdfc8d7063ed",
   "metadata": {},
   "source": [
    "## np.where"
   ]
  },
  {
   "cell_type": "code",
   "execution_count": null,
   "id": "86ed60ee-abd7-4081-924c-1a302ed513e7",
   "metadata": {},
   "outputs": [],
   "source": [
    "import numpy as np"
   ]
  },
  {
   "cell_type": "code",
   "execution_count": 13,
   "id": "6b63e38a-2bd8-4883-9101-17d91417917b",
   "metadata": {},
   "outputs": [
    {
     "data": {
      "text/plain": [
       "(array([2, 3, 4], dtype=int64),)"
      ]
     },
     "execution_count": 13,
     "metadata": {},
     "output_type": "execute_result"
    }
   ],
   "source": [
    "arr = np.array([1,2,3,4,5])\n",
    "np.where(arr>2)"
   ]
  },
  {
   "cell_type": "markdown",
   "id": "5f0fa2f7-19d8-4496-96d8-df3732c15740",
   "metadata": {},
   "source": [
    "## np.argmax()  np.argmin() -- index of max and min"
   ]
  },
  {
   "cell_type": "raw",
   "id": "cc868753-68e8-4921-a524-c904d35d09a6",
   "metadata": {},
   "source": [
    "import numpy as np"
   ]
  },
  {
   "cell_type": "code",
   "execution_count": 11,
   "id": "b9332e98-57ab-414f-a05e-cd1c397721e1",
   "metadata": {},
   "outputs": [
    {
     "data": {
      "text/plain": [
       "0"
      ]
     },
     "execution_count": 11,
     "metadata": {},
     "output_type": "execute_result"
    }
   ],
   "source": [
    "arr = np.array([1,2,3,4,5])\n",
    "np.argmin(arr)\n"
   ]
  },
  {
   "cell_type": "code",
   "execution_count": 12,
   "id": "7fc658aa-d611-4ddc-b947-7a82eb4b2944",
   "metadata": {},
   "outputs": [
    {
     "data": {
      "text/plain": [
       "0"
      ]
     },
     "execution_count": 12,
     "metadata": {},
     "output_type": "execute_result"
    }
   ],
   "source": [
    "np.argmin(arr)"
   ]
  },
  {
   "cell_type": "markdown",
   "id": "24eeef75-2e7d-42da-aa34-34eca1c2051f",
   "metadata": {},
   "source": [
    "## np.searchsorted() -- finds insertion index in a sorted array"
   ]
  },
  {
   "cell_type": "code",
   "execution_count": null,
   "id": "0a086393-4876-4dbc-80fe-e7e0623b0a70",
   "metadata": {},
   "outputs": [],
   "source": [
    "sorted_arr = np.array([1,3,5,7])"
   ]
  },
  {
   "cell_type": "code",
   "execution_count": null,
   "id": "a5fbcc3b-f5f1-48af-9dac-87a207355940",
   "metadata": {},
   "outputs": [],
   "source": [
    "print(\"Transposed:\\n\", np.transpose(matrix))\n"
   ]
  },
  {
   "cell_type": "markdown",
   "id": "43df4bd2-3bad-48f5-8fec-a43cc23e8cbc",
   "metadata": {},
   "source": [
    "## mean caluculation"
   ]
  },
  {
   "cell_type": "code",
   "execution_count": null,
   "id": "68d3ccc3-3064-4c4c-a74f-e46336f38640",
   "metadata": {},
   "outputs": [],
   "source": [
    "import numpy as np"
   ]
  },
  {
   "cell_type": "code",
   "execution_count": 7,
   "id": "690dc25a-367c-4e8b-bafc-f42b85ecafa7",
   "metadata": {},
   "outputs": [
    {
     "name": "stdout",
     "output_type": "stream",
     "text": [
      "mean value: 3.0\n"
     ]
    }
   ],
   "source": [
    "arr = np.array([1,2,3,4,5])\n",
    "print(\"mean value:\",np.mean(arr))"
   ]
  },
  {
   "cell_type": "code",
   "execution_count": 9,
   "id": "1bd1c90c-ab74-4c49-9aa5-14094e0ab342",
   "metadata": {},
   "outputs": [
    {
     "data": {
      "text/plain": [
       "5"
      ]
     },
     "execution_count": 9,
     "metadata": {},
     "output_type": "execute_result"
    }
   ],
   "source": [
    "np.searchsorted(arr,6)"
   ]
  },
  {
   "cell_type": "markdown",
   "id": "f5a0d03e-c6b3-4585-b138-99322ab7a367",
   "metadata": {},
   "source": [
    "# 26 may 2025"
   ]
  },
  {
   "cell_type": "code",
   "execution_count": 2,
   "id": "a8481b34-f46e-4b21-ab6b-afd74faf9dac",
   "metadata": {},
   "outputs": [],
   "source": [
    "import numpy as np"
   ]
  },
  {
   "cell_type": "code",
   "execution_count": 3,
   "id": "a1b3871e-1dd3-4655-a7fe-c6b8a180cabb",
   "metadata": {},
   "outputs": [
    {
     "data": {
      "text/plain": [
       "array([[1, 2],\n",
       "       [3, 4],\n",
       "       [5, 6]])"
      ]
     },
     "execution_count": 3,
     "metadata": {},
     "output_type": "execute_result"
    }
   ],
   "source": [
    "arr1 = np.array([[1,2],[3,4]])\n",
    "arr2 = np.array([[5,6]])\n",
    "np.concatenate((arr1,arr2),axis=0)"
   ]
  },
  {
   "cell_type": "code",
   "execution_count": 10,
   "id": "aec7a7ef-16ed-4bd6-9d68-1da11318a6a5",
   "metadata": {},
   "outputs": [
    {
     "data": {
      "text/plain": [
       "array([[1, 2, 5, 6],\n",
       "       [3, 4, 7, 8]])"
      ]
     },
     "execution_count": 10,
     "metadata": {},
     "output_type": "execute_result"
    }
   ],
   "source": [
    "arr1 = np.array([[1,2],[3,4]])\n",
    "arr2 = np.array([[5,6],[7,8]])\n",
    "np.concatenate((arr1,arr2),axis=1)"
   ]
  },
  {
   "cell_type": "code",
   "execution_count": 31,
   "id": "12902695-d2ac-4b80-a521-769ff863fa59",
   "metadata": {},
   "outputs": [
    {
     "data": {
      "text/plain": [
       "array([[1, 2, 5, 6, 7, 8],\n",
       "       [3, 4, 7, 8, 4, 8]])"
      ]
     },
     "execution_count": 31,
     "metadata": {},
     "output_type": "execute_result"
    }
   ],
   "source": [
    "arr1 = np.array([[1,2],[3,4]])\n",
    "arr2 = np.array([[5,6],[7,8]])\n",
    "arr3 = np.array([[7,8],[4,8]])\n",
    "np.concatenate((arr1,arr2,arr3),axis=1)"
   ]
  },
  {
   "cell_type": "markdown",
   "id": "d83f4046-d9a5-4676-8893-05b267dbf8b5",
   "metadata": {},
   "source": [
    "## vstack\n",
    "\n"
   ]
  },
  {
   "cell_type": "code",
   "execution_count": 25,
   "id": "d6783d0a-eff9-4810-bd0c-a998a5870cae",
   "metadata": {},
   "outputs": [
    {
     "data": {
      "text/plain": [
       "array([[1, 2, 3],\n",
       "       [4, 5, 6]])"
      ]
     },
     "execution_count": 25,
     "metadata": {},
     "output_type": "execute_result"
    }
   ],
   "source": [
    "arr3 = np.array([1,2,3])     ## stacks array vertically(row-wise)\n",
    "arr4 = np.array([4,5,6])\n",
    "np.vstack((arr3,arr4))"
   ]
  },
  {
   "cell_type": "code",
   "execution_count": 27,
   "id": "0769c244-b21f-4579-85ca-d8a589e81537",
   "metadata": {},
   "outputs": [
    {
     "data": {
      "text/plain": [
       "array([[1, 2, 3],\n",
       "       [4, 5, 6],\n",
       "       [7, 8, 9]])"
      ]
     },
     "execution_count": 27,
     "metadata": {},
     "output_type": "execute_result"
    }
   ],
   "source": [
    "arr3 = np.array([1,2,3])     ## stacks array vertically(row-wise)\n",
    "arr4 = np.array([4,5,6])\n",
    "arr5 = np.array([7,8,9])\n",
    "np.vstack((arr3,arr4,arr5))"
   ]
  },
  {
   "cell_type": "markdown",
   "id": "b5fbda59-3a5b-429d-9690-08d1e0714014",
   "metadata": {},
   "source": [
    "## horizontal stack"
   ]
  },
  {
   "cell_type": "code",
   "execution_count": 32,
   "id": "a3632cef-0813-41fb-a556-115df5884ef9",
   "metadata": {},
   "outputs": [
    {
     "data": {
      "text/plain": [
       "array([1, 2, 3, 4])"
      ]
     },
     "execution_count": 32,
     "metadata": {},
     "output_type": "execute_result"
    }
   ],
   "source": [
    "a = np.array([1,2])\n",
    "b = np.array([3,4])\n",
    "np.hstack((a,b))"
   ]
  },
  {
   "cell_type": "code",
   "execution_count": 11,
   "id": "055bd70b-2104-429c-a860-116013e6e409",
   "metadata": {},
   "outputs": [
    {
     "data": {
      "text/plain": [
       "array([ 1,  2,  3,  4,  5,  6,  6,  7,  8,  9, 10])"
      ]
     },
     "execution_count": 11,
     "metadata": {},
     "output_type": "execute_result"
    }
   ],
   "source": [
    "a = np.array([1,2])\n",
    "b = np.array([3,4])\n",
    "c = np.array([5,6,6,7,8,9,10])\n",
    "np.hstack((a,b,c))"
   ]
  },
  {
   "cell_type": "code",
   "execution_count": 14,
   "id": "3f2e8629-4240-4083-9d39-46fc149c4292",
   "metadata": {},
   "outputs": [
    {
     "data": {
      "text/plain": [
       "array([ 89, 478,  48,  58])"
      ]
     },
     "execution_count": 14,
     "metadata": {},
     "output_type": "execute_result"
    }
   ],
   "source": [
    "name = np.array([89, 478])\n",
    "names  = np.array([48, 58])\n",
    "np.hstack((name,names ))"
   ]
  },
  {
   "cell_type": "markdown",
   "id": "450c36fc-2621-48d4-8334-4a8efa7b32ce",
   "metadata": {},
   "source": [
    "### filtering array in numpy\n",
    "#### filtering is a process of extracting only a "
   ]
  },
  {
   "cell_type": "code",
   "execution_count": 53,
   "id": "67d766a2-e913-41b3-8198-a2f3da548404",
   "metadata": {},
   "outputs": [],
   "source": [
    "### basic ex\n",
    "import numpy as np\n",
    "arr = np.array([1,2,3,4,5,6,7])\n",
    "arr<3\n",
    "mask = arr<3"
   ]
  },
  {
   "cell_type": "code",
   "execution_count": 54,
   "id": "90ecd80c-8e2d-4680-8cad-84ae762aa87e",
   "metadata": {},
   "outputs": [
    {
     "data": {
      "text/plain": [
       "array([ True,  True, False, False, False, False, False])"
      ]
     },
     "execution_count": 54,
     "metadata": {},
     "output_type": "execute_result"
    }
   ],
   "source": [
    "mask "
   ]
  },
  {
   "cell_type": "code",
   "execution_count": 55,
   "id": "7425c7dd-2d88-46e3-ba8b-23f295ef9963",
   "metadata": {},
   "outputs": [
    {
     "data": {
      "text/plain": [
       "array([1, 2])"
      ]
     },
     "execution_count": 55,
     "metadata": {},
     "output_type": "execute_result"
    }
   ],
   "source": [
    "arr[mask]   #true values <3"
   ]
  },
  {
   "cell_type": "code",
   "execution_count": 56,
   "id": "08f86070-30c5-491a-aa91-f26b61b33bb2",
   "metadata": {},
   "outputs": [],
   "source": [
    "mask = arr>3"
   ]
  },
  {
   "cell_type": "code",
   "execution_count": 58,
   "id": "266d4858-347e-4659-bdf3-3c419ce5246b",
   "metadata": {},
   "outputs": [
    {
     "data": {
      "text/plain": [
       "array([4, 5, 6, 7])"
      ]
     },
     "execution_count": 58,
     "metadata": {},
     "output_type": "execute_result"
    }
   ],
   "source": [
    "arr[mask]    # true values > 3"
   ]
  },
  {
   "cell_type": "markdown",
   "id": "b0923cdd-6936-4721-82b6-22bf660edced",
   "metadata": {},
   "source": [
    "#### basic filtering example"
   ]
  },
  {
   "cell_type": "code",
   "execution_count": 59,
   "id": "55d6e927-d8eb-431e-af6d-a5da53f610f6",
   "metadata": {},
   "outputs": [
    {
     "name": "stdout",
     "output_type": "stream",
     "text": [
      "filtered elements(greater than 3): [4 5 6]\n"
     ]
    }
   ],
   "source": [
    "import numpy as np\n",
    "arr = np.array([1,2,3,4,5,6])\n",
    "mask = arr>3\n",
    "filtered = arr[mask]\n",
    "print(\"filtered elements(greater than 3):\", filtered)"
   ]
  },
  {
   "cell_type": "markdown",
   "id": "d46431f7-495b-4144-8e45-154364b2836b",
   "metadata": {},
   "source": [
    "#### filtering a multplle conditions"
   ]
  },
  {
   "cell_type": "markdown",
   "id": "ad278083-183e-41f1-ac73-cc4a82a978f0",
   "metadata": {},
   "source": [
    "### elements greater than 2 AND less than 6"
   ]
  },
  {
   "cell_type": "code",
   "execution_count": 71,
   "id": "c84a236e-4574-459e-95b7-c6ec7f6e1718",
   "metadata": {},
   "outputs": [],
   "source": [
    "import numpy as np"
   ]
  },
  {
   "cell_type": "code",
   "execution_count": 72,
   "id": "b351d7ad-acca-4e19-8cd7-a559da3b05fb",
   "metadata": {},
   "outputs": [
    {
     "data": {
      "text/plain": [
       "array([False, False, False,  True,  True,  True,  True,  True, False])"
      ]
     },
     "execution_count": 72,
     "metadata": {},
     "output_type": "execute_result"
    }
   ],
   "source": [
    "arr = np.array([1,2,3,4,5,6,7,8,9])\n",
    "(arr > 3) & (arr < 9)        "
   ]
  },
  {
   "cell_type": "code",
   "execution_count": 73,
   "id": "6681b2bb-05a5-46ad-a700-1f7224a44d9a",
   "metadata": {},
   "outputs": [
    {
     "data": {
      "text/plain": [
       "array([ True,  True,  True,  True,  True,  True,  True,  True,  True])"
      ]
     },
     "execution_count": 73,
     "metadata": {},
     "output_type": "execute_result"
    }
   ],
   "source": [
    "arr = np.array([1,2,3,4,5,6,7,8,9])\n",
    "(arr > 0) & (arr < 10)"
   ]
  },
  {
   "cell_type": "code",
   "execution_count": 77,
   "id": "57732c18-7dac-4e56-871c-4eb9f25f920e",
   "metadata": {},
   "outputs": [
    {
     "data": {
      "text/plain": [
       "array([ True,  True,  True, False, False, False, False, False,  True])"
      ]
     },
     "execution_count": 77,
     "metadata": {},
     "output_type": "execute_result"
    }
   ],
   "source": [
    "(arr <= 3) | (arr > 8)"
   ]
  },
  {
   "cell_type": "markdown",
   "id": "7aeac7e5-0c3b-43f3-abf9-9ea4e8d591b0",
   "metadata": {},
   "source": [
    "##### filtering 2D array"
   ]
  },
  {
   "cell_type": "code",
   "execution_count": 79,
   "id": "12fc9ff2-b6e2-43f9-9097-cf8eae9bb1b3",
   "metadata": {},
   "outputs": [
    {
     "name": "stdout",
     "output_type": "stream",
     "text": [
      "values > 13: [14 15]\n"
     ]
    }
   ],
   "source": [
    "matrix = np.array([\n",
    "    [10,11,12],\n",
    "    [13,14,15]\n",
    "]) \n",
    "# get elements greater than 13\n",
    "print(\"values > 13:\",matrix[matrix > 13])"
   ]
  },
  {
   "cell_type": "code",
   "execution_count": 81,
   "id": "f6653d96-4f09-4c7a-b4bb-103538d48527",
   "metadata": {},
   "outputs": [
    {
     "name": "stdout",
     "output_type": "stream",
     "text": [
      "values > 15: [354  57  68]\n"
     ]
    }
   ],
   "source": [
    "matrix = np.array([\n",
    "    [10,11,12],\n",
    "    [13,14,15],\n",
    "    [354,57,68]\n",
    "]) \n",
    "# get elements greater than 13\n",
    "print(\"values > 15:\",matrix[matrix > 15])"
   ]
  },
  {
   "cell_type": "code",
   "execution_count": 82,
   "id": "9bc8d6d3-c5aa-4865-821c-239a69929343",
   "metadata": {},
   "outputs": [
    {
     "name": "stdout",
     "output_type": "stream",
     "text": [
      "values < 15: [10 11 12 13 14]\n"
     ]
    }
   ],
   "source": [
    "matrix = np.array([\n",
    "    [10,11,12],\n",
    "    [13,14,15],\n",
    "    [354,57,68]\n",
    "]) \n",
    "# get elements greater than 13\n",
    "print(\"values < 15:\",matrix[matrix < 15])"
   ]
  },
  {
   "cell_type": "markdown",
   "id": "b3cce160-e19f-404c-a016-e43f854768d3",
   "metadata": {},
   "source": [
    "####  case example :filtering exam scores"
   ]
  },
  {
   "cell_type": "code",
   "execution_count": 89,
   "id": "2817d0ee-ffaa-4174-9d63-513a40351842",
   "metadata": {},
   "outputs": [
    {
     "name": "stdout",
     "output_type": "stream",
     "text": [
      "values > 90: [92 95 94]\n"
     ]
    }
   ],
   "source": [
    "## use case example :filtering exam scores\n",
    "\n",
    "scores = np.array([ 85,92,78,88,95,72,89,94,68,90])\n",
    "print(\"values > 90:\", scores[scores>90])"
   ]
  },
  {
   "cell_type": "code",
   "execution_count": 109,
   "id": "ea8e72ab-d90a-4600-b643-179698a49ecc",
   "metadata": {},
   "outputs": [
    {
     "data": {
      "text/plain": [
       "array([ 2,  4,  6,  8, 10, 12, 14])"
      ]
     },
     "execution_count": 109,
     "metadata": {},
     "output_type": "execute_result"
    }
   ],
   "source": [
    "arr = np.array([1,2,3,4,5,6,7,8,9,10,11,12,13,14,15])\n",
    "# filter and print only even numbers\n",
    "arr[arr%2==0]"
   ]
  },
  {
   "cell_type": "code",
   "execution_count": 110,
   "id": "f4c37bec-c762-4c99-bcbf-60390ac92f71",
   "metadata": {},
   "outputs": [
    {
     "data": {
      "text/plain": [
       "array([ 3,  6,  9, 12, 15])"
      ]
     },
     "execution_count": 110,
     "metadata": {},
     "output_type": "execute_result"
    }
   ],
   "source": [
    "arr [arr % 3 ==0]"
   ]
  },
  {
   "cell_type": "code",
   "execution_count": 112,
   "id": "fdee3e91-baa5-43fc-9170-853e1795a30e",
   "metadata": {},
   "outputs": [
    {
     "data": {
      "text/plain": [
       "array([ 1,  3,  5,  7,  9, 11, 13, 15])"
      ]
     },
     "execution_count": 112,
     "metadata": {},
     "output_type": "execute_result"
    }
   ],
   "source": [
    "arr[arr%2==1]  # odd num"
   ]
  },
  {
   "cell_type": "code",
   "execution_count": 113,
   "id": "98c9b6aa-df52-4d5e-90fe-1a418ec55921",
   "metadata": {},
   "outputs": [
    {
     "data": {
      "text/plain": [
       "array([], dtype=int32)"
      ]
     },
     "execution_count": 113,
     "metadata": {},
     "output_type": "execute_result"
    }
   ],
   "source": [
    "arr [arr / 3 ==0]"
   ]
  },
  {
   "cell_type": "code",
   "execution_count": 123,
   "id": "d1604681-1eb1-4e73-80a1-393d5a6dc87b",
   "metadata": {},
   "outputs": [
    {
     "name": "stdout",
     "output_type": "stream",
     "text": [
      "[25.6 29.9 27. ]\n"
     ]
    }
   ],
   "source": [
    "## print all tempetarure above 24\n",
    "## print tempetarure between 20 and 24\n",
    "## print tempetarure between 20 and 26\n",
    "\n",
    "tempetarure = np.array([22.5,19.0,25.6,21.4,29.9,18.6,23.1,27.0])\n",
    "print(tempetarure[tempetarure >=24])"
   ]
  },
  {
   "cell_type": "code",
   "execution_count": 21,
   "id": "d46b8ddb-cc68-4948-8778-507fab8487be",
   "metadata": {},
   "outputs": [],
   "source": [
    "import numpy as np"
   ]
  },
  {
   "cell_type": "code",
   "execution_count": 29,
   "id": "1639b6cc-7283-44da-ba39-fcc4e68dd428",
   "metadata": {},
   "outputs": [
    {
     "name": "stdout",
     "output_type": "stream",
     "text": [
      "Temperature above 24: [25.6 29.9 27. ]\n",
      "Temperature between 20 and 26: [22.5 25.6 21.4 23.1]\n"
     ]
    }
   ],
   "source": [
    "import numpy as np\n",
    "tempetarure = np.array([22.5,19.0,25.6,21.4,29.9,18.6,23.1,27.0])\n",
    "print(\"Temperature above 24:\", tempetarure[tempetarure> 24])\n",
    "print(\"Temperature between 20 and 26:\",tempetarure [(tempetarure > 20) & (tempetarure < 26)])"
   ]
  },
  {
   "cell_type": "code",
   "execution_count": 35,
   "id": "f336b7f4-5401-43a0-b825-50f04acbdb42",
   "metadata": {},
   "outputs": [
    {
     "name": "stdout",
     "output_type": "stream",
     "text": [
      " the price greater than 500: [False False  True False  True  True False  True]\n"
     ]
    }
   ],
   "source": [
    "## given a array of product price , filter the ones above 500 \n",
    "\n",
    "price =np.array([250,499, 520,310,800,999,450,720])\n",
    "print(\" the price greater than 500:\",price >= 500)"
   ]
  },
  {
   "cell_type": "code",
   "execution_count": 39,
   "id": "f4a0e5d7-1718-49a1-bf1b-8d816987024f",
   "metadata": {},
   "outputs": [
    {
     "name": "stdout",
     "output_type": "stream",
     "text": [
      " the price greater than 500: [520 800 999 720]\n"
     ]
    }
   ],
   "source": [
    "\n",
    "price = np.array([250,499, 520,310,800,999,450,720])\n",
    "print(\" the price greater than 500:\",price[price >= 500])"
   ]
  },
  {
   "cell_type": "code",
   "execution_count": null,
   "id": "4be31b73-10a8-4706-9847-a381786c53ea",
   "metadata": {},
   "outputs": [],
   "source": []
  }
 ],
 "metadata": {
  "kernelspec": {
   "display_name": "Python 3 (ipykernel)",
   "language": "python",
   "name": "python3"
  },
  "language_info": {
   "codemirror_mode": {
    "name": "ipython",
    "version": 3
   },
   "file_extension": ".py",
   "mimetype": "text/x-python",
   "name": "python",
   "nbconvert_exporter": "python",
   "pygments_lexer": "ipython3",
   "version": "3.12.7"
  }
 },
 "nbformat": 4,
 "nbformat_minor": 5
}
