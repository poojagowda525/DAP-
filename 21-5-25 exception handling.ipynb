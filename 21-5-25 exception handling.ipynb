{
 "cells": [
  {
   "cell_type": "code",
   "execution_count": 1,
   "id": "05143c5d-145e-48eb-8b84-5cb33d6fccb8",
   "metadata": {},
   "outputs": [],
   "source": [
    "class mylist:\n",
    "    def __init__(self):\n",
    "        self.items=[]\n",
    "    def append(self, item):\n",
    "        \"\"\"method to add an item to the list\"\"\"\n",
    "        self.items.append(item)\n",
    "\n",
    "    def remove(self,item):\n",
    "        \"\"\" method to remove an item from the list\"\"\"\n",
    "        if item in self.items:\n",
    "            self.items.remove(item)\n",
    "        else:\n",
    "            print(f'{item} not found in the list')\n",
    "\n",
    "    def display(self):\n",
    "        \"\"\"method to display the current list\"\"\"\n",
    "        print(self.items)\n",
    "\n",
    "    def size(self):\n",
    "        \"\"\"method to return the size of the list\"\"\"\n",
    "        return len(self.items)\n",
    "        "
   ]
  },
  {
   "cell_type": "code",
   "execution_count": 2,
   "id": "3a12629a-4b3e-4b3a-8236-c056515278bc",
   "metadata": {},
   "outputs": [],
   "source": [
    "l=mylist()"
   ]
  },
  {
   "cell_type": "code",
   "execution_count": 3,
   "id": "50ea3fbd-4a4b-4da6-a160-5749c518f80e",
   "metadata": {},
   "outputs": [],
   "source": [
    "l.append(1)\n",
    "l.append(2)\n",
    "l.append(3)"
   ]
  },
  {
   "cell_type": "code",
   "execution_count": 4,
   "id": "7587dfad-0b32-4438-b7ea-b63758a6d345",
   "metadata": {},
   "outputs": [
    {
     "name": "stdout",
     "output_type": "stream",
     "text": [
      "[1, 2, 3]\n"
     ]
    }
   ],
   "source": [
    "l.display()"
   ]
  },
  {
   "cell_type": "code",
   "execution_count": 5,
   "id": "81efd21f-4e76-40a0-a014-002423ab84d1",
   "metadata": {},
   "outputs": [],
   "source": [
    "l.remove(2)"
   ]
  },
  {
   "cell_type": "code",
   "execution_count": 6,
   "id": "3c06e8d3-7aa7-42b2-b9b0-184e62b0ed34",
   "metadata": {},
   "outputs": [
    {
     "name": "stdout",
     "output_type": "stream",
     "text": [
      "[1, 3]\n"
     ]
    }
   ],
   "source": [
    "l.display()"
   ]
  },
  {
   "cell_type": "code",
   "execution_count": 7,
   "id": "06c5f6b3-70e8-4522-ac9b-57fe4fd41df4",
   "metadata": {},
   "outputs": [
    {
     "data": {
      "text/plain": [
       "2"
      ]
     },
     "execution_count": 7,
     "metadata": {},
     "output_type": "execute_result"
    }
   ],
   "source": [
    "l.size()"
   ]
  },
  {
   "cell_type": "code",
   "execution_count": null,
   "id": "1d20d5f1-9d31-474a-82c6-6adf97627f81",
   "metadata": {},
   "outputs": [],
   "source": [
    "instance methods\n",
    "class methods"
   ]
  },
  {
   "cell_type": "code",
   "execution_count": 17,
   "id": "66351cb5-26a8-440e-bfa9-e698961958f2",
   "metadata": {},
   "outputs": [],
   "source": [
    "class Cellphone:\n",
    "    \n",
    "    #Attributes\n",
    "    #1 Information \n",
    "    def __init__(self):     #constructor\n",
    "        self.color = \"Black\"\n",
    "        self.weight = \"300\"\n",
    "\n",
    "    #2 Functionalities or methods \n",
    "    def speak(self):\n",
    "        print(f\"this is a cell phone and i can call to someone\")"
   ]
  },
  {
   "cell_type": "code",
   "execution_count": 22,
   "id": "aab49dd8-32ab-4cf4-a8aa-ae48895c3fac",
   "metadata": {},
   "outputs": [],
   "source": [
    "samsung = Cellphone()"
   ]
  },
  {
   "cell_type": "code",
   "execution_count": 23,
   "id": "2214f3f3-b49c-42de-b8f0-ac7a52d83b6d",
   "metadata": {},
   "outputs": [
    {
     "name": "stdout",
     "output_type": "stream",
     "text": [
      "this is a cell phone and i can call to someone\n"
     ]
    }
   ],
   "source": [
    "samsung.speak()"
   ]
  },
  {
   "cell_type": "code",
   "execution_count": 24,
   "id": "35cef1cf-7cd0-49c0-b7ac-0dda2fd26d18",
   "metadata": {},
   "outputs": [],
   "source": [
    "motrola = Cellphone()"
   ]
  },
  {
   "cell_type": "code",
   "execution_count": 25,
   "id": "12250f3c-be1b-463d-a60d-08e0b1d0e4b0",
   "metadata": {},
   "outputs": [
    {
     "name": "stdout",
     "output_type": "stream",
     "text": [
      "this is a cell phone and i can call to someone\n"
     ]
    }
   ],
   "source": [
    "motrola.speak()"
   ]
  },
  {
   "cell_type": "code",
   "execution_count": 8,
   "id": "68e248d5-ed6b-432a-96e5-0fb59103931d",
   "metadata": {},
   "outputs": [],
   "source": [
    "class car:\n",
    "    # class attribute\n",
    "    wheels=4\n",
    "\n",
    "    def __init__(self,make,model):\n",
    "        self.make=make        #instance attribute\n",
    "        self.model=model      #instance attribute\n",
    "\n",
    "    # class method\n",
    "    @classmethod\n",
    "    def set_wheels(cls,number):\n",
    "        cls.wheels=number     # modify the class attribute\n",
    "\n",
    "    def car_info(self):    \n",
    "        return f\"{self.make} {self.model} has {car.wheels}\"\n",
    "        "
   ]
  },
  {
   "cell_type": "code",
   "execution_count": 9,
   "id": "dc69ff04-fec8-4130-a1b8-2e6200a84d40",
   "metadata": {},
   "outputs": [
    {
     "data": {
      "text/plain": [
       "<bound method car.set_wheels of <class '__main__.car'>>"
      ]
     },
     "execution_count": 9,
     "metadata": {},
     "output_type": "execute_result"
    }
   ],
   "source": [
    "obj=car('bmw','benz')\n",
    "obj.set_wheels"
   ]
  },
  {
   "cell_type": "code",
   "execution_count": 10,
   "id": "0d4425d3-1f4b-43c9-82dd-b174d7e3568c",
   "metadata": {},
   "outputs": [],
   "source": [
    "obj.set_wheels(3)\n"
   ]
  },
  {
   "cell_type": "code",
   "execution_count": 11,
   "id": "491d1e14-4700-4b22-a799-8f878860a399",
   "metadata": {},
   "outputs": [
    {
     "data": {
      "text/plain": [
       "'bmw benz has 3'"
      ]
     },
     "execution_count": 11,
     "metadata": {},
     "output_type": "execute_result"
    }
   ],
   "source": [
    "obj.car_info()"
   ]
  },
  {
   "cell_type": "code",
   "execution_count": 31,
   "id": "9ebf0ea2-8f9f-4758-b340-05776950b70c",
   "metadata": {},
   "outputs": [],
   "source": [
    "#1st class\n",
    "# Attribute\n",
    "# Methods \n",
    "\n",
    "class GoldenVillas:\n",
    "    def __init__(self,a,b,c):\n",
    "        self.color = a\n",
    "        self.is_furnish = b\n",
    "        self.is_rent  = c\n",
    "    \n",
    "    def describe_villa(self):\n",
    "        print(f\"This villa is having {self.color} and it {self.is_furnish} and it is {self.is_rent} property\")\n",
    "        "
   ]
  },
  {
   "cell_type": "code",
   "execution_count": 32,
   "id": "4a8d16af-6f38-402f-9571-f71dd278f5a4",
   "metadata": {},
   "outputs": [],
   "source": [
    "villa_1 = GoldenVillas(\"Blue\",\"furnished\",\"rented\")"
   ]
  },
  {
   "cell_type": "code",
   "execution_count": 33,
   "id": "b4b93726-b944-4065-8c92-59587b985321",
   "metadata": {},
   "outputs": [
    {
     "data": {
      "text/plain": [
       "'Blue'"
      ]
     },
     "execution_count": 33,
     "metadata": {},
     "output_type": "execute_result"
    }
   ],
   "source": [
    "villa_1.color"
   ]
  },
  {
   "cell_type": "code",
   "execution_count": 34,
   "id": "628816f2-df62-4912-af01-b11003e33037",
   "metadata": {},
   "outputs": [
    {
     "data": {
      "text/plain": [
       "'furnished'"
      ]
     },
     "execution_count": 34,
     "metadata": {},
     "output_type": "execute_result"
    }
   ],
   "source": [
    "villa_1.is_furnish"
   ]
  },
  {
   "cell_type": "code",
   "execution_count": 35,
   "id": "207b3803-fd41-45dd-8763-690a081b224b",
   "metadata": {},
   "outputs": [
    {
     "data": {
      "text/plain": [
       "'rented'"
      ]
     },
     "execution_count": 35,
     "metadata": {},
     "output_type": "execute_result"
    }
   ],
   "source": [
    "villa_1.is_rent"
   ]
  },
  {
   "cell_type": "code",
   "execution_count": 36,
   "id": "35760718-ffdb-4e2b-b5ee-9cdcd99b5130",
   "metadata": {},
   "outputs": [
    {
     "name": "stdout",
     "output_type": "stream",
     "text": [
      "This villa is having Blue and it furnished and it is rented property\n"
     ]
    }
   ],
   "source": [
    "villa_1.describe_villa()"
   ]
  },
  {
   "cell_type": "markdown",
   "id": "f53f814f-41c1-4885-a1db-960acb848bca",
   "metadata": {},
   "source": [
    "#### exception handling"
   ]
  },
  {
   "cell_type": "code",
   "execution_count": null,
   "id": "407aaf3f-fd3a-4075-9401-92646d2eaa6f",
   "metadata": {},
   "outputs": [],
   "source": [
    "#### syntax\n",
    "try:\n",
    "    # risky code\n",
    "except SomeError:\n",
    "    # handling code\n",
    "else:\n",
    "    # runs if no error occurs\n",
    "finally:\n",
    "    # runs no matter what (cleanup code)"
   ]
  },
  {
   "cell_type": "code",
   "execution_count": 12,
   "id": "ef553b83-7217-440f-8fd6-542bd4407e31",
   "metadata": {},
   "outputs": [
    {
     "name": "stdin",
     "output_type": "stream",
     "text": [
      "enter a number:  45\n"
     ]
    },
    {
     "name": "stdout",
     "output_type": "stream",
     "text": [
      "result is 0.2222222222222222\n"
     ]
    }
   ],
   "source": [
    "# try except\n",
    "\n",
    "try:\n",
    "    x=int(input(\"enter a number: \"))\n",
    "    result=10/x\n",
    "    print(\"result is\",result)\n",
    "\n",
    "except ValueError:\n",
    "    print(\"that was not a number.\")\n",
    "\n",
    "except ZeroDivisionError:\n",
    "    print('you cannot divide by zero')"
   ]
  },
  {
   "cell_type": "code",
   "execution_count": 16,
   "id": "042d5446-0770-4377-875a-4b9b09965fee",
   "metadata": {},
   "outputs": [
    {
     "name": "stdin",
     "output_type": "stream",
     "text": [
      "Enter a number:  -3\n"
     ]
    },
    {
     "name": "stdout",
     "output_type": "stream",
     "text": [
      "Result is -3.3333333333333335\n"
     ]
    }
   ],
   "source": [
    "try:\n",
    "    x = int(input(\"Enter a number: \"))\n",
    "    result = 10 / x\n",
    "    print(\"Result is\", result)\n",
    "except ValueError:\n",
    "    print(\"That was not a number.\")\n",
    "except ZeroDivisionError:\n",
    "    print(\"You cannot divide by zero.\")"
   ]
  },
  {
   "cell_type": "code",
   "execution_count": 13,
   "id": "3790350a-d677-450d-ba1b-18478932a21d",
   "metadata": {},
   "outputs": [
    {
     "name": "stdout",
     "output_type": "stream",
     "text": [
      "result is: 5.0\n",
      "this block runs no matter what.\n"
     ]
    }
   ],
   "source": [
    "# try excccept else finally\n",
    "\n",
    "try:\n",
    "    x=10\n",
    "    y=2\n",
    "    result=x/y\n",
    "\n",
    "except ZeroDivisionError:\n",
    "    print('cannot divide by zero')\n",
    "\n",
    "else:\n",
    "    print('result is:',result)\n",
    "\n",
    "finally:\n",
    "    print('this block runs no matter what.')"
   ]
  },
  {
   "cell_type": "code",
   "execution_count": null,
   "id": "f2b87078-ed4a-4710-90bd-983d4f8649f7",
   "metadata": {},
   "outputs": [],
   "source": [
    "## syntax custom exception\n",
    "class MyCustomError(Exception):\n",
    "    pass"
   ]
  },
  {
   "cell_type": "code",
   "execution_count": 14,
   "id": "dc9ca73a-edef-4617-a55e-8a7a58fee387",
   "metadata": {},
   "outputs": [
    {
     "name": "stdout",
     "output_type": "stream",
     "text": [
      "custom exception caught: age cannot be negative!\n"
     ]
    }
   ],
   "source": [
    "# custom exception for -ve age\n",
    "\n",
    "class negativeAgeError(Exception):\n",
    "    \"\"\"raised when the age is negative\"\"\"\n",
    "    pass\n",
    "\n",
    "def validate_age(age):\n",
    "    if age<0:\n",
    "        raise negativeAgeError(\"age cannot be negative!\")\n",
    "    else:\n",
    "        print(\"valid age:\",age)\n",
    "\n",
    "# test\n",
    "try:\n",
    "    validate_age(-5)\n",
    "except negativeAgeError as e:\n",
    "    print('custom exception caught:',e)\n",
    "\n"
   ]
  },
  {
   "cell_type": "code",
   "execution_count": 15,
   "id": "7481d9cb-05ad-405a-be11-3ae34f712b6c",
   "metadata": {},
   "outputs": [
    {
     "name": "stdin",
     "output_type": "stream",
     "text": [
      "enter amount to withdraw: 34\n"
     ]
    },
    {
     "name": "stdout",
     "output_type": "stream",
     "text": [
      "withdrawal successful! remaining balance: rs966\n"
     ]
    }
   ],
   "source": [
    "class insufficientFundsError(Exception):\n",
    "    pass  # just using the default behavior of exception\n",
    "\n",
    "#simulate bank withdrawal\n",
    "balance=1000\n",
    "\n",
    "try:\n",
    "    amount=int(input(\"enter amount to withdraw:\"))\n",
    "    if amount>balance:\n",
    "        raise insufficientFundsError(\"you dont hv enough money\")\n",
    "    balance -=amount\n",
    "    print(f'withdrawal successful! remaining balance: rs{balance}')\n",
    "\n",
    "except insufficientFundsError as e:\n",
    "    print(\"custom error:\",e)\n",
    "\n",
    "except ValueError:\n",
    "    print('please enter a valid number')"
   ]
  },
  {
   "cell_type": "code",
   "execution_count": 38,
   "id": "067bfc7b-eb18-467e-a865-525664f5953c",
   "metadata": {},
   "outputs": [],
   "source": [
    "### defining a class\n",
    "\n",
    "# Defining the class Person\n",
    "class Person:\n",
    "    # Constructor (__init__ method) to initialize attributes\n",
    "    def __init__(self, name, age, gender):\n",
    "        self.name = name       # Instance variable\n",
    "        self.age = age         # Instance variable\n",
    "        self.gender = gender   # Instance variable\n",
    "\n",
    "    # Method to make the person speak\n",
    "    def speak(self):\n",
    "        return f\"Hi, my name is {self.name} and I am {self.age} years old.\"\n",
    "\n",
    "    # Method to describe walking action\n",
    "    def walk(self):\n",
    "        return f\"{self.name} is walking.\""
   ]
  },
  {
   "cell_type": "code",
   "execution_count": 39,
   "id": "43a5ef46-779f-4b0c-9f78-9e8f1d1de2b5",
   "metadata": {},
   "outputs": [],
   "source": [
    "obj1 = Person(\"raj\",50,\"male\")"
   ]
  },
  {
   "cell_type": "code",
   "execution_count": 40,
   "id": "b5dc2398-8414-4ef7-810b-26dd113ae366",
   "metadata": {},
   "outputs": [
    {
     "data": {
      "text/plain": [
       "50"
      ]
     },
     "execution_count": 40,
     "metadata": {},
     "output_type": "execute_result"
    }
   ],
   "source": [
    "obj1.age"
   ]
  },
  {
   "cell_type": "code",
   "execution_count": 41,
   "id": "ccc2909a-89f8-41b5-9fbe-2ee16b5e474f",
   "metadata": {},
   "outputs": [
    {
     "data": {
      "text/plain": [
       "'male'"
      ]
     },
     "execution_count": 41,
     "metadata": {},
     "output_type": "execute_result"
    }
   ],
   "source": [
    "obj1.gender"
   ]
  },
  {
   "cell_type": "code",
   "execution_count": 42,
   "id": "e033c0d5-1c8c-4fdf-aba7-dcdd135cb5f4",
   "metadata": {},
   "outputs": [
    {
     "data": {
      "text/plain": [
       "'Hi, my name is raj and I am 50 years old.'"
      ]
     },
     "execution_count": 42,
     "metadata": {},
     "output_type": "execute_result"
    }
   ],
   "source": [
    "obj1.speak()"
   ]
  },
  {
   "cell_type": "code",
   "execution_count": 43,
   "id": "45a89191-500c-4424-a745-c139ad2e6e09",
   "metadata": {},
   "outputs": [
    {
     "data": {
      "text/plain": [
       "'raj is walking.'"
      ]
     },
     "execution_count": 43,
     "metadata": {},
     "output_type": "execute_result"
    }
   ],
   "source": [
    "obj1.walk()"
   ]
  },
  {
   "cell_type": "code",
   "execution_count": 44,
   "id": "d8dfec5c-68e2-4bdb-92d3-91d7e384d651",
   "metadata": {},
   "outputs": [],
   "source": [
    "### creating a object from class\n",
    "class Car:\n",
    "    def __init__(self,brand1,mileage1):\n",
    "        self.brand = brand1\n",
    "        self.mileage = mileage1\n",
    "    def performance(self):\n",
    "        print(f\"the brand  is {self.brand} and the mileage of this brand is {self.mileage}\")"
   ]
  },
  {
   "cell_type": "code",
   "execution_count": 45,
   "id": "3a304ee2-8b5b-4a97-bfad-9acd549b4d17",
   "metadata": {},
   "outputs": [],
   "source": [
    "obj = Car(\"toyota\",25)"
   ]
  },
  {
   "cell_type": "code",
   "execution_count": 46,
   "id": "c2ed6d83-7525-4fd0-a643-afbc612ecb47",
   "metadata": {},
   "outputs": [
    {
     "name": "stdout",
     "output_type": "stream",
     "text": [
      "the brand  is toyota and the mileage of this brand is 25\n"
     ]
    }
   ],
   "source": [
    "obj.performance()"
   ]
  },
  {
   "cell_type": "code",
   "execution_count": 47,
   "id": "03e767f0-b51a-43c2-9325-51aae26568c2",
   "metadata": {},
   "outputs": [],
   "source": [
    "obj1 = Car(\"kia\",20)"
   ]
  },
  {
   "cell_type": "code",
   "execution_count": 48,
   "id": "3fde331c-e08a-46e6-b30a-0fb53396b85f",
   "metadata": {},
   "outputs": [
    {
     "name": "stdout",
     "output_type": "stream",
     "text": [
      "the brand  is kia and the mileage of this brand is 20\n"
     ]
    }
   ],
   "source": [
    "obj1.performance()"
   ]
  },
  {
   "cell_type": "code",
   "execution_count": 49,
   "id": "5ba83c2d-e8b3-4bd2-ae89-3b486cdc5f3f",
   "metadata": {},
   "outputs": [],
   "source": [
    "# Creating objects (instances) of the Person class\n",
    "person_1 = Person(\"pooja\", 20, \"feMale\")"
   ]
  },
  {
   "cell_type": "code",
   "execution_count": 50,
   "id": "2f127714-0f74-43af-aa74-464f3c6efe50",
   "metadata": {},
   "outputs": [],
   "source": [
    "person_2 = Person(\"Jane\", 25, \"male\")"
   ]
  },
  {
   "cell_type": "code",
   "execution_count": 51,
   "id": "66921c29-d59c-4c37-8c10-483feedb75d1",
   "metadata": {},
   "outputs": [
    {
     "data": {
      "text/plain": [
       "'Hi, my name is pooja and I am 20 years old.'"
      ]
     },
     "execution_count": 51,
     "metadata": {},
     "output_type": "execute_result"
    }
   ],
   "source": [
    "person_1.speak()"
   ]
  },
  {
   "cell_type": "code",
   "execution_count": 52,
   "id": "7021e403-cfca-4014-a67d-141fdab8876b",
   "metadata": {},
   "outputs": [
    {
     "data": {
      "text/plain": [
       "20"
      ]
     },
     "execution_count": 52,
     "metadata": {},
     "output_type": "execute_result"
    }
   ],
   "source": [
    "person_1.age"
   ]
  },
  {
   "cell_type": "code",
   "execution_count": 53,
   "id": "9de5d2a5-3e2a-4c82-a4fb-adcfca20694f",
   "metadata": {},
   "outputs": [
    {
     "data": {
      "text/plain": [
       "'Jane is walking.'"
      ]
     },
     "execution_count": 53,
     "metadata": {},
     "output_type": "execute_result"
    }
   ],
   "source": [
    "person_2.walk()"
   ]
  },
  {
   "cell_type": "markdown",
   "id": "2f03edc2-dc47-4fd6-87d4-200f9c4bc4fa",
   "metadata": {},
   "source": [
    "### constructor"
   ]
  },
  {
   "cell_type": "code",
   "execution_count": 54,
   "id": "bc9a09f9-9fff-4bc9-82dd-58edde248803",
   "metadata": {},
   "outputs": [],
   "source": [
    "class Mobile_Phone1:\n",
    "    #Attributes \n",
    "    def __init__(self,a_col,b_size,c_numc):\n",
    "        self.color = a_col\n",
    "        self.size = b_size\n",
    "        self.camera = c_numc\n",
    "        print(\"hello\")\n",
    "    \n",
    "\n",
    "    def calling(self,call_rates):\n",
    "        print(f\"i am calling using {self.color} cell phone and the call rates per second is {call_rates} \")\n",
    "    "
   ]
  },
  {
   "cell_type": "code",
   "execution_count": 55,
   "id": "2351affd-44a0-4fc7-9ac7-44e0011d0957",
   "metadata": {},
   "outputs": [
    {
     "name": "stdout",
     "output_type": "stream",
     "text": [
      "hello\n"
     ]
    }
   ],
   "source": [
    "a = Mobile_Phone1(5,5,5)"
   ]
  },
  {
   "cell_type": "code",
   "execution_count": null,
   "id": "4cbbd98a-68da-4ef8-984f-ab683d63ff77",
   "metadata": {},
   "outputs": [],
   "source": [
    "class AtmMachine:\n",
    "\n",
    "  # constructor(special function)\n",
    "  def __init__(self):    \n",
    "    self.pin = ''\n",
    "    self.balance = 0\n"
   ]
  },
  {
   "cell_type": "code",
   "execution_count": 56,
   "id": "458f291b-5437-46e6-a70b-b55f5b9b2f8d",
   "metadata": {},
   "outputs": [],
   "source": [
    "## having a methode in constructor\n",
    "\n",
    "class AtmMachine:\n",
    "    def __init__(self, a, b):\n",
    "        self.pin = a\n",
    "        self.balance = b\n",
    "        self.initialize_atm()\n",
    "        \n",
    "    def initialize_atm(self):\n",
    "        print(\"ATM initialization complete.\")\n",
    "        print(f\"Initial PIN: {self.pin}\")\n",
    "        print(f\"Initial Balance: {self.balance}\")\n",
    "    "
   ]
  },
  {
   "cell_type": "code",
   "execution_count": 57,
   "id": "d1bd9b46-74cd-471e-9c4e-2272002721df",
   "metadata": {},
   "outputs": [
    {
     "name": "stdout",
     "output_type": "stream",
     "text": [
      "ATM initialization complete.\n",
      "Initial PIN: 1234\n",
      "Initial Balance: 5000\n"
     ]
    }
   ],
   "source": [
    "obj = AtmMachine(1234,5000)"
   ]
  },
  {
   "cell_type": "code",
   "execution_count": 58,
   "id": "d31fcfa7-7ac4-43c6-9eaf-2c9eef1dde0b",
   "metadata": {},
   "outputs": [
    {
     "name": "stdout",
     "output_type": "stream",
     "text": [
      "ATM initialization complete.\n",
      "Initial PIN: 1234\n",
      "Initial Balance: 5000\n"
     ]
    }
   ],
   "source": [
    "obj.initialize_atm()"
   ]
  },
  {
   "cell_type": "markdown",
   "id": "6ba6a5ce-d75a-4a98-bf8b-df8a3f152fc3",
   "metadata": {},
   "source": [
    "### Instance Context:"
   ]
  },
  {
   "cell_type": "code",
   "execution_count": 59,
   "id": "3fa82be3-af5b-4bdd-9636-a7d3aab431c1",
   "metadata": {},
   "outputs": [],
   "source": [
    "class My:\n",
    "    def __init__(self,a):\n",
    "        self.name = a"
   ]
  },
  {
   "cell_type": "code",
   "execution_count": 60,
   "id": "8efc0cb2-b23d-4398-98f5-f2408c84484b",
   "metadata": {},
   "outputs": [],
   "source": [
    "new = My(10)"
   ]
  },
  {
   "cell_type": "code",
   "execution_count": 61,
   "id": "47d909b0-8ba3-4097-8e82-39c3c4a86b02",
   "metadata": {},
   "outputs": [
    {
     "data": {
      "text/plain": [
       "10"
      ]
     },
     "execution_count": 61,
     "metadata": {},
     "output_type": "execute_result"
    }
   ],
   "source": [
    "new.name"
   ]
  },
  {
   "cell_type": "code",
   "execution_count": 62,
   "id": "43ddd054-aee6-4526-8e21-60f2f1a1a485",
   "metadata": {},
   "outputs": [],
   "source": [
    "new1 = My(\"raj\")"
   ]
  },
  {
   "cell_type": "code",
   "execution_count": 63,
   "id": "b4b1025c-056a-4c3d-8a55-d3397ff5d667",
   "metadata": {},
   "outputs": [
    {
     "data": {
      "text/plain": [
       "'raj'"
      ]
     },
     "execution_count": 63,
     "metadata": {},
     "output_type": "execute_result"
    }
   ],
   "source": [
    "new1.name"
   ]
  },
  {
   "cell_type": "code",
   "execution_count": null,
   "id": "2b3f559d-d0c3-4acc-82d2-4824f8e3429b",
   "metadata": {},
   "outputs": [],
   "source": [
    "## ex Person Class with Attributes"
   ]
  },
  {
   "cell_type": "code",
   "execution_count": 64,
   "id": "a632be29-b970-4b52-8e38-b82ccd6e2669",
   "metadata": {},
   "outputs": [],
   "source": [
    "class Person:\n",
    "    species = \"Homo sapiens\"\n",
    "    \n",
    "    def __init__(self, a, b):\n",
    "        # Instance attributes (unique to each instance)\n",
    "        self.name = a  # Attribute representing the name of the person\n",
    "        self.age = b    # Attribute representing the age of the person\n",
    "        \n",
    "    def introduce(self):\n",
    "        return f\"Hello, my name is {self.name} and I am {self.age} years old.\""
   ]
  },
  {
   "cell_type": "code",
   "execution_count": 65,
   "id": "c394d236-4da2-4bcf-8bca-0e7bbec09b10",
   "metadata": {},
   "outputs": [],
   "source": [
    "n = Person(\"Ram\",30)"
   ]
  },
  {
   "cell_type": "code",
   "execution_count": 66,
   "id": "a482471b-113e-4345-afdf-50af1793940a",
   "metadata": {
    "scrolled": true
   },
   "outputs": [
    {
     "data": {
      "text/plain": [
       "'Homo sapiens'"
      ]
     },
     "execution_count": 66,
     "metadata": {},
     "output_type": "execute_result"
    }
   ],
   "source": [
    "n.species"
   ]
  },
  {
   "cell_type": "code",
   "execution_count": 67,
   "id": "73267152-5c69-4b32-9253-3e161cd874b6",
   "metadata": {},
   "outputs": [
    {
     "data": {
      "text/plain": [
       "'Hello, my name is Ram and I am 30 years old.'"
      ]
     },
     "execution_count": 67,
     "metadata": {},
     "output_type": "execute_result"
    }
   ],
   "source": [
    "n.introduce()"
   ]
  },
  {
   "cell_type": "code",
   "execution_count": 68,
   "id": "7c710393-de94-409f-aea4-123bcfc74767",
   "metadata": {},
   "outputs": [
    {
     "data": {
      "text/plain": [
       "'Ram'"
      ]
     },
     "execution_count": 68,
     "metadata": {},
     "output_type": "execute_result"
    }
   ],
   "source": [
    "n.name"
   ]
  },
  {
   "cell_type": "code",
   "execution_count": 69,
   "id": "4a550917-557e-42b6-aef0-e59b0c287de2",
   "metadata": {},
   "outputs": [
    {
     "data": {
      "text/plain": [
       "30"
      ]
     },
     "execution_count": 69,
     "metadata": {},
     "output_type": "execute_result"
    }
   ],
   "source": [
    "n.age"
   ]
  },
  {
   "cell_type": "code",
   "execution_count": null,
   "id": "b5bd191f-ed24-491b-bd28-6eae2fce9cc5",
   "metadata": {},
   "outputs": [],
   "source": []
  }
 ],
 "metadata": {
  "kernelspec": {
   "display_name": "Python 3 (ipykernel)",
   "language": "python",
   "name": "python3"
  },
  "language_info": {
   "codemirror_mode": {
    "name": "ipython",
    "version": 3
   },
   "file_extension": ".py",
   "mimetype": "text/x-python",
   "name": "python",
   "nbconvert_exporter": "python",
   "pygments_lexer": "ipython3",
   "version": "3.12.7"
  }
 },
 "nbformat": 4,
 "nbformat_minor": 5
}
