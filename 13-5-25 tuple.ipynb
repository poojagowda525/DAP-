{
 "cells": [
  {
   "cell_type": "markdown",
   "id": "d36b0526-3f90-4b6a-bd04-7dd04bf0403e",
   "metadata": {},
   "source": [
    "#### tuple"
   ]
  },
  {
   "cell_type": "code",
   "execution_count": 1,
   "id": "44f7c0fe-3b2f-45f8-9bba-873e1a5db577",
   "metadata": {},
   "outputs": [
    {
     "data": {
      "text/plain": [
       "('hello', 1)"
      ]
     },
     "execution_count": 1,
     "metadata": {},
     "output_type": "execute_result"
    }
   ],
   "source": [
    "t = (\"hello\",1,20,45,502.25,(1,2))\n",
    "t[0:2]"
   ]
  },
  {
   "cell_type": "code",
   "execution_count": 2,
   "id": "ca3ca7ad-0be4-499c-be62-c9543fc3cb87",
   "metadata": {},
   "outputs": [
    {
     "data": {
      "text/plain": [
       "1"
      ]
     },
     "execution_count": 2,
     "metadata": {},
     "output_type": "execute_result"
    }
   ],
   "source": [
    "my_tuple = (1, 2, 3) # []\n",
    "my_tuple[0]"
   ]
  },
  {
   "cell_type": "code",
   "execution_count": 4,
   "id": "99108f42-fec0-4727-8ee1-cf8b49ed4e0d",
   "metadata": {},
   "outputs": [
    {
     "data": {
      "text/plain": [
       "1"
      ]
     },
     "execution_count": 4,
     "metadata": {},
     "output_type": "execute_result"
    }
   ],
   "source": [
    "## Immutable\n",
    "my_tuple = (1, 2, 3)\n",
    "my_tuple[0] "
   ]
  },
  {
   "cell_type": "code",
   "execution_count": 5,
   "id": "f90ded60-bad4-4fe0-8450-b36bbfd0873d",
   "metadata": {},
   "outputs": [
    {
     "name": "stdout",
     "output_type": "stream",
     "text": [
      "(1, 'Hello', 3.14)\n"
     ]
    }
   ],
   "source": [
    "## heterogenious\n",
    "my_tuple = (1, \"Hello\", 3.14)\n",
    "print(my_tuple) \n"
   ]
  },
  {
   "cell_type": "code",
   "execution_count": 6,
   "id": "308c0994-9642-4ea5-8747-0493fc3d258e",
   "metadata": {},
   "outputs": [
    {
     "name": "stdout",
     "output_type": "stream",
     "text": [
      "30\n",
      "(20, 30, 40)\n"
     ]
    }
   ],
   "source": [
    "## Indexing and Slicing\n",
    "my_tuple = (10, 20, 30, 40, 50)\n",
    "print(my_tuple[2])    \n",
    "print(my_tuple[1:4])  \n"
   ]
  },
  {
   "cell_type": "code",
   "execution_count": 7,
   "id": "69837c89-7bb7-4d76-a589-3ba2fec3bcb7",
   "metadata": {},
   "outputs": [
    {
     "name": "stdout",
     "output_type": "stream",
     "text": [
      "(1, 2, 3)\n"
     ]
    },
    {
     "data": {
      "text/plain": [
       "(1, 2, 3)"
      ]
     },
     "execution_count": 7,
     "metadata": {},
     "output_type": "execute_result"
    }
   ],
   "source": [
    "### packing\n",
    "my_tuple = 1, 2, 3\n",
    "print(my_tuple)\n",
    "my_tuple"
   ]
  },
  {
   "cell_type": "code",
   "execution_count": 8,
   "id": "4b2a92e7-3d32-4cbc-bb39-4072d772ea8a",
   "metadata": {},
   "outputs": [
    {
     "name": "stdout",
     "output_type": "stream",
     "text": [
      "1\n",
      "2\n",
      "3\n"
     ]
    }
   ],
   "source": [
    "# Unpacking\n",
    "a, b, c = my_tuple\n",
    "print(a)  \n",
    "print(b)  \n",
    "print(c)  "
   ]
  },
  {
   "cell_type": "code",
   "execution_count": 9,
   "id": "25c78f72-44e7-4fad-92ca-ee53c3c95ac8",
   "metadata": {},
   "outputs": [
    {
     "data": {
      "text/plain": [
       "int"
      ]
     },
     "execution_count": 9,
     "metadata": {},
     "output_type": "execute_result"
    }
   ],
   "source": [
    "type(a)"
   ]
  },
  {
   "cell_type": "code",
   "execution_count": 10,
   "id": "44fd8980-21d5-4cb4-bf49-e13f5d483d15",
   "metadata": {},
   "outputs": [
    {
     "name": "stdout",
     "output_type": "stream",
     "text": [
      "('John', 25, 'Engineer')\n"
     ]
    }
   ],
   "source": [
    "# Example 1: Simple tuple creation\n",
    "person = (\"John\", 25, \"Engineer\")\n",
    "print(person) "
   ]
  },
  {
   "cell_type": "code",
   "execution_count": 11,
   "id": "1a4db93c-ec96-47b2-8e62-b3cd1e80f4ff",
   "metadata": {},
   "outputs": [
    {
     "name": "stdout",
     "output_type": "stream",
     "text": [
      "10 20 30\n"
     ]
    }
   ],
   "source": [
    "# Example 2: Accessing tuple elements\n",
    "coordinates = (10, 20, 30)\n",
    "x = coordinates[0]\n",
    "y = coordinates[1]\n",
    "z = coordinates[2]\n",
    "print(x, y, z) "
   ]
  },
  {
   "cell_type": "code",
   "execution_count": 12,
   "id": "ad13f855-f045-48cf-b15a-fc2f7bf6a8ad",
   "metadata": {},
   "outputs": [
    {
     "data": {
      "text/plain": [
       "3"
      ]
     },
     "execution_count": 12,
     "metadata": {},
     "output_type": "execute_result"
    }
   ],
   "source": [
    "l = [[1,2,3,4],[5,6,7,8,[1,2,3,4]]]\n",
    " \n",
    "l[1][4][2]      "
   ]
  },
  {
   "cell_type": "code",
   "execution_count": 13,
   "id": "903392b5-8b65-4721-8e29-ebebb1e72bf6",
   "metadata": {},
   "outputs": [
    {
     "ename": "SyntaxError",
     "evalue": "invalid syntax (4019774655.py, line 1)",
     "output_type": "error",
     "traceback": [
      "\u001b[1;36m  Cell \u001b[1;32mIn[13], line 1\u001b[1;36m\u001b[0m\n\u001b[1;33m    l[0][0][]\u001b[0m\n\u001b[1;37m            ^\u001b[0m\n\u001b[1;31mSyntaxError\u001b[0m\u001b[1;31m:\u001b[0m invalid syntax\n"
     ]
    }
   ],
   "source": [
    "l[0][0][]"
   ]
  },
  {
   "cell_type": "code",
   "execution_count": 14,
   "id": "2a0d9dff-fc06-4072-9604-687971037863",
   "metadata": {},
   "outputs": [
    {
     "data": {
      "text/plain": [
       "2"
      ]
     },
     "execution_count": 14,
     "metadata": {},
     "output_type": "execute_result"
    }
   ],
   "source": [
    "# Example 3: Nested tuples\n",
    "nested_tuple = (1, (2, 3), (4, (5, 6)))\n",
    "nested_tuple[1][0]"
   ]
  },
  {
   "cell_type": "code",
   "execution_count": 15,
   "id": "2dc193a9-4803-4cc7-9b41-74dc3f4d3525",
   "metadata": {},
   "outputs": [
    {
     "data": {
      "text/plain": [
       "6"
      ]
     },
     "execution_count": 15,
     "metadata": {},
     "output_type": "execute_result"
    }
   ],
   "source": [
    "nested_tuple[2][1][1]"
   ]
  },
  {
   "cell_type": "code",
   "execution_count": 16,
   "id": "63143697-8dda-48b2-8d24-fd5d0f982964",
   "metadata": {},
   "outputs": [
    {
     "name": "stdout",
     "output_type": "stream",
     "text": [
      "5\n"
     ]
    }
   ],
   "source": [
    "print(nested_tuple[2][1][0])  "
   ]
  },
  {
   "cell_type": "code",
   "execution_count": 17,
   "id": "da8cd872-a836-4ef4-af4b-342b0f67f6c0",
   "metadata": {},
   "outputs": [],
   "source": [
    "### Accessing Elements by Index\n",
    "my_tuple = (\"apple\", \"banana\", \"cherry\", \"date\")\n",
    "first_element = my_tuple[0]\n",
    "second_element = my_tuple[1]\n",
    "third_element = my_tuple[2]"
   ]
  },
  {
   "cell_type": "code",
   "execution_count": 18,
   "id": "d71ef1ac-7ba0-4ee0-a8b6-d08fdb5e2177",
   "metadata": {},
   "outputs": [
    {
     "name": "stdout",
     "output_type": "stream",
     "text": [
      "apple\n",
      "banana\n",
      "cherry\n"
     ]
    }
   ],
   "source": [
    "print(first_element) \n",
    "print(second_element) \n",
    "print(third_element) "
   ]
  },
  {
   "cell_type": "code",
   "execution_count": 19,
   "id": "7036c81f-99fb-4e94-8ae2-3c72e31bf03c",
   "metadata": {},
   "outputs": [
    {
     "data": {
      "text/plain": [
       "'date'"
      ]
     },
     "execution_count": 19,
     "metadata": {},
     "output_type": "execute_result"
    }
   ],
   "source": [
    "## negetive indexing\n",
    "my_tuple = (\"apple\", \"banana\", \"cherry\", \"date\")\n",
    "my_tuple[-1]"
   ]
  },
  {
   "cell_type": "code",
   "execution_count": 20,
   "id": "a7695dba-542b-4291-b8eb-6ac8b23d7f96",
   "metadata": {},
   "outputs": [
    {
     "data": {
      "text/plain": [
       "('banana', 'cherry', 'date')"
      ]
     },
     "execution_count": 20,
     "metadata": {},
     "output_type": "execute_result"
    }
   ],
   "source": [
    "my_tuple[-3:]"
   ]
  },
  {
   "cell_type": "code",
   "execution_count": 21,
   "id": "bbe12f8e-cb13-42c0-9fb4-7e2bd68764d3",
   "metadata": {},
   "outputs": [
    {
     "name": "stdout",
     "output_type": "stream",
     "text": [
      "date\n",
      "cherry\n"
     ]
    }
   ],
   "source": [
    "last_element = my_tuple[-1]\n",
    "second_last_element = my_tuple[-2]\n",
    "print(last_element)     \n",
    "print(second_last_element) "
   ]
  },
  {
   "cell_type": "code",
   "execution_count": 23,
   "id": "7717090b-f314-4723-a851-72df4c3ca730",
   "metadata": {},
   "outputs": [],
   "source": [
    "## slicing\n",
    "# Creating a tuple\n",
    "my_tuple = (\"apple\", \"banana\", \"cherry\", \"date\", \"elderberry\")\n",
    "slice_1 = my_tuple[1:3]   \n",
    "slice_2 = my_tuple[:4]   \n",
    "slice_3 = my_tuple[2:] "
   ]
  },
  {
   "cell_type": "code",
   "execution_count": 24,
   "id": "18400271-791a-4dbb-9a77-55381e0f9e30",
   "metadata": {},
   "outputs": [
    {
     "name": "stdout",
     "output_type": "stream",
     "text": [
      "('banana', 'cherry')\n",
      "('apple', 'banana', 'cherry', 'date')\n",
      "('cherry', 'date', 'elderberry')\n"
     ]
    }
   ],
   "source": [
    "print(slice_1)  \n",
    "print(slice_2)  \n",
    "print(slice_3)"
   ]
  },
  {
   "cell_type": "code",
   "execution_count": 25,
   "id": "188a6550-cda6-4c79-a8b0-bbe0de6e3d6c",
   "metadata": {},
   "outputs": [
    {
     "name": "stdout",
     "output_type": "stream",
     "text": [
      "cherry\n"
     ]
    }
   ],
   "source": [
    "# Question 1: Given the tuple `fruits[2] = (\"apple\", \"banana\", \"cherry\", \"date\", \"elderberry\")`,\n",
    "# how would you access the element \"cherry\"?\n",
    "\n",
    "fruits = (\"apple\", \"banana\", \"cherry\", \"date\", \"elderberry\")\n",
    "cherry_123 = fruits[2]\n",
    "print(cherry_123) "
   ]
  },
  {
   "cell_type": "code",
   "execution_count": 26,
   "id": "a4ce3d79-86c8-4c56-9b53-07aed9f560cc",
   "metadata": {},
   "outputs": [
    {
     "name": "stdout",
     "output_type": "stream",
     "text": [
      "(10, 20, 30)\n"
     ]
    }
   ],
   "source": [
    "numbers = (10, 20, 30, 40, 50)\n",
    "first_three = numbers[:3]\n",
    "print(first_three)  "
   ]
  },
  {
   "cell_type": "code",
   "execution_count": 27,
   "id": "62fcfa56-3246-47b1-bd77-3418d03e983d",
   "metadata": {},
   "outputs": [
    {
     "name": "stdout",
     "output_type": "stream",
     "text": [
      "purple\n"
     ]
    }
   ],
   "source": [
    "colors = (\"red\", \"green\", \"blue\", \"yellow\", \"purple\")\n",
    "last_color = colors[-1]\n",
    "print(last_color) "
   ]
  },
  {
   "cell_type": "code",
   "execution_count": 28,
   "id": "c0d7437a-1244-42e4-a039-74710c198b2a",
   "metadata": {},
   "outputs": [
    {
     "name": "stdout",
     "output_type": "stream",
     "text": [
      "5\n"
     ]
    }
   ],
   "source": [
    "nested_tuple = (1, (2, 3), (4, (5, 6), 7), 8)\n",
    "element_five = nested_tuple[2][1][0]\n",
    "print(element_five)  "
   ]
  },
  {
   "cell_type": "code",
   "execution_count": 29,
   "id": "ea915858-f71b-4b9c-a398-16885701d0c3",
   "metadata": {},
   "outputs": [
    {
     "name": "stdout",
     "output_type": "stream",
     "text": [
      "('Charlie', 'Diana', 'Eve')\n"
     ]
    }
   ],
   "source": [
    "names = (\"Alice\", \"Bob\", \"Charlie\", \"Diana\", \"Eve\")\n",
    "last_three_names = names[-3:]\n",
    "print(last_three_names)"
   ]
  },
  {
   "cell_type": "markdown",
   "id": "2adcf21b-8a77-4f6b-bd5a-517ef518b4e6",
   "metadata": {},
   "source": [
    "### Arithmetic Operations"
   ]
  },
  {
   "cell_type": "code",
   "execution_count": 30,
   "id": "5bc03391-2173-4cda-bbe0-b700333f00eb",
   "metadata": {},
   "outputs": [
    {
     "name": "stdout",
     "output_type": "stream",
     "text": [
      "(1, 2, 3, 4, 5, 6)\n"
     ]
    }
   ],
   "source": [
    "## addition\n",
    "# Two tuples\n",
    "tuple1 = (1, 2, 3)\n",
    "tuple2 = (4, 5, 6)\n",
    "result = tuple1 + tuple2\n",
    "print(result)\n"
   ]
  },
  {
   "cell_type": "code",
   "execution_count": 31,
   "id": "32e44d62-dfe9-44d0-8146-14c92730f78a",
   "metadata": {},
   "outputs": [
    {
     "data": {
      "text/plain": [
       "(1, 2, 3)"
      ]
     },
     "execution_count": 31,
     "metadata": {},
     "output_type": "execute_result"
    }
   ],
   "source": [
    "tuple1"
   ]
  },
  {
   "cell_type": "code",
   "execution_count": 32,
   "id": "0ce50b1b-a90b-4e26-8479-f0fd95280285",
   "metadata": {},
   "outputs": [
    {
     "data": {
      "text/plain": [
       "(4, 5, 6)"
      ]
     },
     "execution_count": 32,
     "metadata": {},
     "output_type": "execute_result"
    }
   ],
   "source": [
    "tuple2"
   ]
  },
  {
   "cell_type": "code",
   "execution_count": 33,
   "id": "00a53663-4023-4482-84dc-2bcae78da6c0",
   "metadata": {},
   "outputs": [
    {
     "data": {
      "text/plain": [
       "(1, 2, 3, 1, 2, 3, 1, 2, 3, 1, 2, 3, 1, 2, 3)"
      ]
     },
     "execution_count": 33,
     "metadata": {},
     "output_type": "execute_result"
    }
   ],
   "source": [
    "## multiplication\n",
    "tuple1 = (1, 2, 3)\n",
    "tuple1 * 5"
   ]
  },
  {
   "cell_type": "code",
   "execution_count": 34,
   "id": "f7b0b6d0-a705-4d70-ba79-1ac55347d894",
   "metadata": {},
   "outputs": [
    {
     "data": {
      "text/plain": [
       "True"
      ]
     },
     "execution_count": 34,
     "metadata": {},
     "output_type": "execute_result"
    }
   ],
   "source": [
    "## membership operator\n",
    "my_tuple = (10, 20, 30, 40)\n",
    "10 in my_tuple "
   ]
  },
  {
   "cell_type": "code",
   "execution_count": 35,
   "id": "5e212274-d604-4714-8ab4-e07330de6988",
   "metadata": {},
   "outputs": [
    {
     "data": {
      "text/plain": [
       "False"
      ]
     },
     "execution_count": 35,
     "metadata": {},
     "output_type": "execute_result"
    }
   ],
   "source": [
    "55 in my_tuple "
   ]
  },
  {
   "cell_type": "code",
   "execution_count": 36,
   "id": "99a99c69-06da-4665-a43d-2c14d07f6af9",
   "metadata": {},
   "outputs": [
    {
     "name": "stdout",
     "output_type": "stream",
     "text": [
      "True\n"
     ]
    }
   ],
   "source": [
    "# A tuple\n",
    "my_tuple = (10, 20, 30, 40)\n",
    "\n",
    "# Checking if an element is in the tuple\n",
    "is_present = 20 in my_tuple\n",
    "\n",
    "print(is_present)  \n"
   ]
  },
  {
   "cell_type": "code",
   "execution_count": 37,
   "id": "5d7771f8-22f1-49e8-b0af-f58cf9d53d4b",
   "metadata": {},
   "outputs": [
    {
     "name": "stdout",
     "output_type": "stream",
     "text": [
      "True\n"
     ]
    }
   ],
   "source": [
    "## not in operator\n",
    "my_tuple = (10, 20, 30, 40)\n",
    "is_not_present = 50 not in my_tuple\n",
    "print(is_not_present) "
   ]
  },
  {
   "cell_type": "code",
   "execution_count": 38,
   "id": "7df84b8b-ce27-4378-87dd-3aac723c65f1",
   "metadata": {},
   "outputs": [
    {
     "name": "stdout",
     "output_type": "stream",
     "text": [
      "apple\n",
      "banana\n",
      "cherry\n"
     ]
    }
   ],
   "source": [
    "### for Loop in Tuples\n",
    "# A tuple containing different elements\n",
    "my_tuple = (\"apple\", \"banana\", \"cherry\")\n",
    "\n",
    "# Using a for loop to iterate over the tuple\n",
    "for fruit in my_tuple:\n",
    "    print(fruit)"
   ]
  },
  {
   "cell_type": "code",
   "execution_count": 39,
   "id": "66a0155d-174b-4d7c-b95c-b152ad37776e",
   "metadata": {},
   "outputs": [
    {
     "data": {
      "text/plain": [
       "1"
      ]
     },
     "execution_count": 39,
     "metadata": {},
     "output_type": "execute_result"
    }
   ],
   "source": [
    " ## methods \n",
    "## count()\n",
    "my_tuple = (1, 2, 3, 2, 4, 2, 5)\n",
    "my_tuple.count(4)"
   ]
  },
  {
   "cell_type": "code",
   "execution_count": 40,
   "id": "2d3cb9fc-6739-4490-9de3-4c4730224401",
   "metadata": {},
   "outputs": [
    {
     "data": {
      "text/plain": [
       "3"
      ]
     },
     "execution_count": 40,
     "metadata": {},
     "output_type": "execute_result"
    }
   ],
   "source": [
    "my_tuple.count(2)"
   ]
  },
  {
   "cell_type": "code",
   "execution_count": 41,
   "id": "41b8764c-f92a-4e5c-af79-74f7fb4b46fe",
   "metadata": {},
   "outputs": [
    {
     "data": {
      "text/plain": [
       "2"
      ]
     },
     "execution_count": 41,
     "metadata": {},
     "output_type": "execute_result"
    }
   ],
   "source": [
    "## index()\n",
    "my_tuple = ('a', 'b', 'c', 'b', 'd')\n",
    "my_tuple.index(\"c\")"
   ]
  },
  {
   "cell_type": "code",
   "execution_count": 42,
   "id": "01d968fd-5d60-42e2-b2e0-cfe49ecff79c",
   "metadata": {},
   "outputs": [
    {
     "name": "stdout",
     "output_type": "stream",
     "text": [
      "1\n"
     ]
    }
   ],
   "source": [
    "index_of_b = my_tuple.index('b')\n",
    "print(index_of_b) "
   ]
  },
  {
   "cell_type": "code",
   "execution_count": 43,
   "id": "0b7007eb-fd97-4a7f-967e-4071f4758d7b",
   "metadata": {},
   "outputs": [
    {
     "data": {
      "text/plain": [
       "5"
      ]
     },
     "execution_count": 43,
     "metadata": {},
     "output_type": "execute_result"
    }
   ],
   "source": [
    "### Python Functions on tuples\n",
    "\n",
    "## len()\n",
    "len(my_tuple)"
   ]
  },
  {
   "cell_type": "code",
   "execution_count": 44,
   "id": "c170ba58-5897-45e0-ac8b-fac394ae2139",
   "metadata": {},
   "outputs": [
    {
     "name": "stdout",
     "output_type": "stream",
     "text": [
      "3\n"
     ]
    }
   ],
   "source": [
    "my_tuple = (10, 20, 30)\n",
    "length = len(my_tuple)\n",
    "print(length)  "
   ]
  },
  {
   "cell_type": "code",
   "execution_count": 46,
   "id": "62143b22-38a1-410f-b6e9-156d87a4c011",
   "metadata": {},
   "outputs": [
    {
     "data": {
      "text/plain": [
       "45"
      ]
     },
     "execution_count": 46,
     "metadata": {},
     "output_type": "execute_result"
    }
   ],
   "source": [
    "## max()\n",
    "t = (1,2,45,6,8,8)\n",
    "max(t)"
   ]
  },
  {
   "cell_type": "code",
   "execution_count": 47,
   "id": "9e9239bd-dc5c-432e-86c3-c01ef844c514",
   "metadata": {},
   "outputs": [
    {
     "name": "stdout",
     "output_type": "stream",
     "text": [
      "30\n"
     ]
    }
   ],
   "source": [
    "my_tuple = (10, 20, 30)\n",
    "maximum_value = max(my_tuple)\n",
    "print(maximum_value) "
   ]
  },
  {
   "cell_type": "code",
   "execution_count": 48,
   "id": "a5e47913-a73d-478f-a2cb-e9574a209bf5",
   "metadata": {},
   "outputs": [
    {
     "name": "stdout",
     "output_type": "stream",
     "text": [
      "10\n"
     ]
    }
   ],
   "source": [
    "my_tuple = (10, 20, 30)\n",
    "minimum_value = min(my_tuple)\n",
    "print(minimum_value)"
   ]
  },
  {
   "cell_type": "code",
   "execution_count": 49,
   "id": "f406bbb6-c981-47ec-9893-15c6029a460c",
   "metadata": {},
   "outputs": [
    {
     "name": "stdout",
     "output_type": "stream",
     "text": [
      "60\n"
     ]
    }
   ],
   "source": [
    "my_tuple = (10, 20, 30)\n",
    "total = sum(my_tuple)\n",
    "print(total)"
   ]
  },
  {
   "cell_type": "code",
   "execution_count": 50,
   "id": "69e2dda5-1cc2-49a7-99ad-988eeebee491",
   "metadata": {},
   "outputs": [
    {
     "name": "stdout",
     "output_type": "stream",
     "text": [
      "[10, 20, 30]\n"
     ]
    }
   ],
   "source": [
    "### sorted\n",
    "my_tuple = (30, 10, 20)\n",
    "sorted_tuple = sorted(my_tuple)\n",
    "print(sorted_tuple) "
   ]
  },
  {
   "cell_type": "code",
   "execution_count": 51,
   "id": "3e107b64-a1d4-4558-9935-a2e83563dff9",
   "metadata": {},
   "outputs": [
    {
     "data": {
      "text/plain": [
       "[10, 20, 30]"
      ]
     },
     "execution_count": 51,
     "metadata": {},
     "output_type": "execute_result"
    }
   ],
   "source": [
    "sorted_tuple"
   ]
  },
  {
   "cell_type": "code",
   "execution_count": 52,
   "id": "3a23930a-e3ae-4a3f-9be0-c1d828a47120",
   "metadata": {},
   "outputs": [
    {
     "name": "stdout",
     "output_type": "stream",
     "text": [
      "False\n"
     ]
    }
   ],
   "source": [
    "## any()\n",
    "my_tuple = (0, 0, 0)\n",
    "result = any(my_tuple)\n",
    "print(result)  \n"
   ]
  },
  {
   "cell_type": "code",
   "execution_count": 53,
   "id": "424d465c-1685-49f2-9c9c-7b32b8ed04a8",
   "metadata": {},
   "outputs": [
    {
     "name": "stdout",
     "output_type": "stream",
     "text": [
      "True\n"
     ]
    }
   ],
   "source": [
    "## all()\n",
    "my_tuple = (1, 2, 3)\n",
    "result = all(my_tuple)\n",
    "print(result)"
   ]
  },
  {
   "cell_type": "code",
   "execution_count": 54,
   "id": "33a087bb-eb8e-4f07-9055-5688a720d49b",
   "metadata": {},
   "outputs": [
    {
     "data": {
      "text/plain": [
       "<zip at 0x203c2ec0e40>"
      ]
     },
     "execution_count": 54,
     "metadata": {},
     "output_type": "execute_result"
    }
   ],
   "source": [
    "## zip()\n",
    "tuple1 = (1, 2, 3)\n",
    "tuple2 = ('a', 'b', 'c')\n",
    "a = zip(tuple1, tuple2)\n",
    "a"
   ]
  },
  {
   "cell_type": "code",
   "execution_count": 55,
   "id": "f4e5d2b6-e7f6-49ac-a520-34602be6d9d8",
   "metadata": {},
   "outputs": [
    {
     "name": "stdout",
     "output_type": "stream",
     "text": [
      "[(1, 'a'), (2, 'b')]\n"
     ]
    }
   ],
   "source": [
    "tuple1 = (1, 2)\n",
    "tuple2 = ('a', 'b', 'c')\n",
    "zipped = list(zip(tuple1, tuple2))\n",
    "print(zipped)"
   ]
  },
  {
   "cell_type": "code",
   "execution_count": 56,
   "id": "c157a2be-f57a-401a-95fa-6ceff6cbe439",
   "metadata": {},
   "outputs": [
    {
     "name": "stdout",
     "output_type": "stream",
     "text": [
      "(1, 2, 3)\n",
      "('a', 'b', 'c')\n"
     ]
    }
   ],
   "source": [
    "## unzipping\n",
    "b = [(1, 'a'), (2, 'b'), (3, 'c')]\n",
    "tuple1, tuple2 = zip(*b)\n",
    "print(tuple1) \n",
    "print(tuple2) "
   ]
  },
  {
   "cell_type": "code",
   "execution_count": 57,
   "id": "0849df27-d181-4aa9-b516-12978442c913",
   "metadata": {},
   "outputs": [
    {
     "name": "stdout",
     "output_type": "stream",
     "text": [
      "92\n",
      "76\n"
     ]
    }
   ],
   "source": [
    "# Question 1: \n",
    "# You have a tuple of exam scores for a student. How would you find the highest and lowest scores?\n",
    "\n",
    "scores = (88, 76, 92, 85, 79)\n",
    "highest_score = max(scores)\n",
    "lowest_score = min(scores)\n",
    "print(highest_score) \n",
    "print(lowest_score)   \n"
   ]
  },
  {
   "cell_type": "code",
   "execution_count": null,
   "id": "754ce21b-6fac-449f-a4bc-1d5fb1cc069e",
   "metadata": {},
   "outputs": [],
   "source": [
    "# Question 2: \n",
    "# You have a tuple of city names. How would you check if the city 'Paris' is in the tuple?\n",
    "\n",
    "cities = (\"New York\", \"Los Angeles\", \"Paris\", \"London\", \"Tokyo\")\n",
    "\n",
    "# Answer: Use the 'in' membership operator to check if 'Paris' is in the tuple.\n",
    "is_paris_in_tuple = \"Paris\" in cities\n",
    "print(is_paris_in_tuple)  # Output: True\n"
   ]
  }
 ],
 "metadata": {
  "kernelspec": {
   "display_name": "Python 3 (ipykernel)",
   "language": "python",
   "name": "python3"
  },
  "language_info": {
   "codemirror_mode": {
    "name": "ipython",
    "version": 3
   },
   "file_extension": ".py",
   "mimetype": "text/x-python",
   "name": "python",
   "nbconvert_exporter": "python",
   "pygments_lexer": "ipython3",
   "version": "3.12.7"
  }
 },
 "nbformat": 4,
 "nbformat_minor": 5
}
